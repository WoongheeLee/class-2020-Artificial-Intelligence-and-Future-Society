{
 "cells": [
  {
   "cell_type": "markdown",
   "metadata": {},
   "source": [
    "# 4주차 실습 노트북\n",
    "* 손으로 여러 차례 반복 연습해서 익히기 바랍니다."
   ]
  },
  {
   "cell_type": "markdown",
   "metadata": {},
   "source": [
    "## 반복 출력"
   ]
  },
  {
   "cell_type": "code",
   "execution_count": null,
   "metadata": {},
   "outputs": [],
   "source": [
    "print(\"Hello\")\n",
    "print(\"Hello\")\n",
    "print(\"Hello\")\n",
    "print(\"Hello\")\n",
    "print(\"Hello\")\n",
    "print(\"Hello\")\n",
    "print(\"Hello\")"
   ]
  },
  {
   "cell_type": "markdown",
   "metadata": {},
   "source": [
    "## while문\n",
    "펜과 노트를 꺼내서 어떤 값이 변하고, 어떤 값이 되어야 종료하는지 직접 손으로 써보며 연습하시기 바랍니다."
   ]
  },
  {
   "cell_type": "code",
   "execution_count": null,
   "metadata": {},
   "outputs": [],
   "source": [
    "count = 1\n",
    "\n",
    "while count <= 7:\n",
    "    print('Hello')\n",
    "    count += 1"
   ]
  },
  {
   "cell_type": "markdown",
   "metadata": {},
   "source": [
    "* 1~10 까지 무작위 횟수로 \"Hello\" 출력"
   ]
  },
  {
   "cell_type": "code",
   "execution_count": null,
   "metadata": {},
   "outputs": [],
   "source": [
    "import random\n",
    "\n",
    "max_count = random.randrange(1,11) # [1,11)\n",
    "count = 1\n",
    "\n",
    "while count <= max_count:\n",
    "    print(\"Hello\")\n",
    "    count += 1"
   ]
  },
  {
   "cell_type": "markdown",
   "metadata": {},
   "source": [
    "* 9부터 0까지 역순으로 출력"
   ]
  },
  {
   "cell_type": "code",
   "execution_count": null,
   "metadata": {},
   "outputs": [],
   "source": [
    "n = 9\n",
    "while n >= 0:\n",
    "    print(n)\n",
    "    n -= 1"
   ]
  },
  {
   "cell_type": "markdown",
   "metadata": {},
   "source": [
    "* while문 무한루프 예제"
   ]
  },
  {
   "cell_type": "code",
   "execution_count": null,
   "metadata": {},
   "outputs": [],
   "source": [
    "while True:\n",
    "    pass"
   ]
  },
  {
   "cell_type": "code",
   "execution_count": null,
   "metadata": {},
   "outputs": [],
   "source": [
    "while 1: # 1 == True\n",
    "    pass"
   ]
  },
  {
   "cell_type": "code",
   "execution_count": null,
   "metadata": {},
   "outputs": [],
   "source": [
    "while 0: # 0 == False\n",
    "    print('Hi')"
   ]
  },
  {
   "cell_type": "code",
   "execution_count": null,
   "metadata": {},
   "outputs": [],
   "source": [
    "while 'condition?': # True로 취급\n",
    "    pass"
   ]
  },
  {
   "cell_type": "code",
   "execution_count": null,
   "metadata": {},
   "outputs": [],
   "source": [
    "while '': # 길이가 0인 문자열은 False로 취급\n",
    "    print(\"출력?\")"
   ]
  },
  {
   "cell_type": "code",
   "execution_count": null,
   "metadata": {},
   "outputs": [],
   "source": [
    "while ' ': # 공백이지만 길이가 1이상이므로 True로 취급\n",
    "    pass"
   ]
  },
  {
   "cell_type": "code",
   "execution_count": null,
   "metadata": {},
   "outputs": [],
   "source": [
    "count = 1\n",
    "while count <= 100:\n",
    "    print()\n",
    "    # count 증가식을 쓰지 않으면 무한루프에 빠짐"
   ]
  },
  {
   "cell_type": "markdown",
   "metadata": {},
   "source": [
    "## for문\n",
    "펜과 노트를 꺼내서 어떤 값이 변하고, 어떤 값이 되어야 종료하는지 직접 손으로 써보며 연습하시기 바랍니다."
   ]
  },
  {
   "cell_type": "markdown",
   "metadata": {},
   "source": [
    "* range()와 친해지기"
   ]
  },
  {
   "cell_type": "markdown",
   "metadata": {},
   "source": [
    "끝 = 10\n",
    "\n",
    "\\[0,10)\n",
    "\n",
    "간격 = 1"
   ]
  },
  {
   "cell_type": "code",
   "execution_count": null,
   "metadata": {},
   "outputs": [],
   "source": [
    "for i in range(10):\n",
    "    print(i)"
   ]
  },
  {
   "cell_type": "markdown",
   "metadata": {},
   "source": [
    "i = 1\n",
    "\n",
    "i = 1 + 2 = 3\n",
    "\n",
    "i = 3 + 2 = 5\n",
    "\n",
    "...\n",
    "\n",
    "i = 19"
   ]
  },
  {
   "cell_type": "code",
   "execution_count": null,
   "metadata": {},
   "outputs": [],
   "source": [
    "for i in range(1, 20, 2):\n",
    "    print(i)"
   ]
  },
  {
   "cell_type": "markdown",
   "metadata": {},
   "source": [
    "i = 100\n",
    "\n",
    "i = 100 - 5 = 95\n",
    "\n",
    "...\n",
    "\n",
    "i = 5"
   ]
  },
  {
   "cell_type": "code",
   "execution_count": null,
   "metadata": {},
   "outputs": [],
   "source": [
    "for i in range(100,0,-5):\n",
    "    print(i, end=' ')"
   ]
  },
  {
   "cell_type": "markdown",
   "metadata": {},
   "source": [
    "* \"Hello\"를 7번 출력"
   ]
  },
  {
   "cell_type": "markdown",
   "metadata": {},
   "source": [
    "range(7)\n",
    "\n",
    "시작 = 0\n",
    "\n",
    "끝 = 7\n",
    "\n",
    "간격 = 1\n",
    "\n",
    "\\[0,7)"
   ]
  },
  {
   "cell_type": "code",
   "execution_count": null,
   "metadata": {},
   "outputs": [],
   "source": [
    "for i in range(7):\n",
    "    print(\"Hello\")"
   ]
  },
  {
   "cell_type": "markdown",
   "metadata": {},
   "source": [
    "* 1~10 까지 무작위 횟수로 “Hello” 출력"
   ]
  },
  {
   "cell_type": "code",
   "execution_count": null,
   "metadata": {},
   "outputs": [],
   "source": [
    "import random\n",
    "\n",
    "max_count = random.randrange(1,11) # [1,11)\n",
    "\n",
    "for i in range(max_count):\n",
    "    print(\"Hello\")"
   ]
  },
  {
   "cell_type": "markdown",
   "metadata": {},
   "source": [
    "## 반복문 제어 도구"
   ]
  },
  {
   "cell_type": "markdown",
   "metadata": {},
   "source": [
    "* break문"
   ]
  },
  {
   "cell_type": "code",
   "execution_count": null,
   "metadata": {},
   "outputs": [],
   "source": [
    "# n이 5면 종료\n",
    "for n in range(2, 10):\n",
    "    if n == 5:\n",
    "        print('break this for loop')\n",
    "        break\n",
    "    print(n)\n",
    "    \n",
    "print()"
   ]
  },
  {
   "cell_type": "code",
   "execution_count": null,
   "metadata": {},
   "outputs": [],
   "source": [
    "# count 가 10이 되면 종료\n",
    "count = 0\n",
    "while True:\n",
    "    if count == 10:\n",
    "        print(\"count is\",count)\n",
    "        print(\"break the while statement\")\n",
    "        break\n",
    "    count += 1\n",
    "    print(count)\n",
    "    \n",
    "    \n",
    "print()"
   ]
  },
  {
   "cell_type": "markdown",
   "metadata": {},
   "source": [
    "* continue문"
   ]
  },
  {
   "cell_type": "code",
   "execution_count": null,
   "metadata": {},
   "outputs": [],
   "source": [
    "for i in range(1, 11):\n",
    "    if i == 5:\n",
    "        continue\n",
    "    print(i)"
   ]
  },
  {
   "cell_type": "code",
   "execution_count": null,
   "metadata": {},
   "outputs": [],
   "source": [
    "# 홀수만 출력\n",
    "for n in range(20):\n",
    "    if n%2 == 0:\n",
    "        continue\n",
    "    print(n)"
   ]
  },
  {
   "cell_type": "code",
   "execution_count": null,
   "metadata": {},
   "outputs": [],
   "source": [
    "# 홀수만 출력\n",
    "n = 0\n",
    "while n < 20:\n",
    "    n += 1\n",
    "    if n%2 == 0:\n",
    "        continue\n",
    "    print(n)"
   ]
  },
  {
   "cell_type": "code",
   "execution_count": null,
   "metadata": {},
   "outputs": [],
   "source": [
    "for i in range(10):\n",
    "    print(\"Hello\")\n",
    "    break"
   ]
  },
  {
   "cell_type": "code",
   "execution_count": null,
   "metadata": {},
   "outputs": [],
   "source": [
    "for i in range(10):\n",
    "    print(\"Hello\")\n",
    "    continue"
   ]
  },
  {
   "cell_type": "markdown",
   "metadata": {},
   "source": [
    "## 중첩 반복문"
   ]
  },
  {
   "cell_type": "markdown",
   "metadata": {},
   "source": [
    "* for 중첩 반복문"
   ]
  },
  {
   "cell_type": "markdown",
   "metadata": {},
   "source": [
    "dan = 2\n",
    "i = 2\n",
    "i = 3\n",
    "i = 4\n",
    "...\n",
    "i = 9\n",
    "\n",
    "dan = 3\n",
    "i = 2\n",
    "..\n",
    "i = 9\n",
    "\n",
    "dan = 4\n",
    "i = 2\n",
    "...\n",
    "i = 9\n",
    "\n",
    "...\n",
    "dan = 9\n",
    "i = 2\n",
    "...\n",
    "i = 9"
   ]
  },
  {
   "cell_type": "code",
   "execution_count": null,
   "metadata": {},
   "outputs": [],
   "source": [
    "for dan in range(2,10):\n",
    "    for i in range(2, 10):\n",
    "        print(f'{dan} x {i} = {dan*i}')\n",
    "    print()"
   ]
  },
  {
   "cell_type": "markdown",
   "metadata": {},
   "source": [
    "dan = 2\n",
    "i = 2\n",
    "i = 3\n",
    "...\n",
    "i = 9\n",
    "i = 10\n",
    "\n",
    "dan = 3\n",
    "i = 2\n",
    "..\n",
    "i = 9\n",
    "i = 10\n",
    "\n",
    "...\n"
   ]
  },
  {
   "cell_type": "code",
   "execution_count": null,
   "metadata": {},
   "outputs": [],
   "source": [
    "dan = 2\n",
    "while dan <= 9:\n",
    "    i = 2\n",
    "    while i <= 9:\n",
    "        print(f'{dan} x {i} = {dan*i}')\n",
    "        i += 1\n",
    "    dan += 1\n",
    "    print()"
   ]
  },
  {
   "cell_type": "markdown",
   "metadata": {},
   "source": [
    "* 중첩 반복문에서 실수하는 무한 루프 예시\n",
    "\n",
    " 1. 루프에 들어가기 전 count=0\n",
    " 2. 바깥쪽 while에 들어가서 count=0인 상태, count2=0가 됨\n",
    " 3. 안쪽 while에서 count2=0, count2=1, $\\cdots$, count2=4\n",
    " 4. count2=5가 되는 순간, 안쪽 while에서 나와서 바깥쪽 while 의 print('outer loop')를 실행\n",
    " 5. count2=6이 되고, 바깥쪽 while의 앞으로 돌아감\n",
    " 6. count2=0이 다시 됨\n",
    "\n",
    "3 ~ 6이 무한히 반복"
   ]
  },
  {
   "cell_type": "code",
   "execution_count": null,
   "metadata": {},
   "outputs": [],
   "source": [
    "count = 0\n",
    "while count < 5:\n",
    "    count2 = 0\n",
    "    while count2 < 5:\n",
    "        count2 += 1\n",
    "        print(\"inner loop\")\n",
    "    print('outer loop')\n",
    "    count2 += 1 # count 로 바꾸어야 함"
   ]
  },
  {
   "cell_type": "markdown",
   "metadata": {},
   "source": [
    "## 연습문제"
   ]
  },
  {
   "cell_type": "markdown",
   "metadata": {},
   "source": [
    "1.\n",
    "\n",
    " * 자연수 n을 입력받아 n개 만큼 + 기호를 가로로 출력"
   ]
  },
  {
   "cell_type": "code",
   "execution_count": null,
   "metadata": {},
   "outputs": [],
   "source": [
    "# 반복문 사용\n",
    "n = int(input())\n",
    "\n",
    "for i in range(n):\n",
    "    print('+',end='')"
   ]
  },
  {
   "cell_type": "code",
   "execution_count": null,
   "metadata": {},
   "outputs": [],
   "source": [
    "# print 함수만으로 구현할 수 있음\n",
    "n = int(input())\n",
    "\n",
    "print('+'*n)"
   ]
  },
  {
   "cell_type": "markdown",
   "metadata": {},
   "source": [
    "2.\n",
    " * Given\n",
    "  * 자연수 $n$을 입력\n",
    " * Goal\n",
    "  * $n!$ ($n$ 팩토리얼)을 출력"
   ]
  },
  {
   "cell_type": "markdown",
   "metadata": {},
   "source": [
    "0! = 1\n",
    "\n",
    "2! = 1*2\n",
    "\n",
    "5! = 1*2*...*5"
   ]
  },
  {
   "cell_type": "code",
   "execution_count": null,
   "metadata": {},
   "outputs": [],
   "source": [
    "n = int(input())\n",
    "\n",
    "f = 1\n",
    "\n",
    "for i in range(1,n+1):\n",
    "    f *= i\n",
    "print(f)"
   ]
  },
  {
   "cell_type": "markdown",
   "metadata": {},
   "source": [
    "### 3.\n",
    " * 위 예제에서 구구단을 2단부터 9단까지 순차적으로 아래로 나타냈습니다.\n",
    " * 이번에는 2단부터 9단까지 순차적으로 탭으로 구분하여 나타내보세요.\n",
    " * 즉, 아래 그림 처럼 출력해보자.\n",
    " \n",
    "![multiplication_table](../image/horizontal_multiplication_table.JPG)\n",
    "\n",
    "(힌트)\n",
    "탭 띄어쓰기는 print()함수에서 end='\\t' 인자를 입력\n",
    "* print(end='\\t')"
   ]
  },
  {
   "cell_type": "code",
   "execution_count": null,
   "metadata": {},
   "outputs": [],
   "source": [
    "for i in range(2,10):\n",
    "    for dan in range(2, 10):\n",
    "        print(f'{dan} x {i} = {dan*i}', end='\\t')\n",
    "    print()"
   ]
  },
  {
   "cell_type": "markdown",
   "metadata": {},
   "source": [
    "4.\n",
    " * 피보나치 수열은 다음과 같은 점화식으로 나타낼 수 있다.\n",
    "$$\n",
    "F_0 = 0, F_1 = 1, F_{n+2} = F_{n+1} + F_n\n",
    "$$\n",
    " * 피보나치 수열을 20항 까지 나열해보자."
   ]
  },
  {
   "cell_type": "markdown",
   "metadata": {},
   "source": [
    "f0 = 0\n",
    "\n",
    "f1 = 1\n",
    "\n",
    "temp = 1\n",
    "\n",
    "\n",
    "f1 = 1\n",
    "\n",
    "f0 = 1\n",
    "\n",
    "1\n",
    "\n",
    "\n",
    "temp = 1\n",
    "\n",
    "f1 = 2\n",
    "\n",
    "f0 = 1\n",
    "\n",
    "2\n",
    "\n",
    "\n",
    "temp = 2\n",
    "\n",
    "f1 = 3\n",
    "\n",
    "f0 = 2\n",
    "\n",
    "3\n",
    "\n",
    "..."
   ]
  },
  {
   "cell_type": "code",
   "execution_count": null,
   "metadata": {},
   "outputs": [],
   "source": [
    "f0 = 0\n",
    "f1 = 1\n",
    "print(f0)\n",
    "print(f1)\n",
    "\n",
    "for i in range(18):\n",
    "    temp = f1\n",
    "    f1 = f1 + f0\n",
    "    f0 = temp\n",
    "    print(f1)"
   ]
  },
  {
   "cell_type": "code",
   "execution_count": null,
   "metadata": {},
   "outputs": [],
   "source": []
  }
 ],
 "metadata": {
  "kernelspec": {
   "display_name": "Python 3",
   "language": "python",
   "name": "python3"
  },
  "language_info": {
   "codemirror_mode": {
    "name": "ipython",
    "version": 3
   },
   "file_extension": ".py",
   "mimetype": "text/x-python",
   "name": "python",
   "nbconvert_exporter": "python",
   "pygments_lexer": "ipython3",
   "version": "3.7.6"
  }
 },
 "nbformat": 4,
 "nbformat_minor": 4
}
