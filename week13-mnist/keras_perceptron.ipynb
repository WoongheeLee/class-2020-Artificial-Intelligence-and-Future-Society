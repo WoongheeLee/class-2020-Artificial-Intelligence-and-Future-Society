{
 "cells": [
  {
   "cell_type": "markdown",
   "metadata": {},
   "source": [
    "# MNIST 데이터 분류\n",
    "* CUDA를 이용한 GPU 가속 환경이 아니면 코드를 따라하는 데 오랜 시간이 소요될 수 있습니다.\n",
    "* 강의 영상의 코랩 사용법을 보고, GPU 가속 환경에서 코드를 따라해보기를 권합니다."
   ]
  },
  {
   "cell_type": "markdown",
   "metadata": {},
   "source": [
    "* 아래 코드는 텐서플로우 1이나 2 모두 동일"
   ]
  },
  {
   "cell_type": "code",
   "execution_count": 1,
   "metadata": {},
   "outputs": [
    {
     "name": "stderr",
     "output_type": "stream",
     "text": [
      "Using TensorFlow backend.\n"
     ]
    }
   ],
   "source": [
    "import tensorflow as tf\n",
    "import keras\n",
    "from keras import datasets\n",
    "import matplotlib.pyplot as plt\n",
    "import numpy as np\n",
    "\n",
    "%matplotlib inline"
   ]
  },
  {
   "cell_type": "markdown",
   "metadata": {},
   "source": [
    "* 케라스는 텐서플로우 1.15 버전을 backend로 사용"
   ]
  },
  {
   "cell_type": "code",
   "execution_count": 2,
   "metadata": {},
   "outputs": [
    {
     "name": "stdout",
     "output_type": "stream",
     "text": [
      "tf 1.15.0\n",
      "keras 2.3.0\n"
     ]
    }
   ],
   "source": [
    "print('tf', tf.__version__)\n",
    "print('keras', keras.__version__)"
   ]
  },
  {
   "cell_type": "markdown",
   "metadata": {},
   "source": [
    "## 케라스 모델 만들기\n",
    "케라스로 모델을 만들 때는 아래 프로세스만 생각하면 됨\n",
    "1. 데이터\n",
    "2. 모델 정의 (define)\n",
    "3. 모델 컴파일 (compile)\n",
    "4. 모델 학습 (fit)\n",
    "5. 모델 평가 (evaluate)\n",
    "6. 예측 (predict)"
   ]
  },
  {
   "cell_type": "markdown",
   "metadata": {},
   "source": [
    "## MNIST 데이터\n",
    "먼저 오늘 풀이할 데이터를 살펴보자."
   ]
  },
  {
   "cell_type": "code",
   "execution_count": 3,
   "metadata": {},
   "outputs": [],
   "source": [
    "(X_train, y_train), (X_test, y_test) = datasets.mnist.load_data()"
   ]
  },
  {
   "cell_type": "markdown",
   "metadata": {},
   "source": [
    "데이터 모양 알아보기"
   ]
  },
  {
   "cell_type": "code",
   "execution_count": 4,
   "metadata": {},
   "outputs": [
    {
     "data": {
      "text/plain": [
       "((60000, 28, 28), (60000,))"
      ]
     },
     "execution_count": 4,
     "metadata": {},
     "output_type": "execute_result"
    }
   ],
   "source": [
    "X_train.shape, y_train.shape"
   ]
  },
  {
   "cell_type": "code",
   "execution_count": 5,
   "metadata": {},
   "outputs": [
    {
     "data": {
      "text/plain": [
       "((10000, 28, 28), (10000,))"
      ]
     },
     "execution_count": 5,
     "metadata": {},
     "output_type": "execute_result"
    }
   ],
   "source": [
    "X_test.shape, y_test.shape"
   ]
  },
  {
   "cell_type": "markdown",
   "metadata": {},
   "source": [
    "데이터 범위 (최대값과 최소값) 확인"
   ]
  },
  {
   "cell_type": "code",
   "execution_count": 6,
   "metadata": {},
   "outputs": [
    {
     "data": {
      "text/plain": [
       "(0, 255)"
      ]
     },
     "execution_count": 6,
     "metadata": {},
     "output_type": "execute_result"
    }
   ],
   "source": [
    "np.min(X_train), np.max(X_train)"
   ]
  },
  {
   "cell_type": "markdown",
   "metadata": {},
   "source": [
    "데이터를 0 ~ 1 범위로 rescale하기"
   ]
  },
  {
   "cell_type": "code",
   "execution_count": 7,
   "metadata": {},
   "outputs": [],
   "source": [
    "# 데이터 rescale\n",
    "X_train = X_train / np.max(X_train)\n",
    "X_test = X_test / np.max(X_test)"
   ]
  },
  {
   "cell_type": "markdown",
   "metadata": {},
   "source": [
    "* MNIST 데이터를 눈으로 확인\n",
    "```python\n",
    "plt.subplots(nrows, ncols)\n",
    "```\n",
    "* 위 함수에 도화지를 몇 분할 할 것인지 인자로 전달\n",
    "* 이 예제에서는 5x5로 분할\n",
    "* plt.subplots를 호출하면, 그림 요소들을 담는 fig와 분할한 도화지 요소가 담진 ax를 반환\n",
    "* ax는 plt.subplots를 호출할 때 인자로 넣은 배열 그대로 그림이 그려진다고 생각하면 됨\n",
    "* ax.imshow() 안에 그려줄 그림을 넣음\n",
    "* ax.axis('off') 는 쓸데 없는 축이 안나타나도록 하기 위함\n"
   ]
  },
  {
   "cell_type": "code",
   "execution_count": 8,
   "metadata": {},
   "outputs": [
    {
     "data": {
      "image/png": "[encoded data removed]",
      "text/plain": [
       "<matplotlib.figure.Figure at 0x7ff54f738910>"
      ]
     },
     "metadata": {
      "needs_background": "light"
     },
     "output_type": "display_data"
    }
   ],
   "source": [
    "nrows, ncols = 5, 5\n",
    "fig, ax = plt.subplots(nrows, ncols, figsize=(8, 8))\n",
    "# 분할 한 그림들이 서로 적당히 떨어지도록 함\n",
    "fig.tight_layout()\n",
    "for i in range(nrows):\n",
    "    for j in range(ncols):\n",
    "        # X_train에서 임의의 인덱스 번호를 가져와서 그림 나타냄\n",
    "        idx = np.random.randint(len(X_train))\n",
    "        ax[i][j].imshow(X_train[idx])\n",
    "        ax[i][j].set_title(f\"{y_train[idx]}\")\n",
    "        ax[i][j].axis('off')\n",
    "plt.show()"
   ]
  },
  {
   "cell_type": "markdown",
   "metadata": {},
   "source": [
    "## 다층 퍼셉트론으로 된 모델 구현하기"
   ]
  },
  {
   "cell_type": "markdown",
   "metadata": {},
   "source": [
    "위에서 다룬 케라스 모델 만들기 순서에 따라 그대로 만들어보자.\n",
    "\n",
    "1. 데이터\n",
    "2. 모델 정의 (define)\n",
    "3. 모델 컴파일 (compile)\n",
    "4. 모델 학습 (fit)\n",
    "5. 모델 평가 (evaluate)\n",
    "6. 예측 (predict)"
   ]
  },
  {
   "cell_type": "markdown",
   "metadata": {},
   "source": [
    "### 1. 데이터"
   ]
  },
  {
   "cell_type": "markdown",
   "metadata": {},
   "source": [
    "* 데이터 하나 하나가 (총 60,000개) 정사각형 (28, 28)인 이미지이고, 그 이미지가 어떤 숫자를 나타내는지 숫자 하나로 되어 있음\n",
    "* 다층 퍼셉트론은 벡터가 입력되어야 하므로 28x28 행렬을 784 길이 벡터로 펴주기\n",
    "* 이 때 넘파이 ```np.reshape()```을 사용\n",
    "```python\n",
    "numpy.reshape(a, newshape)\n",
    "```\n",
    "* ```a```에 변경 전 배열, ```reshape```에 변경 후 모양"
   ]
  },
  {
   "cell_type": "code",
   "execution_count": 9,
   "metadata": {},
   "outputs": [
    {
     "name": "stdout",
     "output_type": "stream",
     "text": [
      "(60000, 28, 28) (60000,)\n",
      "(10000, 28, 28) (10000,)\n"
     ]
    }
   ],
   "source": [
    "print(X_train.shape, y_train.shape)\n",
    "print(X_test.shape, y_test.shape)"
   ]
  },
  {
   "cell_type": "markdown",
   "metadata": {},
   "source": [
    "* 위 데이터는 (데이터 개수, 28, 28) 형태\n",
    "* 이를 (데이터 개수, 784)로 변환"
   ]
  },
  {
   "cell_type": "code",
   "execution_count": 10,
   "metadata": {},
   "outputs": [],
   "source": [
    "X_train = np.reshape(X_train, (len(X_train), 784))\n",
    "X_test = np.reshape(X_test, ((len(X_test), 784)))"
   ]
  },
  {
   "cell_type": "code",
   "execution_count": 11,
   "metadata": {},
   "outputs": [
    {
     "name": "stdout",
     "output_type": "stream",
     "text": [
      "(60000, 784) (60000,)\n",
      "(10000, 784) (10000,)\n"
     ]
    }
   ],
   "source": [
    "print(X_train.shape, y_train.shape)\n",
    "print(X_test.shape, y_test.shape)"
   ]
  },
  {
   "cell_type": "markdown",
   "metadata": {},
   "source": [
    "### 2. 모델 정의 (define)"
   ]
  },
  {
   "cell_type": "markdown",
   "metadata": {},
   "source": [
    "* 모델을 정의하기 전에 먼저 무엇이 입력(input)되는지, 무엇이 출력(output)되는지 명확해야 함\n",
    "  * ```X_train```, ```y_train``` 쌍을 생각해보면, 입력은 784 벡터, 출력은 10차원 원핫 인코딩\n",
    "  * 원핫인코딩이란?\n",
    "    * 라벨에 해당하는 벡터만 1, 나머지는 0\n",
    "* 다층 퍼셉트론에 넣을 데이터는 벡터 형태로 되어있어야 함 (위에서 완료)\n",
    "* 은닉층이 256개 뉴런, 128개 뉴런으로 된 다층 퍼셉트론을 쌓기\n",
    "* 은닉층은 모두 ReLU 활성함수를 사용\n",
    "* Sequential()을 사용하면 층층이 모델 쌓기로 구현 가능"
   ]
  },
  {
   "cell_type": "code",
   "execution_count": 12,
   "metadata": {},
   "outputs": [],
   "source": [
    "from keras import models, losses, metrics, optimizers\n",
    "from keras.layers import Dense, Activation"
   ]
  },
  {
   "cell_type": "code",
   "execution_count": 13,
   "metadata": {},
   "outputs": [],
   "source": [
    "# 모델 생성\n",
    "model = models.Sequential()"
   ]
  },
  {
   "cell_type": "code",
   "execution_count": 14,
   "metadata": {},
   "outputs": [],
   "source": [
    "# 층을 하나씩 쌓는다.\n",
    "# 은닉층 뉴런 256개\n",
    "model.add(Dense(256))\n",
    "model.add(Activation(tf.nn.relu))\n",
    "\n",
    "# 은닉층 뉴런 128개\n",
    "model.add(Dense(128))\n",
    "model.add(Activation(tf.nn.relu))\n",
    "\n",
    "# 출력 뉴런 10개\n",
    "model.add(Dense(10))\n",
    "model.add(Activation(tf.nn.softmax))"
   ]
  },
  {
   "cell_type": "markdown",
   "metadata": {},
   "source": [
    "### 3. 모델 컴파일 (compile)\n",
    "* 모델에서 어떤 손실함수를 쓸지 정함\n",
    "  * 여기서는 sparse categorical cross entropy 사용\n",
    "      * 실제 데이터는 0 ~ 9 숫자가 담김\n",
    "      * 모델은 10차원 벡터로 된 원핫 인코딩\n",
    "      * 이 두 가지로부터 정확도를 측정하는 방법임\n",
    "* 모델 업데이트를 어떤 방법을 써서 할지 정함\n",
    "  * Adam 최적화기 사용\n",
    "* 모델 학습하는 동안 사용할 모델 평가 방법 정함\n",
    "  * 정확도 사용"
   ]
  },
  {
   "cell_type": "code",
   "execution_count": 15,
   "metadata": {},
   "outputs": [
    {
     "name": "stdout",
     "output_type": "stream",
     "text": [
      "WARNING:tensorflow:From /home/whlee/miniconda3/envs/tf1/lib/python3.7/site-packages/tensorflow_core/python/ops/resource_variable_ops.py:1630: calling BaseResourceVariable.__init__ (from tensorflow.python.ops.resource_variable_ops) with constraint is deprecated and will be removed in a future version.\n",
      "Instructions for updating:\n",
      "If using Keras pass *_constraint arguments to layers.\n"
     ]
    }
   ],
   "source": [
    "model.compile(\n",
    "    loss=losses.SparseCategoricalCrossentropy(), \n",
    "    optimizer=optimizers.Adam(learning_rate=1e-4), \n",
    "    metrics=['acc']\n",
    ")"
   ]
  },
  {
   "cell_type": "markdown",
   "metadata": {},
   "source": [
    "### 4. 모델 학습 (fit)\n",
    "* 싸이킷런과 유사하게 fit을 사용\n",
    "* fit에 필수적으로 사용하는 인자는\n",
    "```python\n",
    "model.fit(x, y, batch_size, epochs, verbose, validation_split\n",
    "```\n",
    "* ```x```: 입력 데이터\n",
    "* ```y```: 출력 데이터\n",
    "* ```epochs```: 업데이트 할 횟수\n",
    "* ```verbose```: 학습하는 정보를 얼마나 출력할지. 0이면 아무것도 출력 안함. 1이면 가장 자세한 정보 출력. 2면 간단 출력\n",
    "* ```validation_split```: 학습 데이터에서 몇 퍼센트를 모델 중간 평가에 쓸지"
   ]
  },
  {
   "cell_type": "code",
   "execution_count": 16,
   "metadata": {},
   "outputs": [
    {
     "name": "stdout",
     "output_type": "stream",
     "text": [
      "WARNING:tensorflow:From /home/whlee/miniconda3/envs/tf1/lib/python3.7/site-packages/keras/backend/tensorflow_backend.py:422: The name tf.global_variables is deprecated. Please use tf.compat.v1.global_variables instead.\n",
      "\n",
      "Train on 45000 samples, validate on 15000 samples\n",
      "Epoch 1/50\n",
      "45000/45000 [==============================] - 1s 28us/step - loss: 1.2236 - acc: 0.6990 - val_loss: 0.5090 - val_acc: 0.8809\n",
      "Epoch 2/50\n",
      "45000/45000 [==============================] - 1s 20us/step - loss: 0.4083 - acc: 0.8957 - val_loss: 0.3218 - val_acc: 0.9139\n",
      "Epoch 3/50\n",
      "45000/45000 [==============================] - 1s 20us/step - loss: 0.2998 - acc: 0.9177 - val_loss: 0.2689 - val_acc: 0.9263\n",
      "Epoch 4/50\n",
      "45000/45000 [==============================] - 1s 21us/step - loss: 0.2541 - acc: 0.9290 - val_loss: 0.2372 - val_acc: 0.9343\n",
      "Epoch 5/50\n",
      "45000/45000 [==============================] - 1s 21us/step - loss: 0.2237 - acc: 0.9379 - val_loss: 0.2149 - val_acc: 0.9401\n",
      "Epoch 6/50\n",
      "45000/45000 [==============================] - 1s 20us/step - loss: 0.2018 - acc: 0.9438 - val_loss: 0.2009 - val_acc: 0.9448\n",
      "Epoch 7/50\n",
      "45000/45000 [==============================] - 1s 21us/step - loss: 0.1839 - acc: 0.9484 - val_loss: 0.1884 - val_acc: 0.9483\n",
      "Epoch 8/50\n",
      "45000/45000 [==============================] - 1s 20us/step - loss: 0.1686 - acc: 0.9534 - val_loss: 0.1767 - val_acc: 0.9501\n",
      "Epoch 9/50\n",
      "45000/45000 [==============================] - 1s 20us/step - loss: 0.1559 - acc: 0.9563 - val_loss: 0.1682 - val_acc: 0.9532\n",
      "Epoch 10/50\n",
      "45000/45000 [==============================] - 1s 20us/step - loss: 0.1450 - acc: 0.9601 - val_loss: 0.1600 - val_acc: 0.9540\n",
      "Epoch 11/50\n",
      "45000/45000 [==============================] - 1s 20us/step - loss: 0.1357 - acc: 0.9628 - val_loss: 0.1536 - val_acc: 0.9567\n",
      "Epoch 12/50\n",
      "45000/45000 [==============================] - 1s 20us/step - loss: 0.1266 - acc: 0.9654 - val_loss: 0.1498 - val_acc: 0.9571\n",
      "Epoch 13/50\n",
      "45000/45000 [==============================] - 1s 21us/step - loss: 0.1189 - acc: 0.9673 - val_loss: 0.1438 - val_acc: 0.9593\n",
      "Epoch 14/50\n",
      "45000/45000 [==============================] - 1s 20us/step - loss: 0.1117 - acc: 0.9696 - val_loss: 0.1395 - val_acc: 0.9604\n",
      "Epoch 15/50\n",
      "45000/45000 [==============================] - 1s 20us/step - loss: 0.1055 - acc: 0.9706 - val_loss: 0.1342 - val_acc: 0.9620\n",
      "Epoch 16/50\n",
      "45000/45000 [==============================] - 1s 20us/step - loss: 0.0999 - acc: 0.9733 - val_loss: 0.1316 - val_acc: 0.9627\n",
      "Epoch 17/50\n",
      "45000/45000 [==============================] - 1s 20us/step - loss: 0.0942 - acc: 0.9745 - val_loss: 0.1272 - val_acc: 0.9638\n",
      "Epoch 18/50\n",
      "45000/45000 [==============================] - 1s 20us/step - loss: 0.0890 - acc: 0.9755 - val_loss: 0.1267 - val_acc: 0.9639\n",
      "Epoch 19/50\n",
      "45000/45000 [==============================] - 1s 19us/step - loss: 0.0843 - acc: 0.9770 - val_loss: 0.1227 - val_acc: 0.9649\n",
      "Epoch 20/50\n",
      "45000/45000 [==============================] - 1s 20us/step - loss: 0.0802 - acc: 0.9783 - val_loss: 0.1201 - val_acc: 0.9662\n",
      "Epoch 21/50\n",
      "45000/45000 [==============================] - 1s 20us/step - loss: 0.0760 - acc: 0.9797 - val_loss: 0.1199 - val_acc: 0.9661\n",
      "Epoch 22/50\n",
      "45000/45000 [==============================] - 1s 20us/step - loss: 0.0723 - acc: 0.9805 - val_loss: 0.1153 - val_acc: 0.9673\n",
      "Epoch 23/50\n",
      "45000/45000 [==============================] - 1s 20us/step - loss: 0.0686 - acc: 0.9814 - val_loss: 0.1149 - val_acc: 0.9672\n",
      "Epoch 24/50\n",
      "45000/45000 [==============================] - 1s 19us/step - loss: 0.0653 - acc: 0.9824 - val_loss: 0.1136 - val_acc: 0.9679\n",
      "Epoch 25/50\n",
      "45000/45000 [==============================] - 1s 20us/step - loss: 0.0620 - acc: 0.9840 - val_loss: 0.1110 - val_acc: 0.9678\n",
      "Epoch 26/50\n",
      "45000/45000 [==============================] - 1s 20us/step - loss: 0.0590 - acc: 0.9843 - val_loss: 0.1097 - val_acc: 0.9688\n",
      "Epoch 27/50\n",
      "45000/45000 [==============================] - 1s 20us/step - loss: 0.0561 - acc: 0.9854 - val_loss: 0.1087 - val_acc: 0.9687\n",
      "Epoch 28/50\n",
      "45000/45000 [==============================] - 1s 20us/step - loss: 0.0533 - acc: 0.9863 - val_loss: 0.1072 - val_acc: 0.9687\n",
      "Epoch 29/50\n",
      "45000/45000 [==============================] - 1s 20us/step - loss: 0.0508 - acc: 0.9873 - val_loss: 0.1051 - val_acc: 0.9699\n",
      "Epoch 30/50\n",
      "45000/45000 [==============================] - 1s 20us/step - loss: 0.0488 - acc: 0.9880 - val_loss: 0.1036 - val_acc: 0.9705\n",
      "Epoch 31/50\n",
      "45000/45000 [==============================] - 1s 20us/step - loss: 0.0459 - acc: 0.9888 - val_loss: 0.1033 - val_acc: 0.9705\n",
      "Epoch 32/50\n",
      "45000/45000 [==============================] - 1s 20us/step - loss: 0.0439 - acc: 0.9889 - val_loss: 0.1015 - val_acc: 0.9716\n",
      "Epoch 33/50\n",
      "45000/45000 [==============================] - 1s 20us/step - loss: 0.0419 - acc: 0.9900 - val_loss: 0.1014 - val_acc: 0.9716\n",
      "Epoch 34/50\n",
      "45000/45000 [==============================] - 1s 19us/step - loss: 0.0399 - acc: 0.9908 - val_loss: 0.1008 - val_acc: 0.9712\n",
      "Epoch 35/50\n",
      "45000/45000 [==============================] - 1s 21us/step - loss: 0.0383 - acc: 0.9911 - val_loss: 0.1007 - val_acc: 0.9718\n",
      "Epoch 36/50\n",
      "45000/45000 [==============================] - 1s 21us/step - loss: 0.0360 - acc: 0.9919 - val_loss: 0.1009 - val_acc: 0.9713\n",
      "Epoch 37/50\n",
      "45000/45000 [==============================] - 1s 21us/step - loss: 0.0342 - acc: 0.9923 - val_loss: 0.0985 - val_acc: 0.9721\n",
      "Epoch 38/50\n",
      "45000/45000 [==============================] - 1s 20us/step - loss: 0.0326 - acc: 0.9929 - val_loss: 0.1003 - val_acc: 0.9719\n",
      "Epoch 39/50\n",
      "45000/45000 [==============================] - 1s 20us/step - loss: 0.0310 - acc: 0.9935 - val_loss: 0.0988 - val_acc: 0.9721\n",
      "Epoch 40/50\n",
      "45000/45000 [==============================] - 1s 20us/step - loss: 0.0299 - acc: 0.9938 - val_loss: 0.0999 - val_acc: 0.9715\n",
      "Epoch 41/50\n",
      "45000/45000 [==============================] - 1s 19us/step - loss: 0.0282 - acc: 0.9944 - val_loss: 0.0968 - val_acc: 0.9725\n",
      "Epoch 42/50\n",
      "45000/45000 [==============================] - 1s 20us/step - loss: 0.0267 - acc: 0.9948 - val_loss: 0.0975 - val_acc: 0.9719\n",
      "Epoch 43/50\n",
      "45000/45000 [==============================] - 1s 20us/step - loss: 0.0255 - acc: 0.9950 - val_loss: 0.0972 - val_acc: 0.9728\n",
      "Epoch 44/50\n",
      "45000/45000 [==============================] - 1s 20us/step - loss: 0.0242 - acc: 0.9952 - val_loss: 0.0958 - val_acc: 0.9733\n",
      "Epoch 45/50\n",
      "45000/45000 [==============================] - 1s 20us/step - loss: 0.0233 - acc: 0.9955 - val_loss: 0.0982 - val_acc: 0.9727\n",
      "Epoch 46/50\n",
      "45000/45000 [==============================] - 1s 20us/step - loss: 0.0221 - acc: 0.9961 - val_loss: 0.0975 - val_acc: 0.9716\n",
      "Epoch 47/50\n",
      "45000/45000 [==============================] - 1s 20us/step - loss: 0.0209 - acc: 0.9961 - val_loss: 0.0958 - val_acc: 0.9733\n",
      "Epoch 48/50\n",
      "45000/45000 [==============================] - 1s 20us/step - loss: 0.0198 - acc: 0.9966 - val_loss: 0.0964 - val_acc: 0.9738\n",
      "Epoch 49/50\n",
      "45000/45000 [==============================] - 1s 20us/step - loss: 0.0188 - acc: 0.9967 - val_loss: 0.0965 - val_acc: 0.9737\n",
      "Epoch 50/50\n",
      "45000/45000 [==============================] - 1s 19us/step - loss: 0.0179 - acc: 0.9971 - val_loss: 0.0980 - val_acc: 0.9728\n"
     ]
    }
   ],
   "source": [
    "history = model.fit(\n",
    "    x=X_train, y=y_train, \n",
    "    batch_size=256,\n",
    "    epochs=50,\n",
    "    verbose=1, \n",
    "    validation_split=.25\n",
    ")"
   ]
  },
  {
   "cell_type": "markdown",
   "metadata": {},
   "source": [
    "### 5. 모델 평가 (evaluate)"
   ]
  },
  {
   "cell_type": "markdown",
   "metadata": {},
   "source": [
    "* 모델 fit은 history 오브젝트를 반환 함\n",
    "* history오브젝트의 history는 학습하는 동안 모델의 정확도, loss를 기록함"
   ]
  },
  {
   "cell_type": "code",
   "execution_count": 17,
   "metadata": {},
   "outputs": [
    {
     "data": {
      "text/plain": [
       "{'val_loss': [0.5090467067400615,\n",
       "  0.3218139631271362,\n",
       "  0.26893271829287213,\n",
       "  0.2371834886153539,\n",
       "  0.21489435845216115,\n",
       "  0.20085834805965425,\n",
       "  0.1883547921260198,\n",
       "  0.17673780795733135,\n",
       "  0.16820485229492188,\n",
       "  0.1599969088713328,\n",
       "  0.15357512345314026,\n",
       "  0.14983714029788972,\n",
       "  0.143794749434789,\n",
       "  0.13954194595813751,\n",
       "  0.13423360214233399,\n",
       "  0.1315743680159251,\n",
       "  0.12720586822032928,\n",
       "  0.1267248301188151,\n",
       "  0.12271418336232504,\n",
       "  0.12005586944421133,\n",
       "  0.11985769008000692,\n",
       "  0.11530935803254445,\n",
       "  0.11494003718694051,\n",
       "  0.11357387518088023,\n",
       "  0.11098072344462077,\n",
       "  0.10966562353769937,\n",
       "  0.10872282294432323,\n",
       "  0.10724954523245493,\n",
       "  0.10507869540850322,\n",
       "  0.10359988673528035,\n",
       "  0.10331810717582703,\n",
       "  0.1014848730802536,\n",
       "  0.10137175575892131,\n",
       "  0.1007508397658666,\n",
       "  0.10073897330760956,\n",
       "  0.10090080411434174,\n",
       "  0.09847974080244701,\n",
       "  0.10025885885556539,\n",
       "  0.09883470865090688,\n",
       "  0.0999327718337377,\n",
       "  0.096816233197848,\n",
       "  0.09750526447296143,\n",
       "  0.09718622163931528,\n",
       "  0.09582427534262339,\n",
       "  0.0981518809000651,\n",
       "  0.09754665703773499,\n",
       "  0.09584604804515838,\n",
       "  0.09636099421977996,\n",
       "  0.0964832188685735,\n",
       "  0.09795238389174143],\n",
       " 'val_acc': [0.8809333443641663,\n",
       "  0.9139333367347717,\n",
       "  0.9262666702270508,\n",
       "  0.934333324432373,\n",
       "  0.9401333332061768,\n",
       "  0.9448000192642212,\n",
       "  0.9483333230018616,\n",
       "  0.9500666856765747,\n",
       "  0.9531999826431274,\n",
       "  0.9539999961853027,\n",
       "  0.9566666483879089,\n",
       "  0.9571333527565002,\n",
       "  0.9593333601951599,\n",
       "  0.9603999853134155,\n",
       "  0.9620000123977661,\n",
       "  0.9626666903495789,\n",
       "  0.9638000130653381,\n",
       "  0.9639333486557007,\n",
       "  0.9648666381835938,\n",
       "  0.9661999940872192,\n",
       "  0.9661333560943604,\n",
       "  0.9672666788101196,\n",
       "  0.967199981212616,\n",
       "  0.9679333567619324,\n",
       "  0.9678000211715698,\n",
       "  0.9688000082969666,\n",
       "  0.968666672706604,\n",
       "  0.9687333106994629,\n",
       "  0.9699333310127258,\n",
       "  0.970466673374176,\n",
       "  0.970466673374176,\n",
       "  0.9715999960899353,\n",
       "  0.9715999960899353,\n",
       "  0.9711999893188477,\n",
       "  0.9718000292778015,\n",
       "  0.9712666869163513,\n",
       "  0.9721333384513855,\n",
       "  0.9718666672706604,\n",
       "  0.9721333384513855,\n",
       "  0.9714666604995728,\n",
       "  0.9724666476249695,\n",
       "  0.9718666672706604,\n",
       "  0.9728000164031982,\n",
       "  0.9732666611671448,\n",
       "  0.9726666808128357,\n",
       "  0.9715999960899353,\n",
       "  0.9733333587646484,\n",
       "  0.973800003528595,\n",
       "  0.9736666679382324,\n",
       "  0.9728000164031982],\n",
       " 'loss': [1.2235746844291686,\n",
       "  0.4083231246842278,\n",
       "  0.2997864525689019,\n",
       "  0.2540643176820543,\n",
       "  0.22365818576282925,\n",
       "  0.20180001414616902,\n",
       "  0.18390299145380656,\n",
       "  0.16861126325395373,\n",
       "  0.15585692412853241,\n",
       "  0.14502147493097517,\n",
       "  0.1357482654703988,\n",
       "  0.12655745100180307,\n",
       "  0.11890908435318205,\n",
       "  0.11174060411453247,\n",
       "  0.10554803508520126,\n",
       "  0.09986895393133163,\n",
       "  0.09420709981520971,\n",
       "  0.08900400017499924,\n",
       "  0.08428129999107785,\n",
       "  0.08020036088228226,\n",
       "  0.075963260573811,\n",
       "  0.07225398526125484,\n",
       "  0.06861128571960662,\n",
       "  0.06528267783191469,\n",
       "  0.06195546101662848,\n",
       "  0.05901618329551485,\n",
       "  0.05611816604203648,\n",
       "  0.053318838531441155,\n",
       "  0.050784558417399726,\n",
       "  0.04876447136898836,\n",
       "  0.04588003953099251,\n",
       "  0.04387150758372413,\n",
       "  0.04187182727853457,\n",
       "  0.03990548795825905,\n",
       "  0.038257329575551884,\n",
       "  0.0360143401576413,\n",
       "  0.03418937764432695,\n",
       "  0.032610049113631245,\n",
       "  0.031048074880904622,\n",
       "  0.02985314300093386,\n",
       "  0.028159793008036085,\n",
       "  0.026672220375471643,\n",
       "  0.025517310575644176,\n",
       "  0.02416418577366405,\n",
       "  0.023255328739351697,\n",
       "  0.022115514747964013,\n",
       "  0.020866272395849227,\n",
       "  0.019782158375448652,\n",
       "  0.018825110572245386,\n",
       "  0.017873515741692648],\n",
       " 'acc': [0.69897777,\n",
       "  0.89573336,\n",
       "  0.9176667,\n",
       "  0.9289778,\n",
       "  0.93788886,\n",
       "  0.9437778,\n",
       "  0.9484,\n",
       "  0.95342225,\n",
       "  0.9562889,\n",
       "  0.9600667,\n",
       "  0.96275556,\n",
       "  0.9653556,\n",
       "  0.9672889,\n",
       "  0.9695778,\n",
       "  0.9706,\n",
       "  0.9732889,\n",
       "  0.9745111,\n",
       "  0.9754889,\n",
       "  0.97697777,\n",
       "  0.9783111,\n",
       "  0.97973335,\n",
       "  0.9804889,\n",
       "  0.9814,\n",
       "  0.98244447,\n",
       "  0.9840222,\n",
       "  0.98433334,\n",
       "  0.9854,\n",
       "  0.9862667,\n",
       "  0.98733336,\n",
       "  0.988,\n",
       "  0.98884445,\n",
       "  0.9889333,\n",
       "  0.99002224,\n",
       "  0.9908,\n",
       "  0.99113333,\n",
       "  0.99186665,\n",
       "  0.99233335,\n",
       "  0.9929111,\n",
       "  0.9934889,\n",
       "  0.9938,\n",
       "  0.9943778,\n",
       "  0.99475557,\n",
       "  0.99504447,\n",
       "  0.99524444,\n",
       "  0.9954889,\n",
       "  0.9960667,\n",
       "  0.9961111,\n",
       "  0.9965778,\n",
       "  0.9967333,\n",
       "  0.9970667]}"
      ]
     },
     "execution_count": 17,
     "metadata": {},
     "output_type": "execute_result"
    }
   ],
   "source": [
    "history.history"
   ]
  },
  {
   "cell_type": "markdown",
   "metadata": {},
   "source": [
    "그림으로 정확도, loss를 그려보기"
   ]
  },
  {
   "cell_type": "code",
   "execution_count": 18,
   "metadata": {},
   "outputs": [
    {
     "data": {
      "image/png": "[encoded data removed]",
      "text/plain": [
       "<matplotlib.figure.Figure at 0x7ff54c31cd90>"
      ]
     },
     "metadata": {
      "needs_background": "light"
     },
     "output_type": "display_data"
    },
    {
     "data": {
      "image/png": "[encoded data removed]",
      "text/plain": [
       "<matplotlib.figure.Figure at 0x7ff520030290>"
      ]
     },
     "metadata": {
      "needs_background": "light"
     },
     "output_type": "display_data"
    }
   ],
   "source": [
    "plt.figure(figsize=(10, 1))\n",
    "plt.plot(history.history['loss'], label='train')\n",
    "plt.plot(history.history['val_loss'], label='validation')\n",
    "plt.title('loss')\n",
    "plt.show()\n",
    "\n",
    "plt.figure(figsize=(10, 1))\n",
    "plt.plot(history.history['acc'], label='train')\n",
    "plt.plot(history.history['val_acc'], label='validation')\n",
    "plt.title('accuracy')\n",
    "plt.show()"
   ]
  },
  {
   "cell_type": "markdown",
   "metadata": {},
   "source": [
    "### 6. 예측 (predict)"
   ]
  },
  {
   "cell_type": "markdown",
   "metadata": {},
   "source": [
    "* 케라스 모델 예측도 역시 사이킷런과 유사하게 predict사용\n",
    "```python\n",
    "model.predict(x, batch_size, verbose)\n",
    "```\n",
    "* ```x```: 예측에 쓸 데이터\n",
    "* (예측 데이터 개수) x (출력층 뉴런 수) 로 된 예측 데이터 반환"
   ]
  },
  {
   "cell_type": "code",
   "execution_count": 19,
   "metadata": {},
   "outputs": [
    {
     "data": {
      "text/plain": [
       "(10000, 10)"
      ]
     },
     "execution_count": 19,
     "metadata": {},
     "output_type": "execute_result"
    }
   ],
   "source": [
    "y_pred = model.predict(x=X_test)\n",
    "y_pred.shape"
   ]
  },
  {
   "cell_type": "code",
   "execution_count": 20,
   "metadata": {},
   "outputs": [
    {
     "data": {
      "text/plain": [
       "((10000,), (10000, 10))"
      ]
     },
     "execution_count": 20,
     "metadata": {},
     "output_type": "execute_result"
    }
   ],
   "source": [
    "y_test.shape, y_pred.shape"
   ]
  },
  {
   "cell_type": "markdown",
   "metadata": {},
   "source": [
    "* 예측 정확도 확인"
   ]
  },
  {
   "cell_type": "code",
   "execution_count": 21,
   "metadata": {},
   "outputs": [
    {
     "name": "stdout",
     "output_type": "stream",
     "text": [
      "97.63 %\n"
     ]
    }
   ],
   "source": [
    "assert y_test.shape[0] == y_pred.shape[0]\n",
    "\n",
    "acc = 0\n",
    "\n",
    "for i in range(y_test.shape[0]):\n",
    "    if y_test[i] == np.argmax(y_pred[i]):\n",
    "        acc += 1\n",
    "\n",
    "print(acc * 100 / y_test.shape[0], '%')"
   ]
  }
 ],
 "metadata": {
  "kernelspec": {
   "display_name": "Python 3",
   "language": "python",
   "name": "python3"
  },
  "language_info": {
   "codemirror_mode": {
    "name": "ipython",
    "version": 3
   },
   "file_extension": ".py",
   "mimetype": "text/x-python",
   "name": "python",
   "nbconvert_exporter": "python",
   "pygments_lexer": "ipython3",
   "version": "3.7.7"
  }
 },
 "nbformat": 4,
 "nbformat_minor": 4
}
