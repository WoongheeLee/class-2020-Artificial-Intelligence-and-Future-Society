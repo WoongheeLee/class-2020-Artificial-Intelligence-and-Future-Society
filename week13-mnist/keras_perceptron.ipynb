{
 "cells": [
  {
   "cell_type": "markdown",
   "metadata": {},
   "source": [
    "# MNIST 데이터 분류\n",
    "* CUDA를 이용한 GPU 가속 환경이 아니면 코드를 따라하는 데 오랜 시간이 소요될 수 있습니다.\n",
    "* 강의 영상의 코랩 사용법을 보고, GPU 가속 환경에서 코드를 따라해보기를 권합니다."
   ]
  },
  {
   "cell_type": "markdown",
   "metadata": {},
   "source": [
    "* 아래 코드는 텐서플로우 1이나 2 모두 동일"
   ]
  },
  {
   "cell_type": "code",
   "execution_count": 1,
   "metadata": {},
   "outputs": [
    {
     "name": "stderr",
     "output_type": "stream",
     "text": [
      "Using TensorFlow backend.\n"
     ]
    }
   ],
   "source": [
    "import tensorflow as tf\n",
    "import keras\n",
    "from keras import datasets\n",
    "import matplotlib.pyplot as plt\n",
    "import numpy as np\n",
    "\n",
    "%matplotlib inline"
   ]
  },
  {
   "cell_type": "markdown",
   "metadata": {},
   "source": [
    "* 케라스는 텐서플로우 1.15 버전을 backend로 사용"
   ]
  },
  {
   "cell_type": "code",
   "execution_count": 2,
   "metadata": {},
   "outputs": [
    {
     "name": "stdout",
     "output_type": "stream",
     "text": [
      "tf 1.15.0\n",
      "keras 2.3.1\n"
     ]
    }
   ],
   "source": [
    "print('tf', tf.__version__)\n",
    "print('keras', keras.__version__)"
   ]
  },
  {
   "cell_type": "markdown",
   "metadata": {},
   "source": [
    "## 케라스 모델 만들기\n",
    "케라스로 모델을 만들 때는 아래 프로세스만 생각하면 됨\n",
    "1. 데이터\n",
    "2. 모델 정의 (define)\n",
    "3. 모델 컴파일 (compile)\n",
    "4. 모델 학습 (fit)\n",
    "5. 모델 평가 (evaluate)\n",
    "6. 예측 (predict)"
   ]
  },
  {
   "cell_type": "markdown",
   "metadata": {},
   "source": [
    "## MNIST 데이터\n",
    "먼저 오늘 풀이할 데이터를 살펴보자."
   ]
  },
  {
   "cell_type": "code",
   "execution_count": 3,
   "metadata": {},
   "outputs": [],
   "source": [
    "(X_train, y_train), (X_test, y_test) = datasets.mnist.load_data()"
   ]
  },
  {
   "cell_type": "markdown",
   "metadata": {},
   "source": [
    "데이터 모양 알아보기"
   ]
  },
  {
   "cell_type": "code",
   "execution_count": 4,
   "metadata": {},
   "outputs": [
    {
     "data": {
      "text/plain": [
       "((60000, 28, 28), (60000,))"
      ]
     },
     "execution_count": 4,
     "metadata": {},
     "output_type": "execute_result"
    }
   ],
   "source": [
    "X_train.shape, y_train.shape"
   ]
  },
  {
   "cell_type": "code",
   "execution_count": 5,
   "metadata": {},
   "outputs": [
    {
     "data": {
      "text/plain": [
       "((10000, 28, 28), (10000,))"
      ]
     },
     "execution_count": 5,
     "metadata": {},
     "output_type": "execute_result"
    }
   ],
   "source": [
    "X_test.shape, y_test.shape"
   ]
  },
  {
   "cell_type": "markdown",
   "metadata": {},
   "source": [
    "데이터 범위 (최대값과 최소값) 확인"
   ]
  },
  {
   "cell_type": "code",
   "execution_count": 6,
   "metadata": {},
   "outputs": [
    {
     "data": {
      "text/plain": [
       "(0, 255)"
      ]
     },
     "execution_count": 6,
     "metadata": {},
     "output_type": "execute_result"
    }
   ],
   "source": [
    "np.min(X_train), np.max(X_train)"
   ]
  },
  {
   "cell_type": "markdown",
   "metadata": {},
   "source": [
    "데이터를 0 ~ 1 범위로 rescale하기"
   ]
  },
  {
   "cell_type": "code",
   "execution_count": 7,
   "metadata": {},
   "outputs": [],
   "source": [
    "# 데이터 rescale\n",
    "X_train = X_train / np.max(X_train)\n",
    "X_test = X_test / np.max(X_test)"
   ]
  },
  {
   "cell_type": "markdown",
   "metadata": {},
   "source": [
    "* MNIST 데이터를 눈으로 확인\n",
    "```python\n",
    "plt.subplots(nrows, ncols)\n",
    "```\n",
    "* 위 함수에 도화지를 몇 분할 할 것인지 인자로 전달\n",
    "* 이 예제에서는 5x5로 분할\n",
    "* plt.subplots를 호출하면, 그림 요소들을 담는 fig와 분할한 도화지 요소가 담진 ax를 반환\n",
    "* ax는 plt.subplots를 호출할 때 인자로 넣은 배열 그대로 그림이 그려진다고 생각하면 됨\n",
    "* ax.imshow() 안에 그려줄 그림을 넣음\n",
    "* ax.axis('off') 는 쓸데 없는 축이 안나타나도록 하기 위함\n"
   ]
  },
  {
   "cell_type": "code",
   "execution_count": 8,
   "metadata": {},
   "outputs": [
    {
     "data": {
      "image/png": "[encoded data removed]",
      "text/plain": [
       "<matplotlib.figure.Figure at 0x7f5118f63ed0>"
      ]
     },
     "metadata": {
      "needs_background": "light"
     },
     "output_type": "display_data"
    }
   ],
   "source": [
    "# 랜덤값 재현을 위함\n",
    "np.random.seed(0)\n",
    "\n",
    "nrows, ncols = 5, 5\n",
    "fig, ax = plt.subplots(nrows, ncols, figsize=(8, 8))\n",
    "# 분할 한 그림들이 서로 적당히 떨어지도록 함\n",
    "fig.tight_layout()\n",
    "for i in range(nrows):\n",
    "    for j in range(ncols):\n",
    "        # X_train에서 임의의 인덱스 번호를 가져와서 그림 나타냄\n",
    "        idx = np.random.randint(len(X_train))\n",
    "        ax[i][j].imshow(X_train[idx])\n",
    "        ax[i][j].set_title(f\"{y_train[idx]}\")\n",
    "        ax[i][j].axis('off')\n",
    "plt.show()"
   ]
  },
  {
   "cell_type": "markdown",
   "metadata": {},
   "source": [
    "## 다층 퍼셉트론으로 된 모델 구현하기"
   ]
  },
  {
   "cell_type": "markdown",
   "metadata": {},
   "source": [
    "위에서 다룬 케라스 모델 만들기 순서에 따라 그대로 만들어보자.\n",
    "\n",
    "1. 데이터\n",
    "2. 모델 정의 (define)\n",
    "3. 모델 컴파일 (compile)\n",
    "4. 모델 학습 (fit)\n",
    "5. 모델 평가 (evaluate)\n",
    "6. 예측 (predict)"
   ]
  },
  {
   "cell_type": "markdown",
   "metadata": {},
   "source": [
    "### 1. 데이터"
   ]
  },
  {
   "cell_type": "markdown",
   "metadata": {},
   "source": [
    "* 데이터 하나 하나가 (총 60,000개) 정사각형 (28, 28)인 이미지이고, 그 이미지가 어떤 숫자를 나타내는지 숫자 하나로 되어 있음\n",
    "* 다층 퍼셉트론은 벡터가 입력되어야 하므로 28x28 행렬을 784 길이 벡터로 펴주기\n",
    "* 이 때 넘파이 ```np.reshape()```을 사용\n",
    "```python\n",
    "numpy.reshape(a, newshape)\n",
    "```\n",
    "* ```a```에 변경 전 배열, ```reshape```에 변경 후 모양"
   ]
  },
  {
   "cell_type": "code",
   "execution_count": 9,
   "metadata": {},
   "outputs": [
    {
     "name": "stdout",
     "output_type": "stream",
     "text": [
      "(60000, 28, 28) (60000,)\n",
      "(10000, 28, 28) (10000,)\n"
     ]
    }
   ],
   "source": [
    "print(X_train.shape, y_train.shape)\n",
    "print(X_test.shape, y_test.shape)"
   ]
  },
  {
   "cell_type": "markdown",
   "metadata": {},
   "source": [
    "* 입력값을 아무거나 하나 프린트 해보자."
   ]
  },
  {
   "cell_type": "code",
   "execution_count": 10,
   "metadata": {},
   "outputs": [],
   "source": [
    "np.random.seed(0)\n",
    "temp_idx = np.random.randint(X_train.shape[0])"
   ]
  },
  {
   "cell_type": "code",
   "execution_count": 11,
   "metadata": {},
   "outputs": [
    {
     "name": "stdout",
     "output_type": "stream",
     "text": [
      "[[0.         0.         0.         0.         0.         0.\n",
      "  0.         0.         0.         0.         0.         0.\n",
      "  0.         0.         0.         0.         0.         0.\n",
      "  0.         0.         0.         0.         0.         0.\n",
      "  0.         0.         0.         0.        ]\n",
      " [0.         0.         0.         0.         0.         0.\n",
      "  0.         0.         0.         0.         0.         0.\n",
      "  0.         0.         0.         0.         0.         0.\n",
      "  0.         0.         0.         0.         0.         0.\n",
      "  0.         0.         0.         0.        ]\n",
      " [0.         0.         0.         0.         0.         0.\n",
      "  0.         0.         0.         0.         0.         0.\n",
      "  0.         0.         0.         0.         0.         0.\n",
      "  0.         0.         0.         0.         0.         0.\n",
      "  0.         0.         0.         0.        ]\n",
      " [0.         0.         0.         0.         0.         0.\n",
      "  0.         0.         0.         0.         0.         0.\n",
      "  0.         0.         0.         0.         0.         0.\n",
      "  0.         0.         0.         0.         0.         0.\n",
      "  0.         0.         0.         0.        ]\n",
      " [0.         0.         0.         0.         0.         0.\n",
      "  0.         0.         0.         0.         0.         0.\n",
      "  0.         0.         0.         0.         0.         0.\n",
      "  0.         0.         0.         0.85490196 0.85098039 0.\n",
      "  0.         0.         0.         0.        ]\n",
      " [0.         0.         0.         0.         0.         0.\n",
      "  0.         0.49019608 0.85098039 0.11764706 0.         0.\n",
      "  0.         0.         0.         0.         0.         0.\n",
      "  0.         0.         0.36862745 0.96862745 0.84313725 0.\n",
      "  0.         0.         0.         0.        ]\n",
      " [0.         0.         0.         0.         0.         0.\n",
      "  0.10588235 0.86666667 0.98823529 0.58431373 0.04313725 0.\n",
      "  0.         0.         0.         0.         0.         0.\n",
      "  0.         0.         0.83137255 0.98823529 0.84313725 0.\n",
      "  0.         0.         0.         0.        ]\n",
      " [0.         0.         0.         0.         0.         0.\n",
      "  0.14509804 0.98823529 0.98823529 0.98823529 0.27843137 0.\n",
      "  0.         0.         0.         0.         0.         0.\n",
      "  0.         0.32941176 0.99215686 0.98823529 0.84313725 0.\n",
      "  0.         0.         0.         0.        ]\n",
      " [0.         0.         0.         0.         0.         0.\n",
      "  0.38823529 0.98823529 0.98823529 0.98823529 0.27843137 0.\n",
      "  0.         0.         0.         0.         0.         0.\n",
      "  0.         0.56470588 0.99215686 0.98823529 0.84313725 0.\n",
      "  0.         0.         0.         0.        ]\n",
      " [0.         0.         0.         0.         0.         0.\n",
      "  0.70980392 0.98823529 0.98823529 0.98823529 0.27843137 0.\n",
      "  0.         0.         0.         0.         0.         0.\n",
      "  0.         0.56470588 0.99215686 0.98823529 0.68235294 0.\n",
      "  0.         0.         0.         0.        ]\n",
      " [0.         0.         0.         0.         0.         0.04313725\n",
      "  0.74901961 0.98823529 0.98823529 0.94509804 0.23921569 0.\n",
      "  0.         0.         0.         0.         0.         0.\n",
      "  0.10588235 0.86666667 0.99215686 0.98823529 0.27843137 0.\n",
      "  0.         0.         0.         0.        ]\n",
      " [0.         0.         0.         0.         0.         0.28627451\n",
      "  0.98823529 0.98823529 0.98823529 0.70196078 0.         0.\n",
      "  0.         0.         0.         0.         0.         0.\n",
      "  0.14509804 0.98823529 0.99215686 0.98823529 0.27843137 0.\n",
      "  0.         0.         0.         0.        ]\n",
      " [0.         0.         0.         0.         0.         0.28627451\n",
      "  0.99215686 0.99215686 0.99215686 0.1372549  0.         0.\n",
      "  0.         0.         0.         0.         0.         0.\n",
      "  0.14509804 0.99215686 1.         0.82745098 0.12156863 0.\n",
      "  0.         0.         0.         0.        ]\n",
      " [0.         0.         0.         0.         0.         0.45098039\n",
      "  0.98823529 0.98823529 0.98823529 0.1372549  0.         0.\n",
      "  0.         0.         0.         0.         0.         0.08235294\n",
      "  0.38823529 0.98823529 0.99215686 0.98823529 0.76470588 0.\n",
      "  0.         0.         0.         0.        ]\n",
      " [0.         0.         0.         0.         0.         0.85098039\n",
      "  0.98823529 0.98823529 0.98823529 0.21960784 0.02352941 0.14509804\n",
      "  0.14509804 0.14509804 0.14509804 0.47058824 0.71372549 0.78823529\n",
      "  0.98823529 0.98823529 0.99215686 0.94509804 0.4        0.\n",
      "  0.         0.         0.         0.        ]\n",
      " [0.         0.         0.         0.         0.         0.85098039\n",
      "  0.98823529 0.98823529 0.98823529 0.86666667 0.62745098 0.98823529\n",
      "  0.99215686 0.98823529 0.98823529 0.98823529 0.99215686 0.98823529\n",
      "  0.98823529 0.98823529 0.99215686 0.70196078 0.         0.\n",
      "  0.         0.         0.         0.        ]\n",
      " [0.         0.         0.         0.         0.         0.85490196\n",
      "  0.99215686 0.99215686 0.99215686 0.99215686 0.99215686 0.99215686\n",
      "  1.         0.99215686 0.99215686 0.99215686 1.         0.87058824\n",
      "  0.62745098 0.99215686 1.         0.38431373 0.         0.\n",
      "  0.         0.         0.         0.        ]\n",
      " [0.         0.         0.         0.         0.         0.85098039\n",
      "  0.98823529 0.98823529 0.98823529 0.98823529 0.98823529 0.98823529\n",
      "  0.99215686 0.98823529 0.98823529 0.98823529 0.46666667 0.09803922\n",
      "  0.10196078 0.86666667 0.99215686 0.70196078 0.         0.\n",
      "  0.         0.         0.         0.        ]\n",
      " [0.         0.         0.         0.         0.         0.76862745\n",
      "  0.98823529 0.98823529 0.98823529 0.98823529 0.98823529 0.98823529\n",
      "  0.99215686 0.8627451  0.76470588 0.27843137 0.         0.\n",
      "  0.         0.56470588 0.99215686 0.70196078 0.         0.\n",
      "  0.         0.         0.         0.        ]\n",
      " [0.         0.         0.         0.         0.         0.12156863\n",
      "  0.82745098 0.98823529 0.98823529 0.50196078 0.42352941 0.42352941\n",
      "  0.42352941 0.05882353 0.         0.         0.         0.\n",
      "  0.         0.56470588 0.99215686 0.70196078 0.         0.\n",
      "  0.         0.         0.         0.        ]\n",
      " [0.         0.         0.         0.         0.         0.\n",
      "  0.         0.32941176 0.3254902  0.         0.         0.\n",
      "  0.         0.         0.         0.         0.         0.\n",
      "  0.         0.32941176 1.         0.70588235 0.         0.\n",
      "  0.         0.         0.         0.        ]\n",
      " [0.         0.         0.         0.         0.         0.\n",
      "  0.         0.         0.         0.         0.         0.\n",
      "  0.         0.         0.         0.         0.         0.\n",
      "  0.         0.         0.99215686 0.70196078 0.         0.\n",
      "  0.         0.         0.         0.        ]\n",
      " [0.         0.         0.         0.         0.         0.\n",
      "  0.         0.         0.         0.         0.         0.\n",
      "  0.         0.         0.         0.         0.         0.\n",
      "  0.         0.         0.99215686 0.70196078 0.         0.\n",
      "  0.         0.         0.         0.        ]\n",
      " [0.         0.         0.         0.         0.         0.\n",
      "  0.         0.         0.         0.         0.         0.\n",
      "  0.         0.         0.         0.         0.         0.\n",
      "  0.         0.         0.99215686 0.70196078 0.         0.\n",
      "  0.         0.         0.         0.        ]\n",
      " [0.         0.         0.         0.         0.         0.\n",
      "  0.         0.         0.         0.         0.         0.\n",
      "  0.         0.         0.         0.         0.         0.\n",
      "  0.         0.         0.         0.         0.         0.\n",
      "  0.         0.         0.         0.        ]\n",
      " [0.         0.         0.         0.         0.         0.\n",
      "  0.         0.         0.         0.         0.         0.\n",
      "  0.         0.         0.         0.         0.         0.\n",
      "  0.         0.         0.         0.         0.         0.\n",
      "  0.         0.         0.         0.        ]\n",
      " [0.         0.         0.         0.         0.         0.\n",
      "  0.         0.         0.         0.         0.         0.\n",
      "  0.         0.         0.         0.         0.         0.\n",
      "  0.         0.         0.         0.         0.         0.\n",
      "  0.         0.         0.         0.        ]\n",
      " [0.         0.         0.         0.         0.         0.\n",
      "  0.         0.         0.         0.         0.         0.\n",
      "  0.         0.         0.         0.         0.         0.\n",
      "  0.         0.         0.         0.         0.         0.\n",
      "  0.         0.         0.         0.        ]]\n"
     ]
    }
   ],
   "source": [
    "print(X_train[temp_idx])"
   ]
  },
  {
   "cell_type": "code",
   "execution_count": 12,
   "metadata": {},
   "outputs": [
    {
     "data": {
      "image/png": "[encoded data removed]",
      "text/plain": [
       "<matplotlib.figure.Figure at 0x7f5117ced250>"
      ]
     },
     "metadata": {
      "needs_background": "light"
     },
     "output_type": "display_data"
    }
   ],
   "source": [
    "plt.imshow(X_train[temp_idx])\n",
    "plt.show()"
   ]
  },
  {
   "cell_type": "markdown",
   "metadata": {},
   "source": [
    "* 위 데이터는 (데이터 개수, 28, 28) 형태\n",
    "* 이를 (데이터 개수, 784)로 변환"
   ]
  },
  {
   "cell_type": "code",
   "execution_count": 13,
   "metadata": {},
   "outputs": [],
   "source": [
    "X_train = np.reshape(X_train, (len(X_train), 784))\n",
    "X_test = np.reshape(X_test, ((len(X_test), 784)))"
   ]
  },
  {
   "cell_type": "code",
   "execution_count": 14,
   "metadata": {},
   "outputs": [
    {
     "name": "stdout",
     "output_type": "stream",
     "text": [
      "(60000, 784) (60000,)\n",
      "(10000, 784) (10000,)\n"
     ]
    }
   ],
   "source": [
    "print(X_train.shape, y_train.shape)\n",
    "print(X_test.shape, y_test.shape)"
   ]
  },
  {
   "cell_type": "code",
   "execution_count": 15,
   "metadata": {},
   "outputs": [
    {
     "data": {
      "image/png": "[encoded data removed]",
      "text/plain": [
       "<matplotlib.figure.Figure at 0x7f5117b9a4d0>"
      ]
     },
     "metadata": {
      "needs_background": "light"
     },
     "output_type": "display_data"
    }
   ],
   "source": [
    "plt.figure(figsize=(5, .5), dpi=100)\n",
    "plt.imshow(np.expand_dims(X_train[temp_idx], axis=0))\n",
    "plt.show()"
   ]
  },
  {
   "cell_type": "markdown",
   "metadata": {},
   "source": [
    "* Reshape 후에 다시 찍어보자."
   ]
  },
  {
   "cell_type": "code",
   "execution_count": 16,
   "metadata": {},
   "outputs": [
    {
     "name": "stdout",
     "output_type": "stream",
     "text": [
      "[0.         0.         0.         0.         0.         0.\n",
      " 0.         0.         0.         0.         0.         0.\n",
      " 0.         0.         0.         0.         0.         0.\n",
      " 0.         0.         0.         0.         0.         0.\n",
      " 0.         0.         0.         0.         0.         0.\n",
      " 0.         0.         0.         0.         0.         0.\n",
      " 0.         0.         0.         0.         0.         0.\n",
      " 0.         0.         0.         0.         0.         0.\n",
      " 0.         0.         0.         0.         0.         0.\n",
      " 0.         0.         0.         0.         0.         0.\n",
      " 0.         0.         0.         0.         0.         0.\n",
      " 0.         0.         0.         0.         0.         0.\n",
      " 0.         0.         0.         0.         0.         0.\n",
      " 0.         0.         0.         0.         0.         0.\n",
      " 0.         0.         0.         0.         0.         0.\n",
      " 0.         0.         0.         0.         0.         0.\n",
      " 0.         0.         0.         0.         0.         0.\n",
      " 0.         0.         0.         0.         0.         0.\n",
      " 0.         0.         0.         0.         0.         0.\n",
      " 0.         0.         0.         0.         0.         0.\n",
      " 0.         0.         0.         0.         0.         0.\n",
      " 0.         0.         0.         0.         0.         0.\n",
      " 0.         0.85490196 0.85098039 0.         0.         0.\n",
      " 0.         0.         0.         0.         0.         0.\n",
      " 0.         0.         0.         0.49019608 0.85098039 0.11764706\n",
      " 0.         0.         0.         0.         0.         0.\n",
      " 0.         0.         0.         0.         0.36862745 0.96862745\n",
      " 0.84313725 0.         0.         0.         0.         0.\n",
      " 0.         0.         0.         0.         0.         0.\n",
      " 0.10588235 0.86666667 0.98823529 0.58431373 0.04313725 0.\n",
      " 0.         0.         0.         0.         0.         0.\n",
      " 0.         0.         0.83137255 0.98823529 0.84313725 0.\n",
      " 0.         0.         0.         0.         0.         0.\n",
      " 0.         0.         0.         0.         0.14509804 0.98823529\n",
      " 0.98823529 0.98823529 0.27843137 0.         0.         0.\n",
      " 0.         0.         0.         0.         0.         0.32941176\n",
      " 0.99215686 0.98823529 0.84313725 0.         0.         0.\n",
      " 0.         0.         0.         0.         0.         0.\n",
      " 0.         0.         0.38823529 0.98823529 0.98823529 0.98823529\n",
      " 0.27843137 0.         0.         0.         0.         0.\n",
      " 0.         0.         0.         0.56470588 0.99215686 0.98823529\n",
      " 0.84313725 0.         0.         0.         0.         0.\n",
      " 0.         0.         0.         0.         0.         0.\n",
      " 0.70980392 0.98823529 0.98823529 0.98823529 0.27843137 0.\n",
      " 0.         0.         0.         0.         0.         0.\n",
      " 0.         0.56470588 0.99215686 0.98823529 0.68235294 0.\n",
      " 0.         0.         0.         0.         0.         0.\n",
      " 0.         0.         0.         0.04313725 0.74901961 0.98823529\n",
      " 0.98823529 0.94509804 0.23921569 0.         0.         0.\n",
      " 0.         0.         0.         0.         0.10588235 0.86666667\n",
      " 0.99215686 0.98823529 0.27843137 0.         0.         0.\n",
      " 0.         0.         0.         0.         0.         0.\n",
      " 0.         0.28627451 0.98823529 0.98823529 0.98823529 0.70196078\n",
      " 0.         0.         0.         0.         0.         0.\n",
      " 0.         0.         0.14509804 0.98823529 0.99215686 0.98823529\n",
      " 0.27843137 0.         0.         0.         0.         0.\n",
      " 0.         0.         0.         0.         0.         0.28627451\n",
      " 0.99215686 0.99215686 0.99215686 0.1372549  0.         0.\n",
      " 0.         0.         0.         0.         0.         0.\n",
      " 0.14509804 0.99215686 1.         0.82745098 0.12156863 0.\n",
      " 0.         0.         0.         0.         0.         0.\n",
      " 0.         0.         0.         0.45098039 0.98823529 0.98823529\n",
      " 0.98823529 0.1372549  0.         0.         0.         0.\n",
      " 0.         0.         0.         0.08235294 0.38823529 0.98823529\n",
      " 0.99215686 0.98823529 0.76470588 0.         0.         0.\n",
      " 0.         0.         0.         0.         0.         0.\n",
      " 0.         0.85098039 0.98823529 0.98823529 0.98823529 0.21960784\n",
      " 0.02352941 0.14509804 0.14509804 0.14509804 0.14509804 0.47058824\n",
      " 0.71372549 0.78823529 0.98823529 0.98823529 0.99215686 0.94509804\n",
      " 0.4        0.         0.         0.         0.         0.\n",
      " 0.         0.         0.         0.         0.         0.85098039\n",
      " 0.98823529 0.98823529 0.98823529 0.86666667 0.62745098 0.98823529\n",
      " 0.99215686 0.98823529 0.98823529 0.98823529 0.99215686 0.98823529\n",
      " 0.98823529 0.98823529 0.99215686 0.70196078 0.         0.\n",
      " 0.         0.         0.         0.         0.         0.\n",
      " 0.         0.         0.         0.85490196 0.99215686 0.99215686\n",
      " 0.99215686 0.99215686 0.99215686 0.99215686 1.         0.99215686\n",
      " 0.99215686 0.99215686 1.         0.87058824 0.62745098 0.99215686\n",
      " 1.         0.38431373 0.         0.         0.         0.\n",
      " 0.         0.         0.         0.         0.         0.\n",
      " 0.         0.85098039 0.98823529 0.98823529 0.98823529 0.98823529\n",
      " 0.98823529 0.98823529 0.99215686 0.98823529 0.98823529 0.98823529\n",
      " 0.46666667 0.09803922 0.10196078 0.86666667 0.99215686 0.70196078\n",
      " 0.         0.         0.         0.         0.         0.\n",
      " 0.         0.         0.         0.         0.         0.76862745\n",
      " 0.98823529 0.98823529 0.98823529 0.98823529 0.98823529 0.98823529\n",
      " 0.99215686 0.8627451  0.76470588 0.27843137 0.         0.\n",
      " 0.         0.56470588 0.99215686 0.70196078 0.         0.\n",
      " 0.         0.         0.         0.         0.         0.\n",
      " 0.         0.         0.         0.12156863 0.82745098 0.98823529\n",
      " 0.98823529 0.50196078 0.42352941 0.42352941 0.42352941 0.05882353\n",
      " 0.         0.         0.         0.         0.         0.56470588\n",
      " 0.99215686 0.70196078 0.         0.         0.         0.\n",
      " 0.         0.         0.         0.         0.         0.\n",
      " 0.         0.         0.         0.32941176 0.3254902  0.\n",
      " 0.         0.         0.         0.         0.         0.\n",
      " 0.         0.         0.         0.32941176 1.         0.70588235\n",
      " 0.         0.         0.         0.         0.         0.\n",
      " 0.         0.         0.         0.         0.         0.\n",
      " 0.         0.         0.         0.         0.         0.\n",
      " 0.         0.         0.         0.         0.         0.\n",
      " 0.         0.         0.99215686 0.70196078 0.         0.\n",
      " 0.         0.         0.         0.         0.         0.\n",
      " 0.         0.         0.         0.         0.         0.\n",
      " 0.         0.         0.         0.         0.         0.\n",
      " 0.         0.         0.         0.         0.         0.\n",
      " 0.99215686 0.70196078 0.         0.         0.         0.\n",
      " 0.         0.         0.         0.         0.         0.\n",
      " 0.         0.         0.         0.         0.         0.\n",
      " 0.         0.         0.         0.         0.         0.\n",
      " 0.         0.         0.         0.         0.99215686 0.70196078\n",
      " 0.         0.         0.         0.         0.         0.\n",
      " 0.         0.         0.         0.         0.         0.\n",
      " 0.         0.         0.         0.         0.         0.\n",
      " 0.         0.         0.         0.         0.         0.\n",
      " 0.         0.         0.         0.         0.         0.\n",
      " 0.         0.         0.         0.         0.         0.\n",
      " 0.         0.         0.         0.         0.         0.\n",
      " 0.         0.         0.         0.         0.         0.\n",
      " 0.         0.         0.         0.         0.         0.\n",
      " 0.         0.         0.         0.         0.         0.\n",
      " 0.         0.         0.         0.         0.         0.\n",
      " 0.         0.         0.         0.         0.         0.\n",
      " 0.         0.         0.         0.         0.         0.\n",
      " 0.         0.         0.         0.         0.         0.\n",
      " 0.         0.         0.         0.         0.         0.\n",
      " 0.         0.         0.         0.         0.         0.\n",
      " 0.         0.         0.         0.         0.         0.\n",
      " 0.         0.         0.         0.         0.         0.\n",
      " 0.         0.         0.         0.         0.         0.\n",
      " 0.         0.         0.         0.        ]\n"
     ]
    }
   ],
   "source": [
    "print(X_train[temp_idx])"
   ]
  },
  {
   "cell_type": "markdown",
   "metadata": {},
   "source": [
    "### 2. 모델 정의 (define)"
   ]
  },
  {
   "cell_type": "markdown",
   "metadata": {},
   "source": [
    "* 모델을 정의하기 전에 먼저 무엇이 입력(input)되는지, 무엇이 출력(output)되는지 명확해야 함\n",
    "  * ```X_train```, ```y_train``` 쌍을 생각해보면, 입력은 784 벡터, 출력은 10차원 원핫 인코딩\n",
    "  * 원핫인코딩이란?\n",
    "    * 라벨에 해당하는 벡터만 1, 나머지는 0\n",
    "* 다층 퍼셉트론에 넣을 데이터는 벡터 형태로 되어있어야 함 (위에서 완료)\n",
    "* 은닉층이 256개 뉴런, 128개 뉴런으로 된 다층 퍼셉트론을 쌓기\n",
    "* 은닉층은 모두 ReLU 활성함수를 사용\n",
    "* Sequential()을 사용하면 층층이 모델 쌓기로 구현 가능"
   ]
  },
  {
   "cell_type": "markdown",
   "metadata": {},
   "source": [
    "* 원핫 인코딩 예시\n",
    "* y_train\\[:5\\] 데이터만 가지고 알아보자."
   ]
  },
  {
   "cell_type": "code",
   "execution_count": 17,
   "metadata": {},
   "outputs": [
    {
     "name": "stdout",
     "output_type": "stream",
     "text": [
      "[5 0 4 1 9]\n",
      "(5,)\n"
     ]
    }
   ],
   "source": [
    "# 요런 원본 데이터가 있다.\n",
    "print(y_train[:5])\n",
    "print(y_train[:5].shape)"
   ]
  },
  {
   "cell_type": "code",
   "execution_count": 18,
   "metadata": {},
   "outputs": [
    {
     "name": "stdout",
     "output_type": "stream",
     "text": [
      "[[0. 0. 0. 0. 0. 1. 0. 0. 0. 0.]\n",
      " [1. 0. 0. 0. 0. 0. 0. 0. 0. 0.]\n",
      " [0. 0. 0. 0. 1. 0. 0. 0. 0. 0.]\n",
      " [0. 1. 0. 0. 0. 0. 0. 0. 0. 0.]\n",
      " [0. 0. 0. 0. 0. 0. 0. 0. 0. 1.]]\n",
      "(5, 10)\n"
     ]
    }
   ],
   "source": [
    "# 원본 데이터와 개수는 같고, 5 x 10 인 데이터 만듦\n",
    "onehot_encoded = np.zeros((5, 10))\n",
    "# 원본 데이터 원소에 해당하는 인덱스의 값만 1\n",
    "for i, _y in enumerate(y_train[:5]):\n",
    "    onehot_encoded[i][_y] = 1\n",
    "print(onehot_encoded)\n",
    "print(onehot_encoded.shape)"
   ]
  },
  {
   "cell_type": "markdown",
   "metadata": {},
   "source": [
    "* 오늘 사용할 것들 미리 import"
   ]
  },
  {
   "cell_type": "code",
   "execution_count": 19,
   "metadata": {},
   "outputs": [],
   "source": [
    "from keras import models, losses, metrics, optimizers\n",
    "from keras.layers import Dense, Activation"
   ]
  },
  {
   "cell_type": "markdown",
   "metadata": {},
   "source": [
    "* Sequential 은 순차적이라는 뜻이 있음\n",
    "* 마치 list에서 append를 썼던 것 처럼, add 를 써서 레이어를 순서대로 쌓을 수 있음"
   ]
  },
  {
   "cell_type": "code",
   "execution_count": 20,
   "metadata": {},
   "outputs": [],
   "source": [
    "# 모델 생성\n",
    "model = models.Sequential()"
   ]
  },
  {
   "cell_type": "code",
   "execution_count": 21,
   "metadata": {},
   "outputs": [],
   "source": [
    "# 층을 하나씩 쌓는다.\n",
    "# 은닉층 뉴런 256개\n",
    "model.add(Dense(256))\n",
    "model.add(Activation(tf.nn.relu))\n",
    "\n",
    "# 은닉층 뉴런 128개\n",
    "model.add(Dense(128))\n",
    "model.add(Activation(tf.nn.relu))\n",
    "\n",
    "# 출력 뉴런 10개\n",
    "model.add(Dense(10))\n",
    "model.add(Activation(tf.nn.softmax))"
   ]
  },
  {
   "cell_type": "markdown",
   "metadata": {},
   "source": [
    "### 3. 모델 컴파일 (compile)\n",
    "* 모델에서 어떤 손실함수를 쓸지 정함\n",
    "  * 여기서는 sparse categorical cross entropy 사용\n",
    "      * 실제 데이터는 0 ~ 9 숫자가 담김\n",
    "      * 모델은 10차원 벡터로 된 원핫 인코딩\n",
    "      * 이 두 가지로부터 정확도를 측정하는 방법임\n",
    "* 모델 업데이트를 어떤 방법을 써서 할지 정함\n",
    "  * Adam 최적화기 사용\n",
    "* 모델 학습하는 동안 사용할 모델 평가 방법 정함\n",
    "  * 정확도 사용"
   ]
  },
  {
   "cell_type": "code",
   "execution_count": 22,
   "metadata": {},
   "outputs": [
    {
     "name": "stdout",
     "output_type": "stream",
     "text": [
      "WARNING:tensorflow:From /home/whlee/miniconda3/envs/tf1/lib/python3.7/site-packages/tensorflow_core/python/ops/resource_variable_ops.py:1630: calling BaseResourceVariable.__init__ (from tensorflow.python.ops.resource_variable_ops) with constraint is deprecated and will be removed in a future version.\n",
      "Instructions for updating:\n",
      "If using Keras pass *_constraint arguments to layers.\n"
     ]
    }
   ],
   "source": [
    "model.compile(\n",
    "    loss=losses.SparseCategoricalCrossentropy(), \n",
    "    optimizer=optimizers.Adam(learning_rate=1e-4), \n",
    "    metrics=['acc']\n",
    ")"
   ]
  },
  {
   "cell_type": "markdown",
   "metadata": {},
   "source": [
    "### 4. 모델 학습 (fit)\n",
    "* 싸이킷런과 유사하게 fit을 사용\n",
    "* fit에 필수적으로 사용하는 인자는\n",
    "```python\n",
    "model.fit(x, y, batch_size, epochs, verbose, validation_split)\n",
    "```\n",
    "* ```x```: 입력 데이터\n",
    "* ```y```: 출력 데이터\n",
    "* ```batch_size```: 배치 크기. 한 배치에 몇개의 데이터를 넣어서 학습 시킬 것인가 정함\n",
    "* ```epochs```: 업데이트 할 횟수\n",
    "* ```verbose```: 학습하는 정보를 얼마나 출력할지. 0이면 아무것도 출력 안함. 1이면 가장 자세한 정보 출력. 2면 간단 출력\n",
    "* ```validation_split```: 학습 데이터에서 몇 퍼센트를 모델 중간 평가에 쓸지"
   ]
  },
  {
   "cell_type": "code",
   "execution_count": 23,
   "metadata": {},
   "outputs": [
    {
     "name": "stdout",
     "output_type": "stream",
     "text": [
      "WARNING:tensorflow:From /home/whlee/miniconda3/envs/tf1/lib/python3.7/site-packages/keras/backend/tensorflow_backend.py:422: The name tf.global_variables is deprecated. Please use tf.compat.v1.global_variables instead.\n",
      "\n",
      "Train on 45000 samples, validate on 15000 samples\n",
      "Epoch 1/50\n",
      "45000/45000 [==============================] - 1s 25us/step - loss: 1.1884 - acc: 0.7253 - val_loss: 0.4977 - val_acc: 0.8849\n",
      "Epoch 2/50\n",
      "45000/45000 [==============================] - 1s 20us/step - loss: 0.4034 - acc: 0.8973 - val_loss: 0.3248 - val_acc: 0.9112\n",
      "Epoch 3/50\n",
      "45000/45000 [==============================] - 1s 19us/step - loss: 0.2988 - acc: 0.9189 - val_loss: 0.2683 - val_acc: 0.9263\n",
      "Epoch 4/50\n",
      "45000/45000 [==============================] - 1s 20us/step - loss: 0.2523 - acc: 0.9300 - val_loss: 0.2378 - val_acc: 0.9341\n",
      "Epoch 5/50\n",
      "45000/45000 [==============================] - 1s 20us/step - loss: 0.2222 - acc: 0.9382 - val_loss: 0.2157 - val_acc: 0.9393\n",
      "Epoch 6/50\n",
      "45000/45000 [==============================] - 1s 20us/step - loss: 0.1994 - acc: 0.9442 - val_loss: 0.1978 - val_acc: 0.9435\n",
      "Epoch 7/50\n",
      "45000/45000 [==============================] - 1s 20us/step - loss: 0.1816 - acc: 0.9484 - val_loss: 0.1853 - val_acc: 0.9459\n",
      "Epoch 8/50\n",
      "45000/45000 [==============================] - 1s 19us/step - loss: 0.1665 - acc: 0.9531 - val_loss: 0.1749 - val_acc: 0.9495\n",
      "Epoch 9/50\n",
      "45000/45000 [==============================] - 1s 19us/step - loss: 0.1537 - acc: 0.9562 - val_loss: 0.1649 - val_acc: 0.9516\n",
      "Epoch 10/50\n",
      "45000/45000 [==============================] - 1s 20us/step - loss: 0.1421 - acc: 0.9598 - val_loss: 0.1570 - val_acc: 0.9547\n",
      "Epoch 11/50\n",
      "45000/45000 [==============================] - 1s 19us/step - loss: 0.1326 - acc: 0.9625 - val_loss: 0.1498 - val_acc: 0.9567\n",
      "Epoch 12/50\n",
      "45000/45000 [==============================] - 1s 20us/step - loss: 0.1239 - acc: 0.9651 - val_loss: 0.1465 - val_acc: 0.9577\n",
      "Epoch 13/50\n",
      "45000/45000 [==============================] - 1s 19us/step - loss: 0.1161 - acc: 0.9679 - val_loss: 0.1386 - val_acc: 0.9597\n",
      "Epoch 14/50\n",
      "45000/45000 [==============================] - 1s 19us/step - loss: 0.1086 - acc: 0.9696 - val_loss: 0.1367 - val_acc: 0.9605\n",
      "Epoch 15/50\n",
      "45000/45000 [==============================] - 1s 20us/step - loss: 0.1025 - acc: 0.9713 - val_loss: 0.1295 - val_acc: 0.9624\n",
      "Epoch 16/50\n",
      "45000/45000 [==============================] - 1s 20us/step - loss: 0.0963 - acc: 0.9739 - val_loss: 0.1264 - val_acc: 0.9631\n",
      "Epoch 17/50\n",
      "45000/45000 [==============================] - 1s 19us/step - loss: 0.0912 - acc: 0.9749 - val_loss: 0.1240 - val_acc: 0.9628\n",
      "Epoch 18/50\n",
      "45000/45000 [==============================] - 1s 19us/step - loss: 0.0858 - acc: 0.9766 - val_loss: 0.1197 - val_acc: 0.9653\n",
      "Epoch 19/50\n",
      "45000/45000 [==============================] - 1s 20us/step - loss: 0.0816 - acc: 0.9774 - val_loss: 0.1172 - val_acc: 0.9663\n",
      "Epoch 20/50\n",
      "45000/45000 [==============================] - 1s 20us/step - loss: 0.0770 - acc: 0.9791 - val_loss: 0.1140 - val_acc: 0.9665\n",
      "Epoch 21/50\n",
      "45000/45000 [==============================] - 1s 20us/step - loss: 0.0734 - acc: 0.9801 - val_loss: 0.1132 - val_acc: 0.9663\n",
      "Epoch 22/50\n",
      "45000/45000 [==============================] - 1s 19us/step - loss: 0.0690 - acc: 0.9820 - val_loss: 0.1105 - val_acc: 0.9676\n",
      "Epoch 23/50\n",
      "45000/45000 [==============================] - 1s 19us/step - loss: 0.0664 - acc: 0.9823 - val_loss: 0.1100 - val_acc: 0.9680\n",
      "Epoch 24/50\n",
      "45000/45000 [==============================] - 1s 20us/step - loss: 0.0626 - acc: 0.9839 - val_loss: 0.1088 - val_acc: 0.9677\n",
      "Epoch 25/50\n",
      "45000/45000 [==============================] - 1s 20us/step - loss: 0.0596 - acc: 0.9843 - val_loss: 0.1060 - val_acc: 0.9677\n",
      "Epoch 26/50\n",
      "45000/45000 [==============================] - 1s 20us/step - loss: 0.0568 - acc: 0.9852 - val_loss: 0.1037 - val_acc: 0.9691\n",
      "Epoch 27/50\n",
      "45000/45000 [==============================] - 1s 20us/step - loss: 0.0536 - acc: 0.9862 - val_loss: 0.1019 - val_acc: 0.9695\n",
      "Epoch 28/50\n",
      "45000/45000 [==============================] - 1s 20us/step - loss: 0.0508 - acc: 0.9871 - val_loss: 0.1017 - val_acc: 0.9693\n",
      "Epoch 29/50\n",
      "45000/45000 [==============================] - 1s 20us/step - loss: 0.0483 - acc: 0.9880 - val_loss: 0.1001 - val_acc: 0.9704\n",
      "Epoch 30/50\n",
      "45000/45000 [==============================] - 1s 20us/step - loss: 0.0464 - acc: 0.9883 - val_loss: 0.0990 - val_acc: 0.9703\n",
      "Epoch 31/50\n",
      "45000/45000 [==============================] - 1s 20us/step - loss: 0.0438 - acc: 0.9893 - val_loss: 0.0982 - val_acc: 0.9707\n",
      "Epoch 32/50\n",
      "45000/45000 [==============================] - 1s 19us/step - loss: 0.0417 - acc: 0.9898 - val_loss: 0.0972 - val_acc: 0.9711\n",
      "Epoch 33/50\n",
      "45000/45000 [==============================] - 1s 20us/step - loss: 0.0394 - acc: 0.9903 - val_loss: 0.0969 - val_acc: 0.9713\n",
      "Epoch 34/50\n",
      "45000/45000 [==============================] - 1s 19us/step - loss: 0.0375 - acc: 0.9912 - val_loss: 0.0974 - val_acc: 0.9716\n",
      "Epoch 35/50\n",
      "45000/45000 [==============================] - 1s 19us/step - loss: 0.0360 - acc: 0.9915 - val_loss: 0.0946 - val_acc: 0.9720\n",
      "Epoch 36/50\n",
      "45000/45000 [==============================] - 1s 20us/step - loss: 0.0342 - acc: 0.9921 - val_loss: 0.0939 - val_acc: 0.9719\n",
      "Epoch 37/50\n",
      "45000/45000 [==============================] - 1s 19us/step - loss: 0.0324 - acc: 0.9924 - val_loss: 0.0954 - val_acc: 0.9719\n",
      "Epoch 38/50\n",
      "45000/45000 [==============================] - 1s 20us/step - loss: 0.0309 - acc: 0.9931 - val_loss: 0.0941 - val_acc: 0.9726\n",
      "Epoch 39/50\n",
      "45000/45000 [==============================] - 1s 20us/step - loss: 0.0291 - acc: 0.9935 - val_loss: 0.0937 - val_acc: 0.9719\n",
      "Epoch 40/50\n",
      "45000/45000 [==============================] - 1s 19us/step - loss: 0.0276 - acc: 0.9942 - val_loss: 0.0928 - val_acc: 0.9725\n",
      "Epoch 41/50\n",
      "45000/45000 [==============================] - 1s 20us/step - loss: 0.0262 - acc: 0.9944 - val_loss: 0.0933 - val_acc: 0.9717\n",
      "Epoch 42/50\n",
      "45000/45000 [==============================] - 1s 19us/step - loss: 0.0248 - acc: 0.9947 - val_loss: 0.0931 - val_acc: 0.9723\n",
      "Epoch 43/50\n",
      "45000/45000 [==============================] - 1s 19us/step - loss: 0.0236 - acc: 0.9951 - val_loss: 0.0923 - val_acc: 0.9733\n",
      "Epoch 44/50\n",
      "45000/45000 [==============================] - 1s 20us/step - loss: 0.0225 - acc: 0.9956 - val_loss: 0.0924 - val_acc: 0.9733\n",
      "Epoch 45/50\n",
      "45000/45000 [==============================] - 1s 20us/step - loss: 0.0215 - acc: 0.9959 - val_loss: 0.0931 - val_acc: 0.9728\n",
      "Epoch 46/50\n",
      "45000/45000 [==============================] - 1s 19us/step - loss: 0.0200 - acc: 0.9964 - val_loss: 0.0927 - val_acc: 0.9727\n",
      "Epoch 47/50\n",
      "45000/45000 [==============================] - 1s 20us/step - loss: 0.0190 - acc: 0.9969 - val_loss: 0.0941 - val_acc: 0.9727\n",
      "Epoch 48/50\n",
      "45000/45000 [==============================] - 1s 20us/step - loss: 0.0180 - acc: 0.9972 - val_loss: 0.0922 - val_acc: 0.9724\n",
      "Epoch 49/50\n",
      "45000/45000 [==============================] - 1s 20us/step - loss: 0.0169 - acc: 0.9972 - val_loss: 0.0912 - val_acc: 0.9737\n",
      "Epoch 50/50\n",
      "45000/45000 [==============================] - 1s 20us/step - loss: 0.0160 - acc: 0.9977 - val_loss: 0.0922 - val_acc: 0.9733\n"
     ]
    }
   ],
   "source": [
    "history = model.fit(\n",
    "    x=X_train, y=y_train, \n",
    "    batch_size=256,\n",
    "    epochs=50,\n",
    "    verbose=1, \n",
    "    validation_split=.25\n",
    ")"
   ]
  },
  {
   "cell_type": "markdown",
   "metadata": {},
   "source": [
    "### 5. 모델 평가 (evaluate)"
   ]
  },
  {
   "cell_type": "markdown",
   "metadata": {},
   "source": [
    "* 모델 fit은 history 오브젝트를 반환 함\n",
    "* history오브젝트의 history는 학습하는 동안 모델의 정확도, loss를 기록함"
   ]
  },
  {
   "cell_type": "code",
   "execution_count": 24,
   "metadata": {},
   "outputs": [
    {
     "data": {
      "text/plain": [
       "{'val_loss': [0.4976554545402527,\n",
       "  0.32483928050994876,\n",
       "  0.26834981476465863,\n",
       "  0.23781871910889943,\n",
       "  0.2156905065536499,\n",
       "  0.1977954127629598,\n",
       "  0.18525016918977102,\n",
       "  0.1749435322523117,\n",
       "  0.16490689067840575,\n",
       "  0.15697701213359833,\n",
       "  0.14980892182191213,\n",
       "  0.1464995416879654,\n",
       "  0.1385692134777705,\n",
       "  0.1367498936812083,\n",
       "  0.12950879665215811,\n",
       "  0.12635587048133215,\n",
       "  0.12402853966554006,\n",
       "  0.11968080405394237,\n",
       "  0.11724300450881323,\n",
       "  0.11402891885836919,\n",
       "  0.11322538162867228,\n",
       "  0.11051783261299133,\n",
       "  0.10998111162980398,\n",
       "  0.1087606844385465,\n",
       "  0.10596222027142843,\n",
       "  0.10365498062769572,\n",
       "  0.10185857847531636,\n",
       "  0.10173974612553914,\n",
       "  0.10011492458979289,\n",
       "  0.09896640109618504,\n",
       "  0.0981789089679718,\n",
       "  0.09722924574613571,\n",
       "  0.0969454195300738,\n",
       "  0.09742293851772944,\n",
       "  0.09464360783497493,\n",
       "  0.09386355029741923,\n",
       "  0.09544502714474996,\n",
       "  0.09411606591145198,\n",
       "  0.09372352873484294,\n",
       "  0.09275107106367747,\n",
       "  0.0933050594607989,\n",
       "  0.09311382640202841,\n",
       "  0.09225047104358673,\n",
       "  0.09240794959068298,\n",
       "  0.09306555141607921,\n",
       "  0.09267818556626638,\n",
       "  0.09406030789216359,\n",
       "  0.09222282334168752,\n",
       "  0.09118920722007752,\n",
       "  0.0921989852031072],\n",
       " 'val_acc': [0.884933352470398,\n",
       "  0.9111999869346619,\n",
       "  0.9262666702270508,\n",
       "  0.9341333508491516,\n",
       "  0.9393333196640015,\n",
       "  0.9434666633605957,\n",
       "  0.9459333419799805,\n",
       "  0.9494666457176208,\n",
       "  0.9516000151634216,\n",
       "  0.9547333121299744,\n",
       "  0.9567333459854126,\n",
       "  0.9577333331108093,\n",
       "  0.9596666693687439,\n",
       "  0.9604666829109192,\n",
       "  0.9624000191688538,\n",
       "  0.9631333351135254,\n",
       "  0.9628000259399414,\n",
       "  0.9653333425521851,\n",
       "  0.9662666916847229,\n",
       "  0.9664666652679443,\n",
       "  0.9663333296775818,\n",
       "  0.9675999879837036,\n",
       "  0.9679999947547913,\n",
       "  0.9676666855812073,\n",
       "  0.9676666855812073,\n",
       "  0.9690666794776917,\n",
       "  0.9695333242416382,\n",
       "  0.9692666530609131,\n",
       "  0.9703999757766724,\n",
       "  0.9703333377838135,\n",
       "  0.9707333445549011,\n",
       "  0.9710666537284851,\n",
       "  0.9713333249092102,\n",
       "  0.9715999960899353,\n",
       "  0.972000002861023,\n",
       "  0.9718666672706604,\n",
       "  0.9719333052635193,\n",
       "  0.972599983215332,\n",
       "  0.9719333052635193,\n",
       "  0.9725333452224731,\n",
       "  0.9717333316802979,\n",
       "  0.9723333120346069,\n",
       "  0.9732666611671448,\n",
       "  0.9732666611671448,\n",
       "  0.9728000164031982,\n",
       "  0.9726666808128357,\n",
       "  0.9727333188056946,\n",
       "  0.9724000096321106,\n",
       "  0.9737333059310913,\n",
       "  0.9733333587646484],\n",
       " 'loss': [1.188363336086273,\n",
       "  0.4033920897960663,\n",
       "  0.29876445021629333,\n",
       "  0.25232483486334484,\n",
       "  0.222161241806878,\n",
       "  0.19942768558926052,\n",
       "  0.181645364107026,\n",
       "  0.16645125759707557,\n",
       "  0.15365921431647406,\n",
       "  0.1421217766629325,\n",
       "  0.1325899460501141,\n",
       "  0.12393911431100633,\n",
       "  0.11607970662911733,\n",
       "  0.10862287948661381,\n",
       "  0.1024910763502121,\n",
       "  0.09628498763905631,\n",
       "  0.09116163369152282,\n",
       "  0.08580699564483431,\n",
       "  0.08155874011384116,\n",
       "  0.07696804216967688,\n",
       "  0.07343251326481501,\n",
       "  0.06902426040702396,\n",
       "  0.0664083028184043,\n",
       "  0.06258890121910307,\n",
       "  0.059632362037234835,\n",
       "  0.05683983215888341,\n",
       "  0.05355614988803863,\n",
       "  0.050751083315743344,\n",
       "  0.04828729725546307,\n",
       "  0.04640582113530901,\n",
       "  0.04384636021123992,\n",
       "  0.04168999091585477,\n",
       "  0.03939815701842308,\n",
       "  0.03753276392618815,\n",
       "  0.036041693369547524,\n",
       "  0.03416431237492296,\n",
       "  0.032407812497350905,\n",
       "  0.03093322392569648,\n",
       "  0.029138591793510648,\n",
       "  0.02763637149333954,\n",
       "  0.02616146043671502,\n",
       "  0.02480263334049119,\n",
       "  0.02357405036687851,\n",
       "  0.022517854498823483,\n",
       "  0.021493126992384592,\n",
       "  0.020024458250072267,\n",
       "  0.018976499669253827,\n",
       "  0.017957859745952817,\n",
       "  0.016902675479816064,\n",
       "  0.016043559926086002],\n",
       " 'acc': [0.72533333,\n",
       "  0.8972667,\n",
       "  0.9189111,\n",
       "  0.93,\n",
       "  0.93817776,\n",
       "  0.9442222,\n",
       "  0.9484444,\n",
       "  0.9531111,\n",
       "  0.95622224,\n",
       "  0.95984447,\n",
       "  0.96253335,\n",
       "  0.9650667,\n",
       "  0.9679111,\n",
       "  0.9696,\n",
       "  0.9712667,\n",
       "  0.97386664,\n",
       "  0.9748667,\n",
       "  0.9766,\n",
       "  0.9774,\n",
       "  0.97906667,\n",
       "  0.9800889,\n",
       "  0.98197776,\n",
       "  0.98226666,\n",
       "  0.98388886,\n",
       "  0.98426664,\n",
       "  0.98524445,\n",
       "  0.98615557,\n",
       "  0.9870889,\n",
       "  0.98804444,\n",
       "  0.98833334,\n",
       "  0.98928887,\n",
       "  0.98984444,\n",
       "  0.9903111,\n",
       "  0.9911778,\n",
       "  0.9914889,\n",
       "  0.9921111,\n",
       "  0.9923556,\n",
       "  0.9930889,\n",
       "  0.9935333,\n",
       "  0.9942222,\n",
       "  0.9944222,\n",
       "  0.99473333,\n",
       "  0.99513334,\n",
       "  0.9955556,\n",
       "  0.99586666,\n",
       "  0.99635553,\n",
       "  0.99686664,\n",
       "  0.99715555,\n",
       "  0.9971778,\n",
       "  0.99773335]}"
      ]
     },
     "execution_count": 24,
     "metadata": {},
     "output_type": "execute_result"
    }
   ],
   "source": [
    "history.history"
   ]
  },
  {
   "cell_type": "markdown",
   "metadata": {},
   "source": [
    "그림으로 정확도, loss를 그려보기"
   ]
  },
  {
   "cell_type": "code",
   "execution_count": 25,
   "metadata": {},
   "outputs": [
    {
     "data": {
      "image/png": "[encoded data removed]",
      "text/plain": [
       "<matplotlib.figure.Figure at 0x7f50f8559a50>"
      ]
     },
     "metadata": {
      "needs_background": "light"
     },
     "output_type": "display_data"
    },
    {
     "data": {
      "image/png": "[encoded data removed]",
      "text/plain": [
       "<matplotlib.figure.Figure at 0x7f50f84d8e50>"
      ]
     },
     "metadata": {
      "needs_background": "light"
     },
     "output_type": "display_data"
    }
   ],
   "source": [
    "plt.figure(figsize=(10, 1))\n",
    "plt.plot(history.history['loss'], label='train')\n",
    "plt.plot(history.history['val_loss'], label='validation')\n",
    "plt.title('loss')\n",
    "plt.show()\n",
    "\n",
    "plt.figure(figsize=(10, 1))\n",
    "plt.plot(history.history['acc'], label='train')\n",
    "plt.plot(history.history['val_acc'], label='validation')\n",
    "plt.title('accuracy')\n",
    "plt.show()"
   ]
  },
  {
   "cell_type": "markdown",
   "metadata": {},
   "source": [
    "### 6. 예측 (predict)"
   ]
  },
  {
   "cell_type": "markdown",
   "metadata": {},
   "source": [
    "* 케라스 모델 예측도 역시 사이킷런과 유사하게 predict사용\n",
    "```python\n",
    "model.predict(x, batch_size, verbose)\n",
    "```\n",
    "* ```x```: 예측에 쓸 데이터\n",
    "* (예측 데이터 개수) x (출력층 뉴런 수) 로 된 예측 데이터 반환"
   ]
  },
  {
   "cell_type": "code",
   "execution_count": 26,
   "metadata": {},
   "outputs": [
    {
     "data": {
      "text/plain": [
       "(10000, 10)"
      ]
     },
     "execution_count": 26,
     "metadata": {},
     "output_type": "execute_result"
    }
   ],
   "source": [
    "y_pred = model.predict(x=X_test)\n",
    "y_pred.shape"
   ]
  },
  {
   "cell_type": "code",
   "execution_count": 27,
   "metadata": {},
   "outputs": [
    {
     "data": {
      "text/plain": [
       "((10000,), (10000, 10))"
      ]
     },
     "execution_count": 27,
     "metadata": {},
     "output_type": "execute_result"
    }
   ],
   "source": [
    "y_test.shape, y_pred.shape"
   ]
  },
  {
   "cell_type": "markdown",
   "metadata": {},
   "source": [
    "* 예측 정확도 확인"
   ]
  },
  {
   "cell_type": "code",
   "execution_count": 28,
   "metadata": {},
   "outputs": [
    {
     "name": "stdout",
     "output_type": "stream",
     "text": [
      "97.8 %\n"
     ]
    }
   ],
   "source": [
    "assert y_test.shape[0] == y_pred.shape[0]\n",
    "\n",
    "acc = 0\n",
    "\n",
    "for i in range(y_test.shape[0]):\n",
    "    if y_test[i] == np.argmax(y_pred[i]):\n",
    "        acc += 1\n",
    "\n",
    "print(acc * 100 / y_test.shape[0], '%')"
   ]
  }
 ],
 "metadata": {
  "kernelspec": {
   "display_name": "Python 3",
   "language": "python",
   "name": "python3"
  },
  "language_info": {
   "codemirror_mode": {
    "name": "ipython",
    "version": 3
   },
   "file_extension": ".py",
   "mimetype": "text/x-python",
   "name": "python",
   "nbconvert_exporter": "python",
   "pygments_lexer": "ipython3",
   "version": "3.7.7"
  }
 },
 "nbformat": 4,
 "nbformat_minor": 4
}
