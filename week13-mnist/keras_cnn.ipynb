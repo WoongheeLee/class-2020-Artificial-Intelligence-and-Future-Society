{
 "cells": [
  {
   "cell_type": "markdown",
   "metadata": {},
   "source": [
    "# MNIST 데이터 분류 - CNN"
   ]
  },
  {
   "cell_type": "code",
   "execution_count": 1,
   "metadata": {},
   "outputs": [
    {
     "name": "stderr",
     "output_type": "stream",
     "text": [
      "Using TensorFlow backend.\n"
     ]
    }
   ],
   "source": [
    "import tensorflow as tf\n",
    "import keras\n",
    "from keras import datasets\n",
    "import matplotlib.pyplot as plt\n",
    "import numpy as np\n",
    "\n",
    "%matplotlib inline"
   ]
  },
  {
   "cell_type": "code",
   "execution_count": 2,
   "metadata": {},
   "outputs": [
    {
     "name": "stdout",
     "output_type": "stream",
     "text": [
      "1.15.0\n",
      "2.3.1\n"
     ]
    }
   ],
   "source": [
    "print(tf.__version__)\n",
    "print(keras.__version__)"
   ]
  },
  {
   "cell_type": "markdown",
   "metadata": {},
   "source": [
    "## 케라스 모델 만들기\n",
    "아래 프로세스에 따라서 만들면 됨\n",
    "1. 데이터\n",
    "2. 모델 정의 (define)\n",
    "3. 모델 컴파일 (compile)\n",
    "4. 모델 학습 (fit)\n",
    "5. 모델 평가 (evaluate)\n",
    "6. 예측 (predict)"
   ]
  },
  {
   "cell_type": "markdown",
   "metadata": {},
   "source": [
    "### 1. 데이터\n",
    "* MNIST 데이터 준비"
   ]
  },
  {
   "cell_type": "code",
   "execution_count": 3,
   "metadata": {},
   "outputs": [
    {
     "name": "stdout",
     "output_type": "stream",
     "text": [
      "(60000, 28, 28, 1) (60000,)\n",
      "(10000, 28, 28, 1) (10000,)\n"
     ]
    }
   ],
   "source": [
    "(X_train, y_train), (X_test, y_test) = datasets.mnist.load_data()\n",
    "\n",
    "# 0 ~ 1 범위로 rescale\n",
    "X_train = X_train / np.max(X_train)\n",
    "X_test = X_test / np.max(X_test)\n",
    "\n",
    "# convolutional layer 에 입력되는 데이터는\n",
    "# (데이터개수) x 28 x 28 x 1 차원이어야 함\n",
    "X_train = np.expand_dims(X_train, axis=-1)\n",
    "X_test = np.expand_dims(X_test, axis=-1)\n",
    "\n",
    "print(X_train.shape, y_train.shape)\n",
    "print(X_test.shape, y_test.shape)"
   ]
  },
  {
   "cell_type": "markdown",
   "metadata": {},
   "source": [
    "### 2. 모델 정의 (define)"
   ]
  },
  {
   "cell_type": "markdown",
   "metadata": {},
   "source": [
    "* Convolutional neural network (CNN) 모델을 만들 때\n",
    "  * 입력은 28x28x1, 출력은 10차원 원핫 인코딩\n",
    "* Convolutional layer 를 층층이 쌓아가면 됨\n",
    "* Convolutional layer는 Conv2D를 사용\n",
    "```python\n",
    "tf.keras.layers.Conv2D(\n",
    "    filters, kernel_size, strides=(1, 1), padding='valid'\n",
    ")\n",
    "```\n",
    "* ```filters```: 필터(커널, 채널) 개수\n",
    "* ```kernel_size```: 필터의 크기\n",
    "* ```strides```: 필터가 입력 데이터에서 한 번에 어느 정도 거리만큼 움직이며 convolutional 연산이 일어나는지\n",
    "* ```padding```: 입력 크기 대비 출력 크기 정해줌\n",
    "\n",
    "한편, 컨볼루션 연산 이후 출력되는 텐서는 2차원 데이터임\n",
    "* 최종 출력이 10차원 원핫 인코딩이 되어야 하므로 Flatten사용\n",
    "```python\n",
    "tf.keras.layers.Flatten()\n",
    "```\n",
    "* 2차원 이상의 데이터를 1차원 벡터로 펴줌"
   ]
  },
  {
   "cell_type": "code",
   "execution_count": 4,
   "metadata": {},
   "outputs": [],
   "source": [
    "from keras import models, losses, metrics, optimizers\n",
    "from keras.layers import Conv2D, Activation, Dense, Flatten"
   ]
  },
  {
   "cell_type": "code",
   "execution_count": 5,
   "metadata": {},
   "outputs": [],
   "source": [
    "# 모델 생성\n",
    "model = models.Sequential()"
   ]
  },
  {
   "cell_type": "code",
   "execution_count": 6,
   "metadata": {},
   "outputs": [],
   "source": [
    "# 필터 128개\n",
    "model.add(Conv2D(filters=128, kernel_size=(3,3), strides=(1,1), padding='valid'))\n",
    "model.add(Activation(tf.nn.relu))\n",
    "\n",
    "# 필터 256개\n",
    "model.add(Conv2D(filters=256, kernel_size=(3,3), strides=(1,1), padding='valid'))\n",
    "model.add(Activation(tf.nn.relu))\n",
    "\n",
    "# 평평하게 펴줌\n",
    "model.add(Flatten())\n",
    "\n",
    "# 출력 뉴런 10개\n",
    "model.add(Dense(10))\n",
    "model.add(Activation(tf.nn.softmax))"
   ]
  },
  {
   "cell_type": "markdown",
   "metadata": {},
   "source": [
    "### 3. 모델 컴파일 (compile)"
   ]
  },
  {
   "cell_type": "code",
   "execution_count": 7,
   "metadata": {},
   "outputs": [
    {
     "name": "stdout",
     "output_type": "stream",
     "text": [
      "WARNING:tensorflow:From /home/whlee/miniconda3/envs/tf1/lib/python3.7/site-packages/tensorflow_core/python/ops/resource_variable_ops.py:1630: calling BaseResourceVariable.__init__ (from tensorflow.python.ops.resource_variable_ops) with constraint is deprecated and will be removed in a future version.\n",
      "Instructions for updating:\n",
      "If using Keras pass *_constraint arguments to layers.\n"
     ]
    }
   ],
   "source": [
    "model.compile(\n",
    "    loss=losses.SparseCategoricalCrossentropy(),\n",
    "    optimizer=optimizers.Adam(learning_rate=1e-4),\n",
    "    metrics=['acc']\n",
    ")"
   ]
  },
  {
   "cell_type": "markdown",
   "metadata": {},
   "source": [
    "### 4. 모델 학습 (fit)\n",
    "* 학습에 시간이 매우 오래 걸릴 수 있습니다.\n",
    "* 코랩 사용을 권장합니다."
   ]
  },
  {
   "cell_type": "code",
   "execution_count": 8,
   "metadata": {},
   "outputs": [
    {
     "name": "stdout",
     "output_type": "stream",
     "text": [
      "WARNING:tensorflow:From /home/whlee/miniconda3/envs/tf1/lib/python3.7/site-packages/keras/backend/tensorflow_backend.py:422: The name tf.global_variables is deprecated. Please use tf.compat.v1.global_variables instead.\n",
      "\n",
      "Train on 45000 samples, validate on 15000 samples\n",
      "Epoch 1/50\n",
      "45000/45000 [==============================] - 8s 187us/step - loss: 1.0393 - acc: 0.7705 - val_loss: 0.3656 - val_acc: 0.8925\n",
      "Epoch 2/50\n",
      "45000/45000 [==============================] - 6s 124us/step - loss: 0.3343 - acc: 0.9031 - val_loss: 0.2857 - val_acc: 0.9186\n",
      "Epoch 3/50\n",
      "45000/45000 [==============================] - 6s 124us/step - loss: 0.2642 - acc: 0.9240 - val_loss: 0.2337 - val_acc: 0.9344\n",
      "Epoch 4/50\n",
      "45000/45000 [==============================] - 6s 126us/step - loss: 0.2111 - acc: 0.9390 - val_loss: 0.1912 - val_acc: 0.9463\n",
      "Epoch 5/50\n",
      "45000/45000 [==============================] - 6s 125us/step - loss: 0.1641 - acc: 0.9528 - val_loss: 0.1504 - val_acc: 0.9590\n",
      "Epoch 6/50\n",
      "45000/45000 [==============================] - 6s 126us/step - loss: 0.1280 - acc: 0.9638 - val_loss: 0.1233 - val_acc: 0.9653\n",
      "Epoch 7/50\n",
      "45000/45000 [==============================] - 6s 126us/step - loss: 0.1049 - acc: 0.9704 - val_loss: 0.1088 - val_acc: 0.9696\n",
      "Epoch 8/50\n",
      "45000/45000 [==============================] - 6s 125us/step - loss: 0.0895 - acc: 0.9751 - val_loss: 0.0982 - val_acc: 0.9717\n",
      "Epoch 9/50\n",
      "45000/45000 [==============================] - 6s 125us/step - loss: 0.0772 - acc: 0.9785 - val_loss: 0.0895 - val_acc: 0.9741\n",
      "Epoch 10/50\n",
      "45000/45000 [==============================] - 6s 125us/step - loss: 0.0696 - acc: 0.9806 - val_loss: 0.0850 - val_acc: 0.9751\n",
      "Epoch 11/50\n",
      "45000/45000 [==============================] - 6s 125us/step - loss: 0.0633 - acc: 0.9825 - val_loss: 0.0788 - val_acc: 0.9780\n",
      "Epoch 12/50\n",
      "45000/45000 [==============================] - 6s 125us/step - loss: 0.0574 - acc: 0.9842 - val_loss: 0.0761 - val_acc: 0.9780\n",
      "Epoch 13/50\n",
      "45000/45000 [==============================] - 6s 125us/step - loss: 0.0530 - acc: 0.9856 - val_loss: 0.0741 - val_acc: 0.9785\n",
      "Epoch 14/50\n",
      "45000/45000 [==============================] - 6s 125us/step - loss: 0.0502 - acc: 0.9862 - val_loss: 0.0724 - val_acc: 0.9787\n",
      "Epoch 15/50\n",
      "45000/45000 [==============================] - 6s 126us/step - loss: 0.0467 - acc: 0.9866 - val_loss: 0.0710 - val_acc: 0.9783\n",
      "Epoch 16/50\n",
      "45000/45000 [==============================] - 6s 125us/step - loss: 0.0433 - acc: 0.9879 - val_loss: 0.0681 - val_acc: 0.9802\n",
      "Epoch 17/50\n",
      "45000/45000 [==============================] - 6s 127us/step - loss: 0.0408 - acc: 0.9886 - val_loss: 0.0684 - val_acc: 0.9808\n",
      "Epoch 18/50\n",
      "45000/45000 [==============================] - 6s 125us/step - loss: 0.0386 - acc: 0.9893 - val_loss: 0.0660 - val_acc: 0.9810\n",
      "Epoch 19/50\n",
      "45000/45000 [==============================] - 6s 126us/step - loss: 0.0358 - acc: 0.9901 - val_loss: 0.0656 - val_acc: 0.9815\n",
      "Epoch 20/50\n",
      "45000/45000 [==============================] - 6s 125us/step - loss: 0.0347 - acc: 0.9897 - val_loss: 0.0657 - val_acc: 0.9808\n",
      "Epoch 21/50\n",
      "45000/45000 [==============================] - 6s 125us/step - loss: 0.0327 - acc: 0.9910 - val_loss: 0.0635 - val_acc: 0.9821\n",
      "Epoch 22/50\n",
      "45000/45000 [==============================] - 6s 125us/step - loss: 0.0304 - acc: 0.9916 - val_loss: 0.0651 - val_acc: 0.9817\n",
      "Epoch 23/50\n",
      "45000/45000 [==============================] - 6s 125us/step - loss: 0.0294 - acc: 0.9918 - val_loss: 0.0663 - val_acc: 0.9819\n",
      "Epoch 24/50\n",
      "45000/45000 [==============================] - 6s 125us/step - loss: 0.0283 - acc: 0.9920 - val_loss: 0.0671 - val_acc: 0.9811\n",
      "Epoch 25/50\n",
      "45000/45000 [==============================] - 6s 125us/step - loss: 0.0270 - acc: 0.9922 - val_loss: 0.0648 - val_acc: 0.9817\n",
      "Epoch 26/50\n",
      "45000/45000 [==============================] - 6s 125us/step - loss: 0.0256 - acc: 0.9931 - val_loss: 0.0670 - val_acc: 0.9806\n",
      "Epoch 27/50\n",
      "45000/45000 [==============================] - 6s 125us/step - loss: 0.0243 - acc: 0.9935 - val_loss: 0.0654 - val_acc: 0.9823\n",
      "Epoch 28/50\n",
      "45000/45000 [==============================] - 6s 125us/step - loss: 0.0226 - acc: 0.9941 - val_loss: 0.0649 - val_acc: 0.9821\n",
      "Epoch 29/50\n",
      "45000/45000 [==============================] - 6s 126us/step - loss: 0.0213 - acc: 0.9946 - val_loss: 0.0647 - val_acc: 0.9818\n",
      "Epoch 30/50\n",
      "45000/45000 [==============================] - 6s 125us/step - loss: 0.0204 - acc: 0.9949 - val_loss: 0.0671 - val_acc: 0.9814\n",
      "Epoch 31/50\n",
      "45000/45000 [==============================] - 6s 125us/step - loss: 0.0200 - acc: 0.9948 - val_loss: 0.0655 - val_acc: 0.9813\n",
      "Epoch 32/50\n",
      "45000/45000 [==============================] - 6s 125us/step - loss: 0.0188 - acc: 0.9953 - val_loss: 0.0684 - val_acc: 0.9816\n",
      "Epoch 33/50\n",
      "45000/45000 [==============================] - 6s 125us/step - loss: 0.0182 - acc: 0.9954 - val_loss: 0.0674 - val_acc: 0.9818\n",
      "Epoch 34/50\n",
      "45000/45000 [==============================] - 6s 125us/step - loss: 0.0175 - acc: 0.9958 - val_loss: 0.0680 - val_acc: 0.9814\n",
      "Epoch 35/50\n",
      "45000/45000 [==============================] - 6s 125us/step - loss: 0.0165 - acc: 0.9961 - val_loss: 0.0667 - val_acc: 0.9819\n",
      "Epoch 36/50\n",
      "45000/45000 [==============================] - 6s 125us/step - loss: 0.0156 - acc: 0.9964 - val_loss: 0.0698 - val_acc: 0.9813\n",
      "Epoch 37/50\n",
      "45000/45000 [==============================] - 6s 126us/step - loss: 0.0154 - acc: 0.9962 - val_loss: 0.0674 - val_acc: 0.9816\n",
      "Epoch 38/50\n",
      "45000/45000 [==============================] - 6s 125us/step - loss: 0.0146 - acc: 0.9968 - val_loss: 0.0705 - val_acc: 0.9809\n",
      "Epoch 39/50\n",
      "45000/45000 [==============================] - 6s 126us/step - loss: 0.0130 - acc: 0.9974 - val_loss: 0.0691 - val_acc: 0.9821\n",
      "Epoch 40/50\n",
      "45000/45000 [==============================] - 6s 126us/step - loss: 0.0128 - acc: 0.9973 - val_loss: 0.0693 - val_acc: 0.9816\n",
      "Epoch 41/50\n",
      "45000/45000 [==============================] - 6s 125us/step - loss: 0.0121 - acc: 0.9976 - val_loss: 0.0689 - val_acc: 0.9823\n",
      "Epoch 42/50\n",
      "45000/45000 [==============================] - 6s 126us/step - loss: 0.0117 - acc: 0.9977 - val_loss: 0.0741 - val_acc: 0.9814\n",
      "Epoch 43/50\n",
      "45000/45000 [==============================] - 6s 126us/step - loss: 0.0126 - acc: 0.9972 - val_loss: 0.0719 - val_acc: 0.9808\n",
      "Epoch 44/50\n",
      "45000/45000 [==============================] - 6s 125us/step - loss: 0.0103 - acc: 0.9980 - val_loss: 0.0730 - val_acc: 0.9819\n",
      "Epoch 45/50\n",
      "45000/45000 [==============================] - 6s 126us/step - loss: 0.0099 - acc: 0.9983 - val_loss: 0.0718 - val_acc: 0.9820\n",
      "Epoch 46/50\n",
      "45000/45000 [==============================] - 6s 125us/step - loss: 0.0095 - acc: 0.9985 - val_loss: 0.0742 - val_acc: 0.9813\n",
      "Epoch 47/50\n",
      "45000/45000 [==============================] - 6s 125us/step - loss: 0.0095 - acc: 0.9981 - val_loss: 0.0742 - val_acc: 0.9813\n",
      "Epoch 48/50\n",
      "45000/45000 [==============================] - 6s 125us/step - loss: 0.0087 - acc: 0.9984 - val_loss: 0.0750 - val_acc: 0.9817\n",
      "Epoch 49/50\n",
      "45000/45000 [==============================] - 6s 126us/step - loss: 0.0081 - acc: 0.9988 - val_loss: 0.0764 - val_acc: 0.9809\n",
      "Epoch 50/50\n",
      "45000/45000 [==============================] - 6s 126us/step - loss: 0.0079 - acc: 0.9987 - val_loss: 0.0769 - val_acc: 0.9806\n"
     ]
    }
   ],
   "source": [
    "history = model.fit(\n",
    "    x=X_train, y=y_train,\n",
    "    batch_size=1024,\n",
    "    epochs=50,\n",
    "    verbose=1,\n",
    "    validation_split=.25\n",
    ")"
   ]
  },
  {
   "cell_type": "markdown",
   "metadata": {},
   "source": [
    "### 5. 모델 평가 (evaluate)"
   ]
  },
  {
   "cell_type": "code",
   "execution_count": 10,
   "metadata": {},
   "outputs": [
    {
     "data": {
      "text/plain": [
       "{'val_loss': [0.3656400856335958,\n",
       "  0.2857322844028473,\n",
       "  0.2337315878868103,\n",
       "  0.1912376802523931,\n",
       "  0.1503799854516983,\n",
       "  0.12328619958559672,\n",
       "  0.10877609280745189,\n",
       "  0.09821975373427073,\n",
       "  0.08946036616961162,\n",
       "  0.084999151968956,\n",
       "  0.07877575362523397,\n",
       "  0.07611144251823425,\n",
       "  0.07411705904006959,\n",
       "  0.0723633190870285,\n",
       "  0.07104093851248423,\n",
       "  0.06814921126365661,\n",
       "  0.06840078803698221,\n",
       "  0.06599012173016866,\n",
       "  0.0656093446969986,\n",
       "  0.06567487705548604,\n",
       "  0.0634823740084966,\n",
       "  0.06506219912370045,\n",
       "  0.06629279727141063,\n",
       "  0.06709061388969421,\n",
       "  0.06479645770390828,\n",
       "  0.06702927743593852,\n",
       "  0.06541068190733591,\n",
       "  0.06494207461675008,\n",
       "  0.06466402096748353,\n",
       "  0.0670593897819519,\n",
       "  0.06554012183348337,\n",
       "  0.06843828015327454,\n",
       "  0.06744781370162964,\n",
       "  0.06796504689852396,\n",
       "  0.06667758366266886,\n",
       "  0.06980293939908346,\n",
       "  0.0674386236667633,\n",
       "  0.07050217952728272,\n",
       "  0.0691032179514567,\n",
       "  0.06933801489671071,\n",
       "  0.06893303455511729,\n",
       "  0.07409332264264425,\n",
       "  0.07194749251206715,\n",
       "  0.07300319706598918,\n",
       "  0.07175350558757781,\n",
       "  0.07417246492703755,\n",
       "  0.0742498058716456,\n",
       "  0.07503737506071727,\n",
       "  0.07636806761423746,\n",
       "  0.07693264791170756],\n",
       " 'val_acc': [0.8925333619117737,\n",
       "  0.9186000227928162,\n",
       "  0.9344000220298767,\n",
       "  0.9462666511535645,\n",
       "  0.9589999914169312,\n",
       "  0.9653333425521851,\n",
       "  0.9696000218391418,\n",
       "  0.9717333316802979,\n",
       "  0.9740666747093201,\n",
       "  0.9751333594322205,\n",
       "  0.9779999852180481,\n",
       "  0.9779999852180481,\n",
       "  0.9785333275794983,\n",
       "  0.9787333607673645,\n",
       "  0.9783333539962769,\n",
       "  0.9801999926567078,\n",
       "  0.9807999730110168,\n",
       "  0.9810000061988831,\n",
       "  0.9815333485603333,\n",
       "  0.9807999730110168,\n",
       "  0.9820666909217834,\n",
       "  0.9816666841506958,\n",
       "  0.9818666577339172,\n",
       "  0.9811333417892456,\n",
       "  0.9816666841506958,\n",
       "  0.9805999994277954,\n",
       "  0.9823333621025085,\n",
       "  0.9820666909217834,\n",
       "  0.9818000197410583,\n",
       "  0.9814000129699707,\n",
       "  0.9812666773796082,\n",
       "  0.9815999865531921,\n",
       "  0.9818000197410583,\n",
       "  0.9814000129699707,\n",
       "  0.9818666577339172,\n",
       "  0.9812666773796082,\n",
       "  0.9815999865531921,\n",
       "  0.9809333086013794,\n",
       "  0.9820666909217834,\n",
       "  0.9815999865531921,\n",
       "  0.9823333621025085,\n",
       "  0.9814000129699707,\n",
       "  0.9807999730110168,\n",
       "  0.9819333553314209,\n",
       "  0.9819999933242798,\n",
       "  0.9812666773796082,\n",
       "  0.981333315372467,\n",
       "  0.9817333221435547,\n",
       "  0.9808666706085205,\n",
       "  0.9805999994277954],\n",
       " 'loss': [1.0393086302757264,\n",
       "  0.33428386877907645,\n",
       "  0.2642136220614115,\n",
       "  0.21110386198626624,\n",
       "  0.16409673659536575,\n",
       "  0.12797363376749887,\n",
       "  0.10492107701566485,\n",
       "  0.0895460592534807,\n",
       "  0.07719882900847329,\n",
       "  0.06957601293921471,\n",
       "  0.063296632054117,\n",
       "  0.057419178036848706,\n",
       "  0.05304708277980487,\n",
       "  0.05016666459374958,\n",
       "  0.046688635674450134,\n",
       "  0.04334120998978615,\n",
       "  0.040790356664525136,\n",
       "  0.038640215281645456,\n",
       "  0.035845957549744185,\n",
       "  0.034667850230137506,\n",
       "  0.032704701117012236,\n",
       "  0.030403692073954477,\n",
       "  0.029397316067417464,\n",
       "  0.028330756232473584,\n",
       "  0.026999223044514655,\n",
       "  0.025562619090742537,\n",
       "  0.024263791563775804,\n",
       "  0.022608540438281165,\n",
       "  0.021278042529357805,\n",
       "  0.02044053586771091,\n",
       "  0.020035679156250423,\n",
       "  0.018813119538293944,\n",
       "  0.018207720361153285,\n",
       "  0.017481444569428763,\n",
       "  0.01650542457103729,\n",
       "  0.015587888661192524,\n",
       "  0.0153585679769516,\n",
       "  0.01464279668132464,\n",
       "  0.013032840692334706,\n",
       "  0.012833611140482955,\n",
       "  0.012081776520609856,\n",
       "  0.011742988399333423,\n",
       "  0.012605065480205747,\n",
       "  0.010340261615481641,\n",
       "  0.009871998073657354,\n",
       "  0.009466309224565823,\n",
       "  0.009541671334207058,\n",
       "  0.008705211577812831,\n",
       "  0.008111307868858178,\n",
       "  0.007915083459681935],\n",
       " 'acc': [0.7705111,\n",
       "  0.90308887,\n",
       "  0.9239778,\n",
       "  0.9389778,\n",
       "  0.95284444,\n",
       "  0.9638444,\n",
       "  0.9704222,\n",
       "  0.97506666,\n",
       "  0.9785111,\n",
       "  0.98064446,\n",
       "  0.9824889,\n",
       "  0.9842,\n",
       "  0.9855555,\n",
       "  0.98624444,\n",
       "  0.9866,\n",
       "  0.9879111,\n",
       "  0.9886444,\n",
       "  0.9893111,\n",
       "  0.99013335,\n",
       "  0.98966664,\n",
       "  0.99104446,\n",
       "  0.9915778,\n",
       "  0.9918444,\n",
       "  0.99197775,\n",
       "  0.9922,\n",
       "  0.99311113,\n",
       "  0.99351114,\n",
       "  0.9941111,\n",
       "  0.99462223,\n",
       "  0.9948889,\n",
       "  0.9948222,\n",
       "  0.9953111,\n",
       "  0.99542224,\n",
       "  0.99575555,\n",
       "  0.9961111,\n",
       "  0.9964,\n",
       "  0.99615556,\n",
       "  0.9967778,\n",
       "  0.99737775,\n",
       "  0.99733335,\n",
       "  0.9976444,\n",
       "  0.99773335,\n",
       "  0.99722224,\n",
       "  0.99804443,\n",
       "  0.9983111,\n",
       "  0.9984667,\n",
       "  0.99813336,\n",
       "  0.9984222,\n",
       "  0.9987778,\n",
       "  0.9986889]}"
      ]
     },
     "execution_count": 10,
     "metadata": {},
     "output_type": "execute_result"
    }
   ],
   "source": [
    "history.history"
   ]
  },
  {
   "cell_type": "code",
   "execution_count": 11,
   "metadata": {},
   "outputs": [
    {
     "data": {
      "image/png": "[encoded data removed]",
      "text/plain": [
       "<matplotlib.figure.Figure at 0x7f8fdc3e1810>"
      ]
     },
     "metadata": {
      "needs_background": "light"
     },
     "output_type": "display_data"
    },
    {
     "data": {
      "image/png": "[encoded data removed]",
      "text/plain": [
       "<matplotlib.figure.Figure at 0x7f8fd03a1a50>"
      ]
     },
     "metadata": {
      "needs_background": "light"
     },
     "output_type": "display_data"
    }
   ],
   "source": [
    "plt.figure(figsize=(10, 1))\n",
    "plt.plot(history.history['loss'], label='train')\n",
    "plt.plot(history.history['val_loss'], label='validation')\n",
    "plt.title('loss')\n",
    "plt.show()\n",
    "\n",
    "plt.figure(figsize=(10, 1))\n",
    "plt.plot(history.history['acc'], label='train')\n",
    "plt.plot(history.history['val_acc'], label='validation')\n",
    "plt.title('accuracy')\n",
    "plt.show()"
   ]
  },
  {
   "cell_type": "markdown",
   "metadata": {},
   "source": [
    "### 6. 예측 (predict)"
   ]
  },
  {
   "cell_type": "code",
   "execution_count": 12,
   "metadata": {},
   "outputs": [
    {
     "data": {
      "text/plain": [
       "(10000, 10)"
      ]
     },
     "execution_count": 12,
     "metadata": {},
     "output_type": "execute_result"
    }
   ],
   "source": [
    "y_pred = model.predict(X_test)\n",
    "y_pred.shape"
   ]
  },
  {
   "cell_type": "code",
   "execution_count": 13,
   "metadata": {},
   "outputs": [
    {
     "name": "stdout",
     "output_type": "stream",
     "text": [
      "98.47 %\n"
     ]
    }
   ],
   "source": [
    "assert y_test.shape[0] == y_pred.shape[0]\n",
    "\n",
    "acc = 0\n",
    "\n",
    "for i in range(y_test.shape[0]):\n",
    "    if y_test[i] == np.argmax(y_pred[i]):\n",
    "        acc += 1\n",
    "\n",
    "print(acc * 100 / y_test.shape[0], '%')"
   ]
  }
 ],
 "metadata": {
  "kernelspec": {
   "display_name": "Python 3",
   "language": "python",
   "name": "python3"
  },
  "language_info": {
   "codemirror_mode": {
    "name": "ipython",
    "version": 3
   },
   "file_extension": ".py",
   "mimetype": "text/x-python",
   "name": "python",
   "nbconvert_exporter": "python",
   "pygments_lexer": "ipython3",
   "version": "3.7.7"
  }
 },
 "nbformat": 4,
 "nbformat_minor": 4
}
