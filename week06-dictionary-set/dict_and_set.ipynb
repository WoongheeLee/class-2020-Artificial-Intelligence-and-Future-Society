{
 "cells": [
  {
   "cell_type": "markdown",
   "metadata": {},
   "source": [
    "# 6주차 실습 노트북"
   ]
  },
  {
   "cell_type": "markdown",
   "metadata": {},
   "source": [
    "## 딕셔너리 - 선언 방법"
   ]
  },
  {
   "cell_type": "code",
   "execution_count": null,
   "metadata": {},
   "outputs": [],
   "source": [
    "# 비어있는 딕셔너리 선언\n",
    "a = dict()\n",
    "print(a)\n",
    "print(type(a))"
   ]
  },
  {
   "cell_type": "code",
   "execution_count": null,
   "metadata": {},
   "outputs": [],
   "source": [
    "# 비어있는 딕셔너리 선언\n",
    "a = {}\n",
    "print(a)\n",
    "print(type(a))"
   ]
  },
  {
   "cell_type": "code",
   "execution_count": null,
   "metadata": {},
   "outputs": [],
   "source": [
    "# 값을 넣어서 선언\n",
    "mycats1 = {'Olaf':'Siamese','Cheetos':'Orange tabby'}\n",
    "mycats2 = dict({'Cheetos':'Orange tabby','Olaf':'Siamese'})\n",
    "\n",
    "mycats1 == mycats2"
   ]
  },
  {
   "cell_type": "code",
   "execution_count": null,
   "metadata": {},
   "outputs": [],
   "source": [
    "a = dict(one=1, two=2, three=3)\n",
    "b = {'one': 1, 'two': 2, 'three': 3}\n",
    "c = dict(zip(['one', 'two', 'three'], [1, 2, 3]))\n",
    "d = dict([('two', 2), ('one', 1), ('three', 3)])\n",
    "e = dict({'three': 3, 'one': 1, 'two': 2})\n",
    "a == b == c == d == e"
   ]
  },
  {
   "cell_type": "markdown",
   "metadata": {},
   "source": [
    "## 딕셔너리 - 키"
   ]
  },
  {
   "cell_type": "code",
   "execution_count": null,
   "metadata": {},
   "outputs": [],
   "source": [
    "# 숫자 키\n",
    "a = {1:'a',2:'b',3:'c'}\n",
    "print(a)\n",
    "print(type(a))"
   ]
  },
  {
   "cell_type": "code",
   "execution_count": null,
   "metadata": {},
   "outputs": [],
   "source": [
    "a = {1.2:'a', 3.4:'b'}\n",
    "print(a)"
   ]
  },
  {
   "cell_type": "code",
   "execution_count": null,
   "metadata": {},
   "outputs": [],
   "source": [
    "# 문자열 키\n",
    "a = {'python':'3.7','numpy':'1.18.1','scipy':'1.4.1','tensorflow':'2.1.0'}\n",
    "print(a)"
   ]
  },
  {
   "cell_type": "code",
   "execution_count": null,
   "metadata": {},
   "outputs": [],
   "source": [
    "# 튜플 키\n",
    "a = {(1,2,3):'one two three', (1,):'one'}\n",
    "print(a)"
   ]
  },
  {
   "cell_type": "code",
   "execution_count": null,
   "metadata": {},
   "outputs": [],
   "source": [
    "# 튜플에 가변형 객체가 포함되면 안됨\n",
    "a = {(1,2,['abc']) : 'value'}\n",
    "print(a)"
   ]
  },
  {
   "cell_type": "code",
   "execution_count": null,
   "metadata": {},
   "outputs": [],
   "source": [
    "# 키 중복 사용\n",
    "a = {1:'a',1:'b',1:'c'}\n",
    "print(a)"
   ]
  },
  {
   "cell_type": "markdown",
   "metadata": {},
   "source": [
    "## 딕셔너리 - 원소 반환"
   ]
  },
  {
   "cell_type": "code",
   "execution_count": null,
   "metadata": {},
   "outputs": [],
   "source": [
    "a = {'python':'3.7','numpy':'1.18.1',\n",
    "     'scipy':'1.4.1','tensorflow':'2.1.0'}"
   ]
  },
  {
   "cell_type": "code",
   "execution_count": null,
   "metadata": {},
   "outputs": [],
   "source": [
    "print(a[0])"
   ]
  },
  {
   "cell_type": "code",
   "execution_count": null,
   "metadata": {},
   "outputs": [],
   "source": [
    "print(a['python'])"
   ]
  },
  {
   "cell_type": "code",
   "execution_count": null,
   "metadata": {},
   "outputs": [],
   "source": [
    "print(a['abc'])"
   ]
  },
  {
   "cell_type": "code",
   "execution_count": null,
   "metadata": {},
   "outputs": [],
   "source": [
    "print(a.get('numpy'))"
   ]
  },
  {
   "cell_type": "code",
   "execution_count": null,
   "metadata": {},
   "outputs": [],
   "source": [
    "print(a.get('abc'))"
   ]
  },
  {
   "cell_type": "code",
   "execution_count": null,
   "metadata": {},
   "outputs": [],
   "source": [
    "print(a.get('abc','no package'))"
   ]
  },
  {
   "cell_type": "markdown",
   "metadata": {},
   "source": [
    "## 딕셔너리 - 추가"
   ]
  },
  {
   "cell_type": "code",
   "execution_count": null,
   "metadata": {},
   "outputs": [],
   "source": [
    "a = dict()\n",
    "print(a)\n",
    "a['surfing'] = 'summer'\n",
    "a['snowboarding'] = 'winter'\n",
    "print(a)"
   ]
  },
  {
   "cell_type": "code",
   "execution_count": null,
   "metadata": {},
   "outputs": [],
   "source": [
    "a = {'surfing': 'summer', 'snowboarding': 'winter'}\n",
    "print(a)\n",
    "a['cycling'] = 'spring, fall'\n",
    "print(a)"
   ]
  },
  {
   "cell_type": "markdown",
   "metadata": {},
   "source": [
    "## 딕셔너리 - 값 변경"
   ]
  },
  {
   "cell_type": "code",
   "execution_count": null,
   "metadata": {},
   "outputs": [],
   "source": [
    "mycats = {'Olaf':'Siamese','Cheetos':'Orange tabby'}\n",
    "print(mycats)\n",
    "mycats['Olaf'] = 'friendly'\n",
    "mycats['Cheetos'] = 'introverted'\n",
    "print(mycats)"
   ]
  },
  {
   "cell_type": "markdown",
   "metadata": {},
   "source": [
    "## 딕셔너리 - 삭제"
   ]
  },
  {
   "cell_type": "code",
   "execution_count": null,
   "metadata": {},
   "outputs": [],
   "source": [
    "stock = {'Microsoft':176.62,'Apple':278.03,'Amazon':2346.71,'Facebook':177.91,'Google':1277.89}\n",
    "print(stock)\n",
    "del stock['Google']\n",
    "print(stock)\n",
    "del stock['Facebook']\n",
    "print(stock)"
   ]
  },
  {
   "cell_type": "markdown",
   "metadata": {},
   "source": [
    "## 딕셔너리 - 키 확인"
   ]
  },
  {
   "cell_type": "code",
   "execution_count": null,
   "metadata": {},
   "outputs": [],
   "source": [
    "a = {'python':'3.7','numpy':'1.18.1','scipy':'1.4.1','tensorflow':'2.1.0'}\n",
    "print(a.keys())\n",
    "print(list(a))\n",
    "print(tuple(a))\n",
    "print(set(a))"
   ]
  },
  {
   "cell_type": "markdown",
   "metadata": {},
   "source": [
    "## 딕셔너리 - 모든 항목 제거"
   ]
  },
  {
   "cell_type": "code",
   "execution_count": null,
   "metadata": {},
   "outputs": [],
   "source": [
    "a = {'python':'3.7','numpy':'1.18.1','scipy':'1.4.1','tensorflow':'2.1.0'}\n",
    "print(a)\n",
    "a.clear()\n",
    "print(a)"
   ]
  },
  {
   "cell_type": "markdown",
   "metadata": {},
   "source": [
    "## 딕셔너리 - 키:값 쌍 알아내기"
   ]
  },
  {
   "cell_type": "code",
   "execution_count": null,
   "metadata": {},
   "outputs": [],
   "source": [
    "a = {'python':'3.7','numpy':'1.18.1','scipy':'1.4.1','tensorflow':'2.1.0'}\n",
    "print(a.items())"
   ]
  },
  {
   "cell_type": "markdown",
   "metadata": {},
   "source": [
    "## 딕셔너리 - 값만 알아내기"
   ]
  },
  {
   "cell_type": "code",
   "execution_count": null,
   "metadata": {},
   "outputs": [],
   "source": [
    "a = {'python':'3.7','numpy':'1.18.1','scipy':'1.4.1','tensorflow':'2.1.0'}\n",
    "print(a.values())"
   ]
  },
  {
   "cell_type": "markdown",
   "metadata": {},
   "source": [
    "## 딕셔너리 - 뷰 객체"
   ]
  },
  {
   "cell_type": "code",
   "execution_count": null,
   "metadata": {},
   "outputs": [],
   "source": [
    "a = {'python':'3.7','numpy':'1.18.1','scipy':'1.4.1','tensorflow':'2.1.0'}"
   ]
  },
  {
   "cell_type": "code",
   "execution_count": null,
   "metadata": {},
   "outputs": [],
   "source": [
    "for k in a.keys():\n",
    "    print(k)"
   ]
  },
  {
   "cell_type": "code",
   "execution_count": null,
   "metadata": {},
   "outputs": [],
   "source": [
    "for v in a.values():\n",
    "    print(v)"
   ]
  },
  {
   "cell_type": "code",
   "execution_count": null,
   "metadata": {},
   "outputs": [],
   "source": [
    "for k, v in a.items():\n",
    "    print(k, v)"
   ]
  },
  {
   "cell_type": "markdown",
   "metadata": {},
   "source": [
    "## 딕셔너리 - 여러 값 갱신"
   ]
  },
  {
   "cell_type": "code",
   "execution_count": null,
   "metadata": {},
   "outputs": [],
   "source": [
    "a = {'a':1, 'b':2, 'c':3}\n",
    "print(a)\n",
    "a.update({'a':4,'d':4,'e':5})\n",
    "print(a)"
   ]
  },
  {
   "cell_type": "code",
   "execution_count": null,
   "metadata": {},
   "outputs": [],
   "source": [
    "a = {'a':1, 'b':2, 'c':3}\n",
    "# a['a'] = 4\n",
    "a.update({'a':4})\n",
    "print(a)"
   ]
  },
  {
   "cell_type": "markdown",
   "metadata": {},
   "source": [
    "## 딕셔너리 - 길이 확인"
   ]
  },
  {
   "cell_type": "code",
   "execution_count": null,
   "metadata": {},
   "outputs": [],
   "source": [
    "a = {'python':'3.7','numpy':'1.18.1','scipy':'1.4.1','tensorflow':('1.15.0','2.1.0')}\n",
    "len(a)"
   ]
  },
  {
   "cell_type": "markdown",
   "metadata": {},
   "source": [
    "## 집합 - 선언 방법"
   ]
  },
  {
   "cell_type": "code",
   "execution_count": null,
   "metadata": {},
   "outputs": [],
   "source": [
    "# 비어있는 집합 선언\n",
    "a = set()\n",
    "print(a)\n",
    "print(type(a))"
   ]
  },
  {
   "cell_type": "code",
   "execution_count": null,
   "metadata": {},
   "outputs": [],
   "source": [
    "# 비어있는 중괄호는 딕셔너리\n",
    "a = {}\n",
    "print(a)\n",
    "print(type(a))"
   ]
  },
  {
   "cell_type": "code",
   "execution_count": null,
   "metadata": {},
   "outputs": [],
   "source": [
    "# 값을 넣어서 선언\n",
    "a = set((1,2,3))\n",
    "print(a)\n",
    "print(type(a))\n",
    "\n",
    "b = {1,2,3}\n",
    "print(b)\n",
    "print(type(b))\n",
    "\n",
    "print(a == b)"
   ]
  },
  {
   "cell_type": "code",
   "execution_count": null,
   "metadata": {},
   "outputs": [],
   "source": [
    "# 중복된 값은 하나만 남김\n",
    "a = {1,2,2,3,3,3,4,4,4,4,5,5,5,5,5}\n",
    "print(a)"
   ]
  },
  {
   "cell_type": "markdown",
   "metadata": {},
   "source": [
    "## 집합 - 원소 추가"
   ]
  },
  {
   "cell_type": "code",
   "execution_count": null,
   "metadata": {},
   "outputs": [],
   "source": [
    "a = {1,2,3}\n",
    "print(a) # {1,2,3}\n",
    "a.add(4)\n",
    "print(a) # {1,2,3,4}\n",
    "a.add(1)\n",
    "print(a) # {1,2,3,4}"
   ]
  },
  {
   "cell_type": "markdown",
   "metadata": {},
   "source": [
    "## 집합 - 여러 원소 추가"
   ]
  },
  {
   "cell_type": "code",
   "execution_count": null,
   "metadata": {},
   "outputs": [],
   "source": [
    "a = {1,2,3}\n",
    "print(a) # {1,2,3}\n",
    "a.update({4,5,6})\n",
    "print(a) # {1,2,3,4,5,6}"
   ]
  },
  {
   "cell_type": "code",
   "execution_count": null,
   "metadata": {},
   "outputs": [],
   "source": [
    "a = set()\n",
    "print(a)\n",
    "a.update({1,2,3})\n",
    "print(a)"
   ]
  },
  {
   "cell_type": "code",
   "execution_count": null,
   "metadata": {},
   "outputs": [],
   "source": [
    "a = {1,2,3}\n",
    "print(a)\n",
    "a.update({4}) # a.add(4)\n",
    "print(a)"
   ]
  },
  {
   "cell_type": "code",
   "execution_count": null,
   "metadata": {},
   "outputs": [],
   "source": [
    "# add는 원소 하나씩 추가\n",
    "a = {1,2,3}\n",
    "a.add(4,5,6)\n",
    "print(a)"
   ]
  },
  {
   "cell_type": "code",
   "execution_count": null,
   "metadata": {},
   "outputs": [],
   "source": [
    "# 집합은 값이 변할 수 있으므로 추가 안됨\n",
    "a = {1,2,3}\n",
    "a.add({4,5,6})\n",
    "print(a)"
   ]
  },
  {
   "cell_type": "markdown",
   "metadata": {},
   "source": [
    "## 집합 - 원소 제거"
   ]
  },
  {
   "cell_type": "code",
   "execution_count": null,
   "metadata": {},
   "outputs": [],
   "source": [
    "# 값이 있으면 삭제 없으면 에러\n",
    "a = {1,2,3}\n",
    "print(a) # {1,2,3}\n",
    "a.remove(1)\n",
    "print(a) # {2,3}\n",
    "a.remove(1)\n",
    "print(a)"
   ]
  },
  {
   "cell_type": "code",
   "execution_count": null,
   "metadata": {},
   "outputs": [],
   "source": [
    "# 값이 있으면 삭제\n",
    "a = {1,2,3}\n",
    "print(a) # {1,2,3}\n",
    "a.discard(1)\n",
    "print(a) # {2,3}\n",
    "a.discard(1)\n",
    "print(a) # {2,3}"
   ]
  },
  {
   "cell_type": "markdown",
   "metadata": {},
   "source": [
    "## 집합 - 모든 항목 제거"
   ]
  },
  {
   "cell_type": "code",
   "execution_count": null,
   "metadata": {},
   "outputs": [],
   "source": [
    "a = {1,2,3,4,5}\n",
    "print(a) # {1,2,3,4,5}\n",
    "a.clear()\n",
    "print(a) # {}"
   ]
  },
  {
   "cell_type": "markdown",
   "metadata": {},
   "source": [
    "## 집합 - 포함(부분집합)"
   ]
  },
  {
   "cell_type": "code",
   "execution_count": null,
   "metadata": {},
   "outputs": [],
   "source": [
    "# 집합 a가 b에 포함되는지 검사\n",
    "a = {1,2,3}\n",
    "b = {1,2,3,4,5}\n",
    "print(a <= b)\n",
    "print(a.issubset(b))"
   ]
  },
  {
   "cell_type": "code",
   "execution_count": null,
   "metadata": {},
   "outputs": [],
   "source": [
    "a = {1,2,3}\n",
    "b = {1,2,3}\n",
    "print(a <= b)\n",
    "print(a.issubset(b))"
   ]
  },
  {
   "cell_type": "code",
   "execution_count": null,
   "metadata": {},
   "outputs": [],
   "source": [
    "# 집합 a가 b를 포함하는지 검사\n",
    "a = {1,2,3}\n",
    "b = {1,2,3,4,5}\n",
    "\n",
    "print(a >= b)\n",
    "print(a.issuperset(b))"
   ]
  },
  {
   "cell_type": "code",
   "execution_count": null,
   "metadata": {},
   "outputs": [],
   "source": [
    "a = {1,2,3}\n",
    "b = {1,2,3}\n",
    "print(a >= b)\n",
    "print(a.issuperset(b))"
   ]
  },
  {
   "cell_type": "markdown",
   "metadata": {},
   "source": [
    "## 집합 - 포함(진부분집합)"
   ]
  },
  {
   "cell_type": "code",
   "execution_count": null,
   "metadata": {},
   "outputs": [],
   "source": [
    "# 집합 a가 b의 진부분집합인지 검사\n",
    "a = {1,2,3}\n",
    "b = {1,2,3,4,5}\n",
    "print(a < b)"
   ]
  },
  {
   "cell_type": "code",
   "execution_count": null,
   "metadata": {},
   "outputs": [],
   "source": [
    "a = {1,2,3}\n",
    "b = {1,2,3}\n",
    "print(a < b)"
   ]
  },
  {
   "cell_type": "code",
   "execution_count": null,
   "metadata": {},
   "outputs": [],
   "source": [
    "# 집합 a가 b를 포함하는지 검사\n",
    "a = {1,2,3}\n",
    "b = {1,2,3,4,5}\n",
    "print(a > b)"
   ]
  },
  {
   "cell_type": "code",
   "execution_count": null,
   "metadata": {},
   "outputs": [],
   "source": [
    "a = {1,2,3}\n",
    "b = {1,2,3}\n",
    "print(a > b)"
   ]
  },
  {
   "cell_type": "markdown",
   "metadata": {},
   "source": [
    "## 집합 - 합집합"
   ]
  },
  {
   "cell_type": "code",
   "execution_count": null,
   "metadata": {},
   "outputs": [],
   "source": [
    "a = {1,2,3,4,5}\n",
    "b = {3,4,5,6,7}\n",
    "\n",
    "print(a | b)\n",
    "print(a.union(b))\n",
    "print(b.union(a))"
   ]
  },
  {
   "cell_type": "markdown",
   "metadata": {},
   "source": [
    "## 집합 - 교집합"
   ]
  },
  {
   "cell_type": "code",
   "execution_count": null,
   "metadata": {},
   "outputs": [],
   "source": [
    "a = {1,2,3,4,5}\n",
    "b = {3,4,5,6,7}\n",
    "\n",
    "print(a & b)\n",
    "print(a.intersection(b))\n",
    "print(b.intersection(a))"
   ]
  },
  {
   "cell_type": "markdown",
   "metadata": {},
   "source": [
    "## 집합 - 차집합"
   ]
  },
  {
   "cell_type": "code",
   "execution_count": null,
   "metadata": {},
   "outputs": [],
   "source": [
    "a = {1,2,3}\n",
    "b = {1,2,3,4,5}\n",
    "\n",
    "print(a - b)\n",
    "print(a.difference(b))"
   ]
  },
  {
   "cell_type": "code",
   "execution_count": null,
   "metadata": {},
   "outputs": [],
   "source": [
    "a = {1,2,3,4,5}\n",
    "b = {1,2,3}\n",
    "\n",
    "print(a - b)\n",
    "print(a.difference(b))"
   ]
  },
  {
   "cell_type": "code",
   "execution_count": null,
   "metadata": {},
   "outputs": [],
   "source": [
    "# 원소 삭제 연산\n",
    "a = {1,2,3}\n",
    "a -= {3}\n",
    "print(a)"
   ]
  },
  {
   "cell_type": "code",
   "execution_count": null,
   "metadata": {},
   "outputs": [],
   "source": [
    "a = {1,2,3}\n",
    "a -= {5}\n",
    "print(a)"
   ]
  },
  {
   "cell_type": "markdown",
   "metadata": {},
   "source": [
    "## 집합 - for문 사용"
   ]
  },
  {
   "cell_type": "code",
   "execution_count": null,
   "metadata": {},
   "outputs": [],
   "source": [
    "a = {1,8,3,6,5,4,7,2,9}\n",
    "\n",
    "for e in a:\n",
    "    print(e)"
   ]
  },
  {
   "cell_type": "markdown",
   "metadata": {},
   "source": [
    "## 집합 - 길이"
   ]
  },
  {
   "cell_type": "code",
   "execution_count": null,
   "metadata": {},
   "outputs": [],
   "source": [
    "a = {1,2,3}\n",
    "print(len(a))"
   ]
  },
  {
   "cell_type": "code",
   "execution_count": null,
   "metadata": {},
   "outputs": [],
   "source": [
    "a = {1,2,3,4,5,(6,7,8,9,0)}\n",
    "print(len(a))"
   ]
  },
  {
   "cell_type": "markdown",
   "metadata": {},
   "source": [
    "## 연습문제\n",
    "\n",
    "모든 연습문제 풀이 코드는 완벽 솔루션이 아닙니다.\n",
    "\n",
    "여러분이 자신의 코드로 풀어보기 바랍니다."
   ]
  },
  {
   "cell_type": "markdown",
   "metadata": {},
   "source": [
    "1.\n",
    " * Given\n",
    "  * 리스트와 문자열이 주어짐\n",
    "\n",
    "a = [1,2,2,3,3,3,4,4,4,4,5,5,5,5,5]\n",
    "\n",
    "b = \"Python is a programming language that lets you work quickly and integrate systems more effectively.\"\n",
    "\n",
    " * Goal\n",
    "  * 리스트에서 원소를 키, 개수를 값으로 하는 딕셔너리 만들기\n",
    "  * 문자열에서 각각의 문자를 키, 개수를 값으로 하는 딕셔너리 만들기"
   ]
  },
  {
   "cell_type": "code",
   "execution_count": null,
   "metadata": {},
   "outputs": [],
   "source": [
    "a = [1,2,2,3,3,3,4,4,4,4,5,5,5,5,5]\n",
    "\n",
    "a_counter = dict()\n",
    "\n",
    "a_set = set(a)\n",
    "\n",
    "print(a_set)\n",
    "\n",
    "for e in a_set:\n",
    "    a_counter[e] = a.count(e)\n",
    "    \n",
    "print(a_counter)"
   ]
  },
  {
   "cell_type": "code",
   "execution_count": null,
   "metadata": {},
   "outputs": [],
   "source": [
    "# 이렇게 풀어도 됨\n",
    "a = [1,2,2,3,3,3,4,4,4,4,5,5,5,5,5]\n",
    "\n",
    "a_counter = dict()\n",
    "\n",
    "for i in range(len(a)):\n",
    "    key = a[i]\n",
    "    if key in a_counter:\n",
    "        count = a_counter.get(key) + 1\n",
    "    else:\n",
    "        count = 1\n",
    "    a_counter[key] = count\n",
    "    \n",
    "print(a_counter)"
   ]
  },
  {
   "cell_type": "code",
   "execution_count": null,
   "metadata": {},
   "outputs": [],
   "source": [
    "b = \"Python is a programming language that lets you work quickly and integrate systems more effectively.\"\n",
    "\n",
    "b_counter = dict()\n",
    "b_set = set(b)\n",
    "\n",
    "for e in b_set:\n",
    "    b_counter[e] = b.count(e)\n",
    "    \n",
    "print(b_counter)"
   ]
  },
  {
   "cell_type": "markdown",
   "metadata": {},
   "source": [
    "2.\n",
    " * 아래와 같은 딕셔너리가 주어졌을 때\n",
    " * \"Mike\"의 \"history\" 점수, \"Anne\"의 \"physics\" 점수, \"Sam\"의 모든 과목 점수를 출력\n",
    " * 즉, 80, 80, 75, 85"
   ]
  },
  {
   "cell_type": "code",
   "execution_count": null,
   "metadata": {},
   "outputs": [],
   "source": [
    "student = { \n",
    "    \"class\":{ \n",
    "        \"students\":{ \n",
    "            \"Mike\":{\n",
    "                \"physics\":70,\n",
    "                \"history\":80\n",
    "            },\n",
    "            \"Anne\":{\n",
    "                \"physics\":80,\n",
    "                \"history\":90\n",
    "            },\n",
    "            \"Sam\":{\n",
    "                \"physics\":75,\n",
    "                \"history\":85\n",
    "            }\n",
    "        }\n",
    "    }\n",
    "}\n",
    "\n",
    "print(student['class']['students']['Mike']['history'])\n",
    "print(student['class']['students']['Anne']['physics'])\n",
    "print(student['class']['students']['Sam'])"
   ]
  },
  {
   "cell_type": "markdown",
   "metadata": {},
   "source": [
    "3.\n",
    " * 주사위를 6000번 던져서\n",
    " * 각각의 눈이 몇 번 나왔는지 딕셔너리에 저장"
   ]
  },
  {
   "cell_type": "code",
   "execution_count": null,
   "metadata": {},
   "outputs": [],
   "source": [
    "import random\n",
    "\n",
    "dice_counter = dict()\n",
    "\n",
    "for _ in range(6000):\n",
    "    \n",
    "    d = random.randrange(1,7)\n",
    "    \n",
    "    if d in dice_counter:\n",
    "        count = dice_counter.get(d) + 1\n",
    "    else:\n",
    "        count = 1\n",
    "    \n",
    "    dice_counter[d] = count\n",
    "    \n",
    "print(dice_counter)"
   ]
  },
  {
   "cell_type": "markdown",
   "metadata": {},
   "source": [
    "4.\n",
    " * 2 이상 100 이하의 정수에서 소수 찾기"
   ]
  },
  {
   "cell_type": "code",
   "execution_count": null,
   "metadata": {},
   "outputs": [],
   "source": [
    "{2, 3, ...., 100}\n",
    "\n"
   ]
  },
  {
   "cell_type": "code",
   "execution_count": null,
   "metadata": {},
   "outputs": [],
   "source": [
    "prime = set()\n",
    "\n",
    "for i in range(2,100+1):\n",
    "    prime.add(i)\n",
    "    \n",
    "indexer = sorted(prime)\n",
    "\n",
    "for i in range(len(indexer)):\n",
    "    num = indexer[i]\n",
    "    no_prime = set()\n",
    "    for e in prime:\n",
    "        if e%num == 0"
   ]
  },
  {
   "cell_type": "code",
   "execution_count": null,
   "metadata": {},
   "outputs": [],
   "source": []
  }
 ],
 "metadata": {
  "kernelspec": {
   "display_name": "Python 3",
   "language": "python",
   "name": "python3"
  },
  "language_info": {
   "codemirror_mode": {
    "name": "ipython",
    "version": 3
   },
   "file_extension": ".py",
   "mimetype": "text/x-python",
   "name": "python",
   "nbconvert_exporter": "python",
   "pygments_lexer": "ipython3",
   "version": "3.7.6"
  }
 },
 "nbformat": 4,
 "nbformat_minor": 4
}
