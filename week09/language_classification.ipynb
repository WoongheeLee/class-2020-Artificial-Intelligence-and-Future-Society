{
 "cells": [
  {
   "cell_type": "markdown",
   "metadata": {},
   "source": [
    "# 언어판별"
   ]
  },
  {
   "cell_type": "code",
   "execution_count": 67,
   "metadata": {},
   "outputs": [],
   "source": [
    "# 모듈 불러오기\n",
    "import os"
   ]
  },
  {
   "cell_type": "markdown",
   "metadata": {},
   "source": [
    "## 데이터 명세\n",
    "* Given\n",
    "  * 영어, 프랑스어, 인도네시아어, 타갈로그어로 된 글이 주어짐\n",
    "  * 국가명을 알 수 있는 글로 된 학습 데이터 20개 / 테스트 데이터 8개\n",
    "  * 파일 이름은 \"국가명(두 단어)\"-\"데이터번호\".txt 형태\n",
    "* Goal\n",
    "  * 새로운 글이 주어지면 어느 국가의 언어로 쓰인 글인지 판별\n",
    "* 머신러닝 분류\n",
    "  * 관측한 데이터(글)가 어느 집합(영어, 프랑스어, 인도네시아어, 타갈로그어)에 속하는지 알고 있음 -> 지도학습\n",
    "  * 어느 범주에 속하는지 **분류**\n",
    "  * 즉, 지도학습 -> 분류 문제\n",
    "  * 풀이 방법: 의사결정 나무, 서포트벡터머신"
   ]
  },
  {
   "cell_type": "markdown",
   "metadata": {},
   "source": [
    "## 파일 리스트 만들기"
   ]
  },
  {
   "cell_type": "markdown",
   "metadata": {},
   "source": [
    "* 파일을 읽어올 경로를 정해줌\n",
    "* os.listdir(path)\n",
    "  * path 위치에 있는 디렉토리의 요소를 모두 반환\n",
    "  * 요소의 순서는 정해지지 않음\n",
    "  * 단, '.'과 '..'는 제외"
   ]
  },
  {
   "cell_type": "code",
   "execution_count": 2,
   "metadata": {},
   "outputs": [],
   "source": [
    "train_path = '../data/lang/train'\n",
    "test_path = '../data/lang/test'"
   ]
  },
  {
   "cell_type": "code",
   "execution_count": 3,
   "metadata": {},
   "outputs": [
    {
     "data": {
      "text/plain": [
       "['.DS_Store',\n",
       " 'en-1.txt',\n",
       " 'en-2.txt',\n",
       " 'en-3.txt',\n",
       " 'en-4.txt',\n",
       " 'en-5.txt',\n",
       " 'fr-10.txt',\n",
       " 'fr-6.txt',\n",
       " 'fr-7.txt',\n",
       " 'fr-8.txt',\n",
       " 'fr-9.txt',\n",
       " 'id-11.txt',\n",
       " 'id-12.txt',\n",
       " 'id-13.txt',\n",
       " 'id-14.txt',\n",
       " 'id-15.txt',\n",
       " 'tl-16.txt',\n",
       " 'tl-17.txt',\n",
       " 'tl-18.txt',\n",
       " 'tl-19.txt',\n",
       " 'tl-20.txt']"
      ]
     },
     "execution_count": 3,
     "metadata": {},
     "output_type": "execute_result"
    }
   ],
   "source": [
    "# 학습 데이터 위치의 파일 리스트\n",
    "os.listdir(train_path)"
   ]
  },
  {
   "cell_type": "markdown",
   "metadata": {},
   "source": [
    "* 우리 관심은 확장자가 txt로 된 파일"
   ]
  },
  {
   "cell_type": "code",
   "execution_count": 4,
   "metadata": {},
   "outputs": [
    {
     "name": "stdout",
     "output_type": "stream",
     "text": [
      "['en-1.txt', 'en-2.txt', 'en-3.txt', 'en-4.txt', 'en-5.txt', 'fr-10.txt', 'fr-6.txt', 'fr-7.txt', 'fr-8.txt', 'fr-9.txt', 'id-11.txt', 'id-12.txt', 'id-13.txt', 'id-14.txt', 'id-15.txt', 'tl-16.txt', 'tl-17.txt', 'tl-18.txt', 'tl-19.txt', 'tl-20.txt']\n"
     ]
    }
   ],
   "source": [
    "train_files = []\n",
    "\n",
    "# os.listdir 은 순서가 보장 안됨\n",
    "for e in sorted(os.listdir(train_path)):\n",
    "    if 'txt' in e:\n",
    "        train_files.append(e)\n",
    "\n",
    "print(train_files)"
   ]
  },
  {
   "cell_type": "markdown",
   "metadata": {},
   "source": [
    "* 테스트 데이터도 학습 데이터와 동일한 방법으로 파일 리스트를 만듦"
   ]
  },
  {
   "cell_type": "code",
   "execution_count": 5,
   "metadata": {},
   "outputs": [
    {
     "name": "stdout",
     "output_type": "stream",
     "text": [
      "['en-1.txt', 'en-2.txt', 'fr-3.txt', 'fr-4.txt', 'id-5.txt', 'id-6.txt', 'tl-7.txt', 'tl-8.txt']\n"
     ]
    }
   ],
   "source": [
    "test_files = []\n",
    "\n",
    "for e in os.listdir(test_path):\n",
    "    if 'txt' in e:\n",
    "        test_files.append(e)\n",
    "        \n",
    "print(test_files)"
   ]
  },
  {
   "cell_type": "markdown",
   "metadata": {},
   "source": [
    "## 파일 읽기\n",
    "* 앞서 만든 파일 리스트로부터 파일을 읽어옴"
   ]
  },
  {
   "cell_type": "code",
   "execution_count": 6,
   "metadata": {},
   "outputs": [
    {
     "name": "stdout",
     "output_type": "stream",
     "text": [
      "../data/lang/train en-1.txt\n"
     ]
    }
   ],
   "source": [
    "print(train_path, train_files[0])"
   ]
  },
  {
   "cell_type": "markdown",
   "metadata": {},
   "source": [
    "* 연습으로 하나만 읽어오기\n",
    "* os.path.join(path, \\*path)\n",
    "  * 인자로 넣은 문자들로 이루어진 디렉토리와 파일 경로를 만들어 줌\n",
    "  * OS에 따라서 경로에 슬래시가 쓰이거나 백슬래시를 사용\n",
    "  * 현재 프로그램이 돌아가는 OS에 맞추어 알맞은 경로를 만들어줌\n",
    "* open() 에서 옵션을 그냥 'r'로 주었을 때, 인코딩 에러 발생\n",
    "  * 해결법: open() 함수에서 encoding 인자에 utf8 줌 -> open(..., encoding='utf8')"
   ]
  },
  {
   "cell_type": "code",
   "execution_count": 7,
   "metadata": {},
   "outputs": [],
   "source": [
    "with open(os.path.join(train_path, train_files[0]),'r', encoding='utf8') as f:\n",
    "    lines = f.readlines()"
   ]
  },
  {
   "cell_type": "code",
   "execution_count": 8,
   "metadata": {},
   "outputs": [
    {
     "data": {
      "text/plain": [
       "['\\n',\n",
       " '\\n',\n",
       " '\\n',\n",
       " '\\n',\n",
       " 'The main Henry Ford Museum building houses some of the classrooms for the Henry Ford Academy\\n',\n",
       " '\\n',\n",
       " '\\n',\n",
       " 'Henry Ford Academy is the first charter school in the United States to be developed jointly by a global corporation, public education, and a major nonprofit cultural institution. The school is sponsored by the Ford Motor Company, Wayne County Regional Educational Service Agency and The Henry Ford Museum and admits high school students. It is located in Dearborn, Michigan on the campus of the Henry Ford museum. Enrollment is taken from a lottery in the area and totaled 467 in 2010.[1]\\n',\n",
       " 'Freshman meet inside the main museum building in glass walled classrooms, while older students use a converted carousel building and Pullman cars on a siding of the Greenfield Village railroad. Classes are expected to include use of the museum artifacts, a tradition of the original Village Schools. When the Museum was established in 1929, it included a school which served grades kindergarten to college/trade school ages. The last part of the original school closed in 1969.\\n',\n",
       " 'The Henry Ford Learning Institute is using the Henry Ford Academy model for further charter schools including the Power House High in Chicago and Alameda School for Art + Design in San Antonio.\\n']"
      ]
     },
     "execution_count": 8,
     "metadata": {},
     "output_type": "execute_result"
    }
   ],
   "source": [
    "# 읽어온 파일 10줄만 출력해보기\n",
    "lines[:10]"
   ]
  },
  {
   "cell_type": "markdown",
   "metadata": {},
   "source": [
    "## 오늘의 머신러닝 과정\n",
    "* 언어 판별에 앞서\n",
    "  * 동일한 종류의 알파벳(a-z)을 사용하더라도, 언어마다 문자의 출현 빈도가 다름\n",
    "  * 출현 빈도에 따라 어느 국가 언어로 쓰인 글인지 판별이 가능\n",
    "* 머신러닝 과정\n",
    "  * 데이터 수집\n",
    "    * 이미 되어 있음\n",
    "  * 데이터 전처리 & 특징 추출\n",
    "    * 파일 읽어오는 함수 만들기\n",
    "    * 읽어온 파일 내용을 알파벳만으로 전처리 (data cleansing)\n",
    "    * 정말 언어마다 알파벳 출현 빈도가 다른지, 알파벳 출현 빈도 히스토그램 그려보기(matplotlib 익힘)\n",
    "    * 학습할 모델에 적절한 형태로 입력(출현 빈도 벡터)과 출력(국가)을 분리\n",
    "  * 모델학습\n",
    "    * 사이킷런에서 제공하는 분류 모델 중에 적용\n",
    "  * 모델평가\n",
    "    * 학습한 모델에 테스트 데이터를 넣어 모델 평가"
   ]
  },
  {
   "cell_type": "markdown",
   "metadata": {},
   "source": [
    "### 파일 읽어오는 함수 만들기\n",
    "* 함수의 입력과 출력이 무엇이 되어야 하나 먼저 생각\n",
    "* 파일 종류(학습/테스트)와 파일리스트 인덱스를 주면 글과 국가명을 반환하도록 만들기\n",
    "* 즉,\n",
    "  * 입력\n",
    "    * 학습 / 테스트 디렉토리 경로\n",
    "    * 각각의 파일 리스트 인덱스\n",
    "  * 출력\n",
    "    * 글\n",
    "    * 국가"
   ]
  },
  {
   "cell_type": "code",
   "execution_count": 9,
   "metadata": {},
   "outputs": [],
   "source": [
    "def get_file(filepath, filename):\n",
    "    \"\"\"\n",
    "    args:\n",
    "        데이터 디렉토리, 데이터 파일 이름\n",
    "    return:\n",
    "        파일에서 읽은 모든 문장을 한 문자열로 반환\n",
    "    \"\"\"\n",
    "    fullpath = os.path.join(filepath, filename)\n",
    "    with open(fullpath, 'r', encoding='utf8') as f:\n",
    "        lines = f.readlines()\n",
    "    \n",
    "    temp = str()\n",
    "    for line in lines:\n",
    "        temp += line\n",
    "        \n",
    "    return temp, filename[:2]"
   ]
  },
  {
   "cell_type": "markdown",
   "metadata": {},
   "source": [
    "* 만든 함수를 확인 해보기"
   ]
  },
  {
   "cell_type": "code",
   "execution_count": 10,
   "metadata": {},
   "outputs": [],
   "source": [
    "words, country = get_file(train_path, train_files[0])"
   ]
  },
  {
   "cell_type": "code",
   "execution_count": 11,
   "metadata": {},
   "outputs": [
    {
     "data": {
      "text/plain": [
       "'\\n\\n\\n\\nThe main Henry Ford Museum building houses some of the classrooms for the Henry Ford Academy\\n\\n\\nH'"
      ]
     },
     "execution_count": 11,
     "metadata": {},
     "output_type": "execute_result"
    }
   ],
   "source": [
    "words[:100]"
   ]
  },
  {
   "cell_type": "code",
   "execution_count": 12,
   "metadata": {},
   "outputs": [
    {
     "data": {
      "text/plain": [
       "'en'"
      ]
     },
     "execution_count": 12,
     "metadata": {},
     "output_type": "execute_result"
    }
   ],
   "source": [
    "country"
   ]
  },
  {
   "cell_type": "markdown",
   "metadata": {},
   "source": [
    "## 읽어온 파일 내용을 알파벳만으로 전처리 (data cleansing)\n",
    "* 앞서 읽어온 데이터에서 알파벳 외의 줄넘김 문자나 숫자 등이 섞여 있음\n",
    "* 정규표현식을 사용하여 읽어온 내용을 알파벳만으로 전처리\n",
    "* 정규표현식이란?\n",
    "  * "
   ]
  },
  {
   "cell_type": "code",
   "execution_count": 13,
   "metadata": {},
   "outputs": [],
   "source": [
    "# 정규표현식 모듈 불러오기\n",
    "import re"
   ]
  },
  {
   "cell_type": "code",
   "execution_count": 14,
   "metadata": {},
   "outputs": [],
   "source": [
    "def get_frequency(path, file):\n",
    "    \"\"\"\n",
    "    args:\n",
    "        파일 위치하는 디렉토리, 파일 이름\n",
    "    return:\n",
    "        정규화 된 알파벳 문자 출현 빈도 (출현 비율) 딕셔너리\n",
    "        키: 알파벳\n",
    "        값: 출현 비율\n",
    "    \"\"\"\n",
    "    words, country = get_file(path, file)\n",
    "\n",
    "    # words 에는 알파벳 외 다양한 문자가 들어있다는 것을 확인했음\n",
    "    # 정규식을 써서 알파벳만 찾아옴\n",
    "    # 모든 알파벳을 소문자로 변환\n",
    "    alphabet = sorted(re.findall('[a-zA-Z]', words))\n",
    "    alphabet = [a.lower() for a in alphabet]\n",
    "\n",
    "    alphabet_frequency = dict()\n",
    "    \n",
    "    # 영어 소문자 a는 97부터 시작 -> z는 97+26\n",
    "    # 포매팅할 때, c로 나타내면 숫자가 문자(또는 이에 매칭되는 기호)로 나타남\n",
    "    for i in range(97,97+26):\n",
    "        c = f\"{i:c}\"\n",
    "        alphabet_frequency[c] = alphabet.count(c)\n",
    "    \n",
    "    max_frequency = max(alphabet_frequency.values())\n",
    "    \n",
    "    for k, v in alphabet_frequency.items():\n",
    "        alphabet_frequency[k] = v / max_frequency\n",
    "        \n",
    "    return alphabet_frequency, country"
   ]
  },
  {
   "cell_type": "markdown",
   "metadata": {},
   "source": [
    "## 정말 언어마다 알파벳 출현 빈도가 다른지, 알파벳 출현 빈도 히스토그램 그려보기(matplotlib 익힘)\n",
    "* plt.figure(figsize)\n",
    "  * 그림을 그리고자하는 도화지를 정의함\n",
    "  * figsize 인자로 도화지의 크기를 정함\n",
    "* plt.bar(x, y, alpha)\n",
    "  * 막대 그래프 그려줌\n",
    "  * x축에 들어갈 값과 이에 해당하는 값(y)을 줌\n",
    "  * alpha: 막대그래프의 투명도 0에 가까우면 투명, 1에 가까우면 불투명\n",
    "* plt.ylim(bottom, top)\n",
    "  * 그래프의 y축 표현 범위\n",
    "  * bottom 부터 top 까지\n",
    "* plt.title(label)\n",
    "  * label: 그래프의 제목\n",
    "* plt.show()\n",
    "  * 도화지에 그린 그림을 화면에 보여줌\n",
    "* plt.savefig(fname)\n",
    "  * 도화지에 그린 그림을 파일로 저장\n",
    "  * fname: 저장하고자 하는 파일의 이름"
   ]
  },
  {
   "cell_type": "code",
   "execution_count": 19,
   "metadata": {},
   "outputs": [],
   "source": [
    "import matplotlib.pyplot as plt"
   ]
  },
  {
   "cell_type": "code",
   "execution_count": 20,
   "metadata": {},
   "outputs": [
    {
     "data": {
      "text/plain": [
       "{'a': 0.7210743801652892,\n",
       " 'b': 0.12190082644628099,\n",
       " 'c': 0.43388429752066116,\n",
       " 'd': 0.4380165289256198,\n",
       " 'e': 1.0,\n",
       " 'f': 0.1487603305785124,\n",
       " 'g': 0.18181818181818182,\n",
       " 'h': 0.4152892561983471,\n",
       " 'i': 0.7024793388429752,\n",
       " 'j': 0.01652892561983471,\n",
       " 'k': 0.05165289256198347,\n",
       " 'l': 0.5103305785123967,\n",
       " 'm': 0.25,\n",
       " 'n': 0.7355371900826446,\n",
       " 'o': 0.8512396694214877,\n",
       " 'p': 0.15702479338842976,\n",
       " 'q': 0.0,\n",
       " 'r': 0.737603305785124,\n",
       " 's': 0.5826446280991735,\n",
       " 't': 0.7644628099173554,\n",
       " 'u': 0.24586776859504134,\n",
       " 'v': 0.09297520661157024,\n",
       " 'w': 0.13429752066115702,\n",
       " 'x': 0.006198347107438017,\n",
       " 'y': 0.19008264462809918,\n",
       " 'z': 0.004132231404958678}"
      ]
     },
     "execution_count": 20,
     "metadata": {},
     "output_type": "execute_result"
    }
   ],
   "source": [
    "# 연습으로 하나 그려보기\n",
    "alphabet_frequency, country = get_frequency(train_path, train_files[0])\n",
    "\n",
    "# 알파벳에 따른 출현 빈도 (비율)\n",
    "alphabet_frequency"
   ]
  },
  {
   "cell_type": "markdown",
   "metadata": {},
   "source": [
    "* matplotlib 사용 예시에 따라 필요한 인자를 넣어보기\n",
    "* x축에는 알파벳이 나타나야 함\n",
    "* 그런데 딕셔너리는 키의 순서가 정렬되어 있지 않음\n",
    "* 따라서, x축에 영어 알파벳 순서대로 나타나는 리스트\n",
    "* y축에는 이에 대응하는 알파벳 출현 빈도를 매칭하는 리스트"
   ]
  },
  {
   "cell_type": "code",
   "execution_count": 21,
   "metadata": {},
   "outputs": [
    {
     "data": {
      "text/plain": [
       "['a',\n",
       " 'b',\n",
       " 'c',\n",
       " 'd',\n",
       " 'e',\n",
       " 'f',\n",
       " 'g',\n",
       " 'h',\n",
       " 'i',\n",
       " 'j',\n",
       " 'k',\n",
       " 'l',\n",
       " 'm',\n",
       " 'n',\n",
       " 'o',\n",
       " 'p',\n",
       " 'q',\n",
       " 'r',\n",
       " 's',\n",
       " 't',\n",
       " 'u',\n",
       " 'v',\n",
       " 'w',\n",
       " 'x',\n",
       " 'y',\n",
       " 'z']"
      ]
     },
     "execution_count": 21,
     "metadata": {},
     "output_type": "execute_result"
    }
   ],
   "source": [
    "# 영어 알파벳 순서대로 저장한 리스트\n",
    "ALPHABET = [f\"{a:c}\" for a in range(97, 97+26)]\n",
    "ALPHABET"
   ]
  },
  {
   "cell_type": "code",
   "execution_count": 22,
   "metadata": {},
   "outputs": [
    {
     "data": {
      "text/plain": [
       "[0.7210743801652892,\n",
       " 0.12190082644628099,\n",
       " 0.43388429752066116,\n",
       " 0.4380165289256198,\n",
       " 1.0,\n",
       " 0.1487603305785124,\n",
       " 0.18181818181818182,\n",
       " 0.4152892561983471,\n",
       " 0.7024793388429752,\n",
       " 0.01652892561983471,\n",
       " 0.05165289256198347,\n",
       " 0.5103305785123967,\n",
       " 0.25,\n",
       " 0.7355371900826446,\n",
       " 0.8512396694214877,\n",
       " 0.15702479338842976,\n",
       " 0.0,\n",
       " 0.737603305785124,\n",
       " 0.5826446280991735,\n",
       " 0.7644628099173554,\n",
       " 0.24586776859504134,\n",
       " 0.09297520661157024,\n",
       " 0.13429752066115702,\n",
       " 0.006198347107438017,\n",
       " 0.19008264462809918,\n",
       " 0.004132231404958678]"
      ]
     },
     "execution_count": 22,
     "metadata": {},
     "output_type": "execute_result"
    }
   ],
   "source": [
    "# 알파벳에 대응하는 출현 빈도 매칭된 리스트\n",
    "freq = [alphabet_frequency.get(a) for a in ALPHABET]\n",
    "freq"
   ]
  },
  {
   "cell_type": "code",
   "execution_count": 23,
   "metadata": {},
   "outputs": [
    {
     "data": {
      "image/png": "[encoded data removed]",
      "text/plain": [
       "<Figure size 1440x144 with 1 Axes>"
      ]
     },
     "metadata": {
      "needs_background": "light"
     },
     "output_type": "display_data"
    }
   ],
   "source": [
    "# 그림 그려보기\n",
    "plt.figure(figsize=(20, 2))\n",
    "plt.bar(ALPHABET, freq)\n",
    "plt.show()"
   ]
  },
  {
   "cell_type": "markdown",
   "metadata": {},
   "source": [
    "* 위에서 만든 코드를 바탕으로 함수를 만들기"
   ]
  },
  {
   "cell_type": "code",
   "execution_count": 24,
   "metadata": {},
   "outputs": [],
   "source": [
    "def plot_freq(alphabet_frequency):\n",
    "    # 영어 알파벳 순서대로 저장한 리스트\n",
    "    alphabet = [f\"{a:c}\" for a in range(97, 97+26)]\n",
    "    \n",
    "    # 알파벳에 대응하는 출현 빈도 매칭된 리스트\n",
    "    freq = [alphabet_frequency.get(a) for a in alphabet]\n",
    "\n",
    "    # 그림 그려보기\n",
    "    plt.figure(figsize=(20, 2))\n",
    "    plt.bar(alphabet, freq)\n",
    "    plt.show()"
   ]
  },
  {
   "cell_type": "code",
   "execution_count": 25,
   "metadata": {},
   "outputs": [
    {
     "data": {
      "image/png": "[encoded data removed]",
      "text/plain": [
       "<Figure size 1440x144 with 1 Axes>"
      ]
     },
     "metadata": {
      "needs_background": "light"
     },
     "output_type": "display_data"
    }
   ],
   "source": [
    "plot_freq(alphabet_frequency)"
   ]
  },
  {
   "cell_type": "markdown",
   "metadata": {},
   "source": [
    "## 학습할 모델에 적절한 형태로 입력(출현 빈도 벡터)과 출력(국가)을 분리"
   ]
  },
  {
   "cell_type": "markdown",
   "metadata": {},
   "source": [
    "* 모든 데이터의 알파벳 빈도와 국가를 리스트에 넣음"
   ]
  },
  {
   "cell_type": "code",
   "execution_count": 26,
   "metadata": {},
   "outputs": [],
   "source": [
    "X_train = []\n",
    "y_train = []\n",
    "\n",
    "for f in train_files:\n",
    "    freq, country = get_frequency(train_path, f)\n",
    "    \n",
    "    # frqeuncy 만 넣기\n",
    "    X_train.append([freq.get(a) for a in ALPHABET])\n",
    "    y_train.append(country)"
   ]
  },
  {
   "cell_type": "code",
   "execution_count": 53,
   "metadata": {},
   "outputs": [],
   "source": [
    "X_test = []\n",
    "y_test = []\n",
    "\n",
    "for f in test_files:\n",
    "    freq, country = get_frequency(test_path, f)\n",
    "    \n",
    "    X_test.append([freq.get(a) for a in ALPHABET])\n",
    "    y_test.append(country)"
   ]
  },
  {
   "cell_type": "code",
   "execution_count": 27,
   "metadata": {},
   "outputs": [
    {
     "data": {
      "text/plain": [
       "['en',\n",
       " 'en',\n",
       " 'en',\n",
       " 'en',\n",
       " 'en',\n",
       " 'fr',\n",
       " 'fr',\n",
       " 'fr',\n",
       " 'fr',\n",
       " 'fr',\n",
       " 'id',\n",
       " 'id',\n",
       " 'id',\n",
       " 'id',\n",
       " 'id',\n",
       " 'tl',\n",
       " 'tl',\n",
       " 'tl',\n",
       " 'tl',\n",
       " 'tl']"
      ]
     },
     "execution_count": 27,
     "metadata": {},
     "output_type": "execute_result"
    }
   ],
   "source": [
    "y_train"
   ]
  },
  {
   "cell_type": "markdown",
   "metadata": {},
   "source": [
    "* 다섯 개씩 끊어서 화면에 뿌려보자."
   ]
  },
  {
   "cell_type": "code",
   "execution_count": 48,
   "metadata": {},
   "outputs": [],
   "source": [
    "def plot_freqs(a, b):\n",
    "    \"\"\"\n",
    "    args:\n",
    "        X_train 인덱스 범위\n",
    "    return:\n",
    "        None\n",
    "        화면에 알파벳 빈도 그래프 그림\n",
    "    \"\"\"\n",
    "    plt.figure(figsize=(20,2))\n",
    "\n",
    "    # 영어로 쓰인 글의 알파벳 출현 빈도 다섯개 화면에 나타내기\n",
    "    for i in range(a, b):\n",
    "        plt.bar(ALPHABET, X_train[i], alpha=1/(i+1-a))\n",
    "    \n",
    "    plt.title(y_train[a])\n",
    "    plt.ylim(0, 1)\n",
    "    plt.show()"
   ]
  },
  {
   "cell_type": "code",
   "execution_count": 49,
   "metadata": {},
   "outputs": [
    {
     "data": {
      "image/png": "[encoded data removed]",
      "text/plain": [
       "<Figure size 1440x144 with 1 Axes>"
      ]
     },
     "metadata": {
      "needs_background": "light"
     },
     "output_type": "display_data"
    }
   ],
   "source": [
    "plot_freqs(0, 5)"
   ]
  },
  {
   "cell_type": "code",
   "execution_count": 50,
   "metadata": {},
   "outputs": [
    {
     "data": {
      "image/png": "[encoded data removed]",
      "text/plain": [
       "<Figure size 1440x144 with 1 Axes>"
      ]
     },
     "metadata": {
      "needs_background": "light"
     },
     "output_type": "display_data"
    }
   ],
   "source": [
    "plot_freqs(5, 10)"
   ]
  },
  {
   "cell_type": "code",
   "execution_count": 51,
   "metadata": {},
   "outputs": [
    {
     "data": {
      "image/png": "[encoded data removed]",
      "text/plain": [
       "<Figure size 1440x144 with 1 Axes>"
      ]
     },
     "metadata": {
      "needs_background": "light"
     },
     "output_type": "display_data"
    }
   ],
   "source": [
    "plot_freqs(10, 15)"
   ]
  },
  {
   "cell_type": "code",
   "execution_count": 52,
   "metadata": {},
   "outputs": [
    {
     "data": {
      "image/png": "[encoded data removed]",
      "text/plain": [
       "<Figure size 1440x144 with 1 Axes>"
      ]
     },
     "metadata": {
      "needs_background": "light"
     },
     "output_type": "display_data"
    }
   ],
   "source": [
    "plot_freqs(15, 20)"
   ]
  },
  {
   "cell_type": "markdown",
   "metadata": {},
   "source": [
    "## 차원 축소\n",
    "* 사이킷런에서 제공하는 분류 모델 중에 적용\n",
    "* 이 데이터는 입력 값이 26차원(알파벳 개수)인 고차원 데이터\n",
    "* 먼저 2차원 공간에 차원 축소를 이용해 나타내보기"
   ]
  },
  {
   "cell_type": "code",
   "execution_count": 179,
   "metadata": {},
   "outputs": [],
   "source": [
    "from sklearn.discriminant_analysis import LinearDiscriminantAnalysis as LDA"
   ]
  },
  {
   "cell_type": "code",
   "execution_count": 180,
   "metadata": {},
   "outputs": [],
   "source": [
    "# 2차원 공간에 나타내기\n",
    "# singular value decomposition 을 써서 2차원 공간에 매핑함\n",
    "lda = LDA(n_components=2)"
   ]
  },
  {
   "cell_type": "code",
   "execution_count": 181,
   "metadata": {},
   "outputs": [
    {
     "data": {
      "text/plain": [
       "LinearDiscriminantAnalysis(n_components=2, priors=None, shrinkage=None,\n",
       "                           solver='svd', store_covariance=False, tol=0.0001)"
      ]
     },
     "execution_count": 181,
     "metadata": {},
     "output_type": "execute_result"
    }
   ],
   "source": [
    "lda.fit(X_train,y_train)"
   ]
  },
  {
   "cell_type": "code",
   "execution_count": 183,
   "metadata": {},
   "outputs": [],
   "source": [
    "X_2d = lda.fit_transform(X_train, lda.predict(X_train))"
   ]
  },
  {
   "cell_type": "code",
   "execution_count": 184,
   "metadata": {},
   "outputs": [
    {
     "data": {
      "image/png": "[encoded data removed]",
      "text/plain": [
       "<Figure size 360x360 with 1 Axes>"
      ]
     },
     "metadata": {
      "needs_background": "light"
     },
     "output_type": "display_data"
    }
   ],
   "source": [
    "plt.figure(figsize=(5,5))\n",
    "plt.scatter(X_2d[:5, 0], X_2d[:5, 1], label=y_train[0])\n",
    "plt.scatter(X_2d[5:10, 0], X_2d[5:10, 1], label=y_train[5])\n",
    "plt.scatter(X_2d[10:15, 0], X_2d[10:15, 1], label=y_train[10])\n",
    "plt.scatter(X_2d[15:20, 0], X_2d[15:20, 1], label=y_train[15])\n",
    "plt.legend()\n",
    "plt.show()"
   ]
  },
  {
   "cell_type": "markdown",
   "metadata": {},
   "source": [
    "## 차원 축소한 데이터를 모델에 학습하기"
   ]
  },
  {
   "cell_type": "code",
   "execution_count": 228,
   "metadata": {},
   "outputs": [],
   "source": [
    "from sklearn.svm import LinearSVC, SVC\n",
    "from sklearn.preprocessing import LabelEncoder"
   ]
  },
  {
   "cell_type": "code",
   "execution_count": 229,
   "metadata": {},
   "outputs": [
    {
     "data": {
      "text/plain": [
       "array([0, 0, 0, 0, 0, 1, 1, 1, 1, 1, 2, 2, 2, 2, 2, 3, 3, 3, 3, 3],\n",
       "      dtype=int64)"
      ]
     },
     "execution_count": 229,
     "metadata": {},
     "output_type": "execute_result"
    }
   ],
   "source": [
    "# 영어로 된 국가 명을 숫자로 바꾸어줌\n",
    "le = LabelEncoder()\n",
    "y_digit = le.fit(y_train).fit_transform(y_train)\n",
    "y_digit"
   ]
  },
  {
   "cell_type": "code",
   "execution_count": 262,
   "metadata": {},
   "outputs": [],
   "source": [
    "linear_svc = LinearSVC(random_state=0, max_iter=1e4)"
   ]
  },
  {
   "cell_type": "code",
   "execution_count": 263,
   "metadata": {},
   "outputs": [
    {
     "data": {
      "text/plain": [
       "LinearSVC(C=1.0, class_weight=None, dual=True, fit_intercept=True,\n",
       "          intercept_scaling=1, loss='squared_hinge', max_iter=10000.0,\n",
       "          multi_class='ovr', penalty='l2', random_state=0, tol=0.0001,\n",
       "          verbose=0)"
      ]
     },
     "execution_count": 263,
     "metadata": {},
     "output_type": "execute_result"
    }
   ],
   "source": [
    "linear_svc.fit(X_2d, y_digit)"
   ]
  },
  {
   "cell_type": "code",
   "execution_count": 264,
   "metadata": {},
   "outputs": [],
   "source": [
    "y_pred = linear_svc.predict(X_2d)"
   ]
  },
  {
   "cell_type": "code",
   "execution_count": 265,
   "metadata": {},
   "outputs": [],
   "source": [
    "# 모델의 학습 결과를 그려보기\n",
    "x = np.linspace(min(X_2d[:,0])-1e-0, max(X_2d[:,0])+1e-0, 100)\n",
    "y = np.linspace(min(X_2d[:,1])-1e-0, max(X_2d[:,1])+1e-0, 100)\n",
    "\n",
    "xx, yy = np.meshgrid(x, y)\n",
    "xy = list(zip(xx.flatten(), yy.flatten()))\n",
    "zz = linear_svc.predict(xy).reshape(xx.shape)"
   ]
  },
  {
   "cell_type": "code",
   "execution_count": 266,
   "metadata": {},
   "outputs": [
    {
     "data": {
      "text/plain": [
       "(100, 100)"
      ]
     },
     "execution_count": 266,
     "metadata": {},
     "output_type": "execute_result"
    }
   ],
   "source": [
    "zz.shape"
   ]
  },
  {
   "cell_type": "code",
   "execution_count": 267,
   "metadata": {},
   "outputs": [
    {
     "data": {
      "image/png": "[encoded data removed]",
      "text/plain": [
       "<Figure size 360x360 with 1 Axes>"
      ]
     },
     "metadata": {
      "needs_background": "light"
     },
     "output_type": "display_data"
    }
   ],
   "source": [
    "plt.figure(figsize=(5,5))\n",
    "plt.contourf(xx,yy,zz, alpha=.5)\n",
    "plt.scatter(X_2d[:5, 0], X_2d[:5, 1], label=y_train[0])\n",
    "plt.scatter(X_2d[5:10, 0], X_2d[5:10, 1], label=y_train[5])\n",
    "plt.scatter(X_2d[10:15, 0], X_2d[10:15, 1], label=y_train[10])\n",
    "plt.scatter(X_2d[15:20, 0], X_2d[15:20, 1], label=y_train[15])\n",
    "plt.legend()\n",
    "plt.show()"
   ]
  },
  {
   "cell_type": "markdown",
   "metadata": {},
   "source": [
    "* 테스트 데이터를 찍어보기"
   ]
  },
  {
   "cell_type": "code",
   "execution_count": 268,
   "metadata": {},
   "outputs": [],
   "source": [
    "X_2d_test = lda.fit_transform(X_test, lda.predict(X_test))"
   ]
  },
  {
   "cell_type": "code",
   "execution_count": 269,
   "metadata": {},
   "outputs": [
    {
     "data": {
      "text/plain": [
       "array(['en', 'en', 'en', 'fr', 'id', 'id', 'tl', 'tl'], dtype='<U2')"
      ]
     },
     "execution_count": 269,
     "metadata": {},
     "output_type": "execute_result"
    }
   ],
   "source": [
    "lda.predict(X_test)"
   ]
  },
  {
   "cell_type": "code",
   "execution_count": 270,
   "metadata": {},
   "outputs": [
    {
     "data": {
      "image/png": "[encoded data removed]",
      "text/plain": [
       "<Figure size 720x720 with 1 Axes>"
      ]
     },
     "metadata": {
      "needs_background": "light"
     },
     "output_type": "display_data"
    }
   ],
   "source": [
    "plt.figure(figsize=(10,10))\n",
    "\n",
    "plt.contourf(xx,yy,zz, alpha=.5)\n",
    "\n",
    "plt.scatter(X_2d[:5, 0], X_2d[:5, 1], label=y_train[0])\n",
    "plt.scatter(X_2d[5:10, 0], X_2d[5:10, 1], label=y_train[5])\n",
    "plt.scatter(X_2d[10:15, 0], X_2d[10:15, 1], label=y_train[10])\n",
    "plt.scatter(X_2d[15:20, 0], X_2d[15:20, 1], label=y_train[15])\n",
    "\n",
    "for i in range(len(X_2d_test)):\n",
    "    _x, _y = X_2d_test[i]\n",
    "    plt.scatter(_x, _y, marker='*', linewidths=3)\n",
    "    plt.annotate(s='real:'+y_test[i].upper()+' pred:'+le.inverse_transform(linear_svc.predict(X_2d_test[i:i+1]))[0].upper(), xy=(_x,_y))\n",
    "plt.legend()\n",
    "plt.show()"
   ]
  },
  {
   "cell_type": "code",
   "execution_count": 271,
   "metadata": {},
   "outputs": [
    {
     "name": "stdout",
     "output_type": "stream",
     "text": [
      "정답: ['en', 'en', 'fr', 'fr', 'id', 'id', 'tl', 'tl']\n",
      "예측: ['fr', 'fr', 'fr', 'fr', 'tl', 'tl', 'tl', 'en']\n"
     ]
    }
   ],
   "source": [
    "print(\"정답:\", y_test)\n",
    "print(\"예측:\", list(le.inverse_transform(linear_svc.predict(X_2d_test))))"
   ]
  },
  {
   "cell_type": "markdown",
   "metadata": {},
   "source": [
    "## 차원 축소 없이 SVM 에 적용\n",
    "* RBF 커널 매핑"
   ]
  },
  {
   "cell_type": "code",
   "execution_count": 276,
   "metadata": {},
   "outputs": [],
   "source": [
    "# 분류기 생성\n",
    "svm = SVC()"
   ]
  },
  {
   "cell_type": "code",
   "execution_count": 277,
   "metadata": {},
   "outputs": [
    {
     "data": {
      "text/plain": [
       "SVC(C=1.0, break_ties=False, cache_size=200, class_weight=None, coef0=0.0,\n",
       "    decision_function_shape='ovr', degree=3, gamma='scale', kernel='rbf',\n",
       "    max_iter=-1, probability=False, random_state=None, shrinking=True,\n",
       "    tol=0.001, verbose=False)"
      ]
     },
     "execution_count": 277,
     "metadata": {},
     "output_type": "execute_result"
    }
   ],
   "source": [
    "# 분류기에 데이터 넣어서 학습시킴\n",
    "svm.fit(X_train, y_train)"
   ]
  },
  {
   "cell_type": "code",
   "execution_count": 278,
   "metadata": {},
   "outputs": [],
   "source": [
    "# 학습 된 분류기로 예측\n",
    "y_pred = svm.predict(X_test)"
   ]
  },
  {
   "cell_type": "code",
   "execution_count": 289,
   "metadata": {},
   "outputs": [
    {
     "name": "stdout",
     "output_type": "stream",
     "text": [
      "정답: ['en', 'en', 'fr', 'fr', 'id', 'id', 'tl', 'tl']\n",
      "예측: ['en', 'en', 'fr', 'fr', 'id', 'id', 'tl', 'tl']\n"
     ]
    }
   ],
   "source": [
    "print('정답:', y_test)\n",
    "print('예측:', list(y_pred))"
   ]
  },
  {
   "cell_type": "markdown",
   "metadata": {},
   "source": [
    "## 모델 평가 방법\n",
    "* 학습 시킨 모델의 성능 확인 방법"
   ]
  },
  {
   "cell_type": "code",
   "execution_count": 280,
   "metadata": {},
   "outputs": [],
   "source": [
    "from sklearn.metrics import accuracy_score, f1_score, precision_score, recall_score"
   ]
  },
  {
   "cell_type": "markdown",
   "metadata": {},
   "source": [
    "* 정확도: 맞은 것은 맞게, 틀린 것은 틀리게 분류한 비율\n",
    "$$\n",
    "accuracy = {TP + TN \\over TP + TN + FP + FN}\n",
    "$$"
   ]
  },
  {
   "cell_type": "code",
   "execution_count": 284,
   "metadata": {},
   "outputs": [
    {
     "name": "stdout",
     "output_type": "stream",
     "text": [
      "정확도: 100.00%\n"
     ]
    }
   ],
   "source": [
    "acc = accuracy_score(y_test, y_pred)\n",
    "print(f'정확도: {acc*100:.2f}%')"
   ]
  },
  {
   "cell_type": "markdown",
   "metadata": {},
   "source": [
    "* Precision: 찾아낸 놈 중에 맞게 찾은 놈 (못 찾은 것의 개수는 신경 안씀)\n",
    "$$\n",
    "precision = {relevant \\land retrieved \\over retrieved}\n",
    "$$\n",
    "\n",
    "$$\n",
    "precision = {TP \\over TP + FP}\n",
    "$$"
   ]
  },
  {
   "cell_type": "code",
   "execution_count": 295,
   "metadata": {},
   "outputs": [
    {
     "data": {
      "text/plain": [
       "1.0"
      ]
     },
     "execution_count": 295,
     "metadata": {},
     "output_type": "execute_result"
    }
   ],
   "source": [
    "precision = precision_score(y_test, y_pred, average='micro')\n",
    "precision"
   ]
  },
  {
   "cell_type": "markdown",
   "metadata": {},
   "source": [
    "* Recall: 모든 놈 중에 맞게 찾은 개수\n",
    "$$\n",
    "recall = {relevant \\land retrieved \\over relevant}\n",
    "$$\n",
    "\n",
    "$$\n",
    "recall = {TP \\over TP + FN}\n",
    "$$"
   ]
  },
  {
   "cell_type": "code",
   "execution_count": 296,
   "metadata": {},
   "outputs": [
    {
     "data": {
      "text/plain": [
       "1.0"
      ]
     },
     "execution_count": 296,
     "metadata": {},
     "output_type": "execute_result"
    }
   ],
   "source": [
    "recall = recall_score(y_test, y_pred, average='micro')\n",
    "recall"
   ]
  }
 ],
 "metadata": {
  "kernelspec": {
   "display_name": "Python 3",
   "language": "python",
   "name": "python3"
  },
  "language_info": {
   "codemirror_mode": {
    "name": "ipython",
    "version": 3
   },
   "file_extension": ".py",
   "mimetype": "text/x-python",
   "name": "python",
   "nbconvert_exporter": "python",
   "pygments_lexer": "ipython3",
   "version": "3.7.7"
  }
 },
 "nbformat": 4,
 "nbformat_minor": 4
}
