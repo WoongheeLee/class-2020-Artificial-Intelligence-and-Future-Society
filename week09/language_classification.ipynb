{
 "cells": [
  {
   "cell_type": "markdown",
   "metadata": {},
   "source": [
    "# 언어판별"
   ]
  },
  {
   "cell_type": "code",
   "execution_count": 1,
   "metadata": {},
   "outputs": [],
   "source": [
    "# 모듈 불러오기\n",
    "import os"
   ]
  },
  {
   "cell_type": "markdown",
   "metadata": {},
   "source": [
    "## 데이터 명세\n",
    "* Given\n",
    "  * 영어, 프랑스어, 인도네시아어, 타갈로그어로 된 글이 주어짐\n",
    "  * 국가명을 알 수 있는 글로 된 학습 데이터 20개 / 테스트 데이터 8개\n",
    "  * 파일 이름은 \"국가명(두 단어)\"-\"데이터번호\".txt 형태\n",
    "* Goal\n",
    "  * 새로운 글이 주어지면 어느 국가의 언어로 쓰인 글인지 판별\n",
    "* 머신러닝 분류\n",
    "  * 관측한 데이터(글)가 어느 집합(영어, 프랑스어, 인도네시아어, 타갈로그어)에 속하는지 알고 있음 -> 지도학습\n",
    "  * 어느 범주에 속하는지 **분류**\n",
    "  * 즉, 지도학습 -> 분류 문제\n",
    "  * 풀이 방법: 의사결정 나무, 서포트벡터머신"
   ]
  },
  {
   "cell_type": "markdown",
   "metadata": {},
   "source": [
    "## 파일 리스트 만들기"
   ]
  },
  {
   "cell_type": "markdown",
   "metadata": {},
   "source": [
    "* 파일을 읽어올 경로를 정해줌\n",
    "* os.listdir(path)\n",
    "  * path 위치에 있는 디렉토리의 요소를 모두 반환\n",
    "  * 요소의 순서는 정해지지 않음\n",
    "  * 단, '.'과 '..'는 제외"
   ]
  },
  {
   "cell_type": "code",
   "execution_count": 2,
   "metadata": {},
   "outputs": [],
   "source": [
    "# 학습 데이터와 테스트 데이터 글은 각각의 파일에 쓰여있음\n",
    "# 파일을 하나하나 불러오기 귀찮으니 파일 리스트를 불러올 생각\n",
    "# 파일 위치를 정해줌\n",
    "train_path = '../data/lang/train'\n",
    "test_path = '../data/lang/test'"
   ]
  },
  {
   "cell_type": "code",
   "execution_count": 3,
   "metadata": {},
   "outputs": [
    {
     "data": {
      "text/plain": [
       "['tl-20.txt',\n",
       " 'en-5.txt',\n",
       " 'en-4.txt',\n",
       " '.DS_Store',\n",
       " 'en-1.txt',\n",
       " 'en-3.txt',\n",
       " 'fr-8.txt',\n",
       " 'tl-18.txt',\n",
       " 'fr-10.txt',\n",
       " 'tl-19.txt',\n",
       " 'fr-9.txt',\n",
       " 'en-2.txt',\n",
       " 'id-15.txt',\n",
       " 'id-14.txt',\n",
       " 'id-13.txt',\n",
       " 'id-12.txt',\n",
       " 'id-11.txt',\n",
       " 'fr-7.txt',\n",
       " 'tl-17.txt',\n",
       " 'tl-16.txt',\n",
       " 'fr-6.txt']"
      ]
     },
     "execution_count": 3,
     "metadata": {},
     "output_type": "execute_result"
    }
   ],
   "source": [
    "# 학습 데이터 위치의 파일 리스트\n",
    "# 파일 리스트 잘 불러오나 확인\n",
    "os.listdir(train_path)"
   ]
  },
  {
   "cell_type": "markdown",
   "metadata": {},
   "source": [
    "* 우리 관심은 확장자가 txt로 된 파일"
   ]
  },
  {
   "cell_type": "code",
   "execution_count": 4,
   "metadata": {},
   "outputs": [
    {
     "name": "stdout",
     "output_type": "stream",
     "text": [
      "['en-1.txt', 'en-2.txt', 'en-3.txt', 'en-4.txt', 'en-5.txt', 'fr-10.txt', 'fr-6.txt', 'fr-7.txt', 'fr-8.txt', 'fr-9.txt', 'id-11.txt', 'id-12.txt', 'id-13.txt', 'id-14.txt', 'id-15.txt', 'tl-16.txt', 'tl-17.txt', 'tl-18.txt', 'tl-19.txt', 'tl-20.txt']\n"
     ]
    }
   ],
   "source": [
    "# 학습 데이터 파일 이름 넣어둘 리스트\n",
    "train_files = []\n",
    "\n",
    "# os.listdir 은 순서가 보장 안됨\n",
    "# 그래서 sorted 로 파일 이름을 순서대로 불러오도록 함\n",
    "for e in sorted(os.listdir(train_path)):\n",
    "    # 파일 이름에 txt가 들어있다면 (텍스트 파일이라면) 파일 이름 리스트에 넣음\n",
    "    if 'txt' in e:\n",
    "        train_files.append(e)\n",
    "\n",
    "print(train_files)"
   ]
  },
  {
   "cell_type": "markdown",
   "metadata": {},
   "source": [
    "* 테스트 데이터도 학습 데이터와 동일한 방법으로 파일 리스트를 만듦"
   ]
  },
  {
   "cell_type": "code",
   "execution_count": 5,
   "metadata": {},
   "outputs": [
    {
     "name": "stdout",
     "output_type": "stream",
     "text": [
      "['tl-8.txt', 'en-1.txt', 'en-2.txt', 'fr-4.txt', 'id-5.txt', 'id-6.txt', 'fr-3.txt', 'tl-7.txt']\n"
     ]
    }
   ],
   "source": [
    "test_files = []\n",
    "\n",
    "for e in os.listdir(test_path):\n",
    "    if 'txt' in e:\n",
    "        test_files.append(e)\n",
    "        \n",
    "print(test_files)"
   ]
  },
  {
   "cell_type": "markdown",
   "metadata": {},
   "source": [
    "## 파일 읽기\n",
    "* 앞서 만든 파일 리스트로부터 파일을 읽어옴\n",
    "* 연습으로 하나만 읽어오기"
   ]
  },
  {
   "cell_type": "code",
   "execution_count": 6,
   "metadata": {},
   "outputs": [
    {
     "name": "stdout",
     "output_type": "stream",
     "text": [
      "../data/lang/train en-1.txt\n"
     ]
    }
   ],
   "source": [
    "# 파일 내용을 읽기 위해서 경로가 잘 나타나는지 확인\n",
    "print(train_path, train_files[0])"
   ]
  },
  {
   "cell_type": "markdown",
   "metadata": {},
   "source": [
    "* os.path.join(path, \\*path)\n",
    "  * 인자로 넣은 문자들로 이루어진 디렉토리와 파일 경로를 만들어 줌\n",
    "  * OS에 따라서 경로에 슬래시가 쓰이거나 백슬래시를 사용\n",
    "  * 현재 프로그램이 돌아가는 OS에 맞추어 알맞은 경로를 만들어줌\n",
    "* open() 에서 옵션을 그냥 'r'로 주었을 때, 인코딩 에러 발생\n",
    "  * 해결법: open() 함수에서 encoding 인자에 utf8 줌 -> open(..., encoding='utf8')"
   ]
  },
  {
   "cell_type": "code",
   "execution_count": 7,
   "metadata": {},
   "outputs": [
    {
     "name": "stdout",
     "output_type": "stream",
     "text": [
      "../data/lang/train/en-1.txt\n"
     ]
    }
   ],
   "source": [
    "# os.path.join() 써보기\n",
    "print(os.path.join(train_path, train_files[0]))"
   ]
  },
  {
   "cell_type": "code",
   "execution_count": 8,
   "metadata": {},
   "outputs": [
    {
     "name": "stdout",
     "output_type": "stream",
     "text": [
      "../data/lang/train/en-1.txt\n"
     ]
    }
   ],
   "source": [
    "# 정석으로 쓰려면 요소 하나하나 모두 나누어주어야 함\n",
    "print(os.path.join('..', 'data', 'lang', 'train', train_files[0]))"
   ]
  },
  {
   "cell_type": "code",
   "execution_count": 9,
   "metadata": {},
   "outputs": [],
   "source": [
    "# 그냥 읽어오면 에러 발생 (에러는 윈도우에서만 발생)\n",
    "# 파일을 작성할 때 (인코딩) 방식과 읽어올 때 (디코딩) 방식이 달라서 생기는 문제\n",
    "with open(os.path.join(train_path, train_files[0]),'r') as f:\n",
    "    lines = f.readlines()"
   ]
  },
  {
   "cell_type": "code",
   "execution_count": 10,
   "metadata": {},
   "outputs": [
    {
     "data": {
      "text/plain": [
       "(bytes,\n",
       " [b'\\n',\n",
       "  b'\\n',\n",
       "  b'\\n',\n",
       "  b'\\n',\n",
       "  b'The main Henry Ford Museum building houses some of the classrooms for the Henry Ford Academy\\n',\n",
       "  b'\\n',\n",
       "  b'\\n',\n",
       "  b'Henry Ford Academy is the first charter school in the United States to be developed jointly by a global corporation, public education, and a major nonprofit cultural institution. The school is sponsored by the Ford Motor Company, Wayne County Regional Educational Service Agency and The Henry Ford Museum and admits high school students. It is located in Dearborn, Michigan on the campus of the Henry Ford museum. Enrollment is taken from a lottery in the area and totaled 467 in 2010.[1]\\n',\n",
       "  b'Freshman meet inside the main museum building in glass walled classrooms, while older students use a converted carousel building and Pullman cars on a siding of the Greenfield Village railroad. Classes are expected to include use of the museum artifacts, a tradition of the original Village Schools. When the Museum was established in 1929, it included a school which served grades kindergarten to college/trade school ages. The last part of the original school closed in 1969.\\n',\n",
       "  b'The Henry Ford Learning Institute is using the Henry Ford Academy model for further charter schools including the Power House High in Chicago and Alameda School for Art + Design in San Antonio.\\n'])"
      ]
     },
     "execution_count": 10,
     "metadata": {},
     "output_type": "execute_result"
    }
   ],
   "source": [
    "# 파일 읽기 옵션에 'rb'로 바이트 단위로 읽어와서 살펴보면\n",
    "# 문자열 가장 앞에 b가 붙어있음\n",
    "with open(os.path.join(train_path, train_files[0]),'rb') as f:\n",
    "    lines = f.readlines()\n",
    "\n",
    "type(lines[0]), lines[:10]"
   ]
  },
  {
   "cell_type": "markdown",
   "metadata": {},
   "source": [
    "* 해결법 1: 읽어올 때 utf8로 인코딩 하기 (cp949 방법으로 쓴 글을 utf8로 읽어오기)\n",
    "* 한글로 쓴 글을 영어로 번역 후 읽어오는 것처럼 생각"
   ]
  },
  {
   "cell_type": "code",
   "execution_count": 11,
   "metadata": {},
   "outputs": [],
   "source": [
    "# encoding 옵션을 추가\n",
    "with open(os.path.join(train_path, train_files[0]),'r', encoding='utf8') as f:\n",
    "    lines = f.readlines()"
   ]
  },
  {
   "cell_type": "code",
   "execution_count": 12,
   "metadata": {},
   "outputs": [
    {
     "data": {
      "text/plain": [
       "['\\n',\n",
       " '\\n',\n",
       " '\\n',\n",
       " '\\n',\n",
       " 'The main Henry Ford Museum building houses some of the classrooms for the Henry Ford Academy\\n',\n",
       " '\\n',\n",
       " '\\n',\n",
       " 'Henry Ford Academy is the first charter school in the United States to be developed jointly by a global corporation, public education, and a major nonprofit cultural institution. The school is sponsored by the Ford Motor Company, Wayne County Regional Educational Service Agency and The Henry Ford Museum and admits high school students. It is located in Dearborn, Michigan on the campus of the Henry Ford museum. Enrollment is taken from a lottery in the area and totaled 467 in 2010.[1]\\n',\n",
       " 'Freshman meet inside the main museum building in glass walled classrooms, while older students use a converted carousel building and Pullman cars on a siding of the Greenfield Village railroad. Classes are expected to include use of the museum artifacts, a tradition of the original Village Schools. When the Museum was established in 1929, it included a school which served grades kindergarten to college/trade school ages. The last part of the original school closed in 1969.\\n',\n",
       " 'The Henry Ford Learning Institute is using the Henry Ford Academy model for further charter schools including the Power House High in Chicago and Alameda School for Art + Design in San Antonio.\\n']"
      ]
     },
     "execution_count": 12,
     "metadata": {},
     "output_type": "execute_result"
    }
   ],
   "source": [
    "# 읽어온 파일 10줄만 출력해보기\n",
    "lines[:10]"
   ]
  },
  {
   "cell_type": "markdown",
   "metadata": {},
   "source": [
    "* 해결법 2: 'rb' 옵션으로 읽어온 후 utf8로 디코드\n",
    "* 일단 읽고 나중에 번역하는 것으로 생각할 수 있음"
   ]
  },
  {
   "cell_type": "code",
   "execution_count": 13,
   "metadata": {},
   "outputs": [
    {
     "name": "stdout",
     "output_type": "stream",
     "text": [
      "\n",
      "\n",
      "\n",
      "\n",
      "\n",
      "\n",
      "\n",
      "\n",
      "The main Henry Ford Museum building houses some of the classrooms for the Henry Ford Academy\n",
      "\n",
      "\n",
      "\n",
      "\n",
      "\n",
      "Henry Ford Academy is the first charter school in the United States to be developed jointly by a global corporation, public education, and a major nonprofit cultural institution. The school is sponsored by the Ford Motor Company, Wayne County Regional Educational Service Agency and The Henry Ford Museum and admits high school students. It is located in Dearborn, Michigan on the campus of the Henry Ford museum. Enrollment is taken from a lottery in the area and totaled 467 in 2010.[1]\n",
      "\n",
      "Freshman meet inside the main museum building in glass walled classrooms, while older students use a converted carousel building and Pullman cars on a siding of the Greenfield Village railroad. Classes are expected to include use of the museum artifacts, a tradition of the original Village Schools. When the Museum was established in 1929, it included a school which served grades kindergarten to college/trade school ages. The last part of the original school closed in 1969.\n",
      "\n",
      "The Henry Ford Learning Institute is using the Henry Ford Academy model for further charter schools including the Power House High in Chicago and Alameda School for Art + Design in San Antonio.\n",
      "\n"
     ]
    }
   ],
   "source": [
    "# rb옵션\n",
    "with open(os.path.join(train_path, train_files[0]),'rb') as f:\n",
    "    lines = f.readlines()\n",
    "    \n",
    "# 10줄만 디코딩 해보기\n",
    "for i in range(10):\n",
    "    print(lines[i].decode('utf8'))"
   ]
  },
  {
   "cell_type": "markdown",
   "metadata": {},
   "source": [
    "* 한 줄씩 디코딩 하기 귀찮으면 읽을 때 옵션에 encoding='utf8'주기"
   ]
  },
  {
   "cell_type": "markdown",
   "metadata": {},
   "source": [
    "## 오늘의 머신러닝 과정\n",
    "* 언어 판별에 앞서\n",
    "  * 동일한 종류의 알파벳(a-z)을 사용하더라도, 언어마다 문자의 출현 빈도가 다름\n",
    "  * 출현 빈도에 따라 어느 국가 언어로 쓰인 글인지 판별이 가능\n",
    "* 머신러닝 과정\n",
    "  * 데이터 수집\n",
    "    * 이미 되어 있음\n",
    "  * 데이터 전처리 & 특징 추출\n",
    "    * 파일 읽어오는 함수 만들기\n",
    "    * 읽어온 파일 내용을 알파벳만으로 전처리 (data cleansing)\n",
    "    * 정말 언어마다 알파벳 출현 빈도가 다른지, 알파벳 출현 빈도 히스토그램 그려보기(matplotlib 익힘)\n",
    "    * 학습할 모델에 적절한 형태로 입력(출현 빈도 벡터)과 출력(국가)을 분리\n",
    "  * 모델학습\n",
    "    * 사이킷런에서 제공하는 분류 모델 중에 적용\n",
    "  * 모델평가\n",
    "    * 학습한 모델에 테스트 데이터를 넣어 모델 평가"
   ]
  },
  {
   "cell_type": "markdown",
   "metadata": {},
   "source": [
    "### 파일 읽어오는 함수 만들기\n",
    "* 함수의 입력과 출력이 무엇이 되어야 하나 먼저 생각\n",
    "* 파일 종류(학습/테스트)와 파일리스트 인덱스를 주면 글과 국가명을 반환하도록 만들기\n",
    "* 즉,\n",
    "  * 입력\n",
    "    * 학습 / 테스트 디렉토리 경로\n",
    "    * 각각의 파일 리스트 인덱스\n",
    "  * 출력\n",
    "    * 글\n",
    "    * 국가"
   ]
  },
  {
   "cell_type": "code",
   "execution_count": 14,
   "metadata": {},
   "outputs": [],
   "source": [
    "def get_file(filepath, filename):\n",
    "    \"\"\"\n",
    "    args:\n",
    "        데이터 디렉토리, 데이터 파일 이름\n",
    "    return:\n",
    "        파일에서 읽은 모든 문장을 한 문자열로 반환\n",
    "    \"\"\"\n",
    "    fullpath = os.path.join(filepath, filename)\n",
    "    with open(fullpath, 'r', encoding='utf8') as f:\n",
    "        lines = f.readlines()\n",
    "    \n",
    "    temp = str()\n",
    "    for line in lines:\n",
    "        temp += line\n",
    "        \n",
    "    return temp, filename[:2]"
   ]
  },
  {
   "cell_type": "markdown",
   "metadata": {},
   "source": [
    "* 만든 함수를 확인 해보기"
   ]
  },
  {
   "cell_type": "code",
   "execution_count": 15,
   "metadata": {},
   "outputs": [],
   "source": [
    "words, country = get_file(train_path, train_files[6])"
   ]
  },
  {
   "cell_type": "code",
   "execution_count": 16,
   "metadata": {},
   "outputs": [
    {
     "data": {
      "text/plain": [
       "\" Vous lisez un «\\xa0bon article\\xa0».\\n\\n\\n\\n\\n\\nPalais de Westminster, l'abbaye de Westminster et l'église Sainte-Marguerite\\xa0*\\n\\n\\n\\n\\n\\n\\nPatrimoine mondial de l'UNESCO\\n\\n\\n\\n\\n\\n\\n\\n\\n\\n\\nLe palais de Westminster vu depuis le\""
      ]
     },
     "execution_count": 16,
     "metadata": {},
     "output_type": "execute_result"
    }
   ],
   "source": [
    "words[:200]"
   ]
  },
  {
   "cell_type": "code",
   "execution_count": 17,
   "metadata": {},
   "outputs": [
    {
     "data": {
      "text/plain": [
       "'fr'"
      ]
     },
     "execution_count": 17,
     "metadata": {},
     "output_type": "execute_result"
    }
   ],
   "source": [
    "country"
   ]
  },
  {
   "cell_type": "markdown",
   "metadata": {},
   "source": [
    "## 읽어온 파일 내용을 알파벳만으로 전처리 (data cleansing)\n",
    "* 앞서 읽어온 데이터에서 알파벳 외의 줄넘김 문자나 숫자 등이 섞여 있음\n",
    "* 정규표현식을 사용하여 읽어온 내용을 알파벳만으로 전처리\n",
    "* 정규표현식이란?\n",
    "  * 특정 규칙을 따르는 문자열 집합을 다루는 데 사용하는 방법\n",
    "  * 문자열 검색과 치환에 사용함"
   ]
  },
  {
   "cell_type": "code",
   "execution_count": 18,
   "metadata": {},
   "outputs": [],
   "source": [
    "# 정규표현식 모듈 불러오기\n",
    "import re"
   ]
  },
  {
   "cell_type": "code",
   "execution_count": 19,
   "metadata": {},
   "outputs": [
    {
     "data": {
      "text/plain": [
       "['l', 'l']"
      ]
     },
     "execution_count": 19,
     "metadata": {},
     "output_type": "execute_result"
    }
   ],
   "source": [
    "# l 이 두번 들어 있기 때문에 l이 두 개 담긴 리스트가 반환\n",
    "re.findall(\"[l]\", \"hello\")"
   ]
  },
  {
   "cell_type": "code",
   "execution_count": 20,
   "metadata": {},
   "outputs": [
    {
     "data": {
      "text/plain": [
       "['h', 'e', 'o']"
      ]
     },
     "execution_count": 20,
     "metadata": {},
     "output_type": "execute_result"
    }
   ],
   "source": [
    "# ^은 not으로 규칙 반대\n",
    "re.findall(\"[^l]\", \"hello\")"
   ]
  },
  {
   "cell_type": "code",
   "execution_count": 21,
   "metadata": {},
   "outputs": [
    {
     "data": {
      "text/plain": [
       "['dog']"
      ]
     },
     "execution_count": 21,
     "metadata": {},
     "output_type": "execute_result"
    }
   ],
   "source": [
    "# 대괄호가 없으면 완벽히 맞아떨어지는 단어 찾음\n",
    "re.findall(\"dog\", \"cats and dogs\")"
   ]
  },
  {
   "cell_type": "code",
   "execution_count": 22,
   "metadata": {},
   "outputs": [
    {
     "data": {
      "text/plain": [
       "['d', 'o', 'd', 'g']"
      ]
     },
     "execution_count": 22,
     "metadata": {},
     "output_type": "execute_result"
    }
   ],
   "source": [
    "# 대괄호 안의 문자는 순서 따지지 않고 하나하나 찾음을 주의\n",
    "re.findall(\"[dog]\", \"LA dodgers\")"
   ]
  },
  {
   "cell_type": "code",
   "execution_count": 23,
   "metadata": {},
   "outputs": [
    {
     "name": "stdout",
     "output_type": "stream",
     "text": [
      "['A', 'r', 'e', 'g', 'u', 'l', 'a', 'r', 'e', 'x', 'p', 'r', 'e', 's', 's', 'i', 'o', 'n', 's', 'h', 'o', 'r', 't', 'e', 'n', 'e', 'd', 'a', 's', 'r', 'e', 'g', 'e', 'x', 'o', 'r', 'r', 'e', 'g', 'e', 'x', 'p', 'a', 'l', 's', 'o', 'r', 'e', 'f', 'e', 'r', 'r', 'e', 'd', 't', 'o', 'a', 's', 'r', 'a', 't', 'i', 'o', 'n', 'a', 'l', 'e', 'x', 'p', 'r', 'e', 's', 's', 'i', 'o', 'n', 'i', 's', 'a', 's', 'e', 'q', 'u', 'e', 'n', 'c', 'e', 'o', 'f', 'c', 'h', 'a', 'r', 'a', 'c', 't', 'e', 'r', 's', 't', 'h', 'a', 't', 'd', 'e', 'f', 'i', 'n', 'e', 'a', 's', 'e', 'a', 'r', 'c', 'h', 'p', 'a', 't', 't', 'e', 'r', 'n', 'U', 's', 'u', 'a', 'l', 'l', 'y', 's', 'u', 'c', 'h', 'p', 'a', 't', 't', 'e', 'r', 'n', 's', 'a', 'r', 'e', 'u', 's', 'e', 'd', 'b', 'y', 's', 't', 'r', 'i', 'n', 'g', 's', 'e', 'a', 'r', 'c', 'h', 'i', 'n', 'g', 'a', 'l', 'g', 'o', 'r', 'i', 't', 'h', 'm', 's', 'f', 'o', 'r', 'f', 'i', 'n', 'd', 'o', 'r', 'f', 'i', 'n', 'd', 'a', 'n', 'd', 'r', 'e', 'p', 'l', 'a', 'c', 'e', 'o', 'p', 'e', 'r', 'a', 't', 'i', 'o', 'n', 's', 'o', 'n', 's', 't', 'r', 'i', 'n', 'g', 's', 'o', 'r', 'f', 'o', 'r', 'i', 'n', 'p', 'u', 't', 'v', 'a', 'l', 'i', 'd', 'a', 't', 'i', 'o', 'n', 'I', 't', 'i', 's', 'a', 't', 'e', 'c', 'h', 'n', 'i', 'q', 'u', 'e', 'd', 'e', 'v', 'e', 'l', 'o', 'p', 'e', 'd', 'i', 'n', 't', 'h', 'e', 'o', 'r', 'e', 't', 'i', 'c', 'a', 'l', 'c', 'o', 'm', 'p', 'u', 't', 'e', 'r', 's', 'c', 'i', 'e', 'n', 'c', 'e', 'a', 'n', 'd', 'f', 'o', 'r', 'm', 'a', 'l', 'l', 'a', 'n', 'g', 'u', 'a', 'g', 'e', 't', 'h', 'e', 'o', 'r', 'y']\n"
     ]
    }
   ],
   "source": [
    "# 우리 문제에서는 알파벳만 찾으면 되므로 아래 규칙을 사용\n",
    "print(re.findall(\"[a-zA-Z]\", 'A regular expression (shortened as regex or regexp;[1] also referred to as rational expression)[2][3] is a sequence of characters that define a search pattern. Usually such patterns are used by string searching algorithms for \"find\" or \"find and replace\" operations on strings, or for input validation. It is a technique developed in theoretical computer science and formal language theory.'))"
   ]
  },
  {
   "cell_type": "code",
   "execution_count": 24,
   "metadata": {},
   "outputs": [],
   "source": [
    "def get_frequency(path, file):\n",
    "    \"\"\"\n",
    "    args:\n",
    "        파일 위치하는 디렉토리, 파일 이름\n",
    "    return:\n",
    "        정규화 된 알파벳 문자 출현 빈도 (출현 비율) 딕셔너리\n",
    "        키: 알파벳\n",
    "        값: 출현 비율\n",
    "    \"\"\"\n",
    "    words, country = get_file(path, file)\n",
    "\n",
    "    # words 에는 알파벳 외 다양한 문자가 들어있다는 것을 확인했음\n",
    "    # 정규식을 써서 알파벳만 찾아옴\n",
    "    # 모든 알파벳을 소문자로 변환\n",
    "    alphabet = sorted(re.findall('[a-zA-Z]', words))\n",
    "    alphabet = [a.lower() for a in alphabet]\n",
    "\n",
    "    alphabet_frequency = dict()\n",
    "    \n",
    "    # 영어 소문자 a는 97부터 시작 -> z는 97+26\n",
    "    # 포매팅할 때, c로 나타내면 숫자가 문자(또는 이에 매칭되는 기호)로 나타남\n",
    "    for i in range(97,97+26):\n",
    "        c = f\"{i:c}\"\n",
    "        alphabet_frequency[c] = alphabet.count(c)\n",
    "    \n",
    "    # 글의 길이마다 알파벳 최대 개수가 다를 것임\n",
    "    # 그래서 최대 알파벳 개수로 나누어주어 정규화 해줌\n",
    "    max_frequency = max(alphabet_frequency.values())\n",
    "    \n",
    "    # 키, 밸류로 루프에서 정규화\n",
    "    for k, v in alphabet_frequency.items():\n",
    "        alphabet_frequency[k] = v / max_frequency\n",
    "        \n",
    "    return alphabet_frequency, country"
   ]
  },
  {
   "cell_type": "code",
   "execution_count": 25,
   "metadata": {},
   "outputs": [],
   "source": [
    "# 함수 잘 만들어졌나 하나 확인\n",
    "alphabet_frequency, country = get_frequency(train_path, train_files[7])"
   ]
  },
  {
   "cell_type": "code",
   "execution_count": 26,
   "metadata": {},
   "outputs": [
    {
     "name": "stdout",
     "output_type": "stream",
     "text": [
      "알파벳 빈도\n",
      " {'a': 0.4823529411764706, 'b': 0.08666666666666667, 'c': 0.23490196078431372, 'd': 0.2984313725490196, 'e': 1.0, 'f': 0.06980392156862746, 'g': 0.07019607843137254, 'h': 0.07647058823529412, 'i': 0.47372549019607846, 'j': 0.02, 'k': 0.006666666666666667, 'l': 0.3952941176470588, 'm': 0.2788235294117647, 'n': 0.5058823529411764, 'o': 0.4109803921568628, 'p': 0.20862745098039215, 'q': 0.04392156862745098, 'r': 0.5101960784313726, 's': 0.5196078431372549, 't': 0.4356862745098039, 'u': 0.3376470588235294, 'v': 0.08431372549019608, 'w': 0.017254901960784313, 'x': 0.03294117647058824, 'y': 0.03215686274509804, 'z': 0.000784313725490196} \n",
      "\n",
      "국가\n",
      " fr\n"
     ]
    }
   ],
   "source": [
    "print('알파벳 빈도\\n', alphabet_frequency,'\\n\\n국가\\n', country)"
   ]
  },
  {
   "cell_type": "markdown",
   "metadata": {},
   "source": [
    "## 정말 언어마다 알파벳 출현 빈도가 다른지, 알파벳 출현 빈도 히스토그램 그려보기(matplotlib 익힘)\n",
    "* plt.figure(figsize)\n",
    "  * 그림을 그리고자하는 도화지를 정의함\n",
    "  * figsize 인자로 도화지의 크기를 정함\n",
    "* plt.bar(x, y, alpha, label), plt.plot(), plt.scatter()\n",
    "  * 그래프 그려줌 (막대그래프, 선그래프, 산점도그래프)\n",
    "  * x축에 들어갈 값과 이에 해당하는 값(y)을 줌\n",
    "  * alpha: 막대그래프의 투명도 0에 가까우면 투명, 1에 가까우면 불투명\n",
    "  * label: 막대/선/점의 라벨\n",
    "* plt.ylim(bottom, top)\n",
    "  * 그래프의 y축 표현 범위\n",
    "  * bottom 부터 top 까지\n",
    "* plt.title(label)\n",
    "  * label: 그래프의 제목\n",
    "* plt.legend()\n",
    "  * 라벨을 화면에 나타냄\n",
    "* plt.show()\n",
    "  * 도화지에 그린 그림을 화면에 보여줌\n",
    "* plt.savefig(fname)\n",
    "  * 도화지에 그린 그림을 파일로 저장\n",
    "  * fname: 저장하고자 하는 파일의 이름"
   ]
  },
  {
   "cell_type": "code",
   "execution_count": 27,
   "metadata": {},
   "outputs": [],
   "source": [
    "import matplotlib.pyplot as plt\n",
    "\n",
    "%matplotlib inline"
   ]
  },
  {
   "cell_type": "code",
   "execution_count": 28,
   "metadata": {},
   "outputs": [
    {
     "data": {
      "text/plain": [
       "{'a': 0.7210743801652892,\n",
       " 'b': 0.12190082644628099,\n",
       " 'c': 0.43388429752066116,\n",
       " 'd': 0.4380165289256198,\n",
       " 'e': 1.0,\n",
       " 'f': 0.1487603305785124,\n",
       " 'g': 0.18181818181818182,\n",
       " 'h': 0.4152892561983471,\n",
       " 'i': 0.7024793388429752,\n",
       " 'j': 0.01652892561983471,\n",
       " 'k': 0.05165289256198347,\n",
       " 'l': 0.5103305785123967,\n",
       " 'm': 0.25,\n",
       " 'n': 0.7355371900826446,\n",
       " 'o': 0.8512396694214877,\n",
       " 'p': 0.15702479338842976,\n",
       " 'q': 0.0,\n",
       " 'r': 0.737603305785124,\n",
       " 's': 0.5826446280991735,\n",
       " 't': 0.7644628099173554,\n",
       " 'u': 0.24586776859504134,\n",
       " 'v': 0.09297520661157024,\n",
       " 'w': 0.13429752066115702,\n",
       " 'x': 0.006198347107438017,\n",
       " 'y': 0.19008264462809918,\n",
       " 'z': 0.004132231404958678}"
      ]
     },
     "execution_count": 28,
     "metadata": {},
     "output_type": "execute_result"
    }
   ],
   "source": [
    "# 연습으로 하나 그려보기\n",
    "alphabet_frequency, country = get_frequency(train_path, train_files[0])\n",
    "\n",
    "# 알파벳에 따른 출현 빈도 (비율)\n",
    "alphabet_frequency"
   ]
  },
  {
   "cell_type": "markdown",
   "metadata": {},
   "source": [
    "* matplotlib 사용 예시에 따라 필요한 인자를 넣어보기\n",
    "* x축에는 알파벳이 나타나야 함\n",
    "* 그런데 딕셔너리는 키의 순서가 정렬되어 있지 않음\n",
    "* 따라서, x축에 영어 알파벳 순서대로 나타나는 리스트\n",
    "* y축에는 이에 대응하는 알파벳 출현 빈도를 매칭하는 리스트"
   ]
  },
  {
   "cell_type": "code",
   "execution_count": 29,
   "metadata": {},
   "outputs": [
    {
     "data": {
      "text/plain": [
       "['a',\n",
       " 'b',\n",
       " 'c',\n",
       " 'd',\n",
       " 'e',\n",
       " 'f',\n",
       " 'g',\n",
       " 'h',\n",
       " 'i',\n",
       " 'j',\n",
       " 'k',\n",
       " 'l',\n",
       " 'm',\n",
       " 'n',\n",
       " 'o',\n",
       " 'p',\n",
       " 'q',\n",
       " 'r',\n",
       " 's',\n",
       " 't',\n",
       " 'u',\n",
       " 'v',\n",
       " 'w',\n",
       " 'x',\n",
       " 'y',\n",
       " 'z']"
      ]
     },
     "execution_count": 29,
     "metadata": {},
     "output_type": "execute_result"
    }
   ],
   "source": [
    "# 영어 알파벳 순서대로 저장한 리스트\n",
    "ALPHABET = [f\"{a:c}\" for a in range(97, 97+26)]\n",
    "ALPHABET"
   ]
  },
  {
   "cell_type": "code",
   "execution_count": 30,
   "metadata": {},
   "outputs": [
    {
     "data": {
      "text/plain": [
       "[0.7210743801652892,\n",
       " 0.12190082644628099,\n",
       " 0.43388429752066116,\n",
       " 0.4380165289256198,\n",
       " 1.0,\n",
       " 0.1487603305785124,\n",
       " 0.18181818181818182,\n",
       " 0.4152892561983471,\n",
       " 0.7024793388429752,\n",
       " 0.01652892561983471,\n",
       " 0.05165289256198347,\n",
       " 0.5103305785123967,\n",
       " 0.25,\n",
       " 0.7355371900826446,\n",
       " 0.8512396694214877,\n",
       " 0.15702479338842976,\n",
       " 0.0,\n",
       " 0.737603305785124,\n",
       " 0.5826446280991735,\n",
       " 0.7644628099173554,\n",
       " 0.24586776859504134,\n",
       " 0.09297520661157024,\n",
       " 0.13429752066115702,\n",
       " 0.006198347107438017,\n",
       " 0.19008264462809918,\n",
       " 0.004132231404958678]"
      ]
     },
     "execution_count": 30,
     "metadata": {},
     "output_type": "execute_result"
    }
   ],
   "source": [
    "# 알파벳에 대응하는 출현 빈도 매칭된 리스트\n",
    "freq = [alphabet_frequency.get(a) for a in ALPHABET]\n",
    "freq"
   ]
  },
  {
   "cell_type": "code",
   "execution_count": 31,
   "metadata": {},
   "outputs": [
    {
     "data": {
      "image/png": "[encoded data removed]",
      "text/plain": [
       "<Figure size 1440x144 with 1 Axes>"
      ]
     },
     "metadata": {
      "needs_background": "light"
     },
     "output_type": "display_data"
    }
   ],
   "source": [
    "# 그림 그려보기\n",
    "plt.figure(figsize=(20, 2))\n",
    "plt.bar(ALPHABET, freq)\n",
    "plt.show()"
   ]
  },
  {
   "cell_type": "markdown",
   "metadata": {},
   "source": [
    "## 학습할 모델에 적절한 형태로 입력(출현 빈도 벡터)과 출력(국가)을 분리"
   ]
  },
  {
   "cell_type": "markdown",
   "metadata": {},
   "source": [
    "* 모든 데이터의 알파벳 빈도와 국가를 리스트에 넣음"
   ]
  },
  {
   "cell_type": "code",
   "execution_count": 32,
   "metadata": {},
   "outputs": [],
   "source": [
    "X_train = []\n",
    "y_train = []\n",
    "\n",
    "for f in train_files:\n",
    "    freq, country = get_frequency(train_path, f)\n",
    "    \n",
    "    # frqeuncy 만 넣기\n",
    "    X_train.append([freq.get(a) for a in ALPHABET])\n",
    "    y_train.append(country)"
   ]
  },
  {
   "cell_type": "code",
   "execution_count": 33,
   "metadata": {},
   "outputs": [],
   "source": [
    "X_test = []\n",
    "y_test = []\n",
    "\n",
    "for f in test_files:\n",
    "    freq, country = get_frequency(test_path, f)\n",
    "    \n",
    "    X_test.append([freq.get(a) for a in ALPHABET])\n",
    "    y_test.append(country)"
   ]
  },
  {
   "cell_type": "code",
   "execution_count": 34,
   "metadata": {},
   "outputs": [
    {
     "data": {
      "text/plain": [
       "['en',\n",
       " 'en',\n",
       " 'en',\n",
       " 'en',\n",
       " 'en',\n",
       " 'fr',\n",
       " 'fr',\n",
       " 'fr',\n",
       " 'fr',\n",
       " 'fr',\n",
       " 'id',\n",
       " 'id',\n",
       " 'id',\n",
       " 'id',\n",
       " 'id',\n",
       " 'tl',\n",
       " 'tl',\n",
       " 'tl',\n",
       " 'tl',\n",
       " 'tl']"
      ]
     },
     "execution_count": 34,
     "metadata": {},
     "output_type": "execute_result"
    }
   ],
   "source": [
    "y_train"
   ]
  },
  {
   "cell_type": "markdown",
   "metadata": {},
   "source": [
    "* 위에서 만든 코드를 바탕으로 함수 만들기"
   ]
  },
  {
   "cell_type": "code",
   "execution_count": 35,
   "metadata": {},
   "outputs": [],
   "source": [
    "def plot_freqs(a, b):\n",
    "    \"\"\"\n",
    "    args:\n",
    "        X_train 인덱스 범위\n",
    "    return:\n",
    "        None\n",
    "        화면에 알파벳 빈도 그래프 그림\n",
    "    \"\"\"\n",
    "    plt.figure(figsize=(20,2))\n",
    "\n",
    "    # 영어로 쓰인 글의 알파벳 출현 빈도 다섯개 화면에 나타내기\n",
    "    for i in range(a, b):\n",
    "        plt.bar(ALPHABET, X_train[i], alpha=1/(i+1-a))\n",
    "    \n",
    "    plt.title(y_train[a])\n",
    "    plt.ylim(0, 1)\n",
    "    plt.show()"
   ]
  },
  {
   "cell_type": "markdown",
   "metadata": {},
   "source": [
    "* 나라마다 데이터가 다섯 개 있으므로 다섯 개씩 끊어서 화면에 뿌려보자."
   ]
  },
  {
   "cell_type": "code",
   "execution_count": 36,
   "metadata": {},
   "outputs": [
    {
     "data": {
      "image/png": "[encoded data removed]",
      "text/plain": [
       "<Figure size 1440x144 with 1 Axes>"
      ]
     },
     "metadata": {
      "needs_background": "light"
     },
     "output_type": "display_data"
    }
   ],
   "source": [
    "plot_freqs(0, 5)"
   ]
  },
  {
   "cell_type": "code",
   "execution_count": 37,
   "metadata": {},
   "outputs": [
    {
     "data": {
      "image/png": "[encoded data removed]",
      "text/plain": [
       "<Figure size 1440x144 with 1 Axes>"
      ]
     },
     "metadata": {
      "needs_background": "light"
     },
     "output_type": "display_data"
    }
   ],
   "source": [
    "plot_freqs(5, 10)"
   ]
  },
  {
   "cell_type": "code",
   "execution_count": 38,
   "metadata": {},
   "outputs": [
    {
     "data": {
      "image/png": "[encoded data removed]",
      "text/plain": [
       "<Figure size 1440x144 with 1 Axes>"
      ]
     },
     "metadata": {
      "needs_background": "light"
     },
     "output_type": "display_data"
    }
   ],
   "source": [
    "plot_freqs(10, 15)"
   ]
  },
  {
   "cell_type": "code",
   "execution_count": 39,
   "metadata": {},
   "outputs": [
    {
     "data": {
      "image/png": "[encoded data removed]",
      "text/plain": [
       "<Figure size 1440x144 with 1 Axes>"
      ]
     },
     "metadata": {
      "needs_background": "light"
     },
     "output_type": "display_data"
    }
   ],
   "source": [
    "plot_freqs(15, 20)"
   ]
  },
  {
   "cell_type": "markdown",
   "metadata": {},
   "source": [
    "## 싸이킷런 공통 사용법\n",
    "싸이킷 런은 항상 이와 같은 구조를 가짐\n",
    "* 모델.fit(X, y)\n",
    "  * X를 넣었을 때 y라는 결과가 나오도록 학습\n",
    "* 모델.predict(X), 모델.transform(X)\n",
    "  * 학습된 모델에 X를 넣었을 때 값을 예측(predict;분류, 회귀)하거나 변환(transform)\n",
    "\n",
    "위 두 가지 공통 사용법만 머리에 담고 사용하면 쉬움"
   ]
  },
  {
   "cell_type": "markdown",
   "metadata": {},
   "source": [
    "## 차원 축소\n",
    "* 이 데이터는 입력 값이 26차원(알파벳 개수)인 고차원 데이터\n",
    "* 먼저 2차원 공간에 차원 축소를 이용해 나타내보기\n",
    "* 축소기.fit(X, y)\n",
    "  * y로 구분이 되도록 X를 차원축소하는 축소기를 학습시킴\n",
    "* 축소기.transform(X)\n",
    "  * 학습시킨 축소기로 X를 차원 축소 (또는 변환transform)\n",
    "* 축소기.fit_transform(X, y)\n",
    "  * 축소기를 학습시키면서 변환"
   ]
  },
  {
   "cell_type": "code",
   "execution_count": 40,
   "metadata": {},
   "outputs": [],
   "source": [
    "from sklearn.discriminant_analysis import LinearDiscriminantAnalysis as LDA"
   ]
  },
  {
   "cell_type": "code",
   "execution_count": 41,
   "metadata": {},
   "outputs": [],
   "source": [
    "# 2차원 공간에 나타내기\n",
    "lda = LDA(n_components=2)"
   ]
  },
  {
   "cell_type": "code",
   "execution_count": 42,
   "metadata": {},
   "outputs": [
    {
     "data": {
      "text/plain": [
       "LinearDiscriminantAnalysis(n_components=2, priors=None, shrinkage=None,\n",
       "                           solver='svd', store_covariance=False, tol=0.0001)"
      ]
     },
     "execution_count": 42,
     "metadata": {},
     "output_type": "execute_result"
    }
   ],
   "source": [
    "lda.fit(X_train,y_train)"
   ]
  },
  {
   "cell_type": "code",
   "execution_count": 43,
   "metadata": {},
   "outputs": [],
   "source": [
    "X_2d = lda.transform(X_train)"
   ]
  },
  {
   "cell_type": "code",
   "execution_count": 44,
   "metadata": {},
   "outputs": [
    {
     "data": {
      "image/png": "[encoded data removed]",
      "text/plain": [
       "<Figure size 360x360 with 1 Axes>"
      ]
     },
     "metadata": {
      "needs_background": "light"
     },
     "output_type": "display_data"
    }
   ],
   "source": [
    "plt.figure(figsize=(5,5))\n",
    "plt.scatter(X_2d[:5, 0], X_2d[:5, 1], label=y_train[0])\n",
    "plt.scatter(X_2d[5:10, 0], X_2d[5:10, 1], label=y_train[5])\n",
    "plt.scatter(X_2d[10:15, 0], X_2d[10:15, 1], label=y_train[10])\n",
    "plt.scatter(X_2d[15:20, 0], X_2d[15:20, 1], label=y_train[15])\n",
    "plt.legend()\n",
    "plt.show()"
   ]
  },
  {
   "cell_type": "markdown",
   "metadata": {},
   "source": [
    "## 차원 축소한 데이터를 모델에 학습하기"
   ]
  },
  {
   "cell_type": "markdown",
   "metadata": {},
   "source": [
    "위에서 익힌 모델 공통 사용법과 동일\n",
    "* 모델.fit(X, y)\n",
    "  * X를 넣었을 때 y라는 결과가 나오도록 학습\n",
    "* 모델.predict(X), 모델.transform(X)\n",
    "  * 학습된 모델에 X를 넣었을 때 값을 예측(predict;분류, 회귀)하거나 변환(transform)"
   ]
  },
  {
   "cell_type": "code",
   "execution_count": 45,
   "metadata": {},
   "outputs": [],
   "source": [
    "from sklearn.svm import LinearSVC, SVC\n",
    "from sklearn.preprocessing import LabelEncoder\n",
    "import numpy as np"
   ]
  },
  {
   "cell_type": "code",
   "execution_count": 46,
   "metadata": {},
   "outputs": [
    {
     "data": {
      "text/plain": [
       "array([0, 0, 0, 0, 0, 1, 1, 1, 1, 1, 2, 2, 2, 2, 2, 3, 3, 3, 3, 3])"
      ]
     },
     "execution_count": 46,
     "metadata": {},
     "output_type": "execute_result"
    }
   ],
   "source": [
    "# 영어로 된 국가 명을 숫자로 바꾸어줌\n",
    "# 이 작업은 아래에서 그래프로 그림을 그리기 위해서 하는 것일 뿐\n",
    "# 레이블 인코더 클래스 생성\n",
    "le = LabelEncoder()\n",
    "\n",
    "# 레이블 인코더를 학습(fit)시켜서 바로 변환(transform)\n",
    "y_digit = le.fit_transform(y_train)\n",
    "y_digit"
   ]
  },
  {
   "cell_type": "code",
   "execution_count": 70,
   "metadata": {},
   "outputs": [],
   "source": [
    "# 리니어 서포트 벡터 머신 클래스 생성\n",
    "# 이 모델은 선형 분리되는 모델 분류에 적합함\n",
    "# 산점도 그래프로 데이터들이 명확히 나누어지는 것을 확인 함\n",
    "linear_svc = LinearSVC(random_state=0, max_iter=1e5)"
   ]
  },
  {
   "cell_type": "code",
   "execution_count": 71,
   "metadata": {},
   "outputs": [
    {
     "data": {
      "text/plain": [
       "LinearSVC(C=1.0, class_weight=None, dual=True, fit_intercept=True,\n",
       "          intercept_scaling=1, loss='squared_hinge', max_iter=100000.0,\n",
       "          multi_class='ovr', penalty='l2', random_state=0, tol=0.0001,\n",
       "          verbose=0)"
      ]
     },
     "execution_count": 71,
     "metadata": {},
     "output_type": "execute_result"
    }
   ],
   "source": [
    "# 모델을 학습 시킴\n",
    "linear_svc.fit(X_2d, y_digit)"
   ]
  },
  {
   "cell_type": "code",
   "execution_count": 49,
   "metadata": {},
   "outputs": [],
   "source": [
    "# 학습한 모델로 예측\n",
    "y_pred = linear_svc.predict(X_2d)"
   ]
  },
  {
   "cell_type": "code",
   "execution_count": 50,
   "metadata": {},
   "outputs": [],
   "source": [
    "# 이 셀의 코드는 무시하기 바랍니다.\n",
    "# 모델의 학습 결과를 그려보기\n",
    "x = np.linspace(min(X_2d[:,0])-1e-0, max(X_2d[:,0])+1e-0, 100)\n",
    "y = np.linspace(min(X_2d[:,1])-1e-0, max(X_2d[:,1])+1e-0, 100)\n",
    "\n",
    "xx, yy = np.meshgrid(x, y)\n",
    "xy = list(zip(xx.flatten(), yy.flatten()))\n",
    "zz = linear_svc.predict(xy).reshape(xx.shape)"
   ]
  },
  {
   "cell_type": "code",
   "execution_count": 51,
   "metadata": {},
   "outputs": [
    {
     "data": {
      "text/plain": [
       "(100, 100)"
      ]
     },
     "execution_count": 51,
     "metadata": {},
     "output_type": "execute_result"
    }
   ],
   "source": [
    "# 이 셀의 코드는 무시하기 바랍니다.\n",
    "zz.shape"
   ]
  },
  {
   "cell_type": "code",
   "execution_count": 52,
   "metadata": {},
   "outputs": [
    {
     "data": {
      "image/png": "[encoded data removed]",
      "text/plain": [
       "<Figure size 360x360 with 1 Axes>"
      ]
     },
     "metadata": {
      "needs_background": "light"
     },
     "output_type": "display_data"
    }
   ],
   "source": [
    "# 이 셀의 코드는 무시하기 바랍니다.\n",
    "# 아래 그래프만 보세요.\n",
    "plt.figure(figsize=(5,5))\n",
    "plt.contourf(xx,yy,zz, alpha=.5)\n",
    "plt.scatter(X_2d[:5, 0], X_2d[:5, 1], label=y_train[0])\n",
    "plt.scatter(X_2d[5:10, 0], X_2d[5:10, 1], label=y_train[5])\n",
    "plt.scatter(X_2d[10:15, 0], X_2d[10:15, 1], label=y_train[10])\n",
    "plt.scatter(X_2d[15:20, 0], X_2d[15:20, 1], label=y_train[15])\n",
    "plt.legend()\n",
    "plt.show()"
   ]
  },
  {
   "cell_type": "markdown",
   "metadata": {},
   "source": [
    "* 테스트 데이터에 대해 적용해보기"
   ]
  },
  {
   "cell_type": "code",
   "execution_count": 53,
   "metadata": {},
   "outputs": [],
   "source": [
    "# 학습 데이터로 데이터 차원 축소기를 만들어둠\n",
    "# 학습한 차원 축소기에 테스트 데이터를 넣어서 차원 축소 실행\n",
    "X_2d_test = lda.fit_transform(X_test, lda.predict(X_test))"
   ]
  },
  {
   "cell_type": "code",
   "execution_count": 54,
   "metadata": {},
   "outputs": [
    {
     "data": {
      "image/png": "[encoded data removed]",
      "text/plain": [
       "<Figure size 720x720 with 1 Axes>"
      ]
     },
     "metadata": {
      "needs_background": "light"
     },
     "output_type": "display_data"
    }
   ],
   "source": [
    "# 이 셀의 코드는 무시하기 바랍니다.\n",
    "# 아래 그래프만 보세요.\n",
    "# 차원 축소기로 2차원으로 옮긴 데이터를 리니어 서포트벡터 머신에 학습한 결과\n",
    "plt.figure(figsize=(10,10))\n",
    "\n",
    "plt.contourf(xx,yy,zz, alpha=.5)\n",
    "\n",
    "plt.scatter(X_2d[:5, 0], X_2d[:5, 1], label=y_train[0])\n",
    "plt.scatter(X_2d[5:10, 0], X_2d[5:10, 1], label=y_train[5])\n",
    "plt.scatter(X_2d[10:15, 0], X_2d[10:15, 1], label=y_train[10])\n",
    "plt.scatter(X_2d[15:20, 0], X_2d[15:20, 1], label=y_train[15])\n",
    "\n",
    "for i in range(len(X_2d_test)):\n",
    "    _x, _y = X_2d_test[i]\n",
    "    plt.scatter(_x, _y, marker='*', linewidths=3)\n",
    "    plt.annotate(s='real:'+y_test[i].upper()+' pred:'+le.inverse_transform(linear_svc.predict(X_2d_test[i:i+1]))[0].upper(), xy=(_x,_y))\n",
    "plt.legend()\n",
    "plt.show()"
   ]
  },
  {
   "cell_type": "code",
   "execution_count": 55,
   "metadata": {},
   "outputs": [
    {
     "name": "stdout",
     "output_type": "stream",
     "text": [
      "정답: ['tl', 'en', 'en', 'fr', 'id', 'id', 'fr', 'tl']\n",
      "예측: ['en', 'fr', 'fr', 'fr', 'tl', 'tl', 'fr', 'tl']\n"
     ]
    }
   ],
   "source": [
    "# 국가 예측\n",
    "y_pred = list(le.inverse_transform(linear_svc.predict(X_2d_test)))\n",
    "\n",
    "# 차원 축소기로 2차원으로 옮긴 데이터를 리니어 서포트벡터 머신에 학습한 결과\n",
    "print(\"정답:\", y_test)\n",
    "print(\"예측:\", y_pred)"
   ]
  },
  {
   "cell_type": "markdown",
   "metadata": {},
   "source": [
    "## 모델 평가 방법\n",
    "* 학습 시킨 모델의 성능 확인 방법\n",
    "* 공통 사용법\n",
    "  * 평가방법(실제 데이터, 예측 데이터)\n",
    "  * 예시\n",
    "    * accuracy_score(y_test, y_pred)"
   ]
  },
  {
   "cell_type": "code",
   "execution_count": 56,
   "metadata": {},
   "outputs": [],
   "source": [
    "from sklearn.metrics import accuracy_score, f1_score, precision_score, recall_score"
   ]
  },
  {
   "cell_type": "markdown",
   "metadata": {},
   "source": [
    "* 정확도: 맞은 것은 맞게, 틀린 것은 틀리게 분류한 비율\n",
    "$$\n",
    "accuracy = {TP + TN \\over TP + TN + FP + FN}\n",
    "$$"
   ]
  },
  {
   "cell_type": "code",
   "execution_count": 57,
   "metadata": {},
   "outputs": [
    {
     "name": "stdout",
     "output_type": "stream",
     "text": [
      "정확도: 37.50%\n"
     ]
    }
   ],
   "source": [
    "acc = accuracy_score(y_test, y_pred)\n",
    "print(f'정확도: {acc*100:.2f}%')"
   ]
  },
  {
   "cell_type": "markdown",
   "metadata": {},
   "source": [
    "* precision과 recall은 검색 시스템의 평가에 주로 사용"
   ]
  },
  {
   "cell_type": "markdown",
   "metadata": {},
   "source": [
    "* Precision: 찾은 것 중 맞춘 개수. 모델이 틀린 것을 맞다고 예측하지 않는 능력 평가"
   ]
  },
  {
   "cell_type": "markdown",
   "metadata": {},
   "source": [
    "$$\n",
    "precision = {relevant \\land retrieved \\over retrieved}\n",
    "$$\n",
    "\n",
    "$$\n",
    "precision = {TP \\over TP + FP}\n",
    "$$"
   ]
  },
  {
   "cell_type": "code",
   "execution_count": 72,
   "metadata": {},
   "outputs": [
    {
     "data": {
      "text/plain": [
       "array([1., 1., 1., 1.])"
      ]
     },
     "execution_count": 72,
     "metadata": {},
     "output_type": "execute_result"
    }
   ],
   "source": [
    "precision = precision_score(y_test, y_pred, average=None)\n",
    "precision"
   ]
  },
  {
   "cell_type": "markdown",
   "metadata": {},
   "source": [
    "* Recall: 모든 것 중 올바르게 찾은 개수. 모델이 맞는 것을 얼마나 찾아냈는지 평가"
   ]
  },
  {
   "cell_type": "markdown",
   "metadata": {},
   "source": [
    "$$\n",
    "recall = {relevant \\land retrieved \\over relevant}\n",
    "$$\n",
    "\n",
    "$$\n",
    "recall = {TP \\over TP + FN}\n",
    "$$"
   ]
  },
  {
   "cell_type": "code",
   "execution_count": 59,
   "metadata": {},
   "outputs": [
    {
     "data": {
      "text/plain": [
       "array([0. , 1. , 0. , 0.5])"
      ]
     },
     "execution_count": 59,
     "metadata": {},
     "output_type": "execute_result"
    }
   ],
   "source": [
    "recall = recall_score(y_test, y_pred, average=None)\n",
    "recall"
   ]
  },
  {
   "cell_type": "markdown",
   "metadata": {},
   "source": [
    "* f1 score\n",
    "$$\n",
    "f1 score = {2 \\cdot precision \\cdot recall \\over precision + recall}\n",
    "$$"
   ]
  },
  {
   "cell_type": "code",
   "execution_count": 60,
   "metadata": {},
   "outputs": [
    {
     "data": {
      "text/plain": [
       "array([0.        , 0.66666667, 0.        , 0.4       ])"
      ]
     },
     "execution_count": 60,
     "metadata": {},
     "output_type": "execute_result"
    }
   ],
   "source": [
    "f1 = f1_score(y_test, y_pred, average=None)\n",
    "f1"
   ]
  },
  {
   "cell_type": "markdown",
   "metadata": {},
   "source": [
    "## 차원 축소 없이 SVM 에 적용\n",
    "* RBF 커널 매핑\n",
    "* 사용법은 동일\n",
    "* 모델.fit(X, y)\n",
    "* 모델.predict(X)"
   ]
  },
  {
   "cell_type": "code",
   "execution_count": 61,
   "metadata": {},
   "outputs": [],
   "source": [
    "# 분류기 생성\n",
    "svm = SVC()"
   ]
  },
  {
   "cell_type": "code",
   "execution_count": 62,
   "metadata": {},
   "outputs": [
    {
     "data": {
      "text/plain": [
       "SVC(C=1.0, break_ties=False, cache_size=200, class_weight=None, coef0=0.0,\n",
       "    decision_function_shape='ovr', degree=3, gamma='scale', kernel='rbf',\n",
       "    max_iter=-1, probability=False, random_state=None, shrinking=True,\n",
       "    tol=0.001, verbose=False)"
      ]
     },
     "execution_count": 62,
     "metadata": {},
     "output_type": "execute_result"
    }
   ],
   "source": [
    "# 분류기에 데이터 넣어서 학습시킴\n",
    "svm.fit(X_train, y_train)"
   ]
  },
  {
   "cell_type": "code",
   "execution_count": 63,
   "metadata": {},
   "outputs": [],
   "source": [
    "# 학습 된 분류기로 예측\n",
    "y_pred = svm.predict(X_test)"
   ]
  },
  {
   "cell_type": "code",
   "execution_count": 64,
   "metadata": {},
   "outputs": [
    {
     "name": "stdout",
     "output_type": "stream",
     "text": [
      "정답: ['tl', 'en', 'en', 'fr', 'id', 'id', 'fr', 'tl']\n",
      "예측: ['tl', 'en', 'en', 'fr', 'id', 'id', 'fr', 'tl']\n"
     ]
    }
   ],
   "source": [
    "print('정답:', y_test)\n",
    "print('예측:', list(y_pred))"
   ]
  },
  {
   "cell_type": "code",
   "execution_count": 65,
   "metadata": {},
   "outputs": [
    {
     "name": "stdout",
     "output_type": "stream",
     "text": [
      "정확도: 100.00%\n"
     ]
    }
   ],
   "source": [
    "acc = accuracy_score(y_test, y_pred)\n",
    "print(f'정확도: {acc*100:.2f}%')"
   ]
  },
  {
   "cell_type": "code",
   "execution_count": 66,
   "metadata": {},
   "outputs": [
    {
     "data": {
      "text/plain": [
       "array([1., 1., 1., 1.])"
      ]
     },
     "execution_count": 66,
     "metadata": {},
     "output_type": "execute_result"
    }
   ],
   "source": [
    "precision = precision_score(y_test, y_pred, average=None)\n",
    "precision"
   ]
  },
  {
   "cell_type": "code",
   "execution_count": 67,
   "metadata": {},
   "outputs": [
    {
     "data": {
      "text/plain": [
       "array([1., 1., 1., 1.])"
      ]
     },
     "execution_count": 67,
     "metadata": {},
     "output_type": "execute_result"
    }
   ],
   "source": [
    "recall = recall_score(y_test, y_pred, average=None)\n",
    "recall"
   ]
  },
  {
   "cell_type": "code",
   "execution_count": 68,
   "metadata": {},
   "outputs": [
    {
     "data": {
      "text/plain": [
       "array([1., 1., 1., 1.])"
      ]
     },
     "execution_count": 68,
     "metadata": {},
     "output_type": "execute_result"
    }
   ],
   "source": [
    "f1 = f1_score(y_test, y_pred, average=None)\n",
    "f1"
   ]
  },
  {
   "cell_type": "code",
   "execution_count": null,
   "metadata": {},
   "outputs": [],
   "source": []
  }
 ],
 "metadata": {
  "kernelspec": {
   "display_name": "Python 3",
   "language": "python",
   "name": "python3"
  },
  "language_info": {
   "codemirror_mode": {
    "name": "ipython",
    "version": 3
   },
   "file_extension": ".py",
   "mimetype": "text/x-python",
   "name": "python",
   "nbconvert_exporter": "python",
   "pygments_lexer": "ipython3",
   "version": "3.7.6"
  }
 },
 "nbformat": 4,
 "nbformat_minor": 4
}
