{
 "cells": [
  {
   "cell_type": "markdown",
   "metadata": {},
   "source": [
    "# 함수 보충 자료"
   ]
  },
  {
   "cell_type": "markdown",
   "metadata": {},
   "source": [
    "## 함수 매개변수"
   ]
  },
  {
   "cell_type": "markdown",
   "metadata": {},
   "source": [
    "* 함수의 매개변수는 값을 전달하는 통로 역할만 함"
   ]
  },
  {
   "cell_type": "code",
   "execution_count": null,
   "metadata": {},
   "outputs": [],
   "source": [
    "# 매개변수 a는 값 전달 통로\n",
    "def function_a(a, L = list()):\n",
    "    L.append(a) # a에 전달 된 \"값\"을 L이라는 리스트에 넣음\n",
    "    print(L)\n",
    "    \n",
    "# a이라는 통로에 1이 전달 됨\n",
    "function_a(1) # function_a(a = 1) 과 같은 의미\n",
    "function_a(2)\n",
    "function_a(3)"
   ]
  },
  {
   "cell_type": "code",
   "execution_count": null,
   "metadata": {},
   "outputs": [],
   "source": [
    "# 매개변수 이름만 바꾸어도 동일한 결과\n",
    "def function_b(b, L = list()):\n",
    "    L.append(b)\n",
    "    print(L)\n",
    "    \n",
    "function_b(1)\n",
    "function_b(2)\n",
    "function_b(3)"
   ]
  },
  {
   "cell_type": "markdown",
   "metadata": {},
   "source": [
    "## 함수 만들기 연습"
   ]
  },
  {
   "cell_type": "markdown",
   "metadata": {},
   "source": [
    "* 사칙 연산 함수 만들기\n",
    "\n",
    "정수나 실수를 입력받아서 사칙 연산"
   ]
  },
  {
   "cell_type": "code",
   "execution_count": null,
   "metadata": {},
   "outputs": [],
   "source": [
    "def add(a, b):\n",
    "    return a + b\n",
    "\n",
    "def subtract(a, b):\n",
    "    return a - b\n",
    "\n",
    "def multiply(a, b):\n",
    "    return a * b\n",
    "\n",
    "def divide(a, b):\n",
    "    return a / b"
   ]
  },
  {
   "cell_type": "markdown",
   "metadata": {},
   "source": [
    "리스트나 튜플을 입력받아 원소별로 사칙 연산 (리스트나 튜플 둘 입력, 리스트나 튜플 반환)"
   ]
  },
  {
   "cell_type": "code",
   "execution_count": null,
   "metadata": {},
   "outputs": [],
   "source": [
    "def element_wise_add(a, b):\n",
    "    _temp = []\n",
    "\n",
    "    for i in range(len(a)):\n",
    "        _temp += a[i] + b[i]\n",
    "        \n",
    "    return _temp\n",
    "\n",
    "def element_wise_subtract(a, b):\n",
    "    _temp = []\n",
    "    \n",
    "    for i in range(len(a)):\n",
    "        _temp += a[i] - b[i]\n",
    "        \n",
    "    return _temp\n",
    "\n",
    "def element_wise_multiply(a, b):\n",
    "    _temp = []\n",
    "    \n",
    "    for i in range(len(a)):\n",
    "        _temp += a[i] * b[i]\n",
    "        \n",
    "    return _temp\n",
    "\n",
    "def element_wise_divide(a, b):\n",
    "    _temp = []\n",
    "    \n",
    "    for i in range(len(a)):\n",
    "        _temp += a[i] / b[i]\n",
    "        \n",
    "    return _temp"
   ]
  },
  {
   "cell_type": "markdown",
   "metadata": {},
   "source": [
    "* 리스트 / 튜플 원소 카운트 함수 만들기\n",
    "\n",
    "리스트 a에 대해, a.count(원소)와 동일한 기능을 하는 함수를 만들어 보자."
   ]
  },
  {
   "cell_type": "code",
   "execution_count": null,
   "metadata": {},
   "outputs": [],
   "source": [
    "def count_element(listname, element):\n",
    "    count = 0\n",
    "    \n",
    "    for e in listname:\n",
    "        if e == element:\n",
    "            count += 1\n",
    "            \n",
    "    return count"
   ]
  },
  {
   "cell_type": "markdown",
   "metadata": {},
   "source": [
    "* 리스트 / 튜플의 인덱스 함수 만들기\n",
    "\n",
    "리스트 a에 대해, a.index(원소)와 동일한 기능을 하는 함수를 만들어 보자."
   ]
  },
  {
   "cell_type": "code",
   "execution_count": null,
   "metadata": {},
   "outputs": [],
   "source": [
    "def index_element(listname, element):\n",
    "    for i in range(len(listname)):\n",
    "        if listname[i] == element:\n",
    "            return i"
   ]
  },
  {
   "cell_type": "markdown",
   "metadata": {},
   "source": [
    "* 딕셔너리의 값 세는 함수 만들기\n",
    "\n",
    "딕셔너리 a에 대해 값은 a.values()로 알아낼 수 있다."
   ]
  },
  {
   "cell_type": "code",
   "execution_count": null,
   "metadata": {},
   "outputs": [],
   "source": [
    "# 1. 딕셔너리의 값을 리스트에 넣음\n",
    "# 2. 리스트의 특정 원소 개수를 세어줌\n",
    "def count_values(dictname, value):\n",
    "    value_list = dictname.values()\n",
    "    return value_list.count(value)"
   ]
  },
  {
   "cell_type": "markdown",
   "metadata": {},
   "source": [
    "* 주어진 범위 내에서 소수 찾기 함수 만들기 (6주차 연습문제 4)"
   ]
  },
  {
   "cell_type": "code",
   "execution_count": null,
   "metadata": {},
   "outputs": [],
   "source": [
    "# 2 이상 100 이하의 정수에서 소수 찾기는 아래와 같이 풀이함\n",
    "prime = set()\n",
    "\n",
    "for i in range(2,100+1):\n",
    "    prime.add(i)\n",
    "    \n",
    "indexer = sorted(prime)\n",
    "\n",
    "for i in range(len(indexer)):\n",
    "    num = indexer[i]\n",
    "    no_prime = set()\n",
    "    for e in prime:\n",
    "        if e%num == 0 and e != num:\n",
    "            no_prime.add(e)\n",
    "    prime -= no_prime\n",
    "    \n",
    "print(prime)"
   ]
  },
  {
   "cell_type": "code",
   "execution_count": null,
   "metadata": {},
   "outputs": [],
   "source": [
    "# 위 코드를 그대로 가져와서 range를 함수로 받을 수 있도록 하면 됨\n",
    "def prime(a, b):\n",
    "    \"\"\"\n",
    "    args:\n",
    "        소수 찾고 싶은 범위\n",
    "    return:\n",
    "        범위 내 소수\n",
    "    \"\"\"\n",
    "    \n",
    "    prime = set()\n",
    "    \n",
    "    # 범위를 매개변수로 받음\n",
    "    for i in range(a, b+1):\n",
    "        prime.add(i)\n",
    "        \n",
    "    # 소수가 될지 말지는 2부터 b까지 범위 숫자로 나누어가며 확인해야함\n",
    "    indexer = [i for i in range(2, b+1)]\n",
    "    \n",
    "    for i in range(len(indexer)):\n",
    "        num = indexer[i]\n",
    "        no_prime = set()\n",
    "        for e in prime:\n",
    "            if e%num == 0 and e != num:\n",
    "                no_prime.add(e)\n",
    "        prime -= no_prime\n",
    "\n",
    "    print(prime)"
   ]
  },
  {
   "cell_type": "markdown",
   "metadata": {},
   "source": [
    "* 삼각형 판별 함수 만들기 (5주차 연습문제 2번)"
   ]
  },
  {
   "cell_type": "code",
   "execution_count": null,
   "metadata": {},
   "outputs": [],
   "source": [
    "# 수업에서 했던 풀이\n",
    "triangle = []\n",
    "\n",
    "for i in range(3):\n",
    "    triangle.append(int(input()))\n",
    "    \n",
    "triangle.sort()\n",
    "\n",
    "print(triangle)\n",
    "\n",
    "if triangle[0] + triangle[1] > triangle[2]:\n",
    "    print('yes')\n",
    "else:\n",
    "    print('no')"
   ]
  },
  {
   "cell_type": "code",
   "execution_count": null,
   "metadata": {},
   "outputs": [],
   "source": [
    "# 함수의 매개변수로 세 변의 길이를 입력받도록 하면 됨\n",
    "def check_triangle(a, b, c):\n",
    "    triangle = []\n",
    "\n",
    "    # 리스트에 세 변 넣는 코드만 수정\n",
    "    triangle.append(a)\n",
    "    triangle.append(b)\n",
    "    triangle.append(c)\n",
    "\n",
    "    triangle.sort()\n",
    "\n",
    "    print(triangle)\n",
    "\n",
    "    if triangle[0] + triangle[1] > triangle[2]:\n",
    "        print('yes')\n",
    "    else:\n",
    "        print('no')"
   ]
  },
  {
   "cell_type": "markdown",
   "metadata": {},
   "source": [
    "* 유클리드 거리 계산기 (5주차 연습문제 4번)"
   ]
  },
  {
   "cell_type": "code",
   "execution_count": null,
   "metadata": {},
   "outputs": [],
   "source": [
    "# 수업 풀이법\n",
    "P = []\n",
    "Q = []\n",
    "\n",
    "for _ in range(2):\n",
    "    P.append(float(input()))\n",
    "for _ in range(2):\n",
    "    Q.append(float(input()))\n",
    "    \n",
    "D = 0.\n",
    "\n",
    "for i in range(2):\n",
    "    D += (P[i] - Q[i])**2\n",
    "\n",
    "D **= 1/2\n",
    "\n",
    "print(D)"
   ]
  },
  {
   "cell_type": "code",
   "execution_count": null,
   "metadata": {},
   "outputs": [],
   "source": [
    "# 함수로 만드려면 P, Q만 매개변수로 받도록 하면 됨\n",
    "def euclidean_distance(P, Q):\n",
    "    D = 0.\n",
    "\n",
    "    for i in range(2):\n",
    "        D += (P[i] - Q[i])**2\n",
    "\n",
    "    D **= 1/2\n",
    "\n",
    "    print(D)"
   ]
  },
  {
   "cell_type": "markdown",
   "metadata": {},
   "source": [
    "* 피보나치 수열 특정 개수 출력기 (4주차 4번 문제)"
   ]
  },
  {
   "cell_type": "code",
   "execution_count": null,
   "metadata": {},
   "outputs": [],
   "source": [
    "# 수업 때는 아래처럼 풀이\n",
    "f0 = 0\n",
    "f1 = 1\n",
    "print(f0, f1, end=' ')\n",
    "\n",
    "for i in range(18):\n",
    "    temp = f1\n",
    "    f1 = f1 + f0\n",
    "    f0 = temp\n",
    "    print(f1, end=' ')"
   ]
  },
  {
   "cell_type": "code",
   "execution_count": null,
   "metadata": {},
   "outputs": [],
   "source": [
    "# range만 인자로 주면 됨\n",
    "def fibonacci_series(N):\n",
    "    f0 = 0\n",
    "    f1 = 1\n",
    "    print(f0, f1, end=' ')\n",
    "\n",
    "    for i in range(N):\n",
    "        temp = f1\n",
    "        f1 = f1 + f0\n",
    "        f0 = temp\n",
    "        print(f1, end=' ')"
   ]
  }
 ],
 "metadata": {
  "kernelspec": {
   "display_name": "Python 3",
   "language": "python",
   "name": "python3"
  },
  "language_info": {
   "codemirror_mode": {
    "name": "ipython",
    "version": 3
   },
   "file_extension": ".py",
   "mimetype": "text/x-python",
   "name": "python",
   "nbconvert_exporter": "python",
   "pygments_lexer": "ipython3",
   "version": "3.7.7"
  }
 },
 "nbformat": 4,
 "nbformat_minor": 4
}
