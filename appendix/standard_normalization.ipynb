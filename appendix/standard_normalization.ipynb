{
 "cells": [
  {
   "cell_type": "markdown",
   "metadata": {},
   "source": [
    "# 표준정규화 예제"
   ]
  },
  {
   "cell_type": "code",
   "execution_count": 1,
   "metadata": {},
   "outputs": [],
   "source": [
    "import numpy as np\n",
    "import matplotlib.pyplot as plt\n",
    "from sklearn.preprocessing import StandardScaler\n",
    "import scipy\n",
    "\n",
    "%matplotlib inline"
   ]
  },
  {
   "cell_type": "markdown",
   "metadata": {},
   "source": [
    "## 아래와 같은 데이터 $X$를 측정했다고 합시다."
   ]
  },
  {
   "cell_type": "code",
   "execution_count": 2,
   "metadata": {},
   "outputs": [
    {
     "data": {
      "text/plain": [
       "array([[18.82026173],\n",
       "       [12.00078604],\n",
       "       [14.89368992],\n",
       "       ...,\n",
       "       [12.58436089],\n",
       "       [ 9.83539653],\n",
       "       [16.49055716]])"
      ]
     },
     "execution_count": 2,
     "metadata": {},
     "output_type": "execute_result"
    }
   ],
   "source": [
    "np.random.seed(0)\n",
    "X = np.random.normal(10., 5, (10000,1))\n",
    "X"
   ]
  },
  {
   "cell_type": "markdown",
   "metadata": {},
   "source": [
    "## 데이터가 정규분포를 따릅니다. 아래 그림에서 붉은 점선은 0입니다. 평균이 10, 표준편차가 5입니다."
   ]
  },
  {
   "cell_type": "code",
   "execution_count": 3,
   "metadata": {},
   "outputs": [],
   "source": [
    "def plot_dist(X):\n",
    "    \"\"\"\n",
    "    args:\n",
    "        데이터\n",
    "    return:\n",
    "        None\n",
    "        데이터 분포를 그려줌\n",
    "    \"\"\"\n",
    "    plt.hist(X, bins=100, label='sample')\n",
    "    plt.axvline(0, linestyle=':', color='red', label='0', alpha=.5)\n",
    "    plt.legend()\n",
    "    plt.show()"
   ]
  },
  {
   "cell_type": "code",
   "execution_count": 4,
   "metadata": {},
   "outputs": [
    {
     "data": {
      "image/png": "[encoded data removed]",
      "text/plain": [
       "<Figure size 432x288 with 1 Axes>"
      ]
     },
     "metadata": {
      "needs_background": "light"
     },
     "output_type": "display_data"
    }
   ],
   "source": [
    "plot_dist(X)"
   ]
  },
  {
   "cell_type": "markdown",
   "metadata": {},
   "source": [
    "## 이 데이터를 평균이 0, 표준편차가 1로 변환해봅시다.\n",
    "현재 데이터의 평균이 $\\mu$, 표준편차가 $\\sigma$라면, 데이터의 값에서 평균을 빼주고, 거기에 표준편차로 나누어주면 표준정규화가 됩니다.\n",
    "$$\n",
    "z = {X - \\mu \\over \\sigma}\n",
    "$$"
   ]
  },
  {
   "cell_type": "code",
   "execution_count": 5,
   "metadata": {},
   "outputs": [
    {
     "name": "stdout",
     "output_type": "stream",
     "text": [
      "[9.9078314]\n"
     ]
    }
   ],
   "source": [
    "# 평균 구하기\n",
    "mu = 0.\n",
    "\n",
    "for x in X:\n",
    "    mu += x\n",
    "    \n",
    "mu /= len(X)\n",
    "print(mu)"
   ]
  },
  {
   "cell_type": "code",
   "execution_count": 6,
   "metadata": {},
   "outputs": [
    {
     "name": "stdout",
     "output_type": "stream",
     "text": [
      "[4.93802975]\n"
     ]
    }
   ],
   "source": [
    "# 표준편차 구하기\n",
    "sigma = 0.\n",
    "\n",
    "for x in X:\n",
    "    sigma += (mu - x) ** 2\n",
    "    \n",
    "sigma /= len(X) - 1\n",
    "sigma = np.sqrt(sigma)\n",
    "print(sigma)"
   ]
  },
  {
   "cell_type": "markdown",
   "metadata": {},
   "source": [
    "* 평균이 mean=9.907831399208671\n",
    "* variance=24.384137797474672 의 제곱근이 표준편차입니다."
   ]
  },
  {
   "cell_type": "markdown",
   "metadata": {},
   "source": [
    "## 데이터 $X$가 10000개 샘플로 이루어져있는데요. 얘네 값 하나하나에 위 표준정규화 식을 대입하면 됩니다."
   ]
  },
  {
   "cell_type": "code",
   "execution_count": 7,
   "metadata": {},
   "outputs": [
    {
     "data": {
      "text/plain": [
       "array([[ 1.80485554],\n",
       "       [ 0.42384407],\n",
       "       [ 1.0096858 ],\n",
       "       ...,\n",
       "       [ 0.54202377],\n",
       "       [-0.01466878],\n",
       "       [ 1.33306725]])"
      ]
     },
     "execution_count": 7,
     "metadata": {},
     "output_type": "execute_result"
    }
   ],
   "source": [
    "X_normalized = (X - mu) / sigma\n",
    "X_normalized"
   ]
  },
  {
   "cell_type": "markdown",
   "metadata": {},
   "source": [
    "## 표준 정규화한 데이터를 화면에 그려봅시다."
   ]
  },
  {
   "cell_type": "code",
   "execution_count": 8,
   "metadata": {},
   "outputs": [
    {
     "data": {
      "image/png": "[encoded data removed]",
      "text/plain": [
       "<Figure size 432x288 with 1 Axes>"
      ]
     },
     "metadata": {
      "needs_background": "light"
     },
     "output_type": "display_data"
    }
   ],
   "source": [
    "plot_dist(X_normalized)"
   ]
  },
  {
   "cell_type": "markdown",
   "metadata": {},
   "source": [
    "## 사이킷런으로 더 쉽게 표준정규화하기\n",
    "위에서 하나하나 어렵게 만들었던 것 사이킷런의 StandardScaler()로 단 세줄만 만들면 됩니다."
   ]
  },
  {
   "cell_type": "code",
   "execution_count": 9,
   "metadata": {},
   "outputs": [],
   "source": [
    "scaler = StandardScaler()\n",
    "scaler.fit(X)\n",
    "X_normalized2 = scaler.transform(X)"
   ]
  },
  {
   "cell_type": "code",
   "execution_count": 10,
   "metadata": {},
   "outputs": [
    {
     "data": {
      "image/png": "[encoded data removed]",
      "text/plain": [
       "<Figure size 432x288 with 1 Axes>"
      ]
     },
     "metadata": {
      "needs_background": "light"
     },
     "output_type": "display_data"
    }
   ],
   "source": [
    "plot_dist(X_normalized2)"
   ]
  },
  {
   "cell_type": "markdown",
   "metadata": {},
   "source": [
    "## 정규화한 데이터의 평균과 표준편차를 scipy로 쉽게 알아봅시다."
   ]
  },
  {
   "cell_type": "code",
   "execution_count": 11,
   "metadata": {},
   "outputs": [
    {
     "name": "stdout",
     "output_type": "stream",
     "text": [
      "변환 데이터 평균: 0.00, 표준편차: 1.00\n"
     ]
    }
   ],
   "source": [
    "stats = scipy.stats.describe(X_normalized2)\n",
    "\n",
    "print(f\"변환 데이터 평균: {abs(stats.mean[0]):.2f}, 표준편차: {np.sqrt(stats.variance[0]):.2f}\")"
   ]
  }
 ],
 "metadata": {
  "kernelspec": {
   "display_name": "Python 3",
   "language": "python",
   "name": "python3"
  },
  "language_info": {
   "codemirror_mode": {
    "name": "ipython",
    "version": 3
   },
   "file_extension": ".py",
   "mimetype": "text/x-python",
   "name": "python",
   "nbconvert_exporter": "python",
   "pygments_lexer": "ipython3",
   "version": "3.7.6"
  }
 },
 "nbformat": 4,
 "nbformat_minor": 4
}
