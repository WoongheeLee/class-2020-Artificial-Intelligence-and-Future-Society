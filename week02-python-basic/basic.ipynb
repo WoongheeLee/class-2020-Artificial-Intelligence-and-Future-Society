{
 "cells": [
  {
   "cell_type": "markdown",
   "metadata": {},
   "source": [
    "# 2주차 실습 노트북\n",
    "\n",
    "수강생 여러분께서는 아래 셀 내용을 직접 손으로 따라서 입력해가며 몸으로 익히시기 바랍니다.\n",
    "\n",
    "아래 셀을 각각 하나씩 실행해보며, 여러분이 생각했던 결과와 동일한 결과나 나타나는지 알아보세요."
   ]
  },
  {
   "cell_type": "markdown",
   "metadata": {},
   "source": [
    "## 셀 종류"
   ]
  },
  {
   "cell_type": "code",
   "execution_count": null,
   "metadata": {},
   "outputs": [],
   "source": [
    "# 코드 셀\n",
    "# 코드를 입력할 수 있고, 출력 결과를 셀 아래에 나타냄\n",
    "print(\"Hello, World!\")"
   ]
  },
  {
   "cell_type": "markdown",
   "metadata": {},
   "source": [
    "### 마크다운 셀\n",
    "마크다운 형식의 글을 쓸 수 있음  \n",
    "(마크다운 셀 쓰는 방법이 궁금하다면 [튜토리얼 링크](https://www.markdowntutorial.com/kr/)를 참고)"
   ]
  },
  {
   "cell_type": "markdown",
   "metadata": {},
   "source": [
    "## 변수"
   ]
  },
  {
   "cell_type": "markdown",
   "metadata": {},
   "source": [
    "* 영문자나 언더라인으로 시작\n",
    "* 숫자로 시작할 수 없음\n",
    "* 변수는 영문자나 숫자 또는 언더라인으로만 이루어짐\n",
    "* 변수는 대소문자를 구분함\n",
    "* [내장함수 (링크)](https://docs.python.org/ko/3.7/library/functions.html)를 변수로 사용하지 않도록 주의"
   ]
  },
  {
   "cell_type": "code",
   "execution_count": null,
   "metadata": {},
   "outputs": [],
   "source": [
    "# 올바른 변수명\n",
    "myvariable = \"Hanyang\"\n",
    "my_variable = \"Hanyang\"\n",
    "_my_variable = \"Hanyang\"\n",
    "myVariable = \"Hanyang\"\n",
    "MYVARIABLE = \"Hanyang\"\n",
    "myvariable2 = \"Hanyang\""
   ]
  },
  {
   "cell_type": "code",
   "execution_count": null,
   "metadata": {},
   "outputs": [],
   "source": [
    "# 숫자로 시작할 수 없음\n",
    "2myvariable = \"Hanyang\""
   ]
  },
  {
   "cell_type": "code",
   "execution_count": null,
   "metadata": {},
   "outputs": [],
   "source": [
    "# 변수는 영문자나 숫자 또는 언더라인으로만 이루어짐: - 는 사용 불가\n",
    "my-variable = \"Hanyang\""
   ]
  },
  {
   "cell_type": "code",
   "execution_count": null,
   "metadata": {},
   "outputs": [],
   "source": [
    "# 변수는 영문자나 숫자 또는 언더라인으로만 이루어짐: 공백은 사용 불가\n",
    "my variable = \"Hanyang\""
   ]
  },
  {
   "cell_type": "code",
   "execution_count": null,
   "metadata": {},
   "outputs": [],
   "source": [
    "# 변수는 대소문자를 구분함\n",
    "a = 10\n",
    "A = 100\n",
    "print('a = ',a)\n",
    "print('A = ',A)"
   ]
  },
  {
   "cell_type": "markdown",
   "metadata": {},
   "source": [
    "## 숫자형\n",
    "* 정수 : int\n",
    "\n",
    "(아래 셀을 실행하면 가장 아래 값만 출력됨)"
   ]
  },
  {
   "cell_type": "code",
   "execution_count": null,
   "metadata": {},
   "outputs": [],
   "source": [
    "123\n",
    "-123\n",
    "0"
   ]
  },
  {
   "cell_type": "markdown",
   "metadata": {},
   "source": [
    "* 실수 : float\n",
    " * 소수점 기호를 붙여서 나타냄\n",
    " * e를 써서 10의 N제곱을 나타냄\n",
    "\n",
    "(아래 셀을 실행하면 가장 아래 값만 출력됨)"
   ]
  },
  {
   "cell_type": "code",
   "execution_count": null,
   "metadata": {},
   "outputs": [],
   "source": [
    "123.456\n",
    "-123.456\n",
    "1e-10\n",
    "3.5e5"
   ]
  },
  {
   "cell_type": "markdown",
   "metadata": {},
   "source": [
    "* 8진수\n",
    " * int로 저장됨\n",
    " * 0o(숫자 0, 소문자 o) 또는 0O(숫자 0, 대문자 o)로 시작\n",
    "* 16진수\n",
    " * int로 저장\n",
    " * 0x로 시작(숫자 0, 영문 x)"
   ]
  },
  {
   "cell_type": "markdown",
   "metadata": {},
   "source": [
    "## 문자열\n",
    " * str\n",
    " * 문자로 구성된 배열"
   ]
  },
  {
   "cell_type": "code",
   "execution_count": null,
   "metadata": {},
   "outputs": [],
   "source": [
    "'Hello'"
   ]
  },
  {
   "cell_type": "code",
   "execution_count": null,
   "metadata": {},
   "outputs": [],
   "source": [
    "\"Hello\""
   ]
  },
  {
   "cell_type": "code",
   "execution_count": null,
   "metadata": {},
   "outputs": [],
   "source": [
    "# 시작과 끝을 동일한 방법으로 감싸주어야 함\n",
    "'Hello\""
   ]
  },
  {
   "cell_type": "code",
   "execution_count": null,
   "metadata": {},
   "outputs": [],
   "source": [
    "# 시작과 끝을 동일한 방법으로 감싸주어야 함\n",
    "\"Hello'"
   ]
  },
  {
   "cell_type": "code",
   "execution_count": null,
   "metadata": {},
   "outputs": [],
   "source": [
    "# 여러 줄로 된 문자열 변수를 대입\n",
    "a = \"\"\"Hello,\n",
    "World!\"\"\"\n",
    "print(a)"
   ]
  },
  {
   "cell_type": "code",
   "execution_count": null,
   "metadata": {},
   "outputs": [],
   "source": [
    "# 여러 줄로 된 문자열 변수를 대입\n",
    "a = '''Hi,\n",
    "there!'''\n",
    "print(a)"
   ]
  },
  {
   "cell_type": "markdown",
   "metadata": {},
   "source": [
    "## 자료형을 알아보려면?\n",
    "type() 함수 이용"
   ]
  },
  {
   "cell_type": "code",
   "execution_count": null,
   "metadata": {},
   "outputs": [],
   "source": [
    "type(1)"
   ]
  },
  {
   "cell_type": "code",
   "execution_count": null,
   "metadata": {},
   "outputs": [],
   "source": [
    "a = 1\n",
    "type(a)"
   ]
  },
  {
   "cell_type": "code",
   "execution_count": null,
   "metadata": {},
   "outputs": [],
   "source": [
    "a = 1.0\n",
    "type(a)"
   ]
  },
  {
   "cell_type": "code",
   "execution_count": null,
   "metadata": {},
   "outputs": [],
   "source": [
    "a = \"Hello\"\n",
    "type(a)"
   ]
  },
  {
   "cell_type": "markdown",
   "metadata": {},
   "source": [
    "## 자료형 변환"
   ]
  },
  {
   "cell_type": "code",
   "execution_count": null,
   "metadata": {},
   "outputs": [],
   "source": [
    "y = int(2.8)\n",
    "print(y)\n",
    "print(type(y))"
   ]
  },
  {
   "cell_type": "code",
   "execution_count": null,
   "metadata": {},
   "outputs": [],
   "source": [
    "z = float(\"4.2\")\n",
    "print(z)\n",
    "print(type(z))"
   ]
  },
  {
   "cell_type": "code",
   "execution_count": null,
   "metadata": {},
   "outputs": [],
   "source": [
    "z = str(3.0)\n",
    "print(z)\n",
    "print(type(z))"
   ]
  },
  {
   "cell_type": "markdown",
   "metadata": {},
   "source": [
    "## 출력\n",
    "* 집어넣은 변수를 문자열로 변환하여 출력"
   ]
  },
  {
   "cell_type": "code",
   "execution_count": null,
   "metadata": {},
   "outputs": [],
   "source": [
    "a = 10 # 정수\n",
    "print(a)"
   ]
  },
  {
   "cell_type": "markdown",
   "metadata": {},
   "source": [
    "* 여러 변수를 집어넣으면 띄어쓰기(' ')로 구분하여 출력\n",
    "* 변수 사이는 쉼표(,)로 구분해줌"
   ]
  },
  {
   "cell_type": "code",
   "execution_count": null,
   "metadata": {},
   "outputs": [],
   "source": [
    "a = 10\n",
    "b = 20\n",
    "print(a, b)"
   ]
  },
  {
   "cell_type": "markdown",
   "metadata": {},
   "source": [
    "* 출력 후 다음 라인으로 이동함"
   ]
  },
  {
   "cell_type": "code",
   "execution_count": null,
   "metadata": {},
   "outputs": [],
   "source": [
    "print('Hi!')\n",
    "print('Next line.')"
   ]
  },
  {
   "cell_type": "markdown",
   "metadata": {},
   "source": [
    "* 다음 라인으로 자동으로 이동하지 않기 위해서 end 인자에 문자 대입"
   ]
  },
  {
   "cell_type": "code",
   "execution_count": null,
   "metadata": {},
   "outputs": [],
   "source": [
    "# 다음 줄로 이동하지 않고 Hello 뒤에 공백을 삽입\n",
    "print('Hello',end='')\n",
    "print('World!')\n",
    "\n",
    "# 다음 줄로 이동하지 않고 Hello 뒤에 쉼표와 공백(, )을 삽입\n",
    "print('Hello',end=', ')\n",
    "print('World!')"
   ]
  },
  {
   "cell_type": "markdown",
   "metadata": {},
   "source": [
    "### print() 출력 방법 네 가지"
   ]
  },
  {
   "cell_type": "markdown",
   "metadata": {},
   "source": [
    "1. 포맷 문자열 리터럴(f-문자열 방법)\n",
    "* print() 의 인자에 f로 시작\n",
    "* ''나 \"\"로 문자열을 감싸줌\n",
    "* 문자열 안에 변수나 값은 {}로 감싸줌"
   ]
  },
  {
   "cell_type": "code",
   "execution_count": null,
   "metadata": {},
   "outputs": [],
   "source": [
    "# 포맷 문자열 리터럴(f-문자열 방법)\n",
    "name = 'Olaf'\n",
    "print(f'My cat is named {name}.')"
   ]
  },
  {
   "cell_type": "markdown",
   "metadata": {},
   "source": [
    "2. 문자열 format() 방법\n",
    "* 문자열을 ''나 \"\"로 감싸줌\n",
    "* 변수나 값이 들어갈 곳에 {}를 위치함\n",
    "* ''.format() 또는 \"\".format() 안에 앞서 변수 또는 값 위치에 해당하는 곳에 변수나 값을 인자로 넣음"
   ]
  },
  {
   "cell_type": "code",
   "execution_count": null,
   "metadata": {},
   "outputs": [],
   "source": [
    "# 문자열 format() 방법\n",
    "print(\"Hey {}. Do you have {} won?\".format(\"Tom\", 1000))\n",
    "\n",
    "name = 'Olaf'\n",
    "race = 'Siamese cat'\n",
    "print(\"{} is a type of {}.\".format(name,race))"
   ]
  },
  {
   "cell_type": "markdown",
   "metadata": {},
   "source": [
    "3. 수동 문자열 포매팅\n",
    "* 각기 다른 변수나 값, 문자열을 쉼표(,)로 구분"
   ]
  },
  {
   "cell_type": "code",
   "execution_count": null,
   "metadata": {},
   "outputs": [],
   "source": [
    "# 수동 문자열 포매팅\n",
    "name = 'Olaf'\n",
    "print('My cat',name,'eats',3,'times a day.')\n",
    "print('He is',3.259,'kg.')"
   ]
  },
  {
   "cell_type": "markdown",
   "metadata": {},
   "source": [
    "4. 예전의 문자열 포매팅\n",
    "* c언어의 printf 함수와 유사한 사용법\n",
    "* 또는 위 2번의 문자열 format() 방법과 유사\n",
    "* 변수나 값이 나타나야하는 곳에 %와 표현형식(포맷방법)을 써줌"
   ]
  },
  {
   "cell_type": "code",
   "execution_count": null,
   "metadata": {},
   "outputs": [],
   "source": [
    "# 예전의 문자열 포매팅\n",
    "pi = 3.141592\n",
    "print(\"파이값은 약 %5.3f이다.\" % pi)\n",
    "print('pi = %.2f' % 3.141592)"
   ]
  },
  {
   "cell_type": "markdown",
   "metadata": {},
   "source": [
    "## 포맷 문자열 리터럴 방법\n",
    "* 위 네 가지 방법 중 1번 방법\n",
    "* 사용이 직관적이고 유연하여 가장 추천하는 방법\n",
    "* 다양한 데이터형을 혼합하여 순차적으로 사용 가능\n",
    "\n",
    "문자열 포맷 방법\n",
    "\n",
    "|포맷 코드|의미|\n",
    "|:-:|:--|\n",
    "|d|정수 타입으로 출력|\n",
    "|f|실수 타입으로 출력|\n",
    "|o|8진수 타입으로 출력|\n",
    "|x|16진수 타입으로 출력|\n",
    "|c|문자 1개 출력 (숫자형을 유니코드문자로 출력)|\n",
    "|s|문자열 출력|"
   ]
  },
  {
   "cell_type": "code",
   "execution_count": null,
   "metadata": {},
   "outputs": [],
   "source": [
    "n = 'Olaf' # 문자열\n",
    "b = 2009 # 정수\n",
    "w = 3.259 # 실수\n",
    "print(f'My cat is {n}. He was born in {b}. He is {w} kg.')\n",
    "print(f'My cat is {n:>10s}. He was born in {b:010}. He is {w:.2f} kg.')"
   ]
  },
  {
   "cell_type": "markdown",
   "metadata": {},
   "source": [
    "## 입력"
   ]
  },
  {
   "cell_type": "code",
   "execution_count": null,
   "metadata": {},
   "outputs": [],
   "source": [
    "s = input(\"이름을 입력해주세요. --> \")\n",
    "print(\"안녕하세요\",s)"
   ]
  },
  {
   "cell_type": "markdown",
   "metadata": {},
   "source": [
    "* 다른 데이터형으로 변환하려면 변환하고자 하는 데이터형으로 감싸주기"
   ]
  },
  {
   "cell_type": "code",
   "execution_count": null,
   "metadata": {},
   "outputs": [],
   "source": [
    "# 입력은 문자열로 그대로 받아서, 나중에 정수형으로 변환하기\n",
    "a = input(\"첫번째 정수를 입력해주세요. --> \")\n",
    "b = input(\"두번째 정수를 입력해주세요. --> \")\n",
    "a = int(a)\n",
    "b = int(b)\n",
    "summation = a + b\n",
    "print(f'{a} + {b} = {summation}')\n",
    "\n",
    "# 입력 받으면서 동시에 정수형으로 변환\n",
    "a = int(input(\"첫번째 정수를 입력해주세요. --> \"))\n",
    "b = int(input(\"두번째 정수를 입력해주세요. --> \"))\n",
    "summation = a + b\n",
    "print(f'{a} + {b} = {summation}')"
   ]
  },
  {
   "cell_type": "markdown",
   "metadata": {},
   "source": [
    "## 파일 입출력 - 'x'\n",
    "* 새로운 파일 만들기\n",
    " * 'x' 모드로 파일을 열 때는 해당 위치에 파일이 없어야 함\n",
    " * 파일객체명.write()\n",
    "   * 문자열을 인자로 넘기면, 파일에 써줌"
   ]
  },
  {
   "cell_type": "code",
   "execution_count": null,
   "metadata": {},
   "outputs": [],
   "source": [
    "myfile = open('../data/hello.txt','x')\n",
    "myfile.write('Hello, File!')\n",
    "myfile.close()"
   ]
  },
  {
   "cell_type": "markdown",
   "metadata": {},
   "source": [
    "## with ~ as 로 파일 자동 닫기\n",
    "* with 문 쓰는 습관을 들일 것"
   ]
  },
  {
   "cell_type": "code",
   "execution_count": null,
   "metadata": {},
   "outputs": [],
   "source": [
    "myfile = open('../data/hello.txt','w')\n",
    "myfile.write('Hello, Myfile!')\n",
    "myfile.close()"
   ]
  },
  {
   "cell_type": "code",
   "execution_count": null,
   "metadata": {},
   "outputs": [],
   "source": [
    "with open('../data/hello.txt','w') as myfile:\n",
    "    myfile.write('Hello, Myfile!')"
   ]
  },
  {
   "cell_type": "markdown",
   "metadata": {},
   "source": [
    "## 파일 입출력 - 'w'\n",
    "* 기존에 파일이 존재하면 지우고 새로 씀"
   ]
  },
  {
   "cell_type": "code",
   "execution_count": null,
   "metadata": {},
   "outputs": [],
   "source": [
    "with open('../data/hello.txt','w') as myfile:\n",
    "    myfile.write('Hello, Myfile!')"
   ]
  },
  {
   "cell_type": "markdown",
   "metadata": {},
   "source": [
    "## 파일 입출력 - 'a'\n",
    "* 파일이 이미 존재한다면, 가장 뒤에 이어서 씀"
   ]
  },
  {
   "cell_type": "code",
   "execution_count": null,
   "metadata": {},
   "outputs": [],
   "source": [
    "with open('../data/hello.txt','a') as myfile:\n",
    "    myfile.write('\\nHello, Myfile!')"
   ]
  },
  {
   "cell_type": "markdown",
   "metadata": {},
   "source": [
    "## 파일 입출력 - 'r'"
   ]
  },
  {
   "cell_type": "code",
   "execution_count": null,
   "metadata": {},
   "outputs": [],
   "source": [
    "with open('../data/hello.txt','r') as myfile:\n",
    "    lines = myfile.readlines()\n",
    "    \n",
    "print(lines)"
   ]
  },
  {
   "cell_type": "markdown",
   "metadata": {},
   "source": [
    "## 파일 입출력 - '+' (각자 셀을 하나씩 실행해보고 어떤 결과가 나타나는지 파일을 눈으로 확인해볼 것)\n",
    "* 'w+' : 파일을 지우고 다시 씀"
   ]
  },
  {
   "cell_type": "code",
   "execution_count": null,
   "metadata": {},
   "outputs": [],
   "source": [
    "with open('../data/truncate.txt','w') as myfile:\n",
    "    myfile.write('This is old file.')"
   ]
  },
  {
   "cell_type": "code",
   "execution_count": null,
   "metadata": {},
   "outputs": [],
   "source": [
    "with open('../data/truncate.txt','w+') as myfile:\n",
    "    myfile.write('That')"
   ]
  },
  {
   "cell_type": "markdown",
   "metadata": {},
   "source": [
    "* 'r+' : 파일의 맨 앞부터 덮어씀"
   ]
  },
  {
   "cell_type": "code",
   "execution_count": null,
   "metadata": {},
   "outputs": [],
   "source": [
    "with open('../data/truncate.txt','w') as myfile:\n",
    "    myfile.write('This is old file.')"
   ]
  },
  {
   "cell_type": "code",
   "execution_count": null,
   "metadata": {},
   "outputs": [],
   "source": [
    "with open('../data/truncate.txt','r+') as myfile:\n",
    "    myfile.write('That')"
   ]
  },
  {
   "cell_type": "markdown",
   "metadata": {},
   "source": [
    "## 산술 연산자\n",
    "\n",
    "|연산자|의미|사용 예|결과 값|\n",
    "|:--|:--|:--|:--|\n",
    "|=|대입|a = 5|변수 a에 정수 5의 값을 대입|\n",
    "|+|덧셈|a = 5 + 8|a = 13|\n",
    "|-|뺄셈|a = 5 - 3|a = 2|\n",
    "|\\*|곱셈|a = 5 \\* 7|a = 35|\n",
    "|/|나눗셈|a = 3 / 5|a = 0.6|\n",
    "|//|몫만 구하는 나눗셈|a = 8 // 5|a = 1|\n",
    "|%|나머지만 구하는 나눗셈|a = 8 % 5|a = 3|\n",
    "|\\*\\*|제곱|a = 3 \\*\\* 2|a = 9|\n",
    "\n",
    "* 사칙연산은 직관적으로 잘 알 수 있음\n",
    "* // : 몫만 구하는 나눗셈\n",
    "* % : 나머지만 구하는 나눗셈\n",
    "* \\*\\* : 제곱"
   ]
  },
  {
   "cell_type": "code",
   "execution_count": null,
   "metadata": {},
   "outputs": [],
   "source": [
    "a = 8 // 5\n",
    "a"
   ]
  },
  {
   "cell_type": "code",
   "execution_count": null,
   "metadata": {},
   "outputs": [],
   "source": [
    "a = 8 % 5\n",
    "a"
   ]
  },
  {
   "cell_type": "code",
   "execution_count": null,
   "metadata": {},
   "outputs": [],
   "source": [
    "a = 3 ** 2\n",
    "a"
   ]
  },
  {
   "cell_type": "markdown",
   "metadata": {},
   "source": [
    "## 대입 연산자\n",
    "\n",
    "|연산자|의미|사용 예|설명|\n",
    "|:--|:--|:--|:--|\n",
    "|=|대입|a = 5|변수 a에 정수 5의 값을 대입|\n",
    "|+=|덧셈 후 대입|a += 5|a = a + 5와 동일|\n",
    "|-=|뺄셈 후 대입|a -= 5|a = a - 5와 동일|\n",
    "|\\*=|곱셈 후 대입|a \\*= 5|a = a \\* 5와 동일|\n",
    "|/=|나눗셈 후 대입|a /= 5|a = a / 5와 동일|\n",
    "|//=|몫을 구한 후 대입|a //= 5|a = a // 5와 동일|\n",
    "|%=|나머지를 구한 후 대입|a %= 5|a = a % 5와 동일|\n",
    "|\\*\\*=|제곱을 구한 후 대입|a \\*\\*= 3|a = a \\*\\* 3와 동일|\n",
    "\n",
    "* 변수와 값의 산술 연산 후 다시 대입"
   ]
  },
  {
   "cell_type": "code",
   "execution_count": null,
   "metadata": {},
   "outputs": [],
   "source": [
    "a = 8\n",
    "a //= 5\n",
    "a"
   ]
  },
  {
   "cell_type": "code",
   "execution_count": null,
   "metadata": {},
   "outputs": [],
   "source": [
    "a = 8\n",
    "a %= 5\n",
    "a"
   ]
  },
  {
   "cell_type": "code",
   "execution_count": null,
   "metadata": {},
   "outputs": [],
   "source": [
    "a = 3\n",
    "a **= 2\n",
    "a"
   ]
  }
 ],
 "metadata": {
  "kernelspec": {
   "display_name": "Python 3",
   "language": "python",
   "name": "python3"
  },
  "language_info": {
   "codemirror_mode": {
    "name": "ipython",
    "version": 3
   },
   "file_extension": ".py",
   "mimetype": "text/x-python",
   "name": "python",
   "nbconvert_exporter": "python",
   "pygments_lexer": "ipython3",
   "version": "3.8.1"
  }
 },
 "nbformat": 4,
 "nbformat_minor": 4
}
