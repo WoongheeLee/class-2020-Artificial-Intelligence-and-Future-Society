{
 "cells": [
  {
   "cell_type": "markdown",
   "metadata": {},
   "source": [
    "# 텐서플로우 1"
   ]
  },
  {
   "cell_type": "markdown",
   "metadata": {},
   "source": [
    "* 아래 실습 내용은 연산량이 거의 없으므로 여러분의 컴퓨터에서도 무리 없이 돌아갈 듯 합니다.\n",
    "* 그러나 필요하다면 코랩에서 실습하는 것도 추천합니다.\n",
    "* 아래 코드를 잘 따라해서 체화하시고, 다양한 값, 아래 예제만이 아닌 다른 연산도 적용해보기 바랍니다."
   ]
  },
  {
   "cell_type": "code",
   "execution_count": null,
   "metadata": {},
   "outputs": [],
   "source": [
    "import tensorflow as tf\n",
    "import os\n",
    "# 1번 GPU만 사용\n",
    "os.environ['CUDA_VISIBLE_DEVICES'] = '1'"
   ]
  },
  {
   "cell_type": "code",
   "execution_count": null,
   "metadata": {},
   "outputs": [],
   "source": [
    "# 올바른 버전이 설치되었나 확인\n",
    "tf.__version__"
   ]
  },
  {
   "cell_type": "markdown",
   "metadata": {},
   "source": [
    "## 상수 (constant)\n",
    "### Hello, TensorFlow!\n",
    "* 상수에 값을 넣음"
   ]
  },
  {
   "cell_type": "code",
   "execution_count": null,
   "metadata": {},
   "outputs": [],
   "source": [
    "hello = tf.constant('Hello, TensorFlow!')"
   ]
  },
  {
   "cell_type": "markdown",
   "metadata": {},
   "source": [
    "* 화면에 아무것도 출력되지 않음"
   ]
  },
  {
   "cell_type": "code",
   "execution_count": null,
   "metadata": {},
   "outputs": [],
   "source": [
    "hello"
   ]
  },
  {
   "cell_type": "markdown",
   "metadata": {},
   "source": [
    "* **tf.Tensor** : 텐서플로우의 텐서라는 의미\n",
    "  * 텐서: 0차원 -> 스칼라(scalar), 1차원 -> 벡터(vector), 2차원 -> 행렬(matrix), 3차원 이상 -> 텐서(tensor)\n",
    "* **Const:0** : 변수 이름\n",
    "* **shape=()** : 모양, 이 예제에서는 0차원임\n",
    "* **dtype=string** : 데이터 형이 문자열임"
   ]
  },
  {
   "cell_type": "markdown",
   "metadata": {},
   "source": [
    "* 변수를 정의하더라도, 실행이 바로 되지 않음 (lazy execution)\n",
    "* 텐서플로우 1에서 위와 같은 것은 텐서 오퍼레이션(tensor operation)을 정의한 것일 뿐임"
   ]
  },
  {
   "cell_type": "markdown",
   "metadata": {},
   "source": [
    "* 값을 화면에 출력하기 위해서는 세션을 실행해야 함"
   ]
  },
  {
   "cell_type": "code",
   "execution_count": null,
   "metadata": {},
   "outputs": [],
   "source": [
    "# 세션 생성\n",
    "sess = tf.Session()"
   ]
  },
  {
   "cell_type": "markdown",
   "metadata": {},
   "source": [
    "```python\n",
    "sess.run(fetches, feed_dict=None)\n",
    "```\n",
    "* fetches: 실행할 텐서 연산을 넣음\n",
    "* 위 예제에서는 hello라는 텐서 연산을 정의 함\n",
    "* feed_dict: 딕셔너리 형태로 정의되어 있는 텐서 연산에 값을 넣어줌. 즉, 키는 텐서연산 이름(예제에서는 hello), 값은 키에 해당하는 텐서에 넣을 값(이 예제에서는 \"Hello, TensorFlow!\"가 이미 흘러갈 예정)\n",
    "* run 실행 한 번에 텐서 연산 한 번만 일어남"
   ]
  },
  {
   "cell_type": "code",
   "execution_count": null,
   "metadata": {},
   "outputs": [],
   "source": [
    "sess.run(hello)"
   ]
  },
  {
   "cell_type": "markdown",
   "metadata": {},
   "source": [
    "* 위에서 정의한 텐서 연산에 feed_dict를 통해 다른 값을 넣을 수도 있음"
   ]
  },
  {
   "cell_type": "code",
   "execution_count": null,
   "metadata": {},
   "outputs": [],
   "source": [
    "sess.run(hello, feed_dict={hello:\"Hi, TensorFlow\"})"
   ]
  },
  {
   "cell_type": "markdown",
   "metadata": {},
   "source": [
    "* feed_dict 없이 실행하면 원래 값이 들어 있음"
   ]
  },
  {
   "cell_type": "code",
   "execution_count": null,
   "metadata": {},
   "outputs": [],
   "source": [
    "sess.run(hello)"
   ]
  },
  {
   "cell_type": "code",
   "execution_count": null,
   "metadata": {},
   "outputs": [],
   "source": [
    "# 세션 닫기\n",
    "sess.close()"
   ]
  },
  {
   "cell_type": "markdown",
   "metadata": {},
   "source": [
    "## tf.constant\n",
    "```python\n",
    "tf.constant(\n",
    "    value,\n",
    "    dtype=None,\n",
    "    shape=None,\n",
    "    name='Const',\n",
    "    verify_shape=False\n",
    ")\n",
    "```\n",
    "* value: 텐서에 넣을 값\n",
    "* dtype: 값의 데이터형\n",
    "* shape: 텐서 모양. 몇차원의 텐서냐?\n",
    "* name: 이름\n",
    "* verify_shape: 텐서 모양 검사. 들어갈 값과 정의한 모양이 맞아떨어지는지 검사할까 말까?"
   ]
  },
  {
   "cell_type": "markdown",
   "metadata": {},
   "source": [
    "### 수식 정의와 실행"
   ]
  },
  {
   "cell_type": "markdown",
   "metadata": {},
   "source": [
    "```python\n",
    "tf.add(x, y, name=None)\n",
    "```\n",
    "* 두 값(텐서)을 원소에 따라(element-wise) 더해서 반환\n",
    "* x: 더할 첫째 텐서\n",
    "* y: 더할 둘째 텐서\n",
    "* name: 이름\n",
    "* 브로드캐스팅(broadcasting)을 지원. 즉 (1) + (2, 3) = (3, 4)로 각각의 원소에 자동으로 뿌려줌"
   ]
  },
  {
   "cell_type": "code",
   "execution_count": null,
   "metadata": {},
   "outputs": [],
   "source": [
    "a = tf.constant(10)\n",
    "b = tf.constant(20)\n",
    "c = tf.add(a, b)"
   ]
  },
  {
   "cell_type": "markdown",
   "metadata": {},
   "source": [
    "c를 출력해도 아무 값도 나타나지 않음"
   ]
  },
  {
   "cell_type": "code",
   "execution_count": null,
   "metadata": {},
   "outputs": [],
   "source": [
    "c"
   ]
  },
  {
   "cell_type": "markdown",
   "metadata": {},
   "source": [
    "* a 와 b를 출력해보기"
   ]
  },
  {
   "cell_type": "code",
   "execution_count": null,
   "metadata": {},
   "outputs": [],
   "source": [
    "a"
   ]
  },
  {
   "cell_type": "code",
   "execution_count": null,
   "metadata": {},
   "outputs": [],
   "source": [
    "b"
   ]
  },
  {
   "cell_type": "markdown",
   "metadata": {},
   "source": [
    "둘 모두 스칼라를 가질 수 있고, 값은 정수형이 들어감 (int32 는 부호가 있는 32비트 정수)"
   ]
  },
  {
   "cell_type": "markdown",
   "metadata": {},
   "source": [
    "* 현재는 텐서 연산만 정의되어 있는 상태이므로 텐서(값)를 흘려보내기 위해 세션 생성"
   ]
  },
  {
   "cell_type": "code",
   "execution_count": null,
   "metadata": {},
   "outputs": [],
   "source": [
    "sess = tf.Session()"
   ]
  },
  {
   "cell_type": "markdown",
   "metadata": {},
   "source": [
    "* a와 b에 각각 10, 20이 들어갈 예정이고, c = a + b 이므로"
   ]
  },
  {
   "cell_type": "code",
   "execution_count": null,
   "metadata": {},
   "outputs": [],
   "source": [
    "sess.run(c)"
   ]
  },
  {
   "cell_type": "markdown",
   "metadata": {},
   "source": [
    "* feed_dict를 통해 a와 b에 다른 값을 넣으면?"
   ]
  },
  {
   "cell_type": "code",
   "execution_count": null,
   "metadata": {},
   "outputs": [],
   "source": [
    "sess.run(c, feed_dict={a: 15, b: 25})"
   ]
  },
  {
   "cell_type": "code",
   "execution_count": null,
   "metadata": {},
   "outputs": [],
   "source": [
    "sess.run(c)"
   ]
  },
  {
   "cell_type": "code",
   "execution_count": null,
   "metadata": {},
   "outputs": [],
   "source": [
    "# 세션 닫기\n",
    "sess.close()"
   ]
  },
  {
   "cell_type": "markdown",
   "metadata": {},
   "source": [
    "## 플레이스홀더 (placeholder)"
   ]
  },
  {
   "cell_type": "markdown",
   "metadata": {},
   "source": [
    "```python\n",
    "tf.placeholder(\n",
    "    dtype,\n",
    "    shape=None,\n",
    "    name=None\n",
    ")\n",
    "```\n",
    "* dtype: 데이터형\n",
    "* shape: 무슨 모양의 몇 차원인지\n",
    "* name: 이름"
   ]
  },
  {
   "cell_type": "markdown",
   "metadata": {},
   "source": [
    "* 텐서(값)가 흘러다닐 수 있는 통로(텐서 연산)를 정의"
   ]
  },
  {
   "cell_type": "code",
   "execution_count": null,
   "metadata": {},
   "outputs": [],
   "source": [
    "a = tf.placeholder(dtype=tf.int32)\n",
    "b = tf.placeholder(dtype=tf.int32)\n",
    "c = tf.add(a, b)"
   ]
  },
  {
   "cell_type": "code",
   "execution_count": null,
   "metadata": {},
   "outputs": [],
   "source": [
    "print('a:', a)\n",
    "print('b:', b)\n",
    "print('c:', c)"
   ]
  },
  {
   "cell_type": "markdown",
   "metadata": {},
   "source": [
    "어떤 값도 출력 되지 않음"
   ]
  },
  {
   "cell_type": "code",
   "execution_count": null,
   "metadata": {},
   "outputs": [],
   "source": [
    "# 세션 생성\n",
    "sess = tf.Session()"
   ]
  },
  {
   "cell_type": "code",
   "execution_count": null,
   "metadata": {},
   "outputs": [],
   "source": [
    "# a, b 에 어떤 값도 흘려보내지 않았으므로 에러 발생\n",
    "sess.run(c)"
   ]
  },
  {
   "cell_type": "code",
   "execution_count": null,
   "metadata": {},
   "outputs": [],
   "source": [
    "# 비어있는 통로일 뿐이므로 에러 발생\n",
    "sess.run(a)"
   ]
  },
  {
   "cell_type": "code",
   "execution_count": null,
   "metadata": {},
   "outputs": [],
   "source": [
    "# feed_dict를 통해 값을 넣어주어야 함\n",
    "sess.run(c, {a: 10, b: 20})"
   ]
  },
  {
   "cell_type": "code",
   "execution_count": null,
   "metadata": {},
   "outputs": [],
   "source": [
    "# 행렬로 된 값을 넣어보기\n",
    "# 3x2 행렬\n",
    "matrix_a = [\n",
    "    [1,2],\n",
    "    [3,4],\n",
    "    [5,6]\n",
    "]\n",
    "# 3x2 행렬\n",
    "matrix_b = [\n",
    "    [5,6],\n",
    "    [7,8],\n",
    "    [9,10]\n",
    "]\n",
    "\n",
    "# 원소에 따라(element-wise) 합 연산 결과가 나타남\n",
    "sess.run(c, {a:matrix_a, b:matrix_b})"
   ]
  },
  {
   "cell_type": "code",
   "execution_count": null,
   "metadata": {},
   "outputs": [],
   "source": [
    "# 그냥 c를 실행하면 a, b에 값이 없으므로 에러 발생\n",
    "sess.run(c)"
   ]
  },
  {
   "cell_type": "code",
   "execution_count": null,
   "metadata": {},
   "outputs": [],
   "source": [
    "sess.close()"
   ]
  },
  {
   "cell_type": "markdown",
   "metadata": {},
   "source": [
    "## 변수 (Variable)"
   ]
  },
  {
   "cell_type": "markdown",
   "metadata": {},
   "source": [
    "* 변수는 run() 실행 후에도 값이 저장되어 있음\n",
    "* 따라서 초기화 할 때 값을 미리 넣어주어야 함\n",
    "```python\n",
    "tf.Variable(<initial-value>, name=<optional-name>)\n",
    "```"
   ]
  },
  {
   "cell_type": "code",
   "execution_count": null,
   "metadata": {},
   "outputs": [],
   "source": [
    "a = tf.Variable(10)\n",
    "b = tf.Variable(20)"
   ]
  },
  {
   "cell_type": "markdown",
   "metadata": {},
   "source": [
    "* 값을 넣기로 했을 뿐이라서 아직 텐서 형태와 이름, 모양만 나옴"
   ]
  },
  {
   "cell_type": "code",
   "execution_count": null,
   "metadata": {},
   "outputs": [],
   "source": [
    "print('a:', a)\n",
    "print('b:', b)"
   ]
  },
  {
   "cell_type": "code",
   "execution_count": null,
   "metadata": {},
   "outputs": [],
   "source": [
    "# 세션 생성\n",
    "sess = tf.Session()"
   ]
  },
  {
   "cell_type": "code",
   "execution_count": null,
   "metadata": {},
   "outputs": [],
   "source": [
    "# 초기화를 해주어야 비로소 변수에 값이 들어감\n",
    "sess.run(a)"
   ]
  },
  {
   "cell_type": "markdown",
   "metadata": {},
   "source": [
    "```python\n",
    "tf.global_variables_initializer()\n",
    "```\n",
    "* 변수에 들어갈 값들을 초기화 해줌\n",
    "* 예제에서는 tf.Variable() 안에 정해준 초기값으로 초기화 됨\n",
    "* 사용법은 아래 코드"
   ]
  },
  {
   "cell_type": "code",
   "execution_count": null,
   "metadata": {},
   "outputs": [],
   "source": [
    "init_op = tf.global_variables_initializer()"
   ]
  },
  {
   "cell_type": "code",
   "execution_count": null,
   "metadata": {},
   "outputs": [],
   "source": [
    "# 변수에 초기화 해주기로 한 값이 비로소 초기화 됨\n",
    "sess.run(init_op)"
   ]
  },
  {
   "cell_type": "code",
   "execution_count": null,
   "metadata": {},
   "outputs": [],
   "source": [
    "# 초기화 하기로 한 값이 들어가 있음\n",
    "sess.run(a)"
   ]
  },
  {
   "cell_type": "code",
   "execution_count": null,
   "metadata": {},
   "outputs": [],
   "source": [
    "# 초기화 하기로 한 값이 들어가 있음\n",
    "sess.run(b)"
   ]
  },
  {
   "cell_type": "code",
   "execution_count": null,
   "metadata": {},
   "outputs": [],
   "source": [
    "sess.run(a + b)"
   ]
  },
  {
   "cell_type": "code",
   "execution_count": null,
   "metadata": {},
   "outputs": [],
   "source": [
    "sess.run(a + b, {a: 15, b: 25})"
   ]
  },
  {
   "cell_type": "code",
   "execution_count": null,
   "metadata": {},
   "outputs": [],
   "source": [
    "'''\n",
    "    feed_dict로 일회적인 연산 결과만 보였으므로 \n",
    "    원래 a와 b에 들어있던 값에 대한 연산 결과가 나타남\n",
    "'''\n",
    "sess.run(a + b)"
   ]
  },
  {
   "cell_type": "markdown",
   "metadata": {},
   "source": [
    "* 변수(tf.Variable)에 값을 변화 시키기 위해서는 assign을 이용\n",
    "\n",
    "```python\n",
    "변수.assign(value)\n",
    "```\n",
    "* value: 텐서에 넣을 값"
   ]
  },
  {
   "cell_type": "code",
   "execution_count": null,
   "metadata": {},
   "outputs": [],
   "source": [
    "# 텐서 연산일 뿐\n",
    "a.assign(15)"
   ]
  },
  {
   "cell_type": "code",
   "execution_count": null,
   "metadata": {},
   "outputs": [],
   "source": [
    "# 세션에서 실행해줘야 비로소 값이 정말 들어감\n",
    "sess.run(a.assign(15))"
   ]
  },
  {
   "cell_type": "code",
   "execution_count": null,
   "metadata": {},
   "outputs": [],
   "source": [
    "sess.run(a)"
   ]
  },
  {
   "cell_type": "code",
   "execution_count": null,
   "metadata": {},
   "outputs": [],
   "source": [
    "sess.run(b.assign(25))"
   ]
  },
  {
   "cell_type": "code",
   "execution_count": null,
   "metadata": {},
   "outputs": [],
   "source": [
    "# 15 + 25\n",
    "sess.run(a+b)"
   ]
  },
  {
   "cell_type": "code",
   "execution_count": null,
   "metadata": {},
   "outputs": [],
   "source": []
  }
 ],
 "metadata": {
  "kernelspec": {
   "display_name": "Python 3",
   "language": "python",
   "name": "python3"
  },
  "language_info": {
   "codemirror_mode": {
    "name": "ipython",
    "version": 3
   },
   "file_extension": ".py",
   "mimetype": "text/x-python",
   "name": "python",
   "nbconvert_exporter": "python",
   "pygments_lexer": "ipython3",
   "version": "3.7.7"
  }
 },
 "nbformat": 4,
 "nbformat_minor": 4
}
