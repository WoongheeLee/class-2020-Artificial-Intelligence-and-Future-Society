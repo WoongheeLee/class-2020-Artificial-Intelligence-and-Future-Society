{
 "cells": [
  {
   "cell_type": "markdown",
   "metadata": {},
   "source": [
    "# 3주차 실습 노트북\n",
    "* 손으로 직접 따라서 입력해가며 익히기 바랍니다."
   ]
  },
  {
   "cell_type": "markdown",
   "metadata": {},
   "source": [
    "## 주석(comment)"
   ]
  },
  {
   "cell_type": "code",
   "execution_count": null,
   "metadata": {},
   "outputs": [],
   "source": [
    "# 주석 입니다.\n",
    "print(\"Hello, World!\")\n",
    "\n",
    "print(\"Hello, World!\") # 주석 입니다.\n",
    "\n",
    "#print(\"Hello, World!\")\n",
    "print(\"Nice to meet you!\")\n",
    "\n",
    "# 주석을\n",
    "# 여러줄에\n",
    "# 달아보았어요.\n",
    "print(\"Hello, World!\")\n",
    "\n",
    "\"\"\"주석을\n",
    "여러줄에\n",
    "달아보았어요.\n",
    "\"\"\"\n",
    "print(\"Hello, World!\")\n",
    "\n",
    "'''\n",
    "주석을\n",
    "여러줄에\n",
    "달아보았어요.\n",
    "'''\n",
    "print(\"Hello, World!\")"
   ]
  },
  {
   "cell_type": "markdown",
   "metadata": {},
   "source": [
    "## 불 자료형"
   ]
  },
  {
   "cell_type": "code",
   "execution_count": null,
   "metadata": {},
   "outputs": [],
   "source": [
    "True"
   ]
  },
  {
   "cell_type": "code",
   "execution_count": null,
   "metadata": {},
   "outputs": [],
   "source": [
    "False"
   ]
  },
  {
   "cell_type": "code",
   "execution_count": null,
   "metadata": {},
   "outputs": [],
   "source": [
    "print(\"type(True):\",type(True))\n",
    "print(\"type(False):\",type(False))"
   ]
  },
  {
   "cell_type": "code",
   "execution_count": null,
   "metadata": {},
   "outputs": [],
   "source": [
    "a = True\n",
    "print(a)\n",
    "\n",
    "b = False\n",
    "print(b)\n",
    "\n",
    "print('a + a:', a + a)\n",
    "print('b + b:', b + b)\n",
    "print('a + b:', a + b)"
   ]
  },
  {
   "cell_type": "markdown",
   "metadata": {},
   "source": [
    "## 조건문에 쓰이는 연산자"
   ]
  },
  {
   "cell_type": "markdown",
   "metadata": {},
   "source": [
    "### 비교연산자\n",
    "|연산자|설명|\n",
    "|:-:|:--|\n",
    "|>|왼쪽이 크다|\n",
    "|<|왼쪽이 작다|\n",
    "|>=|왼쪽이 크거나 작다|\n",
    "|<=|왼쪽이 작거나 같다|\n",
    "|==|같다|\n",
    "|!=|다르다|"
   ]
  },
  {
   "cell_type": "markdown",
   "metadata": {},
   "source": [
    "* \\> : 왼쪽이 크다\n",
    "* < : 왼쪽이 작다"
   ]
  },
  {
   "cell_type": "code",
   "execution_count": null,
   "metadata": {},
   "outputs": [],
   "source": [
    "a = 10\n",
    "b = 5\n",
    "\n",
    "print('a > b:', a > b)\n",
    "print('b < a:', b < a)\n",
    "\n",
    "print('a < b:', a < b)"
   ]
  },
  {
   "cell_type": "code",
   "execution_count": null,
   "metadata": {},
   "outputs": [],
   "source": [
    "print('True > False:', True > False)\n",
    "print('True < False:', True < False)"
   ]
  },
  {
   "cell_type": "markdown",
   "metadata": {},
   "source": [
    "* \\>= : 왼쪽이 크거나 같다\n",
    "* <= : 왼쪽이 작거나 같다"
   ]
  },
  {
   "cell_type": "code",
   "execution_count": null,
   "metadata": {},
   "outputs": [],
   "source": [
    "a = 2\n",
    "b = 7\n",
    "print('a >= b:', a >= b)"
   ]
  },
  {
   "cell_type": "code",
   "execution_count": null,
   "metadata": {},
   "outputs": [],
   "source": [
    "a = 3\n",
    "b = 5\n",
    "print('a > = b:', a > = b)"
   ]
  },
  {
   "cell_type": "code",
   "execution_count": null,
   "metadata": {},
   "outputs": [],
   "source": [
    "a = 3\n",
    "b = 4\n",
    "print('a <= b', a <= b)"
   ]
  },
  {
   "cell_type": "code",
   "execution_count": null,
   "metadata": {},
   "outputs": [],
   "source": [
    "a = 5\n",
    "b = 5\n",
    "print('a >= b:', a >= b)\n",
    "print('a <= b:', a <= b)"
   ]
  },
  {
   "cell_type": "markdown",
   "metadata": {},
   "source": [
    "* == : 같다\n",
    "* != : 다르다"
   ]
  },
  {
   "cell_type": "code",
   "execution_count": null,
   "metadata": {},
   "outputs": [],
   "source": [
    "print('True == True:', True == True)\n",
    "print('True == False:', True == False)\n",
    "print('True != False:', True != False)"
   ]
  },
  {
   "cell_type": "code",
   "execution_count": null,
   "metadata": {},
   "outputs": [],
   "source": [
    "a = 5\n",
    "b = 10\n",
    "print('a == b:', a == b)\n",
    "print('a != b:', a != b)"
   ]
  },
  {
   "cell_type": "code",
   "execution_count": null,
   "metadata": {},
   "outputs": [],
   "source": [
    "print(10 = = 10)"
   ]
  },
  {
   "cell_type": "code",
   "execution_count": null,
   "metadata": {},
   "outputs": [],
   "source": [
    "print(5 ! = 1)"
   ]
  },
  {
   "cell_type": "markdown",
   "metadata": {},
   "source": [
    "### 논리연산자\n",
    "|연산자|설명|\n",
    "|:-:|:--|\n",
    "|and|두 조건이 모두 참(True)일 경우 참(True)|\n",
    "|or|두 조건 중에 하나라도 참(True)이면 참(True)|\n",
    "|not|조건이 반대(True->False 또는 False->True)|"
   ]
  },
  {
   "cell_type": "markdown",
   "metadata": {},
   "source": [
    "* and : 두 조건이 모두 참(True)일 경우 참(True)"
   ]
  },
  {
   "cell_type": "code",
   "execution_count": null,
   "metadata": {},
   "outputs": [],
   "source": [
    "print(True and True)\n",
    "print(True and False)\n",
    "print(False and False)"
   ]
  },
  {
   "cell_type": "code",
   "execution_count": null,
   "metadata": {},
   "outputs": [],
   "source": [
    "a = 10\n",
    "b = 5\n",
    "print(a > b and a < b)"
   ]
  },
  {
   "cell_type": "code",
   "execution_count": null,
   "metadata": {},
   "outputs": [],
   "source": [
    "a = 10\n",
    "b = 5\n",
    "print(a > b and a // b == 2)"
   ]
  },
  {
   "cell_type": "markdown",
   "metadata": {},
   "source": [
    "* or : 두 조건 중에 하나라도 참(True)이면 참(True)"
   ]
  },
  {
   "cell_type": "code",
   "execution_count": null,
   "metadata": {},
   "outputs": [],
   "source": [
    "print(True or True)\n",
    "print(True or False)\n",
    "print(False or False)"
   ]
  },
  {
   "cell_type": "code",
   "execution_count": null,
   "metadata": {},
   "outputs": [],
   "source": [
    "a = 10\n",
    "b = 5\n",
    "print(a > b or a < b)"
   ]
  },
  {
   "cell_type": "markdown",
   "metadata": {},
   "source": [
    "* not : 조건이 반대(True->False 또는 False->True)"
   ]
  },
  {
   "cell_type": "code",
   "execution_count": null,
   "metadata": {},
   "outputs": [],
   "source": [
    "not True"
   ]
  },
  {
   "cell_type": "code",
   "execution_count": null,
   "metadata": {},
   "outputs": [],
   "source": [
    "not False"
   ]
  },
  {
   "cell_type": "code",
   "execution_count": null,
   "metadata": {},
   "outputs": [],
   "source": [
    "a = 10\n",
    "b = 5\n",
    "print(not a > b)"
   ]
  },
  {
   "cell_type": "code",
   "execution_count": null,
   "metadata": {},
   "outputs": [],
   "source": [
    "a = 10\n",
    "b = 5\n",
    "print(not a < b)"
   ]
  },
  {
   "cell_type": "markdown",
   "metadata": {},
   "source": [
    "논리연산자의 연산 우선순서\n",
    "\n",
    "**NAO**로 외운다!\n",
    "\n",
    "예를 들어\n",
    "\n",
    "* not x or y and z 는\n",
    "* (not x) or (y and z)\n",
    "\n",
    "코딩할 때 연산순서가 헷갈린다면 괄호로 감싸서 연산 순서를 정해주자."
   ]
  },
  {
   "cell_type": "code",
   "execution_count": null,
   "metadata": {},
   "outputs": [],
   "source": [
    "not True or True and True"
   ]
  },
  {
   "cell_type": "code",
   "execution_count": null,
   "metadata": {},
   "outputs": [],
   "source": [
    "(not True or True and True) == (not True) or (True and True)"
   ]
  },
  {
   "cell_type": "markdown",
   "metadata": {},
   "source": [
    "## 연산자의 우선순위\n",
    "산술 연산자 > 비교 연산자 > 논리 연산자"
   ]
  },
  {
   "cell_type": "markdown",
   "metadata": {},
   "source": [
    "## 조건문 - if문"
   ]
  },
  {
   "cell_type": "code",
   "execution_count": null,
   "metadata": {},
   "outputs": [],
   "source": [
    "if True:\n",
    "    print(\"참입니다.\")"
   ]
  },
  {
   "cell_type": "code",
   "execution_count": null,
   "metadata": {},
   "outputs": [],
   "source": [
    "score = int(input(\"점수를 입력하세요.\"))\n",
    "\n",
    "if score > 95:\n",
    "    print(\"A+입니다.\")"
   ]
  },
  {
   "cell_type": "markdown",
   "metadata": {},
   "source": [
    "## 조건문의 코드 블록"
   ]
  },
  {
   "cell_type": "code",
   "execution_count": null,
   "metadata": {},
   "outputs": [],
   "source": [
    "a = 'hello'\n",
    "\n",
    "if a == 'hello':\n",
    "    print(\"안녕\")\n",
    "    print(\"하세요\")"
   ]
  },
  {
   "cell_type": "code",
   "execution_count": null,
   "metadata": {},
   "outputs": [],
   "source": [
    "a = 'hello'\n",
    "\n",
    "if a == 'hello':\n",
    "        print(\"안녕\")\n",
    "        print(\"하세요\")"
   ]
  },
  {
   "cell_type": "code",
   "execution_count": null,
   "metadata": {},
   "outputs": [],
   "source": [
    "a = 'hello'\n",
    "\n",
    "if a == 'hello':\n",
    "    print(\"안녕\")\n",
    "        print(\"하세요\")"
   ]
  },
  {
   "cell_type": "code",
   "execution_count": null,
   "metadata": {},
   "outputs": [],
   "source": [
    "a = 'hello'\n",
    "\n",
    "if a == 'hello':\n",
    "        print(\"안녕\")\n",
    "    print(\"하세요\")"
   ]
  },
  {
   "cell_type": "code",
   "execution_count": null,
   "metadata": {},
   "outputs": [],
   "source": [
    "a = 'cat'\n",
    "\n",
    "if a == 'cat':\n",
    "    print('고')\n",
    "    print('양')\n",
    "    print('이')"
   ]
  },
  {
   "cell_type": "code",
   "execution_count": null,
   "metadata": {},
   "outputs": [],
   "source": [
    "a = 'cat'\n",
    "\n",
    "if a == 'cat':\n",
    "    print('고')\n",
    "print('양')\n",
    "    print('이')"
   ]
  },
  {
   "cell_type": "code",
   "execution_count": null,
   "metadata": {},
   "outputs": [],
   "source": [
    "a = 'dog'\n",
    "\n",
    "if a == 'cat':\n",
    "    print('고')\n",
    "    print('양')\n",
    "print('이')"
   ]
  },
  {
   "cell_type": "markdown",
   "metadata": {},
   "source": [
    "## 중첩 if 문"
   ]
  },
  {
   "cell_type": "code",
   "execution_count": null,
   "metadata": {},
   "outputs": [],
   "source": [
    "age = int(input(\"나이를 알려주세요.\"))\n",
    "\n",
    "if age > 5:\n",
    "    print(\"5살 보다 나이가 많다.\")\n",
    "    if age > 10:\n",
    "        print(\"10살 보다 나이가 많다.\")\n",
    "        if age > 20:\n",
    "            print(\"20살 보다 나이가 많다.\")"
   ]
  },
  {
   "cell_type": "markdown",
   "metadata": {},
   "source": [
    "## if ~ else 문"
   ]
  },
  {
   "cell_type": "code",
   "execution_count": null,
   "metadata": {},
   "outputs": [],
   "source": [
    "score = int(input(\"점수를 입력: \"))\n",
    "\n",
    "if score >= 60:\n",
    "    print(\"통과\")\n",
    "else:\n",
    "    print(\"과락\")"
   ]
  },
  {
   "cell_type": "markdown",
   "metadata": {},
   "source": [
    "## 중첩 if ~ else 문"
   ]
  },
  {
   "cell_type": "code",
   "execution_count": null,
   "metadata": {},
   "outputs": [],
   "source": [
    "pet = input('기르는 애완 동물 종류는?')\n",
    "\n",
    "if pet == 'cat':\n",
    "    print(\"고양이 입니다.\")\n",
    "else:\n",
    "    if pet == 'dog':\n",
    "        print(\"강아지 입니다.\")"
   ]
  },
  {
   "cell_type": "markdown",
   "metadata": {},
   "source": [
    "## if ~ elif 문"
   ]
  },
  {
   "cell_type": "code",
   "execution_count": null,
   "metadata": {},
   "outputs": [],
   "source": [
    "pet = input('기르는 애완동물 종류는?')\n",
    "\n",
    "if pet == 'cat':\n",
    "    print(\"고양이 입니다.\")\n",
    "elif pet == 'dog':\n",
    "    print(\"강아지 입니다.\")\n",
    "elif pet == 'cow':\n",
    "    print(\"소 입니다.\")\n",
    "elif pet == ''\n",
    "else:\n",
    "    print(\"안녕\")"
   ]
  },
  {
   "cell_type": "markdown",
   "metadata": {},
   "source": [
    "## pass 문"
   ]
  },
  {
   "cell_type": "code",
   "execution_count": null,
   "metadata": {},
   "outputs": [],
   "source": [
    "if True:\n",
    "    "
   ]
  },
  {
   "cell_type": "code",
   "execution_count": null,
   "metadata": {},
   "outputs": [],
   "source": [
    "if True:\n",
    "    pass"
   ]
  },
  {
   "cell_type": "code",
   "execution_count": null,
   "metadata": {},
   "outputs": [],
   "source": [
    "if False:\n",
    "    "
   ]
  },
  {
   "cell_type": "code",
   "execution_count": null,
   "metadata": {},
   "outputs": [],
   "source": [
    "if False:\n",
    "    pass"
   ]
  },
  {
   "cell_type": "markdown",
   "metadata": {},
   "source": [
    "## 파이썬 표준 라이브러리 - random 모듈"
   ]
  },
  {
   "cell_type": "code",
   "execution_count": null,
   "metadata": {},
   "outputs": [],
   "source": [
    "import random"
   ]
  },
  {
   "cell_type": "code",
   "execution_count": null,
   "metadata": {},
   "outputs": [],
   "source": [
    "print(random.randrange(1,5))\n",
    "print(random.randrange(1,5))\n",
    "print(random.randrange(1,5))\n",
    "print(random.randrange(1,5))\n",
    "print(random.randrange(1,5))"
   ]
  },
  {
   "cell_type": "code",
   "execution_count": null,
   "metadata": {},
   "outputs": [],
   "source": [
    "print(random.randrange(10))\n",
    "print(random.randrange(10))\n",
    "print(random.randrange(10))\n",
    "print(random.randrange(10))\n",
    "print(random.randrange(10))"
   ]
  },
  {
   "cell_type": "markdown",
   "metadata": {},
   "source": [
    "## 연습문제\n",
    "지난 주에 배운 print(), input(), 산술연사자, 그리고 이번 주에 배운 조건문과 비교연산자와 논리연산자를 이용하여 아래 연습문제를 풀어보세요."
   ]
  },
  {
   "cell_type": "markdown",
   "metadata": {},
   "source": [
    "1.\n",
    "* Given\n",
    " * 두 정수를 입력 받음\n",
    "* Goal\n",
    "    * 앞 수가 더 크면 > 를 출력\n",
    "    * 뒷 수가 더 크면 < 를 출력\n",
    "    * 두 수가 같으면 = 를 출력"
   ]
  },
  {
   "cell_type": "code",
   "execution_count": null,
   "metadata": {},
   "outputs": [],
   "source": [
    "a = int(input())\n",
    "b = int(input())\n",
    "\n",
    "if a > b:\n",
    "    print('>')\n",
    "elif a < b:\n",
    "    print('<')\n",
    "else:\n",
    "    print('=')"
   ]
  },
  {
   "cell_type": "markdown",
   "metadata": {},
   "source": [
    "2.\n",
    "* Given\n",
    " * 자연수 a, b, c, d를 입력하여\n",
    "* Goal\n",
    " * a/b > c/d 이면 1을 출력\n",
    " * a/b = c/d 이면 0을 출력\n",
    " * a/b < c/d 이면 -1을 출력"
   ]
  },
  {
   "cell_type": "code",
   "execution_count": null,
   "metadata": {},
   "outputs": [],
   "source": [
    "a = int(input())\n",
    "b = int(input())\n",
    "c = int(input())\n",
    "d = int(input())\n",
    "\n",
    "if a/b > c/d:\n",
    "    print(1)\n",
    "elif a/b == c/d:\n",
    "    print(0)\n",
    "else:\n",
    "    print(-1)"
   ]
  },
  {
   "cell_type": "markdown",
   "metadata": {},
   "source": [
    "3.\n",
    "* Given\n",
    " * 실수로 된 2차원 상의 점의 좌표 (x, y)를 입력 받음\n",
    "* Goal\n",
    " * 1, 2, 3, 4사분면 중 어느 곳에 속하는지 출력\n",
    " * 예를 들어 (9, -13)은 4를 출력"
   ]
  },
  {
   "cell_type": "code",
   "execution_count": null,
   "metadata": {},
   "outputs": [],
   "source": [
    "x = float(input())\n",
    "y = float(input())\n",
    "\n",
    "if x > 0 and y > 0:\n",
    "    print(1)\n",
    "elif x < 0 and y > 0:\n",
    "    print(2)\n",
    "elif x < 0 and y < 0:\n",
    "    print(3)\n",
    "elif x > 0 and y < 0:\n",
    "    print(4)\n",
    "else:\n",
    "    pass"
   ]
  },
  {
   "cell_type": "markdown",
   "metadata": {},
   "source": [
    "4.\n",
    "* Given\n",
    " * 세 개의 양의 정수가 입력 됨\n",
    "* Goal\n",
    " * 세 정수로 이루어진 삼각형을 만들 수 있으면 yes를 출력\n",
    " * 아니면 no를 출력\n",
    "\n",
    "(아래 풀이는 정삼각형을 판별하지 못하는 오류가 있습니다. 코드를 수정해서 올바르게 동작하도록 만들어보세요.)"
   ]
  },
  {
   "cell_type": "code",
   "execution_count": null,
   "metadata": {
    "scrolled": true
   },
   "outputs": [],
   "source": [
    "a = int(input())\n",
    "b = int(input())\n",
    "c = int(input())\n",
    "\n",
    "if a > b and a > c and b + c > a:\n",
    "    print('yes')\n",
    "elif b > a and b > c and a + c > b:\n",
    "    print('yes')\n",
    "elif c > a and c > b and a + b > c:\n",
    "    print('yes')\n",
    "else:\n",
    "    print('no')"
   ]
  },
  {
   "cell_type": "markdown",
   "metadata": {},
   "source": [
    "5.\n",
    "* Given\n",
    " * 6면체 주사위를 굴려서 나온 숫자를 a에 대입\n",
    "* Goal\n",
    " * a의 숫자가 짝수면 a의 값과 짝을 출력\n",
    " * a의 숫자가 홀수면 a의 값과 홀을 출력"
   ]
  },
  {
   "cell_type": "code",
   "execution_count": null,
   "metadata": {},
   "outputs": [],
   "source": [
    "import random\n",
    "\n",
    "a = random.randrange(1, 7) # 1, 2, 3, 4, 5, 6\n",
    "\n",
    "if a%2 == 0:\n",
    "    print(a, \"짝\")\n",
    "else:\n",
    "    print(a, \"홀\")"
   ]
  },
  {
   "cell_type": "markdown",
   "metadata": {},
   "source": [
    "6.\n",
    "* Given\n",
    " * 2차 방정식이 $ax^2 + bx + c = 0$ 과 같은 형태로 주어짐\n",
    " * a, b, c는 정수로 이루어짐\n",
    "* Goal\n",
    " * 실수 범위에서 근의 개수를 출력 (즉, 근이 없으면 0, 1개면 1, 2개면 2를 출력)\n",
    " * 근을 출력\n",
    "\n",
    "(힌트)\n",
    "\n",
    "아래와 같은 이차방정식이 주어졌을 때,\n",
    "$$\n",
    "ax^2 + bx + c =0\n",
    "$$\n",
    "\n",
    "* 판별식\n",
    " * $b^2-4ac>0$ : 서로 다른 두 근\n",
    " * $b^2-4ac=0$ : 중근\n",
    " * $b^2-4ac<0$ : 해 없음\n",
    "\n",
    "* 근의 공식\n",
    "$$\n",
    "x = {-b\\pm \\sqrt{b^2-4ac} \\over 2a}\n",
    "$$"
   ]
  },
  {
   "cell_type": "code",
   "execution_count": null,
   "metadata": {},
   "outputs": [],
   "source": [
    "'''\n",
    "파이썬의 제곱근은 math 모듈에서 sqrt() 함수를 사용한다.\n",
    "예를 들어 4의 제곱근은\n",
    "sqrt(4)\n",
    "'''\n",
    "import math\n",
    "\n",
    "a = int(input())\n",
    "b = int(input())\n",
    "c = int(input())\n",
    "\n",
    "d = b**2 - 4 * a * c\n",
    "\n",
    "if d > 0:\n",
    "    print(2)\n",
    "elif d == 0:\n",
    "    print(1)\n",
    "else:\n",
    "    print(0)"
   ]
  },
  {
   "cell_type": "code",
   "execution_count": null,
   "metadata": {},
   "outputs": [],
   "source": []
  }
 ],
 "metadata": {
  "kernelspec": {
   "display_name": "Python 3",
   "language": "python",
   "name": "python3"
  },
  "language_info": {
   "codemirror_mode": {
    "name": "ipython",
    "version": 3
   },
   "file_extension": ".py",
   "mimetype": "text/x-python",
   "name": "python",
   "nbconvert_exporter": "python",
   "pygments_lexer": "ipython3",
   "version": "3.7.6"
  }
 },
 "nbformat": 4,
 "nbformat_minor": 4
}
