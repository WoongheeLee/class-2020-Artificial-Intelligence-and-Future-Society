{
 "cells": [
  {
   "cell_type": "markdown",
   "metadata": {},
   "source": [
    "# 함수\n",
    "아래 코드를 반복 연습해서 익히기 바랍니다."
   ]
  },
  {
   "cell_type": "markdown",
   "metadata": {},
   "source": [
    "## 함수 정의 방법\n",
    "\n",
    "* def 키워드로 함수 정의\n",
    "* 함수이름, 함수에 입력할 매개변수를 괄호 안에 표시\n",
    "* 코드 블록 안에 함수 기능 쓰기\n",
    "* 코드 블록은 들여쓰기 해야 함"
   ]
  },
  {
   "cell_type": "code",
   "execution_count": null,
   "metadata": {},
   "outputs": [],
   "source": [
    "# 아무런 기능을 하지 않는 함수\n",
    "def my_function():\n",
    "    pass"
   ]
  },
  {
   "cell_type": "code",
   "execution_count": null,
   "metadata": {},
   "outputs": [],
   "source": [
    "# 반환 값이 없는 함수\n",
    "def my_function():\n",
    "    print(\"This is my function.\")"
   ]
  },
  {
   "cell_type": "code",
   "execution_count": null,
   "metadata": {},
   "outputs": [],
   "source": [
    "# 인자를 입력하고, 반환 값이 없는 함수\n",
    "def my_function(name):\n",
    "    print(\"My name is\",name)"
   ]
  },
  {
   "cell_type": "code",
   "execution_count": null,
   "metadata": {},
   "outputs": [],
   "source": [
    "# 두 개 이상의 입력 변수는 콤마(,)로 구분\n",
    "def my_function(name, age):\n",
    "    print(\"My cat is named\",name,\"and is\",age,\"years old.\")"
   ]
  },
  {
   "cell_type": "code",
   "execution_count": null,
   "metadata": {},
   "outputs": [],
   "source": [
    "# 인자를 입력하고, 반환 값이 있는 함수\n",
    "def my_function(number):\n",
    "    return number**2"
   ]
  },
  {
   "cell_type": "code",
   "execution_count": null,
   "metadata": {},
   "outputs": [],
   "source": [
    "# 인자가 없고, 반환 값이 있는 함수\n",
    "def my_function():\n",
    "    return list([1,2,3])"
   ]
  },
  {
   "cell_type": "markdown",
   "metadata": {},
   "source": [
    "## 함수의 변수 범위"
   ]
  },
  {
   "cell_type": "markdown",
   "metadata": {},
   "source": [
    "* 함수 내에서 정의 된 변수는 함수 내에서만 존재"
   ]
  },
  {
   "cell_type": "code",
   "execution_count": null,
   "metadata": {},
   "outputs": [],
   "source": [
    "var = None\n",
    "del var"
   ]
  },
  {
   "cell_type": "code",
   "execution_count": null,
   "metadata": {},
   "outputs": [],
   "source": [
    "def my_func():\n",
    "    # 함수 내에서만 존재함\n",
    "    var = 10 # 지역변수\n",
    "    print(var) # 얘 때문에 10 출력\n",
    "    \n",
    "my_func() # 10\n",
    "\n",
    "print(var) # error. var가 정의 안됨"
   ]
  },
  {
   "cell_type": "markdown",
   "metadata": {},
   "source": [
    "* 지역 변수를 먼저 봄\n",
    "* 전역 변수를 봄\n",
    "* 함수 내에서 전역 변수는 값을 가져다 쓸 수는 있지만, 값을 변화시킬 수는 없음"
   ]
  },
  {
   "cell_type": "code",
   "execution_count": null,
   "metadata": {},
   "outputs": [],
   "source": [
    "var = 10 # 전역변수\n",
    "print(\"1. 함수 밖 전역변수의 값\",var) # 10\n",
    "\n",
    "def my_func(var):\n",
    "    # 전역변수와 이름은 같지만 my_func 안에서만 동작하는 지역변수임\n",
    "    print('1. 함수 내 지역변수',var) # 10\n",
    "    var += 10 # 20\n",
    "    print('2. 함수 내 지역변수',var) # 20\n",
    "\n",
    "my_func(var)\n",
    "\n",
    "print(\"2. 함수 밖 전역변수의 값\",var) # 10"
   ]
  },
  {
   "cell_type": "markdown",
   "metadata": {},
   "source": [
    "* 전역 변수와 지역 변수는 이름을 달리해서 구분\n",
    "* 함수 내의 변수 이름 앞에 언더라인(_)을 붙여주는 방법이 있음"
   ]
  },
  {
   "cell_type": "code",
   "execution_count": null,
   "metadata": {},
   "outputs": [],
   "source": [
    "def my_func(_var):\n",
    "    print('1. 함수 내 지역변수',_var) # 전역변수와 이름은 같지만 my_func 안에서만 동작하는 지역변수임\n",
    "    _var += 10\n",
    "    print('2. 함수 내 지역변수',_var)\n",
    "\n",
    "var = 10\n",
    "print(\"1. 함수 밖 전역변수의 값\",var) # 10\n",
    "my_func(var) # 10, 20\n",
    "\n",
    "print(\"2. 함수 밖 전역변수의 값\",var) # 10"
   ]
  },
  {
   "cell_type": "code",
   "execution_count": null,
   "metadata": {},
   "outputs": [],
   "source": [
    "def my_func():\n",
    "    # 전역 변수를 함수 내에서 변화시키려면 global 을 사용\n",
    "    global var\n",
    "    print(\"1. 함수 내에서 값\",var) # 10\n",
    "    var += 10\n",
    "    print(\"2. 함수 내에서 값\",var) # 20\n",
    "    \n",
    "var = 10\n",
    "print(\"1. 함수 밖에서 값\",var) # 10\n",
    "my_func() # 10, 20\n",
    "print(\"2. 함수 밖에서 값\",var) # 20"
   ]
  },
  {
   "cell_type": "markdown",
   "metadata": {},
   "source": [
    "## 함수의 반환"
   ]
  },
  {
   "cell_type": "markdown",
   "metadata": {},
   "source": [
    "* return 으로 함수가 반환해야 하는 값을 보냄\n",
    "* return 이 없는 함수는 None을 반환"
   ]
  },
  {
   "cell_type": "code",
   "execution_count": null,
   "metadata": {},
   "outputs": [],
   "source": [
    "# 함수 내부에서 연산 후 값 반환\n",
    "def summation(a,b):\n",
    "    return a + b # 7\n",
    "\n",
    "print(summation(3, 4)) # 7"
   ]
  },
  {
   "cell_type": "code",
   "execution_count": null,
   "metadata": {},
   "outputs": [],
   "source": [
    "# 값을 반환하지 않고 화면에 출력\n",
    "def my_func(a,b,c):\n",
    "    print(a+b+c) # 연산 결과 출력\n",
    "    \n",
    "my_func(1,2,3) # 6\n",
    "\n",
    "print(my_func(1,2,3)) # 6, None"
   ]
  },
  {
   "cell_type": "code",
   "execution_count": null,
   "metadata": {},
   "outputs": [],
   "source": [
    "# 아무 것도 하지 않음\n",
    "def my_func():\n",
    "    pass\n",
    "\n",
    "print(my_func()) # None"
   ]
  },
  {
   "cell_type": "markdown",
   "metadata": {},
   "source": [
    "## 유연한 함수 정의 방법: 인자 개수 정하지 않고 함수 정의"
   ]
  },
  {
   "cell_type": "markdown",
   "metadata": {},
   "source": [
    "1. 기본 인자 값: 하나 이상의 인자들에 기본값을 미리 정해주는 것"
   ]
  },
  {
   "cell_type": "code",
   "execution_count": null,
   "metadata": {},
   "outputs": [],
   "source": [
    "def ask_ok(prompt, retries=4, reminder=\"다시 입력해주세요!\"):\n",
    "\n",
    "    while True:\n",
    "        ok = input(prompt)\n",
    "\n",
    "        if ok in ('y'):\n",
    "            return True\n",
    "        if ok in ('n'):\n",
    "            return False\n",
    "        \n",
    "        retries -= 1\n",
    "        \n",
    "        if retries == 0:\n",
    "            print(\"잘못된 입력\")\n",
    "            break\n",
    "        print(reminder)"
   ]
  },
  {
   "cell_type": "code",
   "execution_count": null,
   "metadata": {},
   "outputs": [],
   "source": [
    "# 반드시 필요한 인자만 전달\n",
    "# prompt 에 전달됨\n",
    "ask_ok(\"종료할까요?\")"
   ]
  },
  {
   "cell_type": "code",
   "execution_count": null,
   "metadata": {},
   "outputs": [],
   "source": [
    "# 선택적 인자 하나를 제공\n",
    "# prompt, retries 에 전달\n",
    "ask_ok(\"파일을 덮어쓸까요?\", 2)"
   ]
  },
  {
   "cell_type": "code",
   "execution_count": null,
   "metadata": {},
   "outputs": [],
   "source": [
    "# 모든 인자를 제공\n",
    "ask_ok(\"파일을 덮어쓸까요?\",2,\"y 또는 n로 답하세요!\")"
   ]
  },
  {
   "cell_type": "markdown",
   "metadata": {},
   "source": [
    "* 기본 인자 값은 함수가 정의될 때만 구해짐"
   ]
  },
  {
   "cell_type": "code",
   "execution_count": null,
   "metadata": {},
   "outputs": [],
   "source": [
    "i = 5\n",
    "\n",
    "# i = 5 인 타이밍에 함수가 정의되었음\n",
    "def my_func(arg = i): \n",
    "    print(arg) # 5\n",
    "    \n",
    "i = 6 # i가 값이 바뀌었지만\n",
    "\n",
    "my_func() # 화면에는 5가 출력 됨"
   ]
  },
  {
   "cell_type": "markdown",
   "metadata": {},
   "source": [
    "* 기본 인자가 함수가 정의될 때 구해지므로, 리스트나 딕셔너리와 같은 가변 객체 일 때 아래와 같은 일이 일어남"
   ]
  },
  {
   "cell_type": "code",
   "execution_count": null,
   "metadata": {},
   "outputs": [],
   "source": [
    "# L 이라는 리스트는 함수가 정의될 때 한 번 구해짐\n",
    "def my_func(a, L = list()):\n",
    "    L.append(a)\n",
    "    print(L)\n",
    "\n",
    "# 함수가 호출 될 때, L 리스트가 새롭게 만들어지지 않는다는 의미\n",
    "# 따라서 L 리스트에는 함수가 호출될 때 값이 누적 됨\n",
    "my_func(1) # [1]\n",
    "my_func(2) # [1,2]\n",
    "my_func(3) # [1,2,3]"
   ]
  },
  {
   "cell_type": "code",
   "execution_count": null,
   "metadata": {},
   "outputs": [],
   "source": [
    "# a 는 아무일도 하지 않음\n",
    "def my_func(a, L=[1,2,3]):\n",
    "    # pop은 리스트의 맨 마지막 요소를 뱉고, 삭제\n",
    "    print(L.pop()) \n",
    "    \n",
    "my_func(1) # a = 1. L = [1,2] => 3\n",
    "my_func(1) # L = [1] => 2\n",
    "my_func(1) # L = [] => 1\n",
    "# L이 비어있는데, pop 시키기 때문에 에러\n",
    "my_func(1) # L.pop() -> error"
   ]
  },
  {
   "cell_type": "markdown",
   "metadata": {},
   "source": [
    "* 기본값이 공유되지 않도록 하려면, 기본 인자 값에 None을 줌"
   ]
  },
  {
   "cell_type": "code",
   "execution_count": null,
   "metadata": {},
   "outputs": [],
   "source": [
    "def my_func(a, L = None):\n",
    "    if L is None:\n",
    "        L = []\n",
    "    L.append(a)\n",
    "    print(L)\n",
    "\n",
    "my_func(1) # a = 1, L = [1] -> [1]\n",
    "my_func(2) # [2]\n",
    "my_func(3) # [3]\n",
    "\n",
    "# 기본 인자 None 대신에 리스트 [1,2] 가 입력됨\n",
    "my_func(3, [1,2]) # L = [1,2] -> L = [1,2,3] -> [1,2,3]"
   ]
  },
  {
   "cell_type": "markdown",
   "metadata": {},
   "source": [
    "2. 키워드 인자: 위치로 인자를 입력하거나, 키워드로 인자를 입력할 수 있음"
   ]
  },
  {
   "cell_type": "code",
   "execution_count": null,
   "metadata": {},
   "outputs": [],
   "source": [
    "def electric_car(voltage, state='충전 완료', action='주행',model='테슬라'):\n",
    "    print(f'{model}를 충전하기 위해서는 {voltage}V 충전 연결')\n",
    "    print(f'현재 차량은 {state} 상태입니다.')\n",
    "    print(f'현재 차량은 {action} 중입니다.')"
   ]
  },
  {
   "cell_type": "markdown",
   "metadata": {},
   "source": [
    "* 올바른 호출 예시"
   ]
  },
  {
   "cell_type": "code",
   "execution_count": null,
   "metadata": {},
   "outputs": [],
   "source": [
    "# 한 개의 위치 인자\n",
    "electric_car(400)"
   ]
  },
  {
   "cell_type": "code",
   "execution_count": null,
   "metadata": {},
   "outputs": [],
   "source": [
    "# 한 개의 키워드 인자\n",
    "electric_car(voltage = 400)"
   ]
  },
  {
   "cell_type": "code",
   "execution_count": null,
   "metadata": {},
   "outputs": [],
   "source": [
    "# 두 개의 키워드 인자\n",
    "electric_car(voltage=400,action='정차')"
   ]
  },
  {
   "cell_type": "code",
   "execution_count": null,
   "metadata": {},
   "outputs": [],
   "source": [
    "# 두 개의 키워드 인자. 순서는 상관이 없음\n",
    "electric_car(action='주차',voltage=380)"
   ]
  },
  {
   "cell_type": "code",
   "execution_count": null,
   "metadata": {},
   "outputs": [],
   "source": [
    "# 세 개의 위치 인자\n",
    "electric_car('삼백오십','충전 중','주차')"
   ]
  },
  {
   "cell_type": "code",
   "execution_count": null,
   "metadata": {},
   "outputs": [],
   "source": [
    "# 한 개의 위치 인자, 한 개의 키워드 인자\n",
    "electric_car(400,state='주차')"
   ]
  },
  {
   "cell_type": "markdown",
   "metadata": {},
   "source": [
    "* 잘못 된 호출 예시"
   ]
  },
  {
   "cell_type": "code",
   "execution_count": null,
   "metadata": {},
   "outputs": [],
   "source": [
    "electric_car() # 필수적인 인자가 빠짐\n",
    "electric_car(voltage=400,'충전 중') # 키워드 인자 뒤에는 키워드 인자가 와야 함\n",
    "electric_car(400, voltage=350) # 동일한 인자에 값을 두 번 입력 함\n",
    "electric_car(models='현대') # 모르는 키워드 인자를 사용"
   ]
  },
  {
   "cell_type": "markdown",
   "metadata": {},
   "source": [
    "3. 임의의 인자 목록: 사용 빈도 낮지만 코드 읽기를 위해 알아둘 것"
   ]
  },
  {
   "cell_type": "code",
   "execution_count": null,
   "metadata": {},
   "outputs": [],
   "source": [
    "# 세 개의 인자를 받아 총 합을 출력하는 함수\n",
    "def adder(x,y,z):\n",
    "    print(\"sum:\",x+y+z)\n",
    "        \n",
    "adder(3,4,5) # => \n",
    "\n",
    "# 하지만 셋을 초과하는 인자를 주면 에러 발생\n",
    "adder(3,4,5,6) # => 에러"
   ]
  },
  {
   "cell_type": "code",
   "execution_count": null,
   "metadata": {},
   "outputs": [],
   "source": [
    "# 이 때 *args 를 사용\n",
    "# 변수 이름 앞에 별표(*)를 붙임\n",
    "# 여러 값들이 튜플로 묶여서 입력 됨\n",
    "\n",
    "def adder(*num): # num 은 튜플\n",
    "    summation = 0\n",
    "    \n",
    "    for n in num:\n",
    "        summation += n\n",
    "    \n",
    "    print(summation)\n",
    "    \n",
    "# 인자의 개수 상관없이 사용 가능\n",
    "adder(1)\n",
    "adder(1,2,3)\n",
    "adder(1,2,3,4,5,6,7)"
   ]
  },
  {
   "cell_type": "markdown",
   "metadata": {},
   "source": [
    "* \\*args 쓰는 파이썬의 내장 함수는 print() 가 있음\n",
    "\n",
    "* print(*objects, sep=' ', end='\\n', file=sys.stdout, flush=False)\n",
    " * 의미: objects 를 화면에 나타내고, 여러 인자는 sep로 구분, 마지막에는 end 를 붙임\n",
    " * 모든 인자는 str()로 캐스팅과 같이 문자열로 변환 됨\n",
    " * 기본 인자는 sep 은 공백 구분, end 는 줄바꿈"
   ]
  },
  {
   "cell_type": "code",
   "execution_count": null,
   "metadata": {},
   "outputs": [],
   "source": [
    "print(1) # 1\n",
    "print(1,2,3) # 1 2 3\n",
    "print(1,2,3,sep='') # 문자열 구분 공백 없이 출력 -> 123\n",
    "print(1,2,3,end='END') # 마지막에 줄바꿈 대신에 END를 붙임 -> 1 2 3END"
   ]
  },
  {
   "cell_type": "code",
   "execution_count": null,
   "metadata": {},
   "outputs": [],
   "source": [
    "# 정해지지 않은 개수의 키, 값 쌍을 입력할 수 있음\n",
    "# **kwargs 를 사용\n",
    "# 변수 앞에 별표(*)를 둘 붙임 (**)\n",
    "# 여러 값들이 딕셔너리로 묶여서 입력 됨\n",
    "\n",
    "def intro(**data):\n",
    "    \n",
    "    for k, v in data.items():\n",
    "        print(f'{k} 는 {v} 입니다.')\n",
    "        \n",
    "intro(Firstname='Sita', Lastname='Sharma', age=22, phone=1234567890)"
   ]
  },
  {
   "cell_type": "markdown",
   "metadata": {},
   "source": [
    "## 람다 표현식\n",
    "* lambda 키워드로 이름 붙일 필요 없이 작은 함수를 만들 수 있음\n",
    "* lambda 를 쓰고, 콜론(:)으로 구분하여\n",
    "* 콜론 왼쪽에는 함수에 입력 될 인자\n",
    "* 콜론 오른쪽에는 함수에서 반환해야할 인자 씀"
   ]
  },
  {
   "cell_type": "code",
   "execution_count": null,
   "metadata": {},
   "outputs": [],
   "source": [
    "# f라는 람다 함수 정의\n",
    "f = lambda x : x + 10\n",
    "print(f(5)) # 15"
   ]
  },
  {
   "cell_type": "code",
   "execution_count": null,
   "metadata": {},
   "outputs": [],
   "source": [
    "# 이름을 따로 만들지 않고 바로 사용 가능\n",
    "(lambda x: x+10)(10) # 20"
   ]
  },
  {
   "cell_type": "code",
   "execution_count": 1,
   "metadata": {},
   "outputs": [
    {
     "name": "stdout",
     "output_type": "stream",
     "text": [
      "15\n"
     ]
    }
   ],
   "source": [
    "# 람다 표현식 안에 새로운 변수를 만들 수 없음\n",
    "# 외부 변수 사용은 가능\n",
    "y = 10\n",
    "f = lambda x : x + y # x + 10\n",
    "print(f(5)) # 15"
   ]
  },
  {
   "cell_type": "code",
   "execution_count": 2,
   "metadata": {},
   "outputs": [
    {
     "name": "stdout",
     "output_type": "stream",
     "text": [
      "10\n",
      "15\n"
     ]
    }
   ],
   "source": [
    "# 함수에서 반환 값에 사용 가능\n",
    "def make_incrementor(n):\n",
    "    return lambda x:x + n # x + 5\n",
    "\n",
    "f = make_incrementor(5) # 입력 값에 5를 더해주는 함수를 정의\n",
    "print(f(5)) # 10\n",
    "print(f(10)) # 15"
   ]
  },
  {
   "cell_type": "markdown",
   "metadata": {},
   "source": [
    "## 프로그램 모듈화\n",
    "* 한 프로그램에 모든 코드를 다 쓰면 불필요하게 코드가 길어짐\n",
    "* 특정 기능 별로 묶어서 모듈화 가능\n",
    "* calculator.py 에 써둔 함수를 가져다 쓰기"
   ]
  },
  {
   "cell_type": "code",
   "execution_count": 3,
   "metadata": {},
   "outputs": [
    {
     "data": {
      "text/plain": [
       "2"
      ]
     },
     "execution_count": 3,
     "metadata": {},
     "output_type": "execute_result"
    }
   ],
   "source": [
    "import random\n",
    "random.randrange(0,10)"
   ]
  },
  {
   "cell_type": "code",
   "execution_count": 6,
   "metadata": {},
   "outputs": [],
   "source": [
    "import calculator"
   ]
  },
  {
   "cell_type": "code",
   "execution_count": 7,
   "metadata": {
    "scrolled": true
   },
   "outputs": [
    {
     "data": {
      "text/plain": [
       "6"
      ]
     },
     "execution_count": 7,
     "metadata": {},
     "output_type": "execute_result"
    }
   ],
   "source": [
    "calculator.addition(1,2,3)"
   ]
  },
  {
   "cell_type": "code",
   "execution_count": 8,
   "metadata": {},
   "outputs": [
    {
     "data": {
      "text/plain": [
       "21"
      ]
     },
     "execution_count": 8,
     "metadata": {},
     "output_type": "execute_result"
    }
   ],
   "source": [
    "calculator.addition(1,2,3,4,5,6)"
   ]
  },
  {
   "cell_type": "markdown",
   "metadata": {},
   "source": [
    "* 아래처럼 함수를 가져다 쓸 수 있음"
   ]
  },
  {
   "cell_type": "code",
   "execution_count": 9,
   "metadata": {},
   "outputs": [],
   "source": [
    "# 사용하려는 함수만 가져다 쓰기\n",
    "from calculator import addition, multiplication, vector_product \n",
    "\n",
    "# calculator 안에 있는 모든 함수 가져다 쓰기\n",
    "from calculator import *"
   ]
  },
  {
   "cell_type": "code",
   "execution_count": 10,
   "metadata": {},
   "outputs": [
    {
     "data": {
      "text/plain": [
       "720"
      ]
     },
     "execution_count": 10,
     "metadata": {},
     "output_type": "execute_result"
    }
   ],
   "source": [
    "multiplication(1,2,3,4,5,6)"
   ]
  },
  {
   "cell_type": "code",
   "execution_count": 11,
   "metadata": {},
   "outputs": [
    {
     "data": {
      "text/plain": [
       "190"
      ]
     },
     "execution_count": 11,
     "metadata": {},
     "output_type": "execute_result"
    }
   ],
   "source": [
    "vec1 = [1,3,5,7,9]\n",
    "vec2 = [2,4,6,8,10]\n",
    "\n",
    "vector_product(vec1,vec2)"
   ]
  },
  {
   "cell_type": "markdown",
   "metadata": {},
   "source": [
    "## 클로져\n",
    "* 파이썬에서는 함수 안에 함수를 정의할 수 있음\n",
    "* 내용을 각자 읽어보시고, 한 줄씩 익히기 바랍니다."
   ]
  },
  {
   "cell_type": "code",
   "execution_count": null,
   "metadata": {},
   "outputs": [],
   "source": [
    "# 바깥 쪽 함수\n",
    "def print_hello():\n",
    "    message = \"Hello!\"\n",
    "    \n",
    "    # 안쪽 함수\n",
    "    def print_message():\n",
    "        print(message)\n",
    "    \n",
    "    # 바깥 쪽 함수에서 안쪽 함수를 실행\n",
    "    print_message()\n",
    "    \n",
    "print_hello() # \"Hello!\""
   ]
  },
  {
   "cell_type": "code",
   "execution_count": null,
   "metadata": {},
   "outputs": [],
   "source": [
    "# 바깥쪽 함수\n",
    "def outer():\n",
    "    x = 10 # 바깥 함수에서 변수 선언\n",
    "    \n",
    "    def inner():\n",
    "        x = 20 # 바깥 함수의 변수와 이름이 같지만, 안쪽 함수에서만 동작함\n",
    "        \n",
    "    inner() # inner함수를 실행\n",
    "    \n",
    "    # inner함수의 x는 바깥쪽 함수의 변수에 영향 안줌. 따라서 outer x = 10\n",
    "    print(x) \n",
    "    \n",
    "outer()"
   ]
  },
  {
   "cell_type": "code",
   "execution_count": null,
   "metadata": {},
   "outputs": [],
   "source": [
    "def outer():\n",
    "    a = 10 # 바깥쪽 함수에서 변수 선언\n",
    "    \n",
    "    def inner():\n",
    "        b = 20\n",
    "        print(a+b) # outer a도 볼 수 있으므로 30\n",
    "\n",
    "    inner() # inner함수 실행하면 화면에 30 출력\n",
    "\n",
    "outer()"
   ]
  },
  {
   "cell_type": "code",
   "execution_count": null,
   "metadata": {},
   "outputs": [],
   "source": [
    "def outer():\n",
    "    a = 10\n",
    "    \n",
    "    def inner():\n",
    "        b = 20\n",
    "        a += b # outer a는 inner 밖에 있어서 변경 불가\n",
    "        print(a)\n",
    "        \n",
    "    inner()\n",
    "    \n",
    "outer()"
   ]
  },
  {
   "cell_type": "code",
   "execution_count": null,
   "metadata": {},
   "outputs": [],
   "source": [
    "def outer():\n",
    "    a = 10\n",
    "    \n",
    "    def inner():\n",
    "        nonlocal a # inner 밖의 a를 변경하려면 nonlocal 붙여줌\n",
    "        b = 20\n",
    "        a += b\n",
    "        print(a)\n",
    "        \n",
    "    inner()\n",
    "    \n",
    "outer()"
   ]
  },
  {
   "cell_type": "code",
   "execution_count": 15,
   "metadata": {},
   "outputs": [
    {
     "name": "stdout",
     "output_type": "stream",
     "text": [
      "3\n"
     ]
    }
   ],
   "source": [
    "a = 1 +\\\n",
    "    2\n",
    "print(a)"
   ]
  },
  {
   "cell_type": "markdown",
   "metadata": {},
   "source": [
    "## 파이썬 코딩 스타일 가이드\n",
    "* 파이썬 창시자가 만든 코딩 스타일\n",
    "* 읽기 쉽고, 눈이 편안해지는 코딩 스타일\n",
    "* 원본 링크 https://www.python.org/dev/peps/pep-0008/\n",
    "* 몇 가지 예제\n",
    " * 들여쓰기는 스페이스를 네 번 눌러서 사용하고, 탭을 사용하지 않음 (주피터 노트북에서 탭을 누르면 스페이스 네번이 입력됨)\n",
    " * 한 줄에 최대 79자까지 쓰고, 넘어가면 줄넘김을 할 것\n",
    " * 함수, 클래스, 함수 내의 큰 코드 블록 사이에 빈 줄을 넣어 분리\n",
    " * 되도록 주석은 별도의 줄에 넣을 것\n",
    " * 함수 시작 부분에 함수 인터페이스를 설명하는 주석을 달 것\n",
    " * 연산자들 주변과 콤마 뒤에는 스페이스를 넣고, 괄호 바로 안쪽에는 스페이스를 넣지 않음\n",
    "   * 좋은 예: a = f(1, 2) + g(3, 4)\n",
    " * 함수 이름은 일정하게 만들 것. 이름은 lowercase_with_underscores 스타일로 사용\n",
    " * 국제 규약에 맞추려면 특별한 인코딩을 쓰지 말고, 주석은 영어로 작성할 것"
   ]
  },
  {
   "cell_type": "markdown",
   "metadata": {},
   "source": [
    "# 연습 문제"
   ]
  },
  {
   "cell_type": "markdown",
   "metadata": {},
   "source": [
    "1.\n",
    " * 피보나치 수열을 N 미만의 원소 까지 출력하는 함수 작성"
   ]
  },
  {
   "cell_type": "code",
   "execution_count": 34,
   "metadata": {},
   "outputs": [
    {
     "name": "stdout",
     "output_type": "stream",
     "text": [
      "0 1 1 2 3 5 8 13 21 34 55 89 "
     ]
    }
   ],
   "source": [
    "def fib(N):\n",
    "    a, b = 0, 1\n",
    "    \n",
    "    while a < N:\n",
    "        print(a, end=' ')\n",
    "        temp = b\n",
    "        b = a + b\n",
    "        a = temp\n",
    "        \n",
    "fib(100)"
   ]
  },
  {
   "cell_type": "code",
   "execution_count": 36,
   "metadata": {},
   "outputs": [
    {
     "name": "stdout",
     "output_type": "stream",
     "text": [
      "0 1 1 2 3 5 8 13 21 34 55 89 "
     ]
    }
   ],
   "source": [
    "def fib(N):\n",
    "    a, b = 0, 1\n",
    "    \n",
    "    while a < N:\n",
    "        print(a, end = ' ')\n",
    "        # 추가적인 temp 변수 없이 아래처럼 구현할 수도 있음\n",
    "        a, b = b, a + b\n",
    "\n",
    "fib(100)"
   ]
  },
  {
   "cell_type": "markdown",
   "metadata": {},
   "source": [
    "2.\n",
    " * 아래와 같은 기능을 하는 함수 만들기\n",
    " * 입력인자: 정수를 입력 받음\n",
    " * 함수가 할 일: 주사위를 20번 굴려서 리스트에 넣음\n",
    " * 반환값: 주사위 20회 굴리기 중에서 입력 된 인자와 일치하는 횟수"
   ]
  },
  {
   "cell_type": "code",
   "execution_count": 40,
   "metadata": {},
   "outputs": [
    {
     "name": "stdout",
     "output_type": "stream",
     "text": [
      "[2, 2, 2, 2, 3, 3, 3, 4, 4, 4, 4, 4, 5, 5, 5, 6, 6, 6, 6, 6]\n",
      "3\n"
     ]
    }
   ],
   "source": [
    "import random\n",
    "\n",
    "def dice(num):\n",
    "    _dice = [random.randrange(1, 7) for _ in range(20)]\n",
    "    print(sorted(_dice))\n",
    "    return _dice.count(num)\n",
    "\n",
    "print(dice(3))"
   ]
  },
  {
   "cell_type": "markdown",
   "metadata": {},
   "source": [
    "### 지난 주 까지 풀어본 연습 문제를 함수로 만들어보시기 바랍니다.\n",
    "* 무엇이 입력 인자가 되고, 무엇이 출력되어야 할지 연습해보세요."
   ]
  },
  {
   "cell_type": "code",
   "execution_count": null,
   "metadata": {},
   "outputs": [],
   "source": []
  }
 ],
 "metadata": {
  "kernelspec": {
   "display_name": "Python 3",
   "language": "python",
   "name": "python3"
  },
  "language_info": {
   "codemirror_mode": {
    "name": "ipython",
    "version": 3
   },
   "file_extension": ".py",
   "mimetype": "text/x-python",
   "name": "python",
   "nbconvert_exporter": "python",
   "pygments_lexer": "ipython3",
   "version": "3.7.6"
  }
 },
 "nbformat": 4,
 "nbformat_minor": 4
}
