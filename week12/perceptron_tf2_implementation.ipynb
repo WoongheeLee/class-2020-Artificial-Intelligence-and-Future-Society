{
 "cells": [
  {
   "cell_type": "markdown",
   "metadata": {},
   "source": [
    "# 퍼셉트론 구현 - 텐서플로우 2"
   ]
  },
  {
   "cell_type": "markdown",
   "metadata": {},
   "source": [
    "관심 있는 학생만 살펴보기 바랍니다."
   ]
  },
  {
   "cell_type": "code",
   "execution_count": 1,
   "metadata": {},
   "outputs": [],
   "source": [
    "import numpy as np\n",
    "import tensorflow as tf\n",
    "\n",
    "import matplotlib.pyplot as plt\n",
    "\n",
    "%matplotlib inline"
   ]
  },
  {
   "cell_type": "code",
   "execution_count": 2,
   "metadata": {},
   "outputs": [
    {
     "data": {
      "text/plain": [
       "'2.1.0'"
      ]
     },
     "execution_count": 2,
     "metadata": {},
     "output_type": "execute_result"
    }
   ],
   "source": [
    "tf.__version__"
   ]
  },
  {
   "cell_type": "markdown",
   "metadata": {},
   "source": [
    "## 데이터"
   ]
  },
  {
   "cell_type": "code",
   "execution_count": 3,
   "metadata": {},
   "outputs": [],
   "source": [
    "X = np.array([\n",
    "    [0, 0],\n",
    "    [0, 1],\n",
    "    [1, 0],\n",
    "    [1, 1]\n",
    "])\n",
    "\n",
    "y = np.expand_dims(np.array([0, 1, 1, 0]), axis=-1)"
   ]
  },
  {
   "cell_type": "code",
   "execution_count": 4,
   "metadata": {},
   "outputs": [
    {
     "name": "stdout",
     "output_type": "stream",
     "text": [
      "(4, 2) (4, 1)\n"
     ]
    }
   ],
   "source": [
    "print(X.shape, y.shape)"
   ]
  },
  {
   "cell_type": "markdown",
   "metadata": {},
   "source": [
    "## 모델 구조 정의\n",
    "텐서플로우 2는 고수준 API로 기본 제공하는 케라스를 이용하여 구현 가능\n",
    "\n",
    "여기서도 텐서플로우 1에서 했던 것과 동일하게 퍼셉트론 구조는 은닉층에 뉴런 3개, 마지막 출력은 뉴런 1개를 가지고,\n",
    "\n",
    "각각의 레이어 사이는 시그모이드 활성함수를 쓰기로 하자."
   ]
  },
  {
   "cell_type": "code",
   "execution_count": 5,
   "metadata": {},
   "outputs": [],
   "source": [
    "from tensorflow.keras import models, layers, losses, optimizers"
   ]
  },
  {
   "cell_type": "code",
   "execution_count": 6,
   "metadata": {},
   "outputs": [],
   "source": [
    "class Perceptron(models.Model):\n",
    "\n",
    "    # 파이썬에서 object 를 상속받아 만들어진 클래스를 생성할 때\n",
    "    # 초기화 과정에서 무슨 일이 일어나는지는 __init__ 안에서 정해줌\n",
    "    def __init__(self):\n",
    "        \n",
    "        # models.Model를 상속 받아서 동일한 방법으로 초기화\n",
    "        super(Perceptron, self).__init__()\n",
    "        \n",
    "        # models.Sequential 안에 레이어를 한층 한층 쌓아가며 만들 수 있음\n",
    "        self.model = models.Sequential([\n",
    "            # 입력은 어떤 모양의 데이터가 들어올지 모르지만\n",
    "            # Perceptron 클래스를 생성하고, build하는 과정에서\n",
    "            # 가중치 행렬(텐서) 차원이 정해짐\n",
    "            # layers.Dense() 는 TF1에서 W, b와 역할이 동일\n",
    "            layers.Dense(3), # 뉴런 3개 가짐\n",
    "            layers.Activation(tf.sigmoid), # 시그모이드 활성함수 사용\n",
    "            layers.Dense(1), # 출력 뉴런 1개\n",
    "            layers.Activation(tf.sigmoid) # 시그모이드 활성함수 사용\n",
    "        ])\n",
    "\n",
    "    # 파이썬에서 생성된 클래스에 인자를 전달할 때 호출되는 함수는 __call__인데\n",
    "    # 텐서플로우 2에서 models.Model 클래스에 call함수가 __call__을 호출하도록 되어 있음\n",
    "    # 그래서 모델에 데이터를 전달하면 무슨 일이 생기는지는 여기서 정해주면 됨\n",
    "    def call(self, inputs):\n",
    "        '''\n",
    "            데이터를 입력받아서 어떤 텐서 연산을 거쳐 출력되는지 정해줌\n",
    "            \n",
    "            args:\n",
    "                inputs: 입력 데이터. 모양(shape)은 call할 때 정해짐\n",
    "            return:\n",
    "                모델이 출력하는 값\n",
    "        '''\n",
    "        outputs = self.model(inputs)\n",
    "        return outputs"
   ]
  },
  {
   "cell_type": "code",
   "execution_count": 7,
   "metadata": {},
   "outputs": [],
   "source": [
    "# Perceptron 클래스 생성\n",
    "perceptron = Perceptron()"
   ]
  },
  {
   "cell_type": "code",
   "execution_count": 8,
   "metadata": {},
   "outputs": [],
   "source": [
    "# 생성 된 퍼셉트론에 어떤 모양의 데이터가 들어갈지 정해줌\n",
    "perceptron.build((None, 2))"
   ]
  },
  {
   "cell_type": "markdown",
   "metadata": {},
   "source": [
    "## 목적식 정의\n",
    "MSE를 써서 목적식을 최소화 하기로 함"
   ]
  },
  {
   "cell_type": "code",
   "execution_count": 9,
   "metadata": {},
   "outputs": [],
   "source": [
    "mse = losses.MeanSquaredError()"
   ]
  },
  {
   "cell_type": "markdown",
   "metadata": {},
   "source": [
    "## 최적화기\n",
    "어떤 방식으로 모델 가중치를 업데이트할지 정함"
   ]
  },
  {
   "cell_type": "code",
   "execution_count": 10,
   "metadata": {},
   "outputs": [],
   "source": [
    "optimizer = optimizers.SGD(learning_rate=.1)"
   ]
  },
  {
   "cell_type": "markdown",
   "metadata": {},
   "source": [
    "## 학습"
   ]
  },
  {
   "cell_type": "code",
   "execution_count": 11,
   "metadata": {},
   "outputs": [
    {
     "name": "stdout",
     "output_type": "stream",
     "text": [
      "Wall time: 1min 7s\n"
     ]
    }
   ],
   "source": [
    "%%time\n",
    "\n",
    "EPOCHS = 20000\n",
    "\n",
    "loss_list = []\n",
    "\n",
    "for e in range(EPOCHS):\n",
    "    \n",
    "    idx = np.random.randint(4)\n",
    "    \n",
    "    # 임의로 데이터 한 개 선택\n",
    "    _x = X[idx:idx+1]\n",
    "    _y = y[idx:idx+1]\n",
    "    \n",
    "    # backpropagation 을 위해 W, b에 관해 미분해야함\n",
    "    # tf.GradientTape()가 자동 미분기 역할을 함\n",
    "    # 이 블록 안에서 무엇에 관해 미분할지 텐서플로우가 쳐다 봄\n",
    "    with tf.GradientTape() as tape:\n",
    "        # 퍼셉트론에 데이터 넣어서 결과 출력하기\n",
    "        _y_pred = perceptron(_x)\n",
    "        # 목적식 적용. 이걸 최소화하도록 미분하기로 함\n",
    "        loss = mse(_y, _y_pred)\n",
    "        \n",
    "    # 미분 하기\n",
    "    # \"loss\"를 \"perceptron.trainable_variables\" 로 미분\n",
    "    grads = tape.gradient(loss, perceptron.trainable_variables)\n",
    "    \n",
    "    # 가중치 (perceptron.trainable_variables) 를 업데이트\n",
    "    optimizer.apply_gradients(list(zip(grads, perceptron.trainable_variables)))\n",
    "    \n",
    "    loss_list.append(loss)"
   ]
  },
  {
   "cell_type": "code",
   "execution_count": 12,
   "metadata": {},
   "outputs": [
    {
     "data": {
      "image/png": "[encoded data removed]",
      "text/plain": [
       "<Figure size 432x288 with 1 Axes>"
      ]
     },
     "metadata": {
      "needs_background": "light"
     },
     "output_type": "display_data"
    }
   ],
   "source": [
    "# 만 번 학습하는 동안 로스 변화를 그래프로 그려보기\n",
    "plt.plot(loss_list)\n",
    "plt.show()"
   ]
  },
  {
   "cell_type": "markdown",
   "metadata": {},
   "source": [
    "## 모델 평가"
   ]
  },
  {
   "cell_type": "code",
   "execution_count": 13,
   "metadata": {},
   "outputs": [],
   "source": [
    "y_pred = perceptron(X)"
   ]
  },
  {
   "cell_type": "code",
   "execution_count": 14,
   "metadata": {},
   "outputs": [
    {
     "name": "stdout",
     "output_type": "stream",
     "text": [
      "실제: 0, 예측: 0.0\n",
      "실제: 1, 예측: 0.9\n",
      "실제: 1, 예측: 0.9\n",
      "실제: 0, 예측: 0.1\n"
     ]
    }
   ],
   "source": [
    "for y_real, y_ in zip(y, y_pred):\n",
    "    print(f\"실제: {y_real[0]}, 예측: {y_[0]:.1f}\")"
   ]
  }
 ],
 "metadata": {
  "kernelspec": {
   "display_name": "Python 3",
   "language": "python",
   "name": "python3"
  },
  "language_info": {
   "codemirror_mode": {
    "name": "ipython",
    "version": 3
   },
   "file_extension": ".py",
   "mimetype": "text/x-python",
   "name": "python",
   "nbconvert_exporter": "python",
   "pygments_lexer": "ipython3",
   "version": "3.7.7"
  }
 },
 "nbformat": 4,
 "nbformat_minor": 4
}
