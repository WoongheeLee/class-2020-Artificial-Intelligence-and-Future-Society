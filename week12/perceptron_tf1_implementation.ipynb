{
 "cells": [
  {
   "cell_type": "markdown",
   "metadata": {},
   "source": [
    "# 퍼셉트론 구현 - 텐서플로우 1"
   ]
  },
  {
   "cell_type": "code",
   "execution_count": 1,
   "metadata": {},
   "outputs": [],
   "source": [
    "import numpy as np\n",
    "import tensorflow as tf\n",
    "\n",
    "import matplotlib.pyplot as plt\n",
    "\n",
    "%matplotlib inline"
   ]
  },
  {
   "cell_type": "code",
   "execution_count": 2,
   "metadata": {},
   "outputs": [
    {
     "data": {
      "text/plain": [
       "'1.15.0'"
      ]
     },
     "execution_count": 2,
     "metadata": {},
     "output_type": "execute_result"
    }
   ],
   "source": [
    "tf.__version__"
   ]
  },
  {
   "cell_type": "markdown",
   "metadata": {},
   "source": [
    "## 데이터\n",
    "* XOR 연산을 위해 아래와 같은 데이터를 준비했음\n",
    "* np.expand_dims는 차원을 하나 늘려주는 역할을 함\n",
    "  * 인자로 axis에 정해준 차원을 하나 늘려줌"
   ]
  },
  {
   "cell_type": "code",
   "execution_count": 3,
   "metadata": {},
   "outputs": [],
   "source": [
    "X = np.array([\n",
    "    [0, 0],\n",
    "    [0, 1],\n",
    "    [1, 0],\n",
    "    [1, 1]\n",
    "])\n",
    "\n",
    "# (4,) 차원 데이터를 (4, 1)로 늘려줌\n",
    "y = np.expand_dims(np.array([0, 1, 1, 0]), axis=-1)"
   ]
  },
  {
   "cell_type": "code",
   "execution_count": 4,
   "metadata": {},
   "outputs": [
    {
     "name": "stdout",
     "output_type": "stream",
     "text": [
      "(4, 2)\n",
      "(4, 1)\n"
     ]
    }
   ],
   "source": [
    "print(X.shape)\n",
    "print(y.shape)"
   ]
  },
  {
   "cell_type": "markdown",
   "metadata": {},
   "source": [
    "## 구현 기본 구조\n",
    "텐서플로우로 모델을 구현할 때, 아래 세 가지 요소를 가지고 만든다.\n",
    "1. 데이터가 다닐 통로\n",
    "2. 레이어 구조 정의\n",
    "3. 목적식 (손실함수) 정의"
   ]
  },
  {
   "cell_type": "markdown",
   "metadata": {},
   "source": [
    "### 1. 데이터가 다닐 통로 정의\n",
    "  * 입력 데이터와 출력 데이터 모두 정의\n",
    "  * 입력 데이터는 한 개에 2차원\n",
    "  * 몇 개의 데이터가 들어갈지 모를 때는 shape에 None을 쓸 수 있음\n",
    "  * 우리 데이터는 4줄이 들어가지만 일단 None이라고 하기"
   ]
  },
  {
   "cell_type": "code",
   "execution_count": 5,
   "metadata": {},
   "outputs": [
    {
     "data": {
      "text/plain": [
       "<tf.Tensor 'Placeholder:0' shape=(?, 2) dtype=float32>"
      ]
     },
     "execution_count": 5,
     "metadata": {},
     "output_type": "execute_result"
    }
   ],
   "source": [
    "# 입력 데이터는 2차원\n",
    "inputs = tf.placeholder(shape=(None, 2), dtype=tf.float32)\n",
    "inputs"
   ]
  },
  {
   "cell_type": "code",
   "execution_count": 6,
   "metadata": {},
   "outputs": [
    {
     "data": {
      "text/plain": [
       "<tf.Tensor 'Placeholder_1:0' shape=(?, 1) dtype=float32>"
      ]
     },
     "execution_count": 6,
     "metadata": {},
     "output_type": "execute_result"
    }
   ],
   "source": [
    "# 최종 출력은 1차원\n",
    "outputs = tf.placeholder(shape=(None, 1), dtype=tf.float32)\n",
    "outputs"
   ]
  },
  {
   "cell_type": "markdown",
   "metadata": {},
   "source": [
    "### 2. 레이어 구조 정의\n",
    "  * 입력 데이터가 2차원\n",
    "  * 뉴런 3개에서 출력 되기로 해봄\n",
    "  * 따라서 가중치에 해당하는 ```tf.Variable()```에 들어갈 차원 모양은 ```shape=(3, 2)```"
   ]
  },
  {
   "cell_type": "code",
   "execution_count": 7,
   "metadata": {},
   "outputs": [
    {
     "name": "stdout",
     "output_type": "stream",
     "text": [
      "<tf.Variable 'Variable:0' shape=(2, 3) dtype=float32_ref>\n",
      "<tf.Variable 'Variable_1:0' shape=(3,) dtype=float32_ref>\n"
     ]
    }
   ],
   "source": [
    "# 입력 데이터 2차원, 출력 뉴런 3개이므로 2x3행렬\n",
    "W0 = tf.Variable(tf.random_uniform((2, 3)))\n",
    "# 바이어스도 추가해주자\n",
    "b0 = tf.Variable(tf.ones((3)))\n",
    "print(W0)\n",
    "print(b0)"
   ]
  },
  {
   "cell_type": "markdown",
   "metadata": {},
   "source": [
    "뉴런 출력 결과는 입력 데이터와 가중치의 행렬의 곱셈이다.\n",
    "\n",
    "즉 None x 2 (입력 데이터) 행렬과 2 x 3 행렬의 곱셈 결과로 은닉층 뉴런이 만들어진다.\n",
    "\n",
    "이 때, 행렬곱을 위해 ```tf.matmul()```을 쓴다.\n",
    "\n",
    "```python\n",
    "tf.matmul(\n",
    "    a,\n",
    "    b,\n",
    "    transpose_a=False,\n",
    "    transpose_b=False,\n",
    ")\n",
    "```\n",
    "인자로 a, b 행렬을 주고, 역행렬을 만들지 말지는 transpose_a, transpose_b로 정해준다.\n"
   ]
  },
  {
   "cell_type": "code",
   "execution_count": 8,
   "metadata": {},
   "outputs": [
    {
     "data": {
      "text/plain": [
       "<tf.Tensor 'add:0' shape=(?, 3) dtype=float32>"
      ]
     },
     "execution_count": 8,
     "metadata": {},
     "output_type": "execute_result"
    }
   ],
   "source": [
    "z0 = tf.matmul(inputs, W0) + b0\n",
    "z0"
   ]
  },
  {
   "cell_type": "markdown",
   "metadata": {},
   "source": [
    "```python\n",
    "tf.math.sigmoid(\n",
    "    x,\n",
    "    name=None\n",
    ")\n",
    "```\n",
    "인자로 넣은 행렬의 요소별로(element-wise)로 아래 식과 같은 시그모이드 함수를 통과시킴\n",
    "$$\n",
    "{1 \\over 1 + e^{-x}}\n",
    "$$"
   ]
  },
  {
   "cell_type": "code",
   "execution_count": 9,
   "metadata": {},
   "outputs": [
    {
     "data": {
      "text/plain": [
       "<tf.Tensor 'Sigmoid:0' shape=(?, 3) dtype=float32>"
      ]
     },
     "execution_count": 9,
     "metadata": {},
     "output_type": "execute_result"
    }
   ],
   "source": [
    "# 활성함수로 시그모이드 함수 사용\n",
    "z0 = tf.sigmoid(z0)\n",
    "z0"
   ]
  },
  {
   "cell_type": "code",
   "execution_count": 10,
   "metadata": {},
   "outputs": [
    {
     "name": "stdout",
     "output_type": "stream",
     "text": [
      "<tf.Variable 'Variable_2:0' shape=(3, 1) dtype=float32_ref>\n",
      "<tf.Variable 'Variable_3:0' shape=(1,) dtype=float32_ref>\n"
     ]
    }
   ],
   "source": [
    "# 입력 뉴런이 3개, 출력 데이터 1차원이므로 3x1 행렬\n",
    "W1 = tf.Variable(tf.random_uniform((3, 1)))\n",
    "# 바이어스도 추가\n",
    "b1 = tf.Variable(tf.ones((1)))\n",
    "print(W1)\n",
    "print(b1)"
   ]
  },
  {
   "cell_type": "code",
   "execution_count": 11,
   "metadata": {},
   "outputs": [
    {
     "data": {
      "text/plain": [
       "<tf.Tensor 'add_1:0' shape=(?, 1) dtype=float32>"
      ]
     },
     "execution_count": 11,
     "metadata": {},
     "output_type": "execute_result"
    }
   ],
   "source": [
    "z1 = tf.matmul(z0, W1) + b1\n",
    "z1"
   ]
  },
  {
   "cell_type": "code",
   "execution_count": 12,
   "metadata": {},
   "outputs": [
    {
     "data": {
      "text/plain": [
       "<tf.Tensor 'Sigmoid_1:0' shape=(?, 1) dtype=float32>"
      ]
     },
     "execution_count": 12,
     "metadata": {},
     "output_type": "execute_result"
    }
   ],
   "source": [
    "# 시그모이드 적용한 결과에 해당\n",
    "z1 = tf.sigmoid(z1)\n",
    "z1"
   ]
  },
  {
   "cell_type": "markdown",
   "metadata": {},
   "source": [
    "### 3. 목적식 (손실함수) 정의\n",
    "이 문제의 목적식은 아래와 같다.\n",
    "$$\n",
    "\\mbox{minimize } \\sum \\bigg( target - outputs \\bigg)^2\n",
    "$$"
   ]
  },
  {
   "cell_type": "markdown",
   "metadata": {},
   "source": [
    "데이터의 실제값 (target)과 모델이 예측한 결과(outputs)의 mean squared error 를 최소화하는 것이다.\n",
    "\n",
    "target과 outputs의 차이 제곱을 먼저 아래와 같이 구한다."
   ]
  },
  {
   "cell_type": "code",
   "execution_count": 13,
   "metadata": {},
   "outputs": [
    {
     "data": {
      "text/plain": [
       "<tf.Tensor 'pow:0' shape=(?, 1) dtype=float32>"
      ]
     },
     "execution_count": 13,
     "metadata": {},
     "output_type": "execute_result"
    }
   ],
   "source": [
    "loss = (outputs - z1) ** 2\n",
    "loss"
   ]
  },
  {
   "cell_type": "markdown",
   "metadata": {},
   "source": [
    "다음으로 $\\sum$ 부분은 아래 함수를 쓴다.\n",
    "\n",
    "```python\n",
    "tf.reduce_mean(\n",
    "    input_tensor,\n",
    "    axis=None,\n",
    ")\n",
    "```\n",
    "input_tensor로 넣은 텐서의 axis로 정한 차원의 평균을 구한다.\n",
    "\n",
    "즉,\n",
    "\n",
    "$$\n",
    "{\\sum_{\\mbox{axis}}^N x_{ijk} \\over N}\n",
    "$$\n",
    "\n",
    "과 같은 역할을 한다. axis 인자가 차원 $i, j, k$ 중 어떤 걸 쓸지 정하는 역할을 한다. None으로 그대로 둘 경우 모든 차원의 평균을 구한다."
   ]
  },
  {
   "cell_type": "code",
   "execution_count": 14,
   "metadata": {},
   "outputs": [
    {
     "data": {
      "text/plain": [
       "<tf.Tensor 'Mean:0' shape=() dtype=float32>"
      ]
     },
     "execution_count": 14,
     "metadata": {},
     "output_type": "execute_result"
    }
   ],
   "source": [
    "loss = tf.reduce_mean(loss)\n",
    "loss"
   ]
  },
  {
   "cell_type": "markdown",
   "metadata": {},
   "source": [
    "다음으로 minimize 를 구현하기에 앞서 backpropagation을 수행하기 위한 미분기(optimizer)를 만든다.\n",
    "\n",
    "이 미분기에 목적식의 minimize에 해당하는 곳에 들어갈 loss를 넣어준다."
   ]
  },
  {
   "cell_type": "code",
   "execution_count": 15,
   "metadata": {},
   "outputs": [
    {
     "name": "stdout",
     "output_type": "stream",
     "text": [
      "WARNING:tensorflow:From /Users/woonghee/miniconda3/envs/tf1/lib/python3.7/site-packages/tensorflow_core/python/ops/math_grad.py:1375: where (from tensorflow.python.ops.array_ops) is deprecated and will be removed in a future version.\n",
      "Instructions for updating:\n",
      "Use tf.where in 2.0, which has the same broadcast rule as np.where\n"
     ]
    },
    {
     "data": {
      "text/plain": [
       "<tf.Operation 'GradientDescent' type=NoOp>"
      ]
     },
     "execution_count": 15,
     "metadata": {},
     "output_type": "execute_result"
    }
   ],
   "source": [
    "optimizer = tf.train.GradientDescentOptimizer(learning_rate=.2).minimize(loss)\n",
    "optimizer"
   ]
  },
  {
   "cell_type": "markdown",
   "metadata": {},
   "source": [
    "### 모델 학습"
   ]
  },
  {
   "cell_type": "code",
   "execution_count": 16,
   "metadata": {},
   "outputs": [],
   "source": [
    "# 세션을 생성하고, tf.Variable()에 들어갈 값들을 초기화\n",
    "sess = tf.Session()\n",
    "sess.run(tf.global_variables_initializer())"
   ]
  },
  {
   "cell_type": "code",
   "execution_count": 17,
   "metadata": {},
   "outputs": [],
   "source": [
    "# 학습하는 동안 로스(loss, 손실) 변화가 어떻게 되는지 관찰하기 위해 리스트에 저장\n",
    "loss_list = list()"
   ]
  },
  {
   "cell_type": "code",
   "execution_count": 18,
   "metadata": {},
   "outputs": [],
   "source": [
    "# 총 학습 횟수\n",
    "EPOCHS = 30000\n",
    "\n",
    "for e in range(EPOCHS):\n",
    "    # 데이터 4줄 중에서 한 개를 임의로 선택\n",
    "    idx = np.random.randint(4)\n",
    "    # minimize하도록 한 텐서 연산을 실행\n",
    "    # 이 때, 입력 데이터(inputs)와 출력 데이터(outputs)에 X와 y값을 넣어줌\n",
    "    # tf.placeholer()에서 shape의 0번째 차원을 None으로 주었기 때문에 한 번에 하나씩 데이터를 넣거나\n",
    "    # 그 이상 몇개씩 넣어도 됨\n",
    "    sess.run(optimizer, feed_dict={inputs:X[idx:idx+1], outputs: y[idx:idx+1]})\n",
    "    # loss 텐서 연산을 실행해서 (이때는 데이터 4줄을 한 번에 다 넣었음) 리스트에 하나씩 저장\n",
    "    loss_list.append(sess.run(loss, {inputs:X, outputs:y}))"
   ]
  },
  {
   "cell_type": "markdown",
   "metadata": {},
   "source": [
    "모델의 학습이 잘 이루어지느냐 마느냐는 로스가 0으로 수렴해가느냐 아니냐와 같음"
   ]
  },
  {
   "cell_type": "code",
   "execution_count": 19,
   "metadata": {},
   "outputs": [
    {
     "data": {
      "image/png": "[encoded data removed]",
      "text/plain": [
       "<Figure size 432x288 with 1 Axes>"
      ]
     },
     "metadata": {
      "needs_background": "light"
     },
     "output_type": "display_data"
    }
   ],
   "source": [
    "# 만 번 학습하는 동안 로스 변화를 그래프로 그려보기\n",
    "plt.plot(loss_list)\n",
    "plt.show()"
   ]
  },
  {
   "cell_type": "markdown",
   "metadata": {},
   "source": [
    "## 모델 평가"
   ]
  },
  {
   "cell_type": "code",
   "execution_count": 20,
   "metadata": {},
   "outputs": [],
   "source": [
    "# XOR 연산 결과로 0, 1, 1, 0에 가깝게 예측 함\n",
    "y_pred = sess.run(z1, feed_dict={inputs:X})"
   ]
  },
  {
   "cell_type": "code",
   "execution_count": 21,
   "metadata": {},
   "outputs": [
    {
     "name": "stdout",
     "output_type": "stream",
     "text": [
      "실제: 0, 예측: 0.0\n",
      "실제: 1, 예측: 1.0\n",
      "실제: 1, 예측: 1.0\n",
      "실제: 0, 예측: 0.0\n"
     ]
    }
   ],
   "source": [
    "for y_real, y_ in zip(y, y_pred):\n",
    "    print(f\"실제: {y_real[0]}, 예측: {y_[0]:.1f}\")"
   ]
  },
  {
   "cell_type": "code",
   "execution_count": 22,
   "metadata": {},
   "outputs": [],
   "source": [
    "# 세션 닫기\n",
    "sess.close()"
   ]
  }
 ],
 "metadata": {
  "kernelspec": {
   "display_name": "Python 3",
   "language": "python",
   "name": "python3"
  },
  "language_info": {
   "codemirror_mode": {
    "name": "ipython",
    "version": 3
   },
   "file_extension": ".py",
   "mimetype": "text/x-python",
   "name": "python",
   "nbconvert_exporter": "python",
   "pygments_lexer": "ipython3",
   "version": "3.7.7"
  }
 },
 "nbformat": 4,
 "nbformat_minor": 4
}
